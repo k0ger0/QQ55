{
 "cells": [
  {
   "cell_type": "markdown",
   "metadata": {
    "id": "Q7TBBjTysDyr",
    "pycharm": {
     "name": "#%% md\n"
    }
   },
   "source": [
    "[![Open In Colab](https://colab.research.google.com/assets/colab-badge.svg)](https://colab.research.google.com/github/ds-reboot/python-first-part/blob/main/notebooks/hometasks/Task3_dmrf_OOP.ipynb)"
   ]
  },
  {
   "cell_type": "markdown",
   "metadata": {
    "id": "c2qWnjK6sDyw",
    "pycharm": {
     "name": "#%% md\n"
    }
   },
   "source": [
    "# Задание\n",
    "Реализовать с помощью объектно-ориентированного подхода предыдущие 2 задания. Создайте для каждой из задач отдельный класс, который позволяет ее решить.\n",
    "\n",
    "* Собрать информацию о всех строящихся объектах на сайте \"наш.дом.рф\"\n",
    "* Cохранить ее в pandas dataframe, а также в excel, pickle, БД\n",
    "\n",
    "* Проверить состояние датафрейма и привести его в формат, позволяющий дальнейшее исследование данных\n",
    "\n",
    "*  Сделать визуализацию для мини-исследования рынка строящейся недвижимости в одном или нескольких регионах с помощью pandas, matplotlib, seaborn, plotly и других инструментов.\n",
    "\n"
   ]
  },
  {
   "cell_type": "code",
   "execution_count": null,
   "metadata": {
    "id": "VA4v4v2IsDyy",
    "pycharm": {
     "name": "#%%\n"
    }
   },
   "outputs": [],
   "source": [
    "import requests"
   ]
  },
  {
   "cell_type": "markdown",
   "metadata": {
    "id": "yPI_XwxdsDy0",
    "pycharm": {
     "name": "#%% md\n"
    }
   },
   "source": [
    "## Список объектов"
   ]
  },
  {
   "cell_type": "code",
   "execution_count": null,
   "metadata": {
    "id": "1nHD7seKsDy1",
    "pycharm": {
     "name": "#%%\n"
    }
   },
   "outputs": [],
   "source": [
    "offset_ = 1\n",
    "limit_ = 1000\n",
    "url = f'https://xn--80az8a.xn--d1aqf.xn--p1ai/%D1%81%D0%B5%D1%80%D0%B2%D0%B8%D1%81%D1%8B/api/kn/object?offset={offset_}&limit={limit_}&sortField=devId.devShortCleanNm&sortType=asc&objStatus=0'\n",
    "res = requests.get(url)\n",
    "objects_data = res.json()"
   ]
  },
  {
   "cell_type": "markdown",
   "metadata": {
    "id": "AVeDPamMsDy1",
    "pycharm": {
     "name": "#%% md\n"
    }
   },
   "source": [
    "# Данные по определенному объекту"
   ]
  },
  {
   "cell_type": "code",
   "execution_count": null,
   "metadata": {
    "id": "kNp_P46KsDy2",
    "pycharm": {
     "name": "#%%\n"
    }
   },
   "outputs": [],
   "source": [
    "url = f'https://xn--80az8a.xn--d1aqf.xn--p1ai/%D1%81%D0%B5%D1%80%D0%B2%D0%B8%D1%81%D1%8B/api/object/36774'"
   ]
  },
  {
   "cell_type": "code",
   "execution_count": null,
   "metadata": {
    "id": "mGaKKHETsDy3",
    "pycharm": {
     "name": "#%%\n"
    }
   },
   "outputs": [],
   "source": [
    "class DomIdLoader:\n",
    "    def __init__(self):\n",
    "        self.offset_ = 1\n",
    "        self.limit_ = 1000\n",
    "        self.url = 'https://xn--80az8a.xn--d1aqf.xn--p1ai/%D1%81%D0%B5%D1%80%D0%B2%D0%B8%D1%81%D1%8B/api/kn/object'\n",
    "        self.objects_data = None\n",
    "\n",
    "    def get_ids(self):\n",
    "        for i in range(10)\n",
    "            paramz = {\n",
    "                'offset': self.offset_,\n",
    "                'limit': self.limit_,\n",
    "                'sortField':'devId.devShortCleanNm',\n",
    "                'sortType':'asc',\n",
    "                'objStatus':'0',\n",
    "            }\n",
    "            res = requests.get(url, params=paramz)\n",
    "\n",
    "        self.objects_data = res.json()\n",
    "\n",
    "    def show_ids(self):\n",
    "        # print()\n",
    "        ...\n"
   ]
  },
  {
   "cell_type": "code",
   "execution_count": null,
   "metadata": {
    "id": "U_L1cWjYsDy4",
    "pycharm": {
     "name": "#%%\n"
    }
   },
   "outputs": [],
   "source": [
    "class ObjectInfoExtractor:\n",
    "    def __init__(self, ids):\n",
    "        ...\n",
    "\n",
    "    def load_data(self):\n",
    "        ...\n",
    "\n",
    "    def df_converter(self):\n",
    "        ..."
   ]
  },
  {
   "cell_type": "code",
   "execution_count": null,
   "metadata": {
    "id": "zRmDC3zlsDy5",
    "pycharm": {
     "name": "#%%\n"
    }
   },
   "outputs": [],
   "source": [
    "class Saver:\n",
    "    def __init__(self, data):\n",
    "        ...\n",
    "\n",
    "    def save_csv(self):\n",
    "        ...\n",
    "\n",
    "    def save_xl(self):\n",
    "        ...\n",
    "\n",
    "    def save_sql(self):\n",
    "        ...\n",
    "\n",
    "class Visualizer:\n",
    "    def __init__(self,data):\n",
    "        ...\n",
    "\n",
    "    def make_boxplot(self, ):\n",
    "        ...\n",
    "\n",
    "    def make_heatmap(self):\n",
    "        ..."
   ]
  },
  {
   "cell_type": "code",
   "execution_count": null,
   "metadata": {
    "id": "qpbd0zK_sDy6",
    "pycharm": {
     "name": "#%%\n"
    }
   },
   "outputs": [],
   "source": []
  },
  {
   "cell_type": "code",
   "execution_count": null,
   "metadata": {},
   "outputs": [],
   "source": []
  },
  {
   "cell_type": "markdown",
   "metadata": {},
   "source": [
    "## Что такое объектно-ориентированное программирование?"
   ]
  },
  {
   "cell_type": "code",
   "execution_count": 1,
   "metadata": {},
   "outputs": [],
   "source": [
    "## Использование классов и объектов"
   ]
  },
  {
   "cell_type": "raw",
   "metadata": {},
   "source": [
    "Класс - это модель некоей сущности реального мира. Например, строящегося дома...\n",
    "У каждого класса есть свой набор данных: расположение, материал, этажность...\n",
    "Каждый конкретный дом - это объект своего класса...\n",
    "\n",
    "Для каждого класса (каждого набора атрибутов, данных) можно написать алгоритмы их обработки. Например, вычислить среднюю цену квартиры. Или количество еще нераспроданных квартир. Это методы класса!"
   ]
  },
  {
   "cell_type": "code",
   "execution_count": null,
   "metadata": {},
   "outputs": [],
   "source": []
  },
  {
   "cell_type": "code",
   "execution_count": 2,
   "metadata": {},
   "outputs": [],
   "source": [
    "class Simple:\n",
    "    pass"
   ]
  },
  {
   "cell_type": "code",
   "execution_count": 3,
   "metadata": {},
   "outputs": [],
   "source": [
    "s1 = Simple()"
   ]
  },
  {
   "cell_type": "code",
   "execution_count": 4,
   "metadata": {},
   "outputs": [],
   "source": [
    "s2 = Simple()"
   ]
  },
  {
   "cell_type": "code",
   "execution_count": 5,
   "metadata": {},
   "outputs": [
    {
     "data": {
      "text/plain": [
       "140202496789040"
      ]
     },
     "execution_count": 5,
     "metadata": {},
     "output_type": "execute_result"
    }
   ],
   "source": [
    "id(s1)"
   ]
  },
  {
   "cell_type": "code",
   "execution_count": 6,
   "metadata": {},
   "outputs": [
    {
     "data": {
      "text/plain": [
       "140202496790000"
      ]
     },
     "execution_count": 6,
     "metadata": {},
     "output_type": "execute_result"
    }
   ],
   "source": [
    "id(s2)"
   ]
  },
  {
   "cell_type": "code",
   "execution_count": 8,
   "metadata": {},
   "outputs": [
    {
     "data": {
      "text/plain": [
       "False"
      ]
     },
     "execution_count": 8,
     "metadata": {},
     "output_type": "execute_result"
    }
   ],
   "source": [
    "s1 == s2"
   ]
  },
  {
   "cell_type": "code",
   "execution_count": null,
   "metadata": {},
   "outputs": [],
   "source": []
  },
  {
   "cell_type": "code",
   "execution_count": 9,
   "metadata": {},
   "outputs": [],
   "source": [
    "# unique serial number"
   ]
  },
  {
   "cell_type": "code",
   "execution_count": 12,
   "metadata": {},
   "outputs": [],
   "source": [
    "class Simple:\n",
    "    #constructor\n",
    "    def __init__(self):\n",
    "        import random\n",
    "        # can not change the name\n",
    "        self.serial = random.randint(1, 10000)"
   ]
  },
  {
   "cell_type": "code",
   "execution_count": 13,
   "metadata": {},
   "outputs": [],
   "source": [
    "s1 = Simple()"
   ]
  },
  {
   "cell_type": "code",
   "execution_count": 14,
   "metadata": {},
   "outputs": [],
   "source": [
    "s2 = Simple()"
   ]
  },
  {
   "cell_type": "code",
   "execution_count": 15,
   "metadata": {},
   "outputs": [
    {
     "data": {
      "text/plain": [
       "1591"
      ]
     },
     "execution_count": 15,
     "metadata": {},
     "output_type": "execute_result"
    }
   ],
   "source": [
    "s1.serial"
   ]
  },
  {
   "cell_type": "code",
   "execution_count": 16,
   "metadata": {},
   "outputs": [
    {
     "data": {
      "text/plain": [
       "3458"
      ]
     },
     "execution_count": 16,
     "metadata": {},
     "output_type": "execute_result"
    }
   ],
   "source": [
    "s2.serial"
   ]
  },
  {
   "cell_type": "code",
   "execution_count": 17,
   "metadata": {},
   "outputs": [],
   "source": [
    "## s1.serial, s2.serial - data attributes"
   ]
  },
  {
   "cell_type": "code",
   "execution_count": null,
   "metadata": {},
   "outputs": [],
   "source": []
  },
  {
   "cell_type": "code",
   "execution_count": 18,
   "metadata": {},
   "outputs": [],
   "source": [
    "## name"
   ]
  },
  {
   "cell_type": "code",
   "execution_count": 19,
   "metadata": {},
   "outputs": [],
   "source": [
    "# parametric constructor"
   ]
  },
  {
   "cell_type": "code",
   "execution_count": 20,
   "metadata": {},
   "outputs": [],
   "source": [
    "class Simple:\n",
    "    #constructor\n",
    "    def __init__(self, name):\n",
    "        import random\n",
    "        # can not change the name\n",
    "        self.serial = random.randint(1, 10000)\n",
    "        self.name = name\n",
    "        # name is a local var in __init__\n",
    "        # self.name - class attribute"
   ]
  },
  {
   "cell_type": "code",
   "execution_count": 21,
   "metadata": {},
   "outputs": [
    {
     "ename": "TypeError",
     "evalue": "__init__() missing 1 required positional argument: 'name'",
     "output_type": "error",
     "traceback": [
      "\u001b[0;31m---------------------------------------------------------------------------\u001b[0m",
      "\u001b[0;31mTypeError\u001b[0m                                 Traceback (most recent call last)",
      "Input \u001b[0;32mIn [21]\u001b[0m, in \u001b[0;36m<cell line: 1>\u001b[0;34m()\u001b[0m\n\u001b[0;32m----> 1\u001b[0m s1 \u001b[38;5;241m=\u001b[39m \u001b[43mSimple\u001b[49m\u001b[43m(\u001b[49m\u001b[43m)\u001b[49m\n",
      "\u001b[0;31mTypeError\u001b[0m: __init__() missing 1 required positional argument: 'name'"
     ]
    }
   ],
   "source": [
    "s1 = Simple()"
   ]
  },
  {
   "cell_type": "code",
   "execution_count": 25,
   "metadata": {},
   "outputs": [],
   "source": [
    "s1 = Simple('Alice')"
   ]
  },
  {
   "cell_type": "code",
   "execution_count": 26,
   "metadata": {},
   "outputs": [],
   "source": [
    "s2 = Simple('Bob')"
   ]
  },
  {
   "cell_type": "code",
   "execution_count": 27,
   "metadata": {},
   "outputs": [
    {
     "name": "stdout",
     "output_type": "stream",
     "text": [
      "Alice 8041\n"
     ]
    }
   ],
   "source": [
    "print(s1.name, s1.serial)"
   ]
  },
  {
   "cell_type": "code",
   "execution_count": 28,
   "metadata": {},
   "outputs": [
    {
     "name": "stdout",
     "output_type": "stream",
     "text": [
      "Bob 4208\n"
     ]
    }
   ],
   "source": [
    "print(s2.name, s2.serial)"
   ]
  },
  {
   "cell_type": "code",
   "execution_count": 29,
   "metadata": {},
   "outputs": [
    {
     "name": "stdout",
     "output_type": "stream",
     "text": [
      "<__main__.Simple object at 0x7f83614961f0>\n"
     ]
    }
   ],
   "source": [
    "print(s1)"
   ]
  },
  {
   "cell_type": "code",
   "execution_count": 30,
   "metadata": {},
   "outputs": [
    {
     "name": "stdout",
     "output_type": "stream",
     "text": [
      "<__main__.Simple object at 0x7f836153ab20>\n"
     ]
    }
   ],
   "source": [
    "print(s2)"
   ]
  },
  {
   "cell_type": "code",
   "execution_count": 31,
   "metadata": {},
   "outputs": [],
   "source": [
    "# How to print an object of a custom class?"
   ]
  },
  {
   "cell_type": "code",
   "execution_count": 32,
   "metadata": {},
   "outputs": [],
   "source": [
    "class Simple:\n",
    "    #constructor\n",
    "    def __init__(self, name):\n",
    "        import random\n",
    "        # can not change the name\n",
    "        self.serial = random.randint(1, 10000)\n",
    "        self.name = name\n",
    "        # name is a local var in __init__\n",
    "        # self.name - class attribute\n",
    "    def __repr__(self):\n",
    "        # must return a string\n",
    "        return str(self.name) + \":\" + str(self.serial)"
   ]
  },
  {
   "cell_type": "code",
   "execution_count": 33,
   "metadata": {},
   "outputs": [],
   "source": [
    "s1 = Simple('Alice')\n",
    "s2 = Simple('Bob')"
   ]
  },
  {
   "cell_type": "code",
   "execution_count": 34,
   "metadata": {},
   "outputs": [
    {
     "name": "stdout",
     "output_type": "stream",
     "text": [
      "Alice:8593\n"
     ]
    }
   ],
   "source": [
    "print(s1)"
   ]
  },
  {
   "cell_type": "code",
   "execution_count": 35,
   "metadata": {},
   "outputs": [
    {
     "name": "stdout",
     "output_type": "stream",
     "text": [
      "Bob:8171\n"
     ]
    }
   ],
   "source": [
    "print(s2)"
   ]
  },
  {
   "cell_type": "code",
   "execution_count": 36,
   "metadata": {},
   "outputs": [],
   "source": [
    "class Simple:\n",
    "    #constructor\n",
    "    def __init__(self, name):\n",
    "        import random\n",
    "        # can not change the name\n",
    "        self.serial = random.randint(1, 10000)\n",
    "        self.name = name\n",
    "        # name is a local var in __init__\n",
    "        # self.name - class attribute\n",
    "    def __repr__(self):\n",
    "        # must return a string\n",
    "        return str(self.name) + \":\" + str(self.serial)\n",
    "    def show(self):\n",
    "        return \"This is {} and the serial is {}\".format(self.name, self.serial)"
   ]
  },
  {
   "cell_type": "code",
   "execution_count": 37,
   "metadata": {},
   "outputs": [],
   "source": [
    "s1 = Simple('Alice')\n",
    "s2 = Simple('Bob')"
   ]
  },
  {
   "cell_type": "code",
   "execution_count": 38,
   "metadata": {},
   "outputs": [
    {
     "data": {
      "text/plain": [
       "'This is Alice and the serial is 8062'"
      ]
     },
     "execution_count": 38,
     "metadata": {},
     "output_type": "execute_result"
    }
   ],
   "source": [
    "s1.show()"
   ]
  },
  {
   "cell_type": "code",
   "execution_count": 39,
   "metadata": {},
   "outputs": [
    {
     "name": "stdout",
     "output_type": "stream",
     "text": [
      "Alice:8062\n"
     ]
    }
   ],
   "source": [
    "print(s1)"
   ]
  },
  {
   "cell_type": "code",
   "execution_count": 40,
   "metadata": {},
   "outputs": [
    {
     "data": {
      "text/plain": [
       "'\\nobjectname.attribute_name\\nobjectname.method()\\n\\n'"
      ]
     },
     "execution_count": 40,
     "metadata": {},
     "output_type": "execute_result"
    }
   ],
   "source": [
    "'''\n",
    "objectname.attribute_name\n",
    "objectname.method()\n",
    "\n",
    "'''"
   ]
  },
  {
   "cell_type": "code",
   "execution_count": null,
   "metadata": {},
   "outputs": [],
   "source": []
  },
  {
   "cell_type": "code",
   "execution_count": null,
   "metadata": {},
   "outputs": [],
   "source": []
  },
  {
   "cell_type": "code",
   "execution_count": 57,
   "metadata": {},
   "outputs": [],
   "source": [
    "class DomIdLoader:\n",
    "    def __init__(self):\n",
    "        self.offset_ = 1\n",
    "        self.limit_ = 10\n",
    "        self.url = 'https://xn--80az8a.xn--d1aqf.xn--p1ai/%D1%81%D0%B5%D1%80%D0%B2%D0%B8%D1%81%D1%8B/api/kn/object'\n",
    "        self.objects_data = None\n",
    "\n",
    "    def get_ids(self):\n",
    "        import requests\n",
    "        paramz = {\n",
    "            'offset': self.offset_,\n",
    "            'limit': self.limit_,\n",
    "            'sortField':'devId.devShortCleanNm',\n",
    "            'sortType':'asc',\n",
    "            'objStatus':'0',\n",
    "        }\n",
    "        res = requests.get(self.url, params=paramz)\n",
    "\n",
    "        self.objects_data = res.json()\n",
    "\n",
    "    def show_ids(self):\n",
    "        # print()\n",
    "        pass"
   ]
  },
  {
   "cell_type": "code",
   "execution_count": 58,
   "metadata": {},
   "outputs": [],
   "source": [
    "myhome = DomIdLoader()"
   ]
  },
  {
   "cell_type": "code",
   "execution_count": 59,
   "metadata": {},
   "outputs": [
    {
     "data": {
      "text/plain": [
       "1"
      ]
     },
     "execution_count": 59,
     "metadata": {},
     "output_type": "execute_result"
    }
   ],
   "source": [
    "myhome.offset_"
   ]
  },
  {
   "cell_type": "code",
   "execution_count": 60,
   "metadata": {},
   "outputs": [
    {
     "data": {
      "text/plain": [
       "10"
      ]
     },
     "execution_count": 60,
     "metadata": {},
     "output_type": "execute_result"
    }
   ],
   "source": [
    "myhome.limit_"
   ]
  },
  {
   "cell_type": "code",
   "execution_count": 61,
   "metadata": {},
   "outputs": [],
   "source": [
    "myhome.get_ids()"
   ]
  },
  {
   "cell_type": "code",
   "execution_count": 63,
   "metadata": {},
   "outputs": [],
   "source": [
    "#myhome.objects_data"
   ]
  },
  {
   "cell_type": "code",
   "execution_count": 64,
   "metadata": {},
   "outputs": [],
   "source": [
    "class DomIdLoader:\n",
    "    def __init__(self):\n",
    "        self.offset_ = 1\n",
    "        self.limit_ = 10\n",
    "        self.url = 'https://xn--80az8a.xn--d1aqf.xn--p1ai/%D1%81%D0%B5%D1%80%D0%B2%D0%B8%D1%81%D1%8B/api/kn/object'\n",
    "        self.objects_data = None\n",
    "\n",
    "    def get_ids(self):\n",
    "        import requests\n",
    "        paramz = {\n",
    "            'offset': self.offset_,\n",
    "            'limit': self.limit_,\n",
    "            'sortField':'devId.devShortCleanNm',\n",
    "            'sortType':'asc',\n",
    "            'objStatus':'0',\n",
    "        }\n",
    "        res = requests.get(self.url, params=paramz)\n",
    "\n",
    "        self.objects_data = res.json()\n",
    "\n",
    "    def show_ids(self):\n",
    "        # print()\n",
    "        objects_list = self.objects_data.get('data').get('list')\n",
    "        ids = [x.get('objId') for x in objects_list]\n",
    "        for one_id in ids:\n",
    "            print(one_id)"
   ]
  },
  {
   "cell_type": "code",
   "execution_count": 65,
   "metadata": {},
   "outputs": [],
   "source": [
    "newhome = DomIdLoader()"
   ]
  },
  {
   "cell_type": "code",
   "execution_count": 66,
   "metadata": {},
   "outputs": [],
   "source": [
    "newhome.get_ids()"
   ]
  },
  {
   "cell_type": "code",
   "execution_count": 67,
   "metadata": {},
   "outputs": [
    {
     "name": "stdout",
     "output_type": "stream",
     "text": [
      "13383\n",
      "13398\n",
      "13397\n",
      "13399\n",
      "36912\n",
      "10891\n",
      "8809\n",
      "8810\n",
      "39176\n",
      "39175\n"
     ]
    }
   ],
   "source": [
    "newhome.show_ids()"
   ]
  },
  {
   "cell_type": "code",
   "execution_count": 68,
   "metadata": {},
   "outputs": [],
   "source": [
    "newhome = DomIdLoader()"
   ]
  },
  {
   "cell_type": "code",
   "execution_count": 69,
   "metadata": {},
   "outputs": [
    {
     "ename": "AttributeError",
     "evalue": "'NoneType' object has no attribute 'get'",
     "output_type": "error",
     "traceback": [
      "\u001b[0;31m---------------------------------------------------------------------------\u001b[0m",
      "\u001b[0;31mAttributeError\u001b[0m                            Traceback (most recent call last)",
      "Input \u001b[0;32mIn [69]\u001b[0m, in \u001b[0;36m<cell line: 1>\u001b[0;34m()\u001b[0m\n\u001b[0;32m----> 1\u001b[0m \u001b[43mnewhome\u001b[49m\u001b[38;5;241;43m.\u001b[39;49m\u001b[43mshow_ids\u001b[49m\u001b[43m(\u001b[49m\u001b[43m)\u001b[49m\n",
      "Input \u001b[0;32mIn [64]\u001b[0m, in \u001b[0;36mDomIdLoader.show_ids\u001b[0;34m(self)\u001b[0m\n\u001b[1;32m     21\u001b[0m \u001b[38;5;28;01mdef\u001b[39;00m \u001b[38;5;21mshow_ids\u001b[39m(\u001b[38;5;28mself\u001b[39m):\n\u001b[1;32m     22\u001b[0m     \u001b[38;5;66;03m# print()\u001b[39;00m\n\u001b[0;32m---> 23\u001b[0m     objects_list \u001b[38;5;241m=\u001b[39m \u001b[38;5;28;43mself\u001b[39;49m\u001b[38;5;241;43m.\u001b[39;49m\u001b[43mobjects_data\u001b[49m\u001b[38;5;241;43m.\u001b[39;49m\u001b[43mget\u001b[49m(\u001b[38;5;124m'\u001b[39m\u001b[38;5;124mdata\u001b[39m\u001b[38;5;124m'\u001b[39m)\u001b[38;5;241m.\u001b[39mget(\u001b[38;5;124m'\u001b[39m\u001b[38;5;124mlist\u001b[39m\u001b[38;5;124m'\u001b[39m)\n\u001b[1;32m     24\u001b[0m     ids \u001b[38;5;241m=\u001b[39m [x\u001b[38;5;241m.\u001b[39mget(\u001b[38;5;124m'\u001b[39m\u001b[38;5;124mobjId\u001b[39m\u001b[38;5;124m'\u001b[39m) \u001b[38;5;28;01mfor\u001b[39;00m x \u001b[38;5;129;01min\u001b[39;00m objects_list]\n\u001b[1;32m     25\u001b[0m     \u001b[38;5;28;01mfor\u001b[39;00m one_id \u001b[38;5;129;01min\u001b[39;00m ids:\n",
      "\u001b[0;31mAttributeError\u001b[0m: 'NoneType' object has no attribute 'get'"
     ]
    }
   ],
   "source": [
    "newhome.show_ids()"
   ]
  },
  {
   "cell_type": "code",
   "execution_count": 70,
   "metadata": {},
   "outputs": [],
   "source": [
    "class DomIdLoader:\n",
    "    def __init__(self):\n",
    "        self.offset_ = 1\n",
    "        self.limit_ = 10\n",
    "        self.url = 'https://xn--80az8a.xn--d1aqf.xn--p1ai/%D1%81%D0%B5%D1%80%D0%B2%D0%B8%D1%81%D1%8B/api/kn/object'\n",
    "        self.objects_data = None\n",
    "\n",
    "    def get_ids(self):\n",
    "        import requests\n",
    "        paramz = {\n",
    "            'offset': self.offset_,\n",
    "            'limit': self.limit_,\n",
    "            'sortField':'devId.devShortCleanNm',\n",
    "            'sortType':'asc',\n",
    "            'objStatus':'0',\n",
    "        }\n",
    "        res = requests.get(self.url, params=paramz)\n",
    "\n",
    "        self.objects_data = res.json()\n",
    "\n",
    "    def show_ids(self):\n",
    "        # print()\n",
    "        if not self.objects_data:\n",
    "            print(\"No data loaded yet...\")\n",
    "            return\n",
    "        objects_list = self.objects_data.get('data').get('list')\n",
    "        ids = [x.get('objId') for x in objects_list]\n",
    "        for one_id in ids:\n",
    "            print(one_id)"
   ]
  },
  {
   "cell_type": "code",
   "execution_count": 71,
   "metadata": {},
   "outputs": [],
   "source": [
    "home2 = DomIdLoader()"
   ]
  },
  {
   "cell_type": "code",
   "execution_count": 73,
   "metadata": {},
   "outputs": [
    {
     "name": "stdout",
     "output_type": "stream",
     "text": [
      "No data loaded yet...\n"
     ]
    }
   ],
   "source": [
    "home2.show_ids()"
   ]
  },
  {
   "cell_type": "code",
   "execution_count": 74,
   "metadata": {},
   "outputs": [],
   "source": [
    "home2.get_ids()"
   ]
  },
  {
   "cell_type": "code",
   "execution_count": 75,
   "metadata": {},
   "outputs": [
    {
     "name": "stdout",
     "output_type": "stream",
     "text": [
      "13383\n",
      "13398\n",
      "13397\n",
      "13399\n",
      "36912\n",
      "10891\n",
      "8809\n",
      "8810\n",
      "39176\n",
      "39175\n"
     ]
    }
   ],
   "source": [
    "home2.show_ids()"
   ]
  },
  {
   "cell_type": "code",
   "execution_count": null,
   "metadata": {},
   "outputs": [],
   "source": []
  }
 ],
 "metadata": {
  "colab": {
   "provenance": []
  },
  "kernelspec": {
   "display_name": "Python 3 (ipykernel)",
   "language": "python",
   "name": "python3"
  },
  "language_info": {
   "codemirror_mode": {
    "name": "ipython",
    "version": 3
   },
   "file_extension": ".py",
   "mimetype": "text/x-python",
   "name": "python",
   "nbconvert_exporter": "python",
   "pygments_lexer": "ipython3",
   "version": "3.9.13"
  }
 },
 "nbformat": 4,
 "nbformat_minor": 1
}
