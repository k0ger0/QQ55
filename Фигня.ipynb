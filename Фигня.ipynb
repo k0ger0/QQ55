{
 "cells": [
  {
   "cell_type": "code",
   "execution_count": 1,
   "id": "c3ccdaee",
   "metadata": {},
   "outputs": [],
   "source": [
    "# Python program to explain os.path.join() method"
   ]
  },
  {
   "cell_type": "code",
   "execution_count": 2,
   "id": "4d0c5ecf",
   "metadata": {},
   "outputs": [],
   "source": [
    "# importing os module\n",
    "import os"
   ]
  },
  {
   "cell_type": "code",
   "execution_count": 3,
   "id": "c0be5d21",
   "metadata": {},
   "outputs": [
    {
     "data": {
      "text/plain": [
       "'C:\\\\Users\\\\drk0g\\\\Documents\\\\QQ55'"
      ]
     },
     "execution_count": 3,
     "metadata": {},
     "output_type": "execute_result"
    }
   ],
   "source": [
    "os.getcwd()"
   ]
  },
  {
   "cell_type": "code",
   "execution_count": 4,
   "id": "4cce9108",
   "metadata": {},
   "outputs": [
    {
     "data": {
      "text/plain": [
       "'C:\\\\Users\\\\drk0g\\\\Documents\\\\QQ55\\\\Pictures'"
      ]
     },
     "execution_count": 4,
     "metadata": {},
     "output_type": "execute_result"
    }
   ],
   "source": [
    "os.path.join(os.getcwd(), 'Pictures')"
   ]
  },
  {
   "cell_type": "code",
   "execution_count": 5,
   "id": "59e8dfda",
   "metadata": {},
   "outputs": [],
   "source": [
    "# 36912"
   ]
  },
  {
   "cell_type": "code",
   "execution_count": 6,
   "id": "4c16fd97",
   "metadata": {},
   "outputs": [
    {
     "data": {
      "text/plain": [
       "'C:\\\\Users\\\\drk0g\\\\Documents\\\\QQ55\\\\Pictures\\\\36912'"
      ]
     },
     "execution_count": 6,
     "metadata": {},
     "output_type": "execute_result"
    }
   ],
   "source": [
    "os.path.join(os.getcwd(), 'Pictures', '36912')"
   ]
  },
  {
   "cell_type": "code",
   "execution_count": 7,
   "id": "14ae3db1",
   "metadata": {},
   "outputs": [
    {
     "data": {
      "text/plain": [
       "'C:\\\\Users\\\\drk0g\\\\Documents\\\\QQ55\\\\Pictures\\\\77777'"
      ]
     },
     "execution_count": 7,
     "metadata": {},
     "output_type": "execute_result"
    }
   ],
   "source": [
    "os.path.join(os.getcwd(), 'Pictures', '77777')"
   ]
  },
  {
   "cell_type": "code",
   "execution_count": 8,
   "id": "f83256a9",
   "metadata": {},
   "outputs": [],
   "source": [
    "path1 = os.path.join(os.getcwd(), 'Pictures', '36912')"
   ]
  },
  {
   "cell_type": "code",
   "execution_count": 9,
   "id": "da3931c2",
   "metadata": {},
   "outputs": [],
   "source": [
    "path2 = os.path.join(os.getcwd(), 'Pictures', '77777')"
   ]
  },
  {
   "cell_type": "code",
   "execution_count": 10,
   "id": "d747191f",
   "metadata": {},
   "outputs": [
    {
     "data": {
      "text/plain": [
       "False"
      ]
     },
     "execution_count": 10,
     "metadata": {},
     "output_type": "execute_result"
    }
   ],
   "source": [
    "os.path.exists(path1)"
   ]
  },
  {
   "cell_type": "code",
   "execution_count": 11,
   "id": "f7dfec96",
   "metadata": {},
   "outputs": [
    {
     "data": {
      "text/plain": [
       "False"
      ]
     },
     "execution_count": 11,
     "metadata": {},
     "output_type": "execute_result"
    }
   ],
   "source": [
    "os.path.exists(path2)"
   ]
  },
  {
   "cell_type": "code",
   "execution_count": 12,
   "id": "e17d5988",
   "metadata": {},
   "outputs": [],
   "source": [
    "# is this a file"
   ]
  },
  {
   "cell_type": "code",
   "execution_count": 13,
   "id": "1743a66f",
   "metadata": {},
   "outputs": [
    {
     "data": {
      "text/plain": [
       "False"
      ]
     },
     "execution_count": 13,
     "metadata": {},
     "output_type": "execute_result"
    }
   ],
   "source": [
    "os.path.isfile(path1)"
   ]
  },
  {
   "cell_type": "code",
   "execution_count": 14,
   "id": "7b7f4d8d",
   "metadata": {},
   "outputs": [
    {
     "data": {
      "text/plain": [
       "False"
      ]
     },
     "execution_count": 14,
     "metadata": {},
     "output_type": "execute_result"
    }
   ],
   "source": [
    "os.path.isfile(path2)"
   ]
  },
  {
   "cell_type": "code",
   "execution_count": 15,
   "id": "1400b4bc",
   "metadata": {},
   "outputs": [],
   "source": [
    "# is this a directory"
   ]
  },
  {
   "cell_type": "code",
   "execution_count": 16,
   "id": "1c081439",
   "metadata": {},
   "outputs": [
    {
     "data": {
      "text/plain": [
       "False"
      ]
     },
     "execution_count": 16,
     "metadata": {},
     "output_type": "execute_result"
    }
   ],
   "source": [
    "os.path.isdir(path1)"
   ]
  },
  {
   "cell_type": "code",
   "execution_count": 17,
   "id": "bf238ef3",
   "metadata": {},
   "outputs": [
    {
     "data": {
      "text/plain": [
       "False"
      ]
     },
     "execution_count": 17,
     "metadata": {},
     "output_type": "execute_result"
    }
   ],
   "source": [
    "os.path.isdir(path2)"
   ]
  },
  {
   "cell_type": "code",
   "execution_count": 18,
   "id": "55304137",
   "metadata": {},
   "outputs": [],
   "source": [
    "## https://www.geeksforgeeks.org/python-check-if-a-file-or-directory-exists-2/"
   ]
  },
  {
   "cell_type": "code",
   "execution_count": 19,
   "id": "54774b89",
   "metadata": {},
   "outputs": [],
   "source": [
    "## https://www.geeksforgeeks.org/python-os-path-join-method/"
   ]
  },
  {
   "cell_type": "code",
   "execution_count": null,
   "id": "fcf4ac49",
   "metadata": {},
   "outputs": [],
   "source": []
  }
 ],
 "metadata": {
  "kernelspec": {
   "display_name": "Python 3 (ipykernel)",
   "language": "python",
   "name": "python3"
  },
  "language_info": {
   "codemirror_mode": {
    "name": "ipython",
    "version": 3
   },
   "file_extension": ".py",
   "mimetype": "text/x-python",
   "name": "python",
   "nbconvert_exporter": "python",
   "pygments_lexer": "ipython3",
   "version": "3.9.13"
  }
 },
 "nbformat": 4,
 "nbformat_minor": 5
}
