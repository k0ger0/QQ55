{
 "cells": [
  {
   "cell_type": "code",
   "execution_count": 1,
   "id": "c0250477",
   "metadata": {},
   "outputs": [],
   "source": [
    "import pandas as pd"
   ]
  },
  {
   "cell_type": "code",
   "execution_count": 2,
   "id": "262a53a3",
   "metadata": {},
   "outputs": [],
   "source": [
    "mydf = pd.read_pickle('my_df.pickle')"
   ]
  },
  {
   "cell_type": "code",
   "execution_count": 3,
   "id": "8ee53d40",
   "metadata": {},
   "outputs": [
    {
     "data": {
      "text/plain": [
       "(100, 5)"
      ]
     },
     "execution_count": 3,
     "metadata": {},
     "output_type": "execute_result"
    }
   ],
   "source": [
    "mydf.shape"
   ]
  },
  {
   "cell_type": "code",
   "execution_count": 4,
   "id": "2a9837d4",
   "metadata": {},
   "outputs": [],
   "source": [
    "\n",
    "#1. Create a new DB\n",
    "#2. Create a table in this DB\n",
    "#3. Upload Pandas dataframe into this table"
   ]
  },
  {
   "cell_type": "code",
   "execution_count": null,
   "id": "3b515a21",
   "metadata": {},
   "outputs": [],
   "source": [
    "'''\n",
    "CREATE TABLE homes(\n",
    "objid integer,\n",
    "shortname varchar(128),\n",
    "address varchar(128),\n",
    "latitude numeric (15, 7),\n",
    "longitude numeric (15, 7)\n",
    ")\n",
    "\n",
    "'''"
   ]
  },
  {
   "cell_type": "code",
   "execution_count": 5,
   "id": "9ba4a740",
   "metadata": {},
   "outputs": [],
   "source": [
    "import psycopg2"
   ]
  },
  {
   "cell_type": "code",
   "execution_count": 6,
   "id": "ce226c9c",
   "metadata": {},
   "outputs": [
    {
     "name": "stdout",
     "output_type": "stream",
     "text": [
      "(13383, '2МЕН ГРУПП', 'г Тюмень', Decimal('57.1519000'), Decimal('65.5536000'))\n"
     ]
    }
   ],
   "source": [
    "connect_str = \"dbname='DataScience' user='postgres' host='localhost' password='12345'\" \n",
    "conn = psycopg2.connect(connect_str)\n",
    "cursor = conn.cursor()\n",
    "stmt = '''\n",
    "SELECT \n",
    "*\n",
    "from homes\n",
    "'''\n",
    "cursor.execute(stmt)\n",
    "for row in cursor:\n",
    "    print(row)"
   ]
  },
  {
   "cell_type": "code",
   "execution_count": null,
   "id": "86e03051",
   "metadata": {},
   "outputs": [],
   "source": []
  },
  {
   "cell_type": "code",
   "execution_count": 7,
   "id": "3404ca74",
   "metadata": {},
   "outputs": [],
   "source": [
    "## Add a new record"
   ]
  },
  {
   "cell_type": "code",
   "execution_count": 8,
   "id": "6d573f55",
   "metadata": {},
   "outputs": [],
   "source": [
    "conn = psycopg2.connect(connect_str)\n",
    "cursor = conn.cursor()\n",
    "stmt = '''\n",
    "INSERT INTO homes\n",
    "VALUES\n",
    "(%s, %s, %s, %s, %s );\n",
    "'''\n",
    "cursor.execute(stmt, (13388,'3МЕН ГРУПП', 'г Тюмень', 57.1000, 65.5555))\n",
    "conn.commit()\n",
    "cursor.close()"
   ]
  },
  {
   "cell_type": "code",
   "execution_count": 9,
   "id": "a5a9e949",
   "metadata": {},
   "outputs": [
    {
     "name": "stdout",
     "output_type": "stream",
     "text": [
      "(13383, '2МЕН ГРУПП', 'г Тюмень', Decimal('57.1519000'), Decimal('65.5536000'))\n",
      "(13388, '3МЕН ГРУПП', 'г Тюмень', Decimal('57.1000000'), Decimal('65.5555000'))\n"
     ]
    }
   ],
   "source": [
    "connect_str = \"dbname='DataScience' user='postgres' host='localhost' password='12345'\" \n",
    "conn = psycopg2.connect(connect_str)\n",
    "cursor = conn.cursor()\n",
    "stmt = '''\n",
    "SELECT \n",
    "*\n",
    "from homes\n",
    "'''\n",
    "cursor.execute(stmt)\n",
    "for row in cursor:\n",
    "    print(row)"
   ]
  },
  {
   "cell_type": "code",
   "execution_count": null,
   "id": "b94adb44",
   "metadata": {},
   "outputs": [],
   "source": []
  },
  {
   "cell_type": "code",
   "execution_count": null,
   "id": "baa4f70b",
   "metadata": {},
   "outputs": [],
   "source": [
    "'''\n",
    "CREATE TABLE homes(\n",
    "objid integer UNIQUE,\n",
    "shortname varchar(128),\n",
    "address varchar(128),\n",
    "latitude numeric (15, 7),\n",
    "longitude numeric (15, 7)\n",
    ")\n",
    "\n",
    "'''"
   ]
  },
  {
   "cell_type": "code",
   "execution_count": null,
   "id": "4dbe0d61",
   "metadata": {},
   "outputs": [],
   "source": []
  },
  {
   "cell_type": "code",
   "execution_count": 10,
   "id": "87935155",
   "metadata": {},
   "outputs": [],
   "source": [
    "## Iterate all records in DF"
   ]
  },
  {
   "cell_type": "code",
   "execution_count": 11,
   "id": "6732aa2e",
   "metadata": {},
   "outputs": [
    {
     "name": "stdout",
     "output_type": "stream",
     "text": [
      "13383\n",
      "13398\n",
      "13397\n",
      "13399\n",
      "36912\n",
      "10891\n",
      "8809\n",
      "8810\n",
      "39176\n",
      "39175\n"
     ]
    }
   ],
   "source": [
    "for i in range(10):\n",
    "    print(mydf['ObjectId'].iloc[i])"
   ]
  },
  {
   "cell_type": "code",
   "execution_count": 13,
   "id": "f60ea408",
   "metadata": {},
   "outputs": [
    {
     "data": {
      "text/html": [
       "<div>\n",
       "<style scoped>\n",
       "    .dataframe tbody tr th:only-of-type {\n",
       "        vertical-align: middle;\n",
       "    }\n",
       "\n",
       "    .dataframe tbody tr th {\n",
       "        vertical-align: top;\n",
       "    }\n",
       "\n",
       "    .dataframe thead th {\n",
       "        text-align: right;\n",
       "    }\n",
       "</style>\n",
       "<table border=\"1\" class=\"dataframe\">\n",
       "  <thead>\n",
       "    <tr style=\"text-align: right;\">\n",
       "      <th></th>\n",
       "      <th>ObjectId</th>\n",
       "      <th>ShortName</th>\n",
       "      <th>ObjectAddress</th>\n",
       "      <th>Latitude</th>\n",
       "      <th>Longitude</th>\n",
       "    </tr>\n",
       "  </thead>\n",
       "  <tbody>\n",
       "    <tr>\n",
       "      <th>0</th>\n",
       "      <td>13383</td>\n",
       "      <td>2МЕН ГРУПП</td>\n",
       "      <td>г Тюмень</td>\n",
       "      <td>57.1519</td>\n",
       "      <td>65.5536</td>\n",
       "    </tr>\n",
       "    <tr>\n",
       "      <th>1</th>\n",
       "      <td>13398</td>\n",
       "      <td>2МЕН ГРУПП</td>\n",
       "      <td>г Тюмень, ул Профсоюзная, д. 56</td>\n",
       "      <td>57.1519</td>\n",
       "      <td>65.5544</td>\n",
       "    </tr>\n",
       "    <tr>\n",
       "      <th>2</th>\n",
       "      <td>13397</td>\n",
       "      <td>2МЕН ГРУПП</td>\n",
       "      <td>г Тюмень, ул Профсоюзная, д. 56</td>\n",
       "      <td>57.1519</td>\n",
       "      <td>65.5544</td>\n",
       "    </tr>\n",
       "    <tr>\n",
       "      <th>3</th>\n",
       "      <td>13399</td>\n",
       "      <td>2МЕН ГРУПП</td>\n",
       "      <td>г Тюмень, ул Профсоюзная, д. 56</td>\n",
       "      <td>57.1519</td>\n",
       "      <td>65.5544</td>\n",
       "    </tr>\n",
       "    <tr>\n",
       "      <th>4</th>\n",
       "      <td>36912</td>\n",
       "      <td>CЗ СТРОЙРЕСУРС</td>\n",
       "      <td>г Ставрополь, ул Шпаковская, Доваторцев, д. 10...</td>\n",
       "      <td>45.0200</td>\n",
       "      <td>41.9346</td>\n",
       "    </tr>\n",
       "  </tbody>\n",
       "</table>\n",
       "</div>"
      ],
      "text/plain": [
       "   ObjectId       ShortName  \\\n",
       "0     13383      2МЕН ГРУПП   \n",
       "1     13398      2МЕН ГРУПП   \n",
       "2     13397      2МЕН ГРУПП   \n",
       "3     13399      2МЕН ГРУПП   \n",
       "4     36912  CЗ СТРОЙРЕСУРС   \n",
       "\n",
       "                                       ObjectAddress  Latitude  Longitude  \n",
       "0                                           г Тюмень   57.1519    65.5536  \n",
       "1                    г Тюмень, ул Профсоюзная, д. 56   57.1519    65.5544  \n",
       "2                    г Тюмень, ул Профсоюзная, д. 56   57.1519    65.5544  \n",
       "3                    г Тюмень, ул Профсоюзная, д. 56   57.1519    65.5544  \n",
       "4  г Ставрополь, ул Шпаковская, Доваторцев, д. 10...   45.0200    41.9346  "
      ]
     },
     "execution_count": 13,
     "metadata": {},
     "output_type": "execute_result"
    }
   ],
   "source": [
    "mydf.head()"
   ]
  },
  {
   "cell_type": "code",
   "execution_count": 14,
   "id": "b20f9c2f",
   "metadata": {},
   "outputs": [
    {
     "name": "stdout",
     "output_type": "stream",
     "text": [
      "13383 2МЕН ГРУПП г Тюмень 57.1519 65.5536\n",
      "13398 2МЕН ГРУПП г Тюмень, ул Профсоюзная, д. 56 57.1519 65.5544\n",
      "13397 2МЕН ГРУПП г Тюмень, ул Профсоюзная, д. 56 57.1519 65.5544\n",
      "13399 2МЕН ГРУПП г Тюмень, ул Профсоюзная, д. 56 57.1519 65.5544\n",
      "36912 CЗ СТРОЙРЕСУРС г Ставрополь, ул Шпаковская, Доваторцев, д. 107, 38, блок-секция БС-1, БС-2, БС-3 45.02 41.9346\n",
      "10891 ААК ВОЛОГДААГРОСТРОЙ г Вологда, ул Медуницинская, д. 7 59.1985 39.858\n",
      "8809 АБСОЛЮТ город Южноуральск, улица Сергея Буландо, д. 8 54.4377 61.2772\n",
      "8810 АБСОЛЮТ город Южноуральск, улица Сергея Буландо, д. 8 54.4377 61.2774\n",
      "39176 АВА ДЕВЕЛОПМЕНТ ПЛЮС г Краснодар, улица Валерия Гассия, д. 4/7, литера 4 44.9864 39.0701\n",
      "39175 АВА ДЕВЕЛОПМЕНТ ПЛЮС г Краснодар, улица Валерия Гассия, д. 4/7, литера 3 44.9862 39.0702\n"
     ]
    }
   ],
   "source": [
    "for i in range(10):\n",
    "    print(mydf['ObjectId'].iloc[i], mydf['ShortName'].iloc[i], mydf['ObjectAddress'].iloc[i],\n",
    "         mydf['Latitude'].iloc[i], mydf['Longitude'].iloc[i])"
   ]
  },
  {
   "cell_type": "code",
   "execution_count": 16,
   "id": "85e289d9",
   "metadata": {},
   "outputs": [
    {
     "name": "stdout",
     "output_type": "stream",
     "text": [
      "13383 2МЕН ГРУПП г Тюмень 57.1519 65.5536\n",
      "13398 2МЕН ГРУПП г Тюмень, ул Профсоюзная, д. 56 57.1519 65.5544\n",
      "13397 2МЕН ГРУПП г Тюмень, ул Профсоюзная, д. 56 57.1519 65.5544\n",
      "13399 2МЕН ГРУПП г Тюмень, ул Профсоюзная, д. 56 57.1519 65.5544\n",
      "36912 CЗ СТРОЙРЕСУРС г Ставрополь, ул Шпаковская, Доваторцев, д. 107, 38, блок-секция БС-1, БС-2, БС-3 45.02 41.9346\n",
      "10891 ААК ВОЛОГДААГРОСТРОЙ г Вологда, ул Медуницинская, д. 7 59.1985 39.858\n",
      "8809 АБСОЛЮТ город Южноуральск, улица Сергея Буландо, д. 8 54.4377 61.2772\n",
      "8810 АБСОЛЮТ город Южноуральск, улица Сергея Буландо, д. 8 54.4377 61.2774\n",
      "39176 АВА ДЕВЕЛОПМЕНТ ПЛЮС г Краснодар, улица Валерия Гассия, д. 4/7, литера 4 44.9864 39.0701\n",
      "39175 АВА ДЕВЕЛОПМЕНТ ПЛЮС г Краснодар, улица Валерия Гассия, д. 4/7, литера 3 44.9862 39.0702\n"
     ]
    }
   ],
   "source": [
    "for i in range(10):\n",
    "    print(mydf['ObjectId'].iloc[i], mydf['ShortName'].iloc[i], mydf['ObjectAddress'].iloc[i],\n",
    "         mydf['Latitude'].iloc[i], mydf['Longitude'].iloc[i])"
   ]
  },
  {
   "cell_type": "code",
   "execution_count": 17,
   "id": "2011c7c4",
   "metadata": {},
   "outputs": [],
   "source": [
    "###"
   ]
  },
  {
   "cell_type": "code",
   "execution_count": 23,
   "id": "b08fbb14",
   "metadata": {},
   "outputs": [],
   "source": [
    "connect_str = \"dbname='DataScience' user='postgres' host='localhost' password='12345'\"\n",
    "for i in range(10):\n",
    "    conn = psycopg2.connect(connect_str)\n",
    "    cursor = conn.cursor()\n",
    "    stmt = '''\n",
    "    INSERT INTO homes2\n",
    "    VALUES\n",
    "    (%s, %s, %s, %s, %s );\n",
    "    '''\n",
    "    cursor.execute(stmt, (int(mydf['ObjectId'].iloc[i]), mydf['ShortName'].iloc[i], mydf['ObjectAddress'].iloc[i],\n",
    "         mydf['Latitude'].iloc[i], (mydf['Longitude'].iloc[i])))\n",
    "    conn.commit()\n",
    "    cursor.close()"
   ]
  },
  {
   "cell_type": "code",
   "execution_count": 25,
   "id": "ecfafbfc",
   "metadata": {},
   "outputs": [],
   "source": [
    "##mydf.info()"
   ]
  },
  {
   "cell_type": "code",
   "execution_count": 28,
   "id": "67512a07",
   "metadata": {},
   "outputs": [
    {
     "ename": "UniqueViolation",
     "evalue": "ОШИБКА:  повторяющееся значение ключа нарушает ограничение уникальности \"homes2_objid_key\"\nDETAIL:  Ключ \"(objid)=(33212)\" уже существует.\n",
     "output_type": "error",
     "traceback": [
      "\u001b[0;31m---------------------------------------------------------------------------\u001b[0m",
      "\u001b[0;31mUniqueViolation\u001b[0m                           Traceback (most recent call last)",
      "Input \u001b[0;32mIn [28]\u001b[0m, in \u001b[0;36m<cell line: 2>\u001b[0;34m()\u001b[0m\n\u001b[1;32m      4\u001b[0m cursor \u001b[38;5;241m=\u001b[39m conn\u001b[38;5;241m.\u001b[39mcursor()\n\u001b[1;32m      5\u001b[0m stmt \u001b[38;5;241m=\u001b[39m \u001b[38;5;124m'''\u001b[39m\n\u001b[1;32m      6\u001b[0m \u001b[38;5;124mINSERT INTO homes2\u001b[39m\n\u001b[1;32m      7\u001b[0m \u001b[38;5;124mVALUES\u001b[39m\n\u001b[1;32m      8\u001b[0m \u001b[38;5;124m(\u001b[39m\u001b[38;5;132;01m%s\u001b[39;00m\u001b[38;5;124m, \u001b[39m\u001b[38;5;132;01m%s\u001b[39;00m\u001b[38;5;124m, \u001b[39m\u001b[38;5;132;01m%s\u001b[39;00m\u001b[38;5;124m, \u001b[39m\u001b[38;5;132;01m%s\u001b[39;00m\u001b[38;5;124m, \u001b[39m\u001b[38;5;132;01m%s\u001b[39;00m\u001b[38;5;124m );\u001b[39m\n\u001b[1;32m      9\u001b[0m \u001b[38;5;124m\u001b[39m\u001b[38;5;124m'''\u001b[39m\n\u001b[0;32m---> 10\u001b[0m \u001b[43mcursor\u001b[49m\u001b[38;5;241;43m.\u001b[39;49m\u001b[43mexecute\u001b[49m\u001b[43m(\u001b[49m\u001b[43mstmt\u001b[49m\u001b[43m,\u001b[49m\u001b[43m \u001b[49m\u001b[43m(\u001b[49m\u001b[38;5;28;43mint\u001b[39;49m\u001b[43m(\u001b[49m\u001b[43mmydf\u001b[49m\u001b[43m[\u001b[49m\u001b[38;5;124;43m'\u001b[39;49m\u001b[38;5;124;43mObjectId\u001b[39;49m\u001b[38;5;124;43m'\u001b[39;49m\u001b[43m]\u001b[49m\u001b[38;5;241;43m.\u001b[39;49m\u001b[43miloc\u001b[49m\u001b[43m[\u001b[49m\u001b[43mi\u001b[49m\u001b[43m]\u001b[49m\u001b[43m)\u001b[49m\u001b[43m,\u001b[49m\u001b[43m \u001b[49m\u001b[43mmydf\u001b[49m\u001b[43m[\u001b[49m\u001b[38;5;124;43m'\u001b[39;49m\u001b[38;5;124;43mShortName\u001b[39;49m\u001b[38;5;124;43m'\u001b[39;49m\u001b[43m]\u001b[49m\u001b[38;5;241;43m.\u001b[39;49m\u001b[43miloc\u001b[49m\u001b[43m[\u001b[49m\u001b[43mi\u001b[49m\u001b[43m]\u001b[49m\u001b[43m,\u001b[49m\u001b[43m \u001b[49m\u001b[43mmydf\u001b[49m\u001b[43m[\u001b[49m\u001b[38;5;124;43m'\u001b[39;49m\u001b[38;5;124;43mObjectAddress\u001b[39;49m\u001b[38;5;124;43m'\u001b[39;49m\u001b[43m]\u001b[49m\u001b[38;5;241;43m.\u001b[39;49m\u001b[43miloc\u001b[49m\u001b[43m[\u001b[49m\u001b[43mi\u001b[49m\u001b[43m]\u001b[49m\u001b[43m,\u001b[49m\n\u001b[1;32m     11\u001b[0m \u001b[43m     \u001b[49m\u001b[43mmydf\u001b[49m\u001b[43m[\u001b[49m\u001b[38;5;124;43m'\u001b[39;49m\u001b[38;5;124;43mLatitude\u001b[39;49m\u001b[38;5;124;43m'\u001b[39;49m\u001b[43m]\u001b[49m\u001b[38;5;241;43m.\u001b[39;49m\u001b[43miloc\u001b[49m\u001b[43m[\u001b[49m\u001b[43mi\u001b[49m\u001b[43m]\u001b[49m\u001b[43m,\u001b[49m\u001b[43m \u001b[49m\u001b[43m(\u001b[49m\u001b[43mmydf\u001b[49m\u001b[43m[\u001b[49m\u001b[38;5;124;43m'\u001b[39;49m\u001b[38;5;124;43mLongitude\u001b[39;49m\u001b[38;5;124;43m'\u001b[39;49m\u001b[43m]\u001b[49m\u001b[38;5;241;43m.\u001b[39;49m\u001b[43miloc\u001b[49m\u001b[43m[\u001b[49m\u001b[43mi\u001b[49m\u001b[43m]\u001b[49m\u001b[43m)\u001b[49m\u001b[43m)\u001b[49m\u001b[43m)\u001b[49m\n\u001b[1;32m     12\u001b[0m conn\u001b[38;5;241m.\u001b[39mcommit()\n\u001b[1;32m     13\u001b[0m cursor\u001b[38;5;241m.\u001b[39mclose()\n",
      "\u001b[0;31mUniqueViolation\u001b[0m: ОШИБКА:  повторяющееся значение ключа нарушает ограничение уникальности \"homes2_objid_key\"\nDETAIL:  Ключ \"(objid)=(33212)\" уже существует.\n"
     ]
    }
   ],
   "source": [
    "connect_str = \"dbname='DataScience' user='postgres' host='localhost' password='12345'\"\n",
    "for i in range(99, 100):\n",
    "    conn = psycopg2.connect(connect_str)\n",
    "    cursor = conn.cursor()\n",
    "    stmt = '''\n",
    "    INSERT INTO homes2\n",
    "    VALUES\n",
    "    (%s, %s, %s, %s, %s );\n",
    "    '''\n",
    "    cursor.execute(stmt, (int(mydf['ObjectId'].iloc[i]), mydf['ShortName'].iloc[i], mydf['ObjectAddress'].iloc[i],\n",
    "         mydf['Latitude'].iloc[i], (mydf['Longitude'].iloc[i])))\n",
    "    conn.commit()\n",
    "    cursor.close()"
   ]
  },
  {
   "cell_type": "code",
   "execution_count": 29,
   "id": "3efd73ce",
   "metadata": {},
   "outputs": [
    {
     "data": {
      "text/html": [
       "<div>\n",
       "<style scoped>\n",
       "    .dataframe tbody tr th:only-of-type {\n",
       "        vertical-align: middle;\n",
       "    }\n",
       "\n",
       "    .dataframe tbody tr th {\n",
       "        vertical-align: top;\n",
       "    }\n",
       "\n",
       "    .dataframe thead th {\n",
       "        text-align: right;\n",
       "    }\n",
       "</style>\n",
       "<table border=\"1\" class=\"dataframe\">\n",
       "  <thead>\n",
       "    <tr style=\"text-align: right;\">\n",
       "      <th></th>\n",
       "      <th>ObjectId</th>\n",
       "      <th>ShortName</th>\n",
       "      <th>ObjectAddress</th>\n",
       "      <th>Latitude</th>\n",
       "      <th>Longitude</th>\n",
       "    </tr>\n",
       "  </thead>\n",
       "  <tbody>\n",
       "    <tr>\n",
       "      <th>95</th>\n",
       "      <td>33180</td>\n",
       "      <td>АПРЕЛЕВКА С2</td>\n",
       "      <td>д Зверево, д. 86</td>\n",
       "      <td>55.5057</td>\n",
       "      <td>36.9340</td>\n",
       "    </tr>\n",
       "    <tr>\n",
       "      <th>96</th>\n",
       "      <td>33134</td>\n",
       "      <td>АПРЕЛЕВКА С2</td>\n",
       "      <td>д Зверево, д. 40</td>\n",
       "      <td>55.5022</td>\n",
       "      <td>36.9291</td>\n",
       "    </tr>\n",
       "    <tr>\n",
       "      <th>97</th>\n",
       "      <td>33213</td>\n",
       "      <td>АПРЕЛЕВКА С2</td>\n",
       "      <td>д Зверево, д. 119</td>\n",
       "      <td>55.5055</td>\n",
       "      <td>36.9306</td>\n",
       "    </tr>\n",
       "    <tr>\n",
       "      <th>98</th>\n",
       "      <td>33158</td>\n",
       "      <td>АПРЕЛЕВКА С2</td>\n",
       "      <td>д Зверево, д. 64</td>\n",
       "      <td>55.4978</td>\n",
       "      <td>36.9284</td>\n",
       "    </tr>\n",
       "    <tr>\n",
       "      <th>99</th>\n",
       "      <td>33212</td>\n",
       "      <td>АПРЕЛЕВКА С2</td>\n",
       "      <td>д Зверево, д. 118</td>\n",
       "      <td>55.5056</td>\n",
       "      <td>36.9301</td>\n",
       "    </tr>\n",
       "  </tbody>\n",
       "</table>\n",
       "</div>"
      ],
      "text/plain": [
       "    ObjectId     ShortName      ObjectAddress  Latitude  Longitude\n",
       "95     33180  АПРЕЛЕВКА С2   д Зверево, д. 86   55.5057    36.9340\n",
       "96     33134  АПРЕЛЕВКА С2   д Зверево, д. 40   55.5022    36.9291\n",
       "97     33213  АПРЕЛЕВКА С2  д Зверево, д. 119   55.5055    36.9306\n",
       "98     33158  АПРЕЛЕВКА С2   д Зверево, д. 64   55.4978    36.9284\n",
       "99     33212  АПРЕЛЕВКА С2  д Зверево, д. 118   55.5056    36.9301"
      ]
     },
     "execution_count": 29,
     "metadata": {},
     "output_type": "execute_result"
    }
   ],
   "source": [
    "mydf.tail()"
   ]
  },
  {
   "cell_type": "code",
   "execution_count": null,
   "id": "9ef056fb",
   "metadata": {},
   "outputs": [],
   "source": []
  },
  {
   "cell_type": "code",
   "execution_count": null,
   "id": "fb6fb3b2",
   "metadata": {},
   "outputs": [],
   "source": []
  },
  {
   "cell_type": "code",
   "execution_count": 30,
   "id": "3f7b115f",
   "metadata": {},
   "outputs": [],
   "source": [
    "### Task2_dmrf_visual"
   ]
  },
  {
   "cell_type": "code",
   "execution_count": 33,
   "id": "5e759669",
   "metadata": {},
   "outputs": [],
   "source": [
    "import requests"
   ]
  },
  {
   "cell_type": "code",
   "execution_count": 34,
   "id": "4355bc28",
   "metadata": {},
   "outputs": [],
   "source": [
    "url = f'https://xn--80az8a.xn--d1aqf.xn--p1ai/%D1%81%D0%B5%D1%80%D0%B2%D0%B8%D1%81%D1%8B/api/object/36774'"
   ]
  },
  {
   "cell_type": "code",
   "execution_count": 35,
   "id": "0c0d8a94",
   "metadata": {},
   "outputs": [],
   "source": [
    "res = requests.get(url)\n",
    "objects_data = res.json()"
   ]
  },
  {
   "cell_type": "code",
   "execution_count": 36,
   "id": "2eb65653",
   "metadata": {},
   "outputs": [
    {
     "data": {
      "text/plain": [
       "{'data': {'id': 36774,\n",
       "  'hobjId': 117025,\n",
       "  'pdId': 351714,\n",
       "  'developer': {'devId': 6926,\n",
       "   'devShortCleanNm': 'ОКЕАН',\n",
       "   'devShortNm': 'ОКЕАН',\n",
       "   'devFullCleanNm': 'ОКЕАН',\n",
       "   'problObjCnt': 0,\n",
       "   'buildObjCnt': 1,\n",
       "   'comissObjCnt': 0,\n",
       "   'regRegionDesc': 'Башкортостан Республика',\n",
       "   'devPhoneNum': '+7(927)300-31-01',\n",
       "   'devSite': 'altun-yar.ru',\n",
       "   'devEmail': 'khabibovr@mail.ru',\n",
       "   'devInn': '0277093608',\n",
       "   'devOgrn': '1080277004521',\n",
       "   'devKpp': '027701001',\n",
       "   'devLegalAddr': 'Башкортостан Республика, город Уфа, проспект Проспект Октября дом 85',\n",
       "   'devFactAddr': 'Респ Башкортостан Город Уфа Проспект Октября д. 85',\n",
       "   'lastRpdId': 511041,\n",
       "   'fundGuarantyFlg': 0,\n",
       "   'devOrgRegRegionCd': 2,\n",
       "   'devEmplMainFullNm': 'Хабибов Рамиль Хамидуллович',\n",
       "   'developerGroupName': 'Океан',\n",
       "   'orgForm': {'id': 4,\n",
       "    'fullForm': 'Общество с ограниченной ответственностью',\n",
       "    'shortForm': 'ООО'},\n",
       "   'companyGroupId': 7250,\n",
       "   'objGuarantyEscrowFlg': 1,\n",
       "   'govFundFlg': 0},\n",
       "  'region': 2,\n",
       "  'address': 'г Уфа, ул Прибельская, д. 32, 32/1, 34',\n",
       "  'floorMin': 5,\n",
       "  'floorMax': 9,\n",
       "  'objElemLivingCnt': 0,\n",
       "  'objReady100PercDt': '2024-09-30',\n",
       "  'wallMaterialShortDesc': 'Монолит-кирпич',\n",
       "  'objLkFinishTypeDesc': 'Без отделки',\n",
       "  'objLkFreePlanDesc': 'Есть',\n",
       "  'objElemParkingCnt': 73,\n",
       "  'objSquareLiving': 0.0,\n",
       "  'rpdNum': '02-001200',\n",
       "  'rpdPdfLink': 'https://xn--80az8a.xn--d1aqf.xn--p1ai/api/ext/file/8455bc4e-fc18-46c6-b684-f86c7fe3da85',\n",
       "  'rpdIssueDttm': '07-10-2021 09:15',\n",
       "  'objLkLatitude': '54.6871',\n",
       "  'objLkLongitude': '55.9563',\n",
       "  'objCompensFundFlg': 0,\n",
       "  'objProblemFlg': 0,\n",
       "  'objLkClassDesc': 'Типовой',\n",
       "  'loadDttm': '15-12-2022 01:22',\n",
       "  'photoRenderDTO': [{'objId': 36774,\n",
       "    'pdId': 351714,\n",
       "    'rpdId': 511041,\n",
       "    'devId': 6926,\n",
       "    'ordNum': 1,\n",
       "    'objRenderPhotoSize': 406650,\n",
       "    'objRenderPhotoUrl': 'https://xn--80az8a.xn--d1aqf.xn--p1ai/api/ext/file/7d361bd3-f91d-47ac-a468-19ba445ce116',\n",
       "    'objRenderPhotoDttm': '25-08-2020 12:17',\n",
       "    'objRenderPhotoHiddenFlg': 0,\n",
       "    'objRenderPhotoNm': '1.jpg',\n",
       "    'objReadyDesc': 'Строится',\n",
       "    'objBuildTypeShortDesc': 'Нежилое',\n",
       "    'knFlg': 0,\n",
       "    'loadDttm': '15-12-2022 01:05'},\n",
       "   {'objId': 36774,\n",
       "    'pdId': 351714,\n",
       "    'rpdId': 511041,\n",
       "    'devId': 6926,\n",
       "    'ordNum': 2,\n",
       "    'objRenderPhotoSize': 474129,\n",
       "    'objRenderPhotoUrl': 'https://xn--80az8a.xn--d1aqf.xn--p1ai/api/ext/file/f4cd2621-6ed8-42c6-a864-105d08dc8fed',\n",
       "    'objRenderPhotoDttm': '25-08-2020 12:17',\n",
       "    'objRenderPhotoHiddenFlg': 0,\n",
       "    'objRenderPhotoNm': '21.jpg',\n",
       "    'objReadyDesc': 'Строится',\n",
       "    'objBuildTypeShortDesc': 'Нежилое',\n",
       "    'knFlg': 0,\n",
       "    'loadDttm': '15-12-2022 01:05'}],\n",
       "  'objGuarantyEscrowFlg': 1,\n",
       "  'objectType': 'normal',\n",
       "  'miniUrl': 'https://xn--80az8a.xn--d1aqf.xn--p1ai/api/ext/file/882375c0-5d57-471d-9998-2ea99f0d81d9',\n",
       "  'residentialBuildings': 0,\n",
       "  'newBuildingId': 117025,\n",
       "  'objFloorCnt': 9,\n",
       "  'objFlatCnt': 0,\n",
       "  'objFlatSq': '0.0',\n",
       "  'objNonlivElemCnt': 173,\n",
       "  'objStatus': 0,\n",
       "  'isAvailableWantLiveHere': True,\n",
       "  'objTransferPlanDt': '31-08-2024 12:00',\n",
       "  'objInfrstrBicycleLaneFlg': 0,\n",
       "  'objInfrstrPlaygrndCnt': 0,\n",
       "  'objInfrstrSportGroundCnt': 0,\n",
       "  'objInfrstrTrashAreaCnt': 0,\n",
       "  'objInfrstrObjPrkngCnt': 0,\n",
       "  'objInfrstrNotObjPrkngCnt': 0,\n",
       "  'objInfrstrRampFlg': 0,\n",
       "  'objInfrstrCurbLoweringFlg': 0,\n",
       "  'objElevatorWheelchairCnt': 0,\n",
       "  'objElevatorPassengerCnt': 5,\n",
       "  'objElevatorCargoCnt': 0,\n",
       "  'objElevatorCargoPassengerCnt': 0,\n",
       "  'soldOutPerc': 1.0,\n",
       "  'objPriceAvg': 45187,\n",
       "  'generalContractorNm': 'ООО НЕРУД ИНВЕСТ (ИНН: 0277077148)',\n",
       "  'nonlivFirstFloor': 1,\n",
       "  'objectTransportInfo': [],\n",
       "  'conclusion': False,\n",
       "  'objLkSaleDepEmail': 'khabibovr@mail.ru',\n",
       "  'objGreenHouseFlg': 0,\n",
       "  'objEnergyEffShortDesc': 'C',\n",
       "  'infrastructureIndexValue': 4},\n",
       " 'errcode': '0'}"
      ]
     },
     "execution_count": 36,
     "metadata": {},
     "output_type": "execute_result"
    }
   ],
   "source": [
    "objects_data"
   ]
  },
  {
   "cell_type": "code",
   "execution_count": null,
   "id": "1f8ddf6b",
   "metadata": {},
   "outputs": [],
   "source": [
    "# 'objFloorCnt': 9,\n",
    "# 'objPriceAvg': 45187,\n",
    "# 'objInfrstrObjPrkngCnt': 0,\n",
    "# 'objNonlivElemCnt': 173,\n",
    "# 'regRegionDesc': 'Башкортостан Республика'"
   ]
  },
  {
   "cell_type": "code",
   "execution_count": null,
   "id": "2e214cf8",
   "metadata": {},
   "outputs": [],
   "source": []
  },
  {
   "cell_type": "code",
   "execution_count": 40,
   "id": "99154a05",
   "metadata": {},
   "outputs": [
    {
     "ename": "KeyError",
     "evalue": "'regRegionDesc'",
     "output_type": "error",
     "traceback": [
      "\u001b[0;31m---------------------------------------------------------------------------\u001b[0m",
      "\u001b[0;31mKeyError\u001b[0m                                  Traceback (most recent call last)",
      "Input \u001b[0;32mIn [40]\u001b[0m, in \u001b[0;36m<cell line: 17>\u001b[0;34m()\u001b[0m\n\u001b[1;32m     22\u001b[0m  longitudes\u001b[38;5;241m.\u001b[39mappend(item[\u001b[38;5;124m'\u001b[39m\u001b[38;5;124mlongitude\u001b[39m\u001b[38;5;124m'\u001b[39m])\n\u001b[1;32m     23\u001b[0m \u001b[38;5;66;03m# objFloorCnt.append(item['objFloorCnt'])\u001b[39;00m\n\u001b[1;32m     24\u001b[0m \u001b[38;5;66;03m# objPriceAvg.append(item['objPriceAvg'])\u001b[39;00m\n\u001b[1;32m     25\u001b[0m \u001b[38;5;66;03m# objInfrstrObjPrkngCnt.append(item['objInfrstrObjPrkngCnt'])\u001b[39;00m\n\u001b[1;32m     26\u001b[0m \u001b[38;5;66;03m# objNonlivElemCnt.append(item['objNonlivElemCnt'])\u001b[39;00m\n\u001b[0;32m---> 27\u001b[0m  regRegionDesc\u001b[38;5;241m.\u001b[39mappend(\u001b[43mitem\u001b[49m\u001b[43m[\u001b[49m\u001b[38;5;124;43m'\u001b[39;49m\u001b[38;5;124;43mregRegionDesc\u001b[39;49m\u001b[38;5;124;43m'\u001b[39;49m\u001b[43m]\u001b[49m)\n",
      "\u001b[0;31mKeyError\u001b[0m: 'regRegionDesc'"
     ]
    }
   ],
   "source": [
    "offset_ = 1\n",
    "limit_ = 10\n",
    "url = f'https://xn--80az8a.xn--d1aqf.xn--p1ai/%D1%81%D0%B5%D1%80%D0%B2%D0%B8%D1%81%D1%8B/api/kn/object?offset={offset_}&limit={limit_}&sortField=devId.devShortCleanNm&sortType=asc&objStatus=0'\n",
    "res = requests.get(url)\n",
    "objects_data = res.json()\n",
    "result = objects_data.get('data').get('list')\n",
    "objIds = []\n",
    "shortNames = []\n",
    "objAddrs = []\n",
    "latitudes = []\n",
    "longitudes = []\n",
    "objFloorCnt = []\n",
    "objPriceAvg = []\n",
    "objInfrstrObjPrkngCnt = []\n",
    "objNonlivElemCnt = []\n",
    "regRegionDesc = []\n",
    "for item in result:\n",
    "    objIds.append(item['objId'])\n",
    "    shortNames.append(item['developer']['shortName'])\n",
    "    objAddrs.append(item['objAddr'])\n",
    "    latitudes.append(item['latitude'])\n",
    "    longitudes.append(item['longitude'])\n",
    "   # objFloorCnt.append(item['objFloorCnt'])\n",
    "   # objPriceAvg.append(item['objPriceAvg'])\n",
    "   # objInfrstrObjPrkngCnt.append(item['objInfrstrObjPrkngCnt'])\n",
    "   # objNonlivElemCnt.append(item['objNonlivElemCnt'])\n",
    "    regRegionDesc.append(item['regRegionDesc'])"
   ]
  },
  {
   "cell_type": "code",
   "execution_count": 41,
   "id": "e667865d",
   "metadata": {},
   "outputs": [],
   "source": [
    "result = objects_data.get('data')"
   ]
  },
  {
   "cell_type": "code",
   "execution_count": 43,
   "id": "209b15b3",
   "metadata": {},
   "outputs": [
    {
     "data": {
      "text/plain": [
       "2"
      ]
     },
     "execution_count": 43,
     "metadata": {},
     "output_type": "execute_result"
    }
   ],
   "source": [
    "len(result)"
   ]
  },
  {
   "cell_type": "code",
   "execution_count": 46,
   "id": "7a0a60be",
   "metadata": {},
   "outputs": [
    {
     "data": {
      "text/plain": [
       "dict"
      ]
     },
     "execution_count": 46,
     "metadata": {},
     "output_type": "execute_result"
    }
   ],
   "source": [
    "type(result)"
   ]
  },
  {
   "cell_type": "code",
   "execution_count": 47,
   "id": "6639f8b0",
   "metadata": {},
   "outputs": [
    {
     "data": {
      "text/plain": [
       "dict_keys(['list', 'total'])"
      ]
     },
     "execution_count": 47,
     "metadata": {},
     "output_type": "execute_result"
    }
   ],
   "source": [
    "result.keys()"
   ]
  },
  {
   "cell_type": "code",
   "execution_count": 50,
   "id": "339a9b1c",
   "metadata": {},
   "outputs": [
    {
     "data": {
      "text/plain": [
       "10767"
      ]
     },
     "execution_count": 50,
     "metadata": {},
     "output_type": "execute_result"
    }
   ],
   "source": [
    "result['total']"
   ]
  },
  {
   "cell_type": "code",
   "execution_count": null,
   "id": "b3c9c40b",
   "metadata": {},
   "outputs": [],
   "source": []
  }
 ],
 "metadata": {
  "kernelspec": {
   "display_name": "Python 3 (ipykernel)",
   "language": "python",
   "name": "python3"
  },
  "language_info": {
   "codemirror_mode": {
    "name": "ipython",
    "version": 3
   },
   "file_extension": ".py",
   "mimetype": "text/x-python",
   "name": "python",
   "nbconvert_exporter": "python",
   "pygments_lexer": "ipython3",
   "version": "3.9.12"
  }
 },
 "nbformat": 4,
 "nbformat_minor": 5
}
