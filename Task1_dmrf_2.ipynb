{
 "cells": [
  {
   "cell_type": "markdown",
   "metadata": {
    "id": "rJXRFz7a3g_t",
    "pycharm": {
     "name": "#%% md\n"
    }
   },
   "source": [
    "[![Open In Colab](https://colab.research.google.com/assets/colab-badge.svg)](https://colab.research.google.com/github/ds-reboot/python-first-part/blob/main/notebooks/hometasks/Task1_dmrf.ipynb)"
   ]
  },
  {
   "cell_type": "markdown",
   "metadata": {
    "id": "vlxg4rK_3g_2",
    "pycharm": {
     "name": "#%% md\n"
    }
   },
   "source": [
    "# Задание\n",
    "* Собрать информацию о всех строящихся объектах на сайте \"наш.дом.рф\"\n",
    "* Cохранить ее в pandas dataframe\n",
    "* Cохранить pandas dataframe в excel\n",
    "* Cохранить pandas dataframe в pickle\n",
    "* Cохранить pandas dataframe в БД\n",
    "\n",
    "# Задание *\n",
    "* Написать скрипт, который скачивает фотографии всех строящихся объектов с сайта \"наш.дом.рф\"\n"
   ]
  },
  {
   "cell_type": "code",
   "execution_count": 1,
   "metadata": {
    "id": "7gtrmMhY3g_4",
    "pycharm": {
     "name": "#%%\n"
    }
   },
   "outputs": [],
   "source": [
    "import requests"
   ]
  },
  {
   "cell_type": "markdown",
   "metadata": {
    "id": "UNUwNSZV3g_6",
    "pycharm": {
     "name": "#%% md\n"
    }
   },
   "source": [
    "## Список объектов"
   ]
  },
  {
   "cell_type": "code",
   "execution_count": 2,
   "metadata": {
    "id": "Dcvjpu8L3g_7",
    "pycharm": {
     "name": "#%%\n"
    }
   },
   "outputs": [
    {
     "data": {
      "text/plain": [
       "{'hobjId': 39024,\n",
       " 'objId': 13383,\n",
       " 'developer': {'devId': 306,\n",
       "  'shortName': '2МЕН ГРУПП',\n",
       "  'fullName': '2МЕН ГРУПП',\n",
       "  'groupName': '2МЕН ГРУПП ДЕВЕЛОПМЕНТ',\n",
       "  'orgForm': {'id': 1, 'fullForm': 'Акционерное общество', 'shortForm': 'АО'},\n",
       "  'companyGroup': 5776,\n",
       "  'devInn': '7701651356'},\n",
       " 'rpdRegionCd': 72,\n",
       " 'objAddr': 'г Тюмень',\n",
       " 'objFloorMin': 4,\n",
       " 'objFloorMax': 20,\n",
       " 'objElemLivingCnt': 68,\n",
       " 'objReady100PercDt': '2022-12-31',\n",
       " 'objSquareLiving': 6296.55,\n",
       " 'objCompensFundFlg': 1,\n",
       " 'objProblemFlg': 0,\n",
       " 'latitude': 57.1519,\n",
       " 'longitude': 65.5536,\n",
       " 'problemFlag': 'NONE',\n",
       " 'siteStatus': 'Строящиеся',\n",
       " 'objGuarantyEscrowFlg': 0,\n",
       " 'residentialBuildings': 1,\n",
       " 'rpdNum': '72-000095',\n",
       " 'pdId': 28105,\n",
       " 'buildType': 'Жилое',\n",
       " 'objStatus': 0}"
      ]
     },
     "execution_count": 2,
     "metadata": {},
     "output_type": "execute_result"
    }
   ],
   "source": [
    "# Для скачивания данных по\n",
    "\n",
    "offset_ = 1\n",
    "limit_ = 100\n",
    "url = f'https://xn--80az8a.xn--d1aqf.xn--p1ai/%D1%81%D0%B5%D1%80%D0%B2%D0%B8%D1%81%D1%8B/api/kn/object?offset={offset_}&limit={limit_}&sortField=devId.devShortCleanNm&sortType=asc&objStatus=0'\n",
    "res = requests.get(url)\n",
    "objects_data = res.json()\n",
    "objects_data.get('data').get('list')[0]"
   ]
  },
  {
   "cell_type": "code",
   "execution_count": 3,
   "metadata": {
    "id": "Xw3K7eD53g_8",
    "pycharm": {
     "name": "#%%\n"
    }
   },
   "outputs": [
    {
     "data": {
      "text/plain": [
       "[13383, 13398, 13397, 13399, 36912, 10891, 8809, 8810, 39176, 39175]"
      ]
     },
     "execution_count": 3,
     "metadata": {},
     "output_type": "execute_result"
    }
   ],
   "source": [
    "objects_list = objects_data.get('data').get('list')\n",
    "objids = [x.get('objId') for x in objects_list]\n",
    "objids[:10]"
   ]
  },
  {
   "cell_type": "markdown",
   "metadata": {
    "id": "fx-fJ4Hy3g_9",
    "pycharm": {
     "name": "#%% md\n"
    }
   },
   "source": [
    "# Данные по определенному объекту"
   ]
  },
  {
   "cell_type": "code",
   "execution_count": 4,
   "metadata": {
    "id": "MvufTMNK3g_9",
    "pycharm": {
     "name": "#%%\n"
    }
   },
   "outputs": [],
   "source": [
    "# Для скачивания данных по определенному объекту, нужно добавить его id в конец строки запроса\n",
    "#url = f'https://xn--80az8a.xn--d1aqf.xn--p1ai/%D1%81%D0%B5%D1%80%D0%B2%D0%B8%D1%81%D1%8B/api/object/13383'"
   ]
  },
  {
   "cell_type": "code",
   "execution_count": 5,
   "metadata": {
    "id": "9bZhM1zn3g_-",
    "outputId": "282327bf-40cd-4e48-badb-3e69dd78439c",
    "pycharm": {
     "name": "#%%\n"
    }
   },
   "outputs": [],
   "source": [
    "#res = requests.get(url)\n",
    "#res.json()"
   ]
  },
  {
   "cell_type": "code",
   "execution_count": 6,
   "metadata": {
    "id": "72TDZq_w3hAA",
    "pycharm": {
     "name": "#%%\n"
    }
   },
   "outputs": [],
   "source": [
    "import pandas as pd"
   ]
  },
  {
   "cell_type": "code",
   "execution_count": 7,
   "metadata": {
    "id": "x5aSfJ-p3hAB",
    "pycharm": {
     "name": "#%%\n"
    }
   },
   "outputs": [],
   "source": [
    "offset_ = 1\n",
    "limit_ = 100\n",
    "url = f'https://xn--80az8a.xn--d1aqf.xn--p1ai/%D1%81%D0%B5%D1%80%D0%B2%D0%B8%D1%81%D1%8B/api/kn/object?offset={offset_}&limit={limit_}&sortField=devId.devShortCleanNm&sortType=asc&objStatus=0'\n",
    "res = requests.get(url)\n",
    "objects_data = res.json()"
   ]
  },
  {
   "cell_type": "code",
   "execution_count": 8,
   "metadata": {},
   "outputs": [],
   "source": [
    "# JSON - JavaScript Object Notattion"
   ]
  },
  {
   "cell_type": "code",
   "execution_count": 9,
   "metadata": {},
   "outputs": [
    {
     "data": {
      "text/plain": [
       "dict"
      ]
     },
     "execution_count": 9,
     "metadata": {},
     "output_type": "execute_result"
    }
   ],
   "source": [
    "type(objects_data)"
   ]
  },
  {
   "cell_type": "code",
   "execution_count": 10,
   "metadata": {},
   "outputs": [
    {
     "data": {
      "text/plain": [
       "2"
      ]
     },
     "execution_count": 10,
     "metadata": {},
     "output_type": "execute_result"
    }
   ],
   "source": [
    "len(objects_data)"
   ]
  },
  {
   "cell_type": "code",
   "execution_count": 11,
   "metadata": {},
   "outputs": [],
   "source": [
    "result = objects_data.get('data').get('list')"
   ]
  },
  {
   "cell_type": "code",
   "execution_count": 12,
   "metadata": {},
   "outputs": [
    {
     "data": {
      "text/plain": [
       "list"
      ]
     },
     "execution_count": 12,
     "metadata": {},
     "output_type": "execute_result"
    }
   ],
   "source": [
    "type(result)"
   ]
  },
  {
   "cell_type": "code",
   "execution_count": 13,
   "metadata": {},
   "outputs": [
    {
     "data": {
      "text/plain": [
       "100"
      ]
     },
     "execution_count": 13,
     "metadata": {},
     "output_type": "execute_result"
    }
   ],
   "source": [
    "len(result)"
   ]
  },
  {
   "cell_type": "code",
   "execution_count": 14,
   "metadata": {},
   "outputs": [
    {
     "name": "stdout",
     "output_type": "stream",
     "text": [
      "{'hobjId': 39024, 'objId': 13383, 'developer': {'devId': 306, 'shortName': '2МЕН ГРУПП', 'fullName': '2МЕН ГРУПП', 'groupName': '2МЕН ГРУПП ДЕВЕЛОПМЕНТ', 'orgForm': {'id': 1, 'fullForm': 'Акционерное общество', 'shortForm': 'АО'}, 'companyGroup': 5776, 'devInn': '7701651356'}, 'rpdRegionCd': 72, 'objAddr': 'г Тюмень', 'objFloorMin': 4, 'objFloorMax': 20, 'objElemLivingCnt': 68, 'objReady100PercDt': '2022-12-31', 'objSquareLiving': 6296.55, 'objCompensFundFlg': 1, 'objProblemFlg': 0, 'latitude': 57.1519, 'longitude': 65.5536, 'problemFlag': 'NONE', 'siteStatus': 'Строящиеся', 'objGuarantyEscrowFlg': 0, 'residentialBuildings': 1, 'rpdNum': '72-000095', 'pdId': 28105, 'buildType': 'Жилое', 'objStatus': 0}\n"
     ]
    }
   ],
   "source": [
    "print(result[0])"
   ]
  },
  {
   "cell_type": "code",
   "execution_count": 15,
   "metadata": {},
   "outputs": [],
   "source": [
    "one_object = result[0]"
   ]
  },
  {
   "cell_type": "code",
   "execution_count": 16,
   "metadata": {},
   "outputs": [
    {
     "data": {
      "text/plain": [
       "dict"
      ]
     },
     "execution_count": 16,
     "metadata": {},
     "output_type": "execute_result"
    }
   ],
   "source": [
    "type(one_object)"
   ]
  },
  {
   "cell_type": "code",
   "execution_count": 17,
   "metadata": {},
   "outputs": [],
   "source": [
    "## Keys and Values"
   ]
  },
  {
   "cell_type": "code",
   "execution_count": 18,
   "metadata": {},
   "outputs": [
    {
     "data": {
      "text/plain": [
       "13383"
      ]
     },
     "execution_count": 18,
     "metadata": {},
     "output_type": "execute_result"
    }
   ],
   "source": [
    "one_object['objId']"
   ]
  },
  {
   "cell_type": "code",
   "execution_count": 19,
   "metadata": {},
   "outputs": [
    {
     "data": {
      "text/plain": [
       "{'devId': 306,\n",
       " 'shortName': '2МЕН ГРУПП',\n",
       " 'fullName': '2МЕН ГРУПП',\n",
       " 'groupName': '2МЕН ГРУПП ДЕВЕЛОПМЕНТ',\n",
       " 'orgForm': {'id': 1, 'fullForm': 'Акционерное общество', 'shortForm': 'АО'},\n",
       " 'companyGroup': 5776,\n",
       " 'devInn': '7701651356'}"
      ]
     },
     "execution_count": 19,
     "metadata": {},
     "output_type": "execute_result"
    }
   ],
   "source": [
    "one_object['developer']"
   ]
  },
  {
   "cell_type": "code",
   "execution_count": 20,
   "metadata": {},
   "outputs": [],
   "source": [
    "## objID developer.shortName objAddr latitude longitude"
   ]
  },
  {
   "cell_type": "code",
   "execution_count": 21,
   "metadata": {},
   "outputs": [
    {
     "data": {
      "text/plain": [
       "'2МЕН ГРУПП'"
      ]
     },
     "execution_count": 21,
     "metadata": {},
     "output_type": "execute_result"
    }
   ],
   "source": [
    "one_object['developer']['shortName']"
   ]
  },
  {
   "cell_type": "code",
   "execution_count": 22,
   "metadata": {},
   "outputs": [
    {
     "data": {
      "text/plain": [
       "'г Тюмень'"
      ]
     },
     "execution_count": 22,
     "metadata": {},
     "output_type": "execute_result"
    }
   ],
   "source": [
    "one_object['objAddr']"
   ]
  },
  {
   "cell_type": "code",
   "execution_count": 23,
   "metadata": {},
   "outputs": [
    {
     "data": {
      "text/plain": [
       "57.1519"
      ]
     },
     "execution_count": 23,
     "metadata": {},
     "output_type": "execute_result"
    }
   ],
   "source": [
    "one_object['latitude']"
   ]
  },
  {
   "cell_type": "code",
   "execution_count": 24,
   "metadata": {},
   "outputs": [
    {
     "data": {
      "text/plain": [
       "65.5536"
      ]
     },
     "execution_count": 24,
     "metadata": {},
     "output_type": "execute_result"
    }
   ],
   "source": [
    "one_object['longitude']"
   ]
  },
  {
   "cell_type": "code",
   "execution_count": null,
   "metadata": {},
   "outputs": [],
   "source": []
  },
  {
   "cell_type": "code",
   "execution_count": 25,
   "metadata": {},
   "outputs": [],
   "source": [
    "# Process all 100 objects"
   ]
  },
  {
   "cell_type": "code",
   "execution_count": 26,
   "metadata": {},
   "outputs": [],
   "source": [
    "result = objects_data.get('data').get('list')"
   ]
  },
  {
   "cell_type": "code",
   "execution_count": 27,
   "metadata": {},
   "outputs": [
    {
     "data": {
      "text/plain": [
       "100"
      ]
     },
     "execution_count": 27,
     "metadata": {},
     "output_type": "execute_result"
    }
   ],
   "source": [
    "len(result)"
   ]
  },
  {
   "cell_type": "code",
   "execution_count": 28,
   "metadata": {},
   "outputs": [],
   "source": [
    "objIds = []\n",
    "shortNames = []\n",
    "objAddrs = []\n",
    "latitudes = []\n",
    "longitudes = []"
   ]
  },
  {
   "cell_type": "code",
   "execution_count": 29,
   "metadata": {},
   "outputs": [],
   "source": [
    "for item in result:\n",
    "    objIds.append(item['objId'])\n",
    "    shortNames.append(item['developer']['shortName'])\n",
    "    objAddrs.append(item['objAddr'])\n",
    "    latitudes.append(item['latitude'])\n",
    "    longitudes.append(item['longitude'])"
   ]
  },
  {
   "cell_type": "code",
   "execution_count": 30,
   "metadata": {},
   "outputs": [
    {
     "data": {
      "text/plain": [
       "100"
      ]
     },
     "execution_count": 30,
     "metadata": {},
     "output_type": "execute_result"
    }
   ],
   "source": [
    "len(objIds)"
   ]
  },
  {
   "cell_type": "code",
   "execution_count": 31,
   "metadata": {},
   "outputs": [
    {
     "data": {
      "text/plain": [
       "100"
      ]
     },
     "execution_count": 31,
     "metadata": {},
     "output_type": "execute_result"
    }
   ],
   "source": [
    "len(longitudes)"
   ]
  },
  {
   "cell_type": "code",
   "execution_count": null,
   "metadata": {},
   "outputs": [],
   "source": []
  },
  {
   "cell_type": "code",
   "execution_count": 32,
   "metadata": {},
   "outputs": [],
   "source": [
    "df = pd.DataFrame()"
   ]
  },
  {
   "cell_type": "code",
   "execution_count": 33,
   "metadata": {},
   "outputs": [
    {
     "data": {
      "text/html": [
       "<div>\n",
       "<style scoped>\n",
       "    .dataframe tbody tr th:only-of-type {\n",
       "        vertical-align: middle;\n",
       "    }\n",
       "\n",
       "    .dataframe tbody tr th {\n",
       "        vertical-align: top;\n",
       "    }\n",
       "\n",
       "    .dataframe thead th {\n",
       "        text-align: right;\n",
       "    }\n",
       "</style>\n",
       "<table border=\"1\" class=\"dataframe\">\n",
       "  <thead>\n",
       "    <tr style=\"text-align: right;\">\n",
       "      <th></th>\n",
       "    </tr>\n",
       "  </thead>\n",
       "  <tbody>\n",
       "  </tbody>\n",
       "</table>\n",
       "</div>"
      ],
      "text/plain": [
       "Empty DataFrame\n",
       "Columns: []\n",
       "Index: []"
      ]
     },
     "execution_count": 33,
     "metadata": {},
     "output_type": "execute_result"
    }
   ],
   "source": [
    "df"
   ]
  },
  {
   "cell_type": "code",
   "execution_count": 34,
   "metadata": {},
   "outputs": [],
   "source": [
    "df['ObjectId'] = objIds\n",
    "df['ShortName'] = shortNames\n",
    "df['ObjectAddress'] = objAddrs\n",
    "df['Latitude'] = latitudes\n",
    "df['Longitude'] = longitudes"
   ]
  },
  {
   "cell_type": "code",
   "execution_count": 35,
   "metadata": {},
   "outputs": [
    {
     "data": {
      "text/plain": [
       "(100, 5)"
      ]
     },
     "execution_count": 35,
     "metadata": {},
     "output_type": "execute_result"
    }
   ],
   "source": [
    "df.shape"
   ]
  },
  {
   "cell_type": "code",
   "execution_count": 36,
   "metadata": {},
   "outputs": [
    {
     "data": {
      "text/html": [
       "<div>\n",
       "<style scoped>\n",
       "    .dataframe tbody tr th:only-of-type {\n",
       "        vertical-align: middle;\n",
       "    }\n",
       "\n",
       "    .dataframe tbody tr th {\n",
       "        vertical-align: top;\n",
       "    }\n",
       "\n",
       "    .dataframe thead th {\n",
       "        text-align: right;\n",
       "    }\n",
       "</style>\n",
       "<table border=\"1\" class=\"dataframe\">\n",
       "  <thead>\n",
       "    <tr style=\"text-align: right;\">\n",
       "      <th></th>\n",
       "      <th>ObjectId</th>\n",
       "      <th>ShortName</th>\n",
       "      <th>ObjectAddress</th>\n",
       "      <th>Latitude</th>\n",
       "      <th>Longitude</th>\n",
       "    </tr>\n",
       "  </thead>\n",
       "  <tbody>\n",
       "    <tr>\n",
       "      <th>0</th>\n",
       "      <td>13383</td>\n",
       "      <td>2МЕН ГРУПП</td>\n",
       "      <td>г Тюмень</td>\n",
       "      <td>57.1519</td>\n",
       "      <td>65.5536</td>\n",
       "    </tr>\n",
       "    <tr>\n",
       "      <th>1</th>\n",
       "      <td>13398</td>\n",
       "      <td>2МЕН ГРУПП</td>\n",
       "      <td>г Тюмень, ул Профсоюзная, д. 56</td>\n",
       "      <td>57.1519</td>\n",
       "      <td>65.5544</td>\n",
       "    </tr>\n",
       "    <tr>\n",
       "      <th>2</th>\n",
       "      <td>13397</td>\n",
       "      <td>2МЕН ГРУПП</td>\n",
       "      <td>г Тюмень, ул Профсоюзная, д. 56</td>\n",
       "      <td>57.1519</td>\n",
       "      <td>65.5544</td>\n",
       "    </tr>\n",
       "    <tr>\n",
       "      <th>3</th>\n",
       "      <td>13399</td>\n",
       "      <td>2МЕН ГРУПП</td>\n",
       "      <td>г Тюмень, ул Профсоюзная, д. 56</td>\n",
       "      <td>57.1519</td>\n",
       "      <td>65.5544</td>\n",
       "    </tr>\n",
       "    <tr>\n",
       "      <th>4</th>\n",
       "      <td>36912</td>\n",
       "      <td>CЗ СТРОЙРЕСУРС</td>\n",
       "      <td>г Ставрополь, ул Шпаковская, Доваторцев, д. 10...</td>\n",
       "      <td>45.0200</td>\n",
       "      <td>41.9346</td>\n",
       "    </tr>\n",
       "  </tbody>\n",
       "</table>\n",
       "</div>"
      ],
      "text/plain": [
       "   ObjectId       ShortName  \\\n",
       "0     13383      2МЕН ГРУПП   \n",
       "1     13398      2МЕН ГРУПП   \n",
       "2     13397      2МЕН ГРУПП   \n",
       "3     13399      2МЕН ГРУПП   \n",
       "4     36912  CЗ СТРОЙРЕСУРС   \n",
       "\n",
       "                                       ObjectAddress  Latitude  Longitude  \n",
       "0                                           г Тюмень   57.1519    65.5536  \n",
       "1                    г Тюмень, ул Профсоюзная, д. 56   57.1519    65.5544  \n",
       "2                    г Тюмень, ул Профсоюзная, д. 56   57.1519    65.5544  \n",
       "3                    г Тюмень, ул Профсоюзная, д. 56   57.1519    65.5544  \n",
       "4  г Ставрополь, ул Шпаковская, Доваторцев, д. 10...   45.0200    41.9346  "
      ]
     },
     "execution_count": 36,
     "metadata": {},
     "output_type": "execute_result"
    }
   ],
   "source": [
    "df.head()"
   ]
  },
  {
   "cell_type": "code",
   "execution_count": 38,
   "metadata": {},
   "outputs": [
    {
     "data": {
      "text/html": [
       "<div>\n",
       "<style scoped>\n",
       "    .dataframe tbody tr th:only-of-type {\n",
       "        vertical-align: middle;\n",
       "    }\n",
       "\n",
       "    .dataframe tbody tr th {\n",
       "        vertical-align: top;\n",
       "    }\n",
       "\n",
       "    .dataframe thead th {\n",
       "        text-align: right;\n",
       "    }\n",
       "</style>\n",
       "<table border=\"1\" class=\"dataframe\">\n",
       "  <thead>\n",
       "    <tr style=\"text-align: right;\">\n",
       "      <th></th>\n",
       "      <th>ObjectId</th>\n",
       "      <th>ShortName</th>\n",
       "      <th>ObjectAddress</th>\n",
       "      <th>Latitude</th>\n",
       "      <th>Longitude</th>\n",
       "    </tr>\n",
       "  </thead>\n",
       "  <tbody>\n",
       "    <tr>\n",
       "      <th>0</th>\n",
       "      <td>13383</td>\n",
       "      <td>2МЕН ГРУПП</td>\n",
       "      <td>г Тюмень</td>\n",
       "      <td>57.1519</td>\n",
       "      <td>65.5536</td>\n",
       "    </tr>\n",
       "    <tr>\n",
       "      <th>1</th>\n",
       "      <td>13398</td>\n",
       "      <td>2МЕН ГРУПП</td>\n",
       "      <td>г Тюмень, ул Профсоюзная, д. 56</td>\n",
       "      <td>57.1519</td>\n",
       "      <td>65.5544</td>\n",
       "    </tr>\n",
       "    <tr>\n",
       "      <th>2</th>\n",
       "      <td>13397</td>\n",
       "      <td>2МЕН ГРУПП</td>\n",
       "      <td>г Тюмень, ул Профсоюзная, д. 56</td>\n",
       "      <td>57.1519</td>\n",
       "      <td>65.5544</td>\n",
       "    </tr>\n",
       "    <tr>\n",
       "      <th>3</th>\n",
       "      <td>13399</td>\n",
       "      <td>2МЕН ГРУПП</td>\n",
       "      <td>г Тюмень, ул Профсоюзная, д. 56</td>\n",
       "      <td>57.1519</td>\n",
       "      <td>65.5544</td>\n",
       "    </tr>\n",
       "    <tr>\n",
       "      <th>4</th>\n",
       "      <td>36912</td>\n",
       "      <td>CЗ СТРОЙРЕСУРС</td>\n",
       "      <td>г Ставрополь, ул Шпаковская, Доваторцев, д. 10...</td>\n",
       "      <td>45.0200</td>\n",
       "      <td>41.9346</td>\n",
       "    </tr>\n",
       "    <tr>\n",
       "      <th>...</th>\n",
       "      <td>...</td>\n",
       "      <td>...</td>\n",
       "      <td>...</td>\n",
       "      <td>...</td>\n",
       "      <td>...</td>\n",
       "    </tr>\n",
       "    <tr>\n",
       "      <th>95</th>\n",
       "      <td>33228</td>\n",
       "      <td>АПРЕЛЕВКА С2</td>\n",
       "      <td>д Зверево, д. 134</td>\n",
       "      <td>55.5035</td>\n",
       "      <td>36.9352</td>\n",
       "    </tr>\n",
       "    <tr>\n",
       "      <th>96</th>\n",
       "      <td>33178</td>\n",
       "      <td>АПРЕЛЕВКА С2</td>\n",
       "      <td>д Зверево, д. 84</td>\n",
       "      <td>55.5055</td>\n",
       "      <td>36.9347</td>\n",
       "    </tr>\n",
       "    <tr>\n",
       "      <th>97</th>\n",
       "      <td>33158</td>\n",
       "      <td>АПРЕЛЕВКА С2</td>\n",
       "      <td>д Зверево, д. 64</td>\n",
       "      <td>55.4978</td>\n",
       "      <td>36.9284</td>\n",
       "    </tr>\n",
       "    <tr>\n",
       "      <th>98</th>\n",
       "      <td>33213</td>\n",
       "      <td>АПРЕЛЕВКА С2</td>\n",
       "      <td>д Зверево, д. 119</td>\n",
       "      <td>55.5055</td>\n",
       "      <td>36.9306</td>\n",
       "    </tr>\n",
       "    <tr>\n",
       "      <th>99</th>\n",
       "      <td>33134</td>\n",
       "      <td>АПРЕЛЕВКА С2</td>\n",
       "      <td>д Зверево, д. 40</td>\n",
       "      <td>55.5022</td>\n",
       "      <td>36.9291</td>\n",
       "    </tr>\n",
       "  </tbody>\n",
       "</table>\n",
       "<p>100 rows × 5 columns</p>\n",
       "</div>"
      ],
      "text/plain": [
       "    ObjectId       ShortName  \\\n",
       "0      13383      2МЕН ГРУПП   \n",
       "1      13398      2МЕН ГРУПП   \n",
       "2      13397      2МЕН ГРУПП   \n",
       "3      13399      2МЕН ГРУПП   \n",
       "4      36912  CЗ СТРОЙРЕСУРС   \n",
       "..       ...             ...   \n",
       "95     33228    АПРЕЛЕВКА С2   \n",
       "96     33178    АПРЕЛЕВКА С2   \n",
       "97     33158    АПРЕЛЕВКА С2   \n",
       "98     33213    АПРЕЛЕВКА С2   \n",
       "99     33134    АПРЕЛЕВКА С2   \n",
       "\n",
       "                                        ObjectAddress  Latitude  Longitude  \n",
       "0                                            г Тюмень   57.1519    65.5536  \n",
       "1                     г Тюмень, ул Профсоюзная, д. 56   57.1519    65.5544  \n",
       "2                     г Тюмень, ул Профсоюзная, д. 56   57.1519    65.5544  \n",
       "3                     г Тюмень, ул Профсоюзная, д. 56   57.1519    65.5544  \n",
       "4   г Ставрополь, ул Шпаковская, Доваторцев, д. 10...   45.0200    41.9346  \n",
       "..                                                ...       ...        ...  \n",
       "95                                  д Зверево, д. 134   55.5035    36.9352  \n",
       "96                                   д Зверево, д. 84   55.5055    36.9347  \n",
       "97                                   д Зверево, д. 64   55.4978    36.9284  \n",
       "98                                  д Зверево, д. 119   55.5055    36.9306  \n",
       "99                                   д Зверево, д. 40   55.5022    36.9291  \n",
       "\n",
       "[100 rows x 5 columns]"
      ]
     },
     "execution_count": 38,
     "metadata": {},
     "output_type": "execute_result"
    }
   ],
   "source": [
    "df.head(100)"
   ]
  },
  {
   "cell_type": "code",
   "execution_count": 39,
   "metadata": {},
   "outputs": [
    {
     "data": {
      "text/html": [
       "<div>\n",
       "<style scoped>\n",
       "    .dataframe tbody tr th:only-of-type {\n",
       "        vertical-align: middle;\n",
       "    }\n",
       "\n",
       "    .dataframe tbody tr th {\n",
       "        vertical-align: top;\n",
       "    }\n",
       "\n",
       "    .dataframe thead th {\n",
       "        text-align: right;\n",
       "    }\n",
       "</style>\n",
       "<table border=\"1\" class=\"dataframe\">\n",
       "  <thead>\n",
       "    <tr style=\"text-align: right;\">\n",
       "      <th></th>\n",
       "      <th>ObjectId</th>\n",
       "      <th>ShortName</th>\n",
       "      <th>ObjectAddress</th>\n",
       "      <th>Latitude</th>\n",
       "      <th>Longitude</th>\n",
       "    </tr>\n",
       "  </thead>\n",
       "  <tbody>\n",
       "    <tr>\n",
       "      <th>95</th>\n",
       "      <td>33228</td>\n",
       "      <td>АПРЕЛЕВКА С2</td>\n",
       "      <td>д Зверево, д. 134</td>\n",
       "      <td>55.5035</td>\n",
       "      <td>36.9352</td>\n",
       "    </tr>\n",
       "    <tr>\n",
       "      <th>96</th>\n",
       "      <td>33178</td>\n",
       "      <td>АПРЕЛЕВКА С2</td>\n",
       "      <td>д Зверево, д. 84</td>\n",
       "      <td>55.5055</td>\n",
       "      <td>36.9347</td>\n",
       "    </tr>\n",
       "    <tr>\n",
       "      <th>97</th>\n",
       "      <td>33158</td>\n",
       "      <td>АПРЕЛЕВКА С2</td>\n",
       "      <td>д Зверево, д. 64</td>\n",
       "      <td>55.4978</td>\n",
       "      <td>36.9284</td>\n",
       "    </tr>\n",
       "    <tr>\n",
       "      <th>98</th>\n",
       "      <td>33213</td>\n",
       "      <td>АПРЕЛЕВКА С2</td>\n",
       "      <td>д Зверево, д. 119</td>\n",
       "      <td>55.5055</td>\n",
       "      <td>36.9306</td>\n",
       "    </tr>\n",
       "    <tr>\n",
       "      <th>99</th>\n",
       "      <td>33134</td>\n",
       "      <td>АПРЕЛЕВКА С2</td>\n",
       "      <td>д Зверево, д. 40</td>\n",
       "      <td>55.5022</td>\n",
       "      <td>36.9291</td>\n",
       "    </tr>\n",
       "  </tbody>\n",
       "</table>\n",
       "</div>"
      ],
      "text/plain": [
       "    ObjectId     ShortName      ObjectAddress  Latitude  Longitude\n",
       "95     33228  АПРЕЛЕВКА С2  д Зверево, д. 134   55.5035    36.9352\n",
       "96     33178  АПРЕЛЕВКА С2   д Зверево, д. 84   55.5055    36.9347\n",
       "97     33158  АПРЕЛЕВКА С2   д Зверево, д. 64   55.4978    36.9284\n",
       "98     33213  АПРЕЛЕВКА С2  д Зверево, д. 119   55.5055    36.9306\n",
       "99     33134  АПРЕЛЕВКА С2   д Зверево, д. 40   55.5022    36.9291"
      ]
     },
     "execution_count": 39,
     "metadata": {},
     "output_type": "execute_result"
    }
   ],
   "source": [
    "df.tail()"
   ]
  },
  {
   "cell_type": "code",
   "execution_count": 40,
   "metadata": {},
   "outputs": [
    {
     "data": {
      "text/html": [
       "<div>\n",
       "<style scoped>\n",
       "    .dataframe tbody tr th:only-of-type {\n",
       "        vertical-align: middle;\n",
       "    }\n",
       "\n",
       "    .dataframe tbody tr th {\n",
       "        vertical-align: top;\n",
       "    }\n",
       "\n",
       "    .dataframe thead th {\n",
       "        text-align: right;\n",
       "    }\n",
       "</style>\n",
       "<table border=\"1\" class=\"dataframe\">\n",
       "  <thead>\n",
       "    <tr style=\"text-align: right;\">\n",
       "      <th></th>\n",
       "      <th>ObjectId</th>\n",
       "      <th>Latitude</th>\n",
       "      <th>Longitude</th>\n",
       "    </tr>\n",
       "  </thead>\n",
       "  <tbody>\n",
       "    <tr>\n",
       "      <th>count</th>\n",
       "      <td>100.000000</td>\n",
       "      <td>100.000000</td>\n",
       "      <td>100.000000</td>\n",
       "    </tr>\n",
       "    <tr>\n",
       "      <th>mean</th>\n",
       "      <td>31353.390000</td>\n",
       "      <td>53.298777</td>\n",
       "      <td>48.426468</td>\n",
       "    </tr>\n",
       "    <tr>\n",
       "      <th>std</th>\n",
       "      <td>10199.089288</td>\n",
       "      <td>4.433585</td>\n",
       "      <td>18.537429</td>\n",
       "    </tr>\n",
       "    <tr>\n",
       "      <th>min</th>\n",
       "      <td>8809.000000</td>\n",
       "      <td>43.579600</td>\n",
       "      <td>20.488400</td>\n",
       "    </tr>\n",
       "    <tr>\n",
       "      <th>25%</th>\n",
       "      <td>24035.750000</td>\n",
       "      <td>54.253600</td>\n",
       "      <td>36.933200</td>\n",
       "    </tr>\n",
       "    <tr>\n",
       "      <th>50%</th>\n",
       "      <td>33175.000000</td>\n",
       "      <td>55.041600</td>\n",
       "      <td>39.046900</td>\n",
       "    </tr>\n",
       "    <tr>\n",
       "      <th>75%</th>\n",
       "      <td>39175.250000</td>\n",
       "      <td>55.505100</td>\n",
       "      <td>61.277250</td>\n",
       "    </tr>\n",
       "    <tr>\n",
       "      <th>max</th>\n",
       "      <td>49511.000000</td>\n",
       "      <td>60.144900</td>\n",
       "      <td>83.681900</td>\n",
       "    </tr>\n",
       "  </tbody>\n",
       "</table>\n",
       "</div>"
      ],
      "text/plain": [
       "           ObjectId    Latitude   Longitude\n",
       "count    100.000000  100.000000  100.000000\n",
       "mean   31353.390000   53.298777   48.426468\n",
       "std    10199.089288    4.433585   18.537429\n",
       "min     8809.000000   43.579600   20.488400\n",
       "25%    24035.750000   54.253600   36.933200\n",
       "50%    33175.000000   55.041600   39.046900\n",
       "75%    39175.250000   55.505100   61.277250\n",
       "max    49511.000000   60.144900   83.681900"
      ]
     },
     "execution_count": 40,
     "metadata": {},
     "output_type": "execute_result"
    }
   ],
   "source": [
    "df.describe()"
   ]
  },
  {
   "cell_type": "code",
   "execution_count": null,
   "metadata": {},
   "outputs": [],
   "source": []
  },
  {
   "cell_type": "code",
   "execution_count": null,
   "metadata": {},
   "outputs": [],
   "source": []
  },
  {
   "cell_type": "code",
   "execution_count": 41,
   "metadata": {},
   "outputs": [],
   "source": [
    "## Convert to Excel file"
   ]
  },
  {
   "cell_type": "code",
   "execution_count": 42,
   "metadata": {},
   "outputs": [],
   "source": [
    "df.to_excel(\"homes.xlsx\")"
   ]
  },
  {
   "cell_type": "code",
   "execution_count": 43,
   "metadata": {},
   "outputs": [],
   "source": [
    "# Save in Pickle"
   ]
  },
  {
   "cell_type": "code",
   "execution_count": 44,
   "metadata": {},
   "outputs": [],
   "source": [
    "import pickle"
   ]
  },
  {
   "cell_type": "code",
   "execution_count": 45,
   "metadata": {},
   "outputs": [],
   "source": [
    "with open('homes.pickle', 'wb') as f:\n",
    "    pickle.dump(df, f)"
   ]
  },
  {
   "cell_type": "code",
   "execution_count": 46,
   "metadata": {},
   "outputs": [],
   "source": [
    "df.to_pickle('my_df.pickle')"
   ]
  },
  {
   "cell_type": "code",
   "execution_count": 47,
   "metadata": {},
   "outputs": [],
   "source": [
    "df2 = pd.read_pickle('my_df.pickle')"
   ]
  },
  {
   "cell_type": "code",
   "execution_count": 48,
   "metadata": {},
   "outputs": [
    {
     "data": {
      "text/html": [
       "<div>\n",
       "<style scoped>\n",
       "    .dataframe tbody tr th:only-of-type {\n",
       "        vertical-align: middle;\n",
       "    }\n",
       "\n",
       "    .dataframe tbody tr th {\n",
       "        vertical-align: top;\n",
       "    }\n",
       "\n",
       "    .dataframe thead th {\n",
       "        text-align: right;\n",
       "    }\n",
       "</style>\n",
       "<table border=\"1\" class=\"dataframe\">\n",
       "  <thead>\n",
       "    <tr style=\"text-align: right;\">\n",
       "      <th></th>\n",
       "      <th>ObjectId</th>\n",
       "      <th>ShortName</th>\n",
       "      <th>ObjectAddress</th>\n",
       "      <th>Latitude</th>\n",
       "      <th>Longitude</th>\n",
       "    </tr>\n",
       "  </thead>\n",
       "  <tbody>\n",
       "    <tr>\n",
       "      <th>0</th>\n",
       "      <td>13383</td>\n",
       "      <td>2МЕН ГРУПП</td>\n",
       "      <td>г Тюмень</td>\n",
       "      <td>57.1519</td>\n",
       "      <td>65.5536</td>\n",
       "    </tr>\n",
       "    <tr>\n",
       "      <th>1</th>\n",
       "      <td>13398</td>\n",
       "      <td>2МЕН ГРУПП</td>\n",
       "      <td>г Тюмень, ул Профсоюзная, д. 56</td>\n",
       "      <td>57.1519</td>\n",
       "      <td>65.5544</td>\n",
       "    </tr>\n",
       "    <tr>\n",
       "      <th>2</th>\n",
       "      <td>13397</td>\n",
       "      <td>2МЕН ГРУПП</td>\n",
       "      <td>г Тюмень, ул Профсоюзная, д. 56</td>\n",
       "      <td>57.1519</td>\n",
       "      <td>65.5544</td>\n",
       "    </tr>\n",
       "    <tr>\n",
       "      <th>3</th>\n",
       "      <td>13399</td>\n",
       "      <td>2МЕН ГРУПП</td>\n",
       "      <td>г Тюмень, ул Профсоюзная, д. 56</td>\n",
       "      <td>57.1519</td>\n",
       "      <td>65.5544</td>\n",
       "    </tr>\n",
       "    <tr>\n",
       "      <th>4</th>\n",
       "      <td>36912</td>\n",
       "      <td>CЗ СТРОЙРЕСУРС</td>\n",
       "      <td>г Ставрополь, ул Шпаковская, Доваторцев, д. 10...</td>\n",
       "      <td>45.0200</td>\n",
       "      <td>41.9346</td>\n",
       "    </tr>\n",
       "  </tbody>\n",
       "</table>\n",
       "</div>"
      ],
      "text/plain": [
       "   ObjectId       ShortName  \\\n",
       "0     13383      2МЕН ГРУПП   \n",
       "1     13398      2МЕН ГРУПП   \n",
       "2     13397      2МЕН ГРУПП   \n",
       "3     13399      2МЕН ГРУПП   \n",
       "4     36912  CЗ СТРОЙРЕСУРС   \n",
       "\n",
       "                                       ObjectAddress  Latitude  Longitude  \n",
       "0                                           г Тюмень   57.1519    65.5536  \n",
       "1                    г Тюмень, ул Профсоюзная, д. 56   57.1519    65.5544  \n",
       "2                    г Тюмень, ул Профсоюзная, д. 56   57.1519    65.5544  \n",
       "3                    г Тюмень, ул Профсоюзная, д. 56   57.1519    65.5544  \n",
       "4  г Ставрополь, ул Шпаковская, Доваторцев, д. 10...   45.0200    41.9346  "
      ]
     },
     "execution_count": 48,
     "metadata": {},
     "output_type": "execute_result"
    }
   ],
   "source": [
    "df2.head()"
   ]
  },
  {
   "cell_type": "code",
   "execution_count": null,
   "metadata": {},
   "outputs": [],
   "source": []
  },
  {
   "cell_type": "code",
   "execution_count": 49,
   "metadata": {},
   "outputs": [],
   "source": [
    "## SQL DataBase\n",
    "## MySQL MariaDB PostgreSQL ..."
   ]
  },
  {
   "cell_type": "code",
   "execution_count": null,
   "metadata": {},
   "outputs": [],
   "source": []
  },
  {
   "cell_type": "code",
   "execution_count": null,
   "metadata": {},
   "outputs": [],
   "source": []
  },
  {
   "cell_type": "code",
   "execution_count": 50,
   "metadata": {},
   "outputs": [],
   "source": [
    "## How to get pictures?"
   ]
  },
  {
   "cell_type": "code",
   "execution_count": 51,
   "metadata": {},
   "outputs": [],
   "source": [
    "# Для скачивания данных по определенному объекту, нужно добавить его id в конец строки запроса\n",
    "url = f'https://xn--80az8a.xn--d1aqf.xn--p1ai/%D1%81%D0%B5%D1%80%D0%B2%D0%B8%D1%81%D1%8B/api/object/13383'"
   ]
  },
  {
   "cell_type": "code",
   "execution_count": 52,
   "metadata": {},
   "outputs": [],
   "source": [
    "#res = requests.get(url)\n",
    "#res.json()"
   ]
  },
  {
   "cell_type": "code",
   "execution_count": null,
   "metadata": {},
   "outputs": [],
   "source": []
  },
  {
   "cell_type": "code",
   "execution_count": null,
   "metadata": {},
   "outputs": [],
   "source": []
  },
  {
   "cell_type": "code",
   "execution_count": 53,
   "metadata": {},
   "outputs": [],
   "source": [
    "## How many objects?"
   ]
  },
  {
   "cell_type": "code",
   "execution_count": 54,
   "metadata": {},
   "outputs": [],
   "source": [
    "url = f'https://xn--80az8a.xn--d1aqf.xn--p1ai/%D1%81%D0%B5%D1%80%D0%B2%D0%B8%D1%81%D1%8B/api/kn/object'\n",
    "res = requests.get(url)\n",
    "objects_data = res.json()\n",
    "result = objects_data.get('data').get('list')"
   ]
  },
  {
   "cell_type": "code",
   "execution_count": 55,
   "metadata": {},
   "outputs": [
    {
     "data": {
      "text/plain": [
       "10"
      ]
     },
     "execution_count": 55,
     "metadata": {},
     "output_type": "execute_result"
    }
   ],
   "source": [
    "len(result) ## ?????"
   ]
  },
  {
   "cell_type": "code",
   "execution_count": 56,
   "metadata": {},
   "outputs": [
    {
     "name": "stdout",
     "output_type": "stream",
     "text": [
      "[{'hobjId': 29896, 'objId': 7, 'developer': {'devId': 62, 'shortName': 'ОДИС', 'fullName': 'ОДИС', 'groupName': 'КОРТРОС', 'orgForm': {'id': 4, 'fullForm': 'Общество с ограниченной ответственностью', 'shortForm': 'ООО'}, 'companyGroup': 5654, 'devInn': '7703533453'}, 'rpdRegionCd': 77, 'objAddr': 'г Москва, район Теплый стан, ул Профсоюзная, вл. 128', 'objCommercNm': '«ДОМ №128», «ДОМ 128»', 'objFloorMin': 21, 'objFloorMax': 21, 'objElemLivingCnt': 0, 'objReady100PercDt': '2019-04-09', 'objSquareLiving': 0.0, 'objCompensFundFlg': 0, 'objProblemFlg': 0, 'latitude': 55.6302, 'longitude': 37.5146, 'problemFlag': 'NONE', 'siteStatus': 'Сданные', 'objGuarantyEscrowFlg': 0, 'residentialBuildings': 0, 'rpdNum': '77-000543', 'pdId': 52, 'buildType': 'Нежилое', 'objStatus': 2}, {'hobjId': 14145, 'objId': 8, 'developer': {'devId': 2, 'shortName': 'ЛЭНД ЮГ', 'fullName': 'ЛЭНД ЮГ', 'groupName': 'Гранель', 'orgForm': {'id': 4, 'fullForm': 'Общество с ограниченной ответственностью', 'shortForm': 'ООО'}, 'companyGroup': 5848, 'devInn': '5003081800'}, 'rpdRegionCd': 77, 'objAddr': 'д Столбово, д. 2', 'objCommercNm': 'ЖК \"Москвичка\"', 'objFloorMin': 2, 'objFloorMax': 15, 'objElemLivingCnt': 1553, 'objReady100PercDt': '2019-12-12', 'objSquareLiving': 50459.71, 'objCompensFundFlg': 0, 'objProblemFlg': 0, 'latitude': 55.5623, 'longitude': 37.4722, 'problemFlag': 'NONE', 'siteStatus': 'Сданные', 'objGuarantyEscrowFlg': 0, 'residentialBuildings': 1, 'rpdNum': '77-000544', 'pdId': 14, 'buildType': 'Жилое', 'objStatus': 2}, {'hobjId': 3804, 'objId': 9, 'developer': {'devId': 8, 'shortName': 'СЗГРАНЕЛЬ СТРОЙ', 'fullName': 'СПЕЦИАЛИЗИРОВАННЫЙ ЗАСТРОЙЩИКГРАНЕЛЬ СТРОЙ', 'groupName': 'Гранель', 'orgForm': {'id': 4, 'fullForm': 'Общество с ограниченной ответственностью', 'shortForm': 'ООО'}, 'companyGroup': 5848, 'devInn': '5044094862'}, 'rpdRegionCd': 50, 'objAddr': 'ГОРОД БАЛАШИХА, УЛИЦА ЛУКИНО, вл. 51', 'objCommercNm': 'ЖК \"Новая Алексеевская роща\"', 'objElemLivingCnt': 108, 'objReady100PercDt': '2018-12-14', 'objSquareLiving': 4312.76, 'objCompensFundFlg': 0, 'objProblemFlg': 0, 'latitude': 55.8365, 'longitude': 37.9374, 'problemFlag': 'NONE', 'siteStatus': 'Сданные', 'objGuarantyEscrowFlg': 0, 'residentialBuildings': 1, 'rpdNum': '50-000708', 'pdId': 86, 'buildType': 'Жилое', 'objStatus': 2}, {'hobjId': 13970, 'objId': 10, 'developer': {'devId': 2, 'shortName': 'ЛЭНД ЮГ', 'fullName': 'ЛЭНД ЮГ', 'groupName': 'Гранель', 'orgForm': {'id': 4, 'fullForm': 'Общество с ограниченной ответственностью', 'shortForm': 'ООО'}, 'companyGroup': 5848, 'devInn': '5003081800'}, 'rpdRegionCd': 77, 'objAddr': 'п Москва, д. 2, корпус 4', 'objElemLivingCnt': 1376, 'objReady100PercDt': '2019-03-25', 'objSquareLiving': 43524.2, 'objCompensFundFlg': 0, 'objProblemFlg': 0, 'latitude': 55.5623, 'longitude': 37.4722, 'problemFlag': 'NONE', 'siteStatus': 'Сданные', 'objGuarantyEscrowFlg': 0, 'residentialBuildings': 1, 'rpdNum': '77-000546', 'pdId': 92, 'buildType': 'Жилое', 'objStatus': 2}, {'hobjId': 14315, 'objId': 11, 'developer': {'devId': 2, 'shortName': 'ЛЭНД ЮГ', 'fullName': 'ЛЭНД ЮГ', 'groupName': 'Гранель', 'orgForm': {'id': 4, 'fullForm': 'Общество с ограниченной ответственностью', 'shortForm': 'ООО'}, 'companyGroup': 5848, 'devInn': '5003081800'}, 'rpdRegionCd': 77, 'objAddr': 'поселение Сосенское, вблизи д. Столбово, д. 2, корпус 6', 'objElemLivingCnt': 709, 'objReady100PercDt': '2018-12-12', 'objSquareLiving': 22237.4, 'objCompensFundFlg': 0, 'objProblemFlg': 0, 'latitude': 55.5623, 'longitude': 37.4722, 'problemFlag': 'NONE', 'siteStatus': 'Сданные', 'objGuarantyEscrowFlg': 0, 'residentialBuildings': 1, 'rpdNum': '77-000545', 'pdId': 102, 'buildType': 'Жилое', 'objStatus': 2}, {'hobjId': 28170, 'objId': 18, 'developer': {'devId': 37, 'shortName': 'МАРШАЛГЕНСТРОЙ', 'fullName': 'МАРШАЛГЕНСТРОЙ', 'groupName': 'Маршал', 'orgForm': {'id': 4, 'fullForm': 'Общество с ограниченной ответственностью', 'shortForm': 'ООО'}, 'companyGroup': 5840, 'devInn': '6658481230'}, 'rpdRegionCd': 66, 'objAddr': 'город Арамиль, улица Космонавтов, д. 15', 'objCommercNm': 'ЖК \"Павловский\"', 'objFloorMin': 1, 'objFloorMax': 12, 'objElemLivingCnt': 147, 'objReady100PercDt': '2018-12-24', 'objSquareLiving': 5138.4, 'objCompensFundFlg': 0, 'objProblemFlg': 0, 'latitude': 56.6952, 'longitude': 60.798, 'problemFlag': 'NONE', 'siteStatus': 'Сданные', 'objGuarantyEscrowFlg': 0, 'residentialBuildings': 1, 'rpdNum': '66-000262', 'pdId': 29, 'buildType': 'Жилое', 'objStatus': 2}, {'hobjId': 13342, 'objId': 21, 'developer': {'devId': 95, 'shortName': 'СТРОИТЕЛЬНЫЕ ИНВЕСТИЦИИ', 'fullName': 'СТРОИТЕЛЬНЫЕ ИНВЕСТИЦИИ', 'groupName': 'КОРТРОС', 'orgForm': {'id': 1, 'fullForm': 'Акционерное общество', 'shortForm': 'АО'}, 'companyGroup': 5654, 'devInn': '6658202991'}, 'rpdRegionCd': 77, 'objAddr': 'г Москва, Проспект 40 лет Октября, вл. 36', 'objCommercNm': 'ЛЮБЛИНСКИЙ Дом у сквера', 'objFloorMin': 13, 'objFloorMax': 15, 'objElemLivingCnt': 279, 'objReady100PercDt': '2018-12-18', 'objSquareLiving': 13850.87, 'objCompensFundFlg': 0, 'objProblemFlg': 0, 'latitude': 55.6736, 'longitude': 37.7454, 'problemFlag': 'NONE', 'siteStatus': 'Сданные', 'objGuarantyEscrowFlg': 0, 'residentialBuildings': 1, 'rpdNum': '77-000542', 'pdId': 117, 'buildType': 'Жилое', 'objStatus': 2}, {'hobjId': 11358, 'objId': 22, 'developer': {'devId': 185, 'shortName': 'СЗ ННДК', 'fullName': 'СПЕЦИАЛИЗИРОВАННЫЙ ЗАСТРОЙЩИК НИЖЕГОРОДСКАЯ ДЕВЕЛОПЕРСКАЯ КОМПАНИЯ', 'groupName': 'ННДК', 'orgForm': {'id': 4, 'fullForm': 'Общество с ограниченной ответственностью', 'shortForm': 'ООО'}, 'companyGroup': 8589, 'devInn': '5262274819'}, 'rpdRegionCd': 52, 'objAddr': 'г Нижний Новгород, район Сормовский, улица Лобачевского', 'objCommercNm': 'Жилой комплекс \"Циолковский\", ЖК \"Циолковский\"', 'objFloorMin': 16, 'objFloorMax': 16, 'objElemLivingCnt': 105, 'objReady100PercDt': '2019-01-17', 'objSquareLiving': 6515.7, 'objCompensFundFlg': 0, 'objProblemFlg': 0, 'latitude': 56.3386, 'longitude': 43.843, 'complexShortName': 'Циолковский', 'problemFlag': 'NONE', 'siteStatus': 'Сданные', 'objGuarantyEscrowFlg': 0, 'residentialBuildings': 1, 'rpdNum': '52-000169', 'pdId': 146, 'buildType': 'Жилое', 'objStatus': 2}, {'hobjId': 25322, 'objId': 23, 'developer': {'devId': 203, 'shortName': 'ГРАНЕЛЬ', 'fullName': 'ГРАНЕЛЬ', 'groupName': 'Гранель', 'orgForm': {'id': 4, 'fullForm': 'Общество с ограниченной ответственностью', 'shortForm': 'ООО'}, 'companyGroup': 5848, 'devInn': '5018161287'}, 'rpdRegionCd': 50, 'objAddr': 'сельское поселение Булатниковское, вблизи дер. Лопатино, д. 16.1', 'objCommercNm': 'ЖК \"Государев дом\"', 'objFloorMin': 10, 'objFloorMax': 10, 'objElemLivingCnt': 199, 'objReady100PercDt': '2018-09-10', 'objSquareLiving': 5748.04, 'objCompensFundFlg': 0, 'objProblemFlg': 0, 'latitude': 55.5285, 'longitude': 37.6464, 'problemFlag': 'NONE', 'siteStatus': 'Сданные', 'objGuarantyEscrowFlg': 0, 'residentialBuildings': 1, 'rpdNum': '50-000688', 'pdId': 182, 'buildType': 'Жилое', 'objStatus': 2}, {'hobjId': 19532, 'objId': 26, 'developer': {'devId': 138, 'shortName': 'СЗ РУС', 'fullName': 'СПЕЦИАЛИЗИРОВАННЫЙ ЗАСТРОЙЩИК РЕГИОНАЛЬНОЕ УПРАВЛЕНИЕ СТРОИТЕЛЬСТВА', 'groupName': 'Региональное управление строительства', 'orgForm': {'id': 1, 'fullForm': 'Акционерное общество', 'shortForm': 'АО'}, 'companyGroup': 6931, 'devInn': '7530008329'}, 'rpdRegionCd': 75, 'objAddr': 'город Чита, микрорайон Северный, д. 72', 'objFloorMin': 11, 'objFloorMax': 11, 'objElemLivingCnt': 87, 'objReady100PercDt': '2018-12-21', 'objSquareLiving': 4823.2, 'objCompensFundFlg': 0, 'objProblemFlg': 0, 'latitude': 52.0765, 'longitude': 113.4865, 'problemFlag': 'NONE', 'siteStatus': 'Сданные', 'objGuarantyEscrowFlg': 0, 'residentialBuildings': 1, 'rpdNum': '75-000030', 'pdId': 111, 'buildType': 'Жилое', 'objStatus': 2}]\n"
     ]
    }
   ],
   "source": [
    "print(result)"
   ]
  },
  {
   "cell_type": "code",
   "execution_count": null,
   "metadata": {},
   "outputs": [],
   "source": []
  }
 ],
 "metadata": {
  "colab": {
   "provenance": []
  },
  "kernelspec": {
   "display_name": "Python 3 (ipykernel)",
   "language": "python",
   "name": "python3"
  },
  "language_info": {
   "codemirror_mode": {
    "name": "ipython",
    "version": 3
   },
   "file_extension": ".py",
   "mimetype": "text/x-python",
   "name": "python",
   "nbconvert_exporter": "python",
   "pygments_lexer": "ipython3",
   "version": "3.9.13"
  }
 },
 "nbformat": 4,
 "nbformat_minor": 1
}
