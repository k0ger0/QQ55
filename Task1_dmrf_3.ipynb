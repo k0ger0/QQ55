{
 "cells": [
  {
   "cell_type": "code",
   "execution_count": null,
   "id": "36e2f415",
   "metadata": {},
   "outputs": [],
   "source": []
  },
  {
   "cell_type": "code",
   "execution_count": 31,
   "id": "d6cab9c7",
   "metadata": {},
   "outputs": [],
   "source": [
    "### Написать скрипт, который скачивает фотографии всех строящихся объектов с сайта \"наш.дом.рф\""
   ]
  },
  {
   "cell_type": "code",
   "execution_count": 32,
   "id": "27ed8c4a",
   "metadata": {},
   "outputs": [],
   "source": [
    "import requests"
   ]
  },
  {
   "cell_type": "code",
   "execution_count": 33,
   "id": "c07dc772",
   "metadata": {},
   "outputs": [],
   "source": [
    "offset_ = 1\n",
    "limit_ = 100\n",
    "url = f'https://xn--80az8a.xn--d1aqf.xn--p1ai/%D1%81%D0%B5%D1%80%D0%B2%D0%B8%D1%81%D1%8B/api/kn/object?offset={offset_}&limit={limit_}&sortField=devId.devShortCleanNm&sortType=asc&objStatus=0'\n",
    "res = requests.get(url)\n",
    "objects_data = res.json()"
   ]
  },
  {
   "cell_type": "code",
   "execution_count": 34,
   "id": "802caf47",
   "metadata": {},
   "outputs": [
    {
     "data": {
      "text/plain": [
       "[13383, 13398, 13397, 13399, 36912, 10891, 8809, 8810, 39176, 39175]"
      ]
     },
     "execution_count": 34,
     "metadata": {},
     "output_type": "execute_result"
    }
   ],
   "source": [
    "objects_list = objects_data.get('data').get('list')\n",
    "objids = [x.get('objId') for x in objects_list]\n",
    "objids[:10]"
   ]
  },
  {
   "cell_type": "code",
   "execution_count": 35,
   "id": "30f3c66a",
   "metadata": {},
   "outputs": [
    {
     "data": {
      "text/plain": [
       "100"
      ]
     },
     "execution_count": 35,
     "metadata": {},
     "output_type": "execute_result"
    }
   ],
   "source": [
    "len(objids)"
   ]
  },
  {
   "cell_type": "code",
   "execution_count": 36,
   "id": "d07e6276",
   "metadata": {},
   "outputs": [],
   "source": [
    "# Для скачивания данных по определенному объекту, нужно добавить его id в конец строки запроса\n",
    "url = f'https://xn--80az8a.xn--d1aqf.xn--p1ai/%D1%81%D0%B5%D1%80%D0%B2%D0%B8%D1%81%D1%8B/api/object/13383'"
   ]
  },
  {
   "cell_type": "code",
   "execution_count": 37,
   "id": "0c851c1e",
   "metadata": {},
   "outputs": [
    {
     "data": {
      "text/plain": [
       "{'data': {'id': 13383,\n",
       "  'hobjId': 39024,\n",
       "  'pdId': 28105,\n",
       "  'developer': {'devId': 306,\n",
       "   'devShortCleanNm': '2МЕН ГРУПП',\n",
       "   'devShortNm': '2МЕН ГРУПП',\n",
       "   'devFullCleanNm': '2МЕН ГРУПП',\n",
       "   'problObjCnt': 0,\n",
       "   'buildObjCnt': 5,\n",
       "   'comissObjCnt': 0,\n",
       "   'regRegionDesc': 'Тюменская область',\n",
       "   'devPhoneNum': '+7(345)279-18-88',\n",
       "   'devSite': '2mengroup.ru',\n",
       "   'devEmail': 'info@2mengroup.ru',\n",
       "   'devInn': '7701651356',\n",
       "   'devOgrn': '1067746424899',\n",
       "   'devKpp': '720301001',\n",
       "   'devLegalAddr': 'Тюменская область, город Тюмень, улица Комсомольская дом 75/5',\n",
       "   'devFactAddr': 'Тюменская область, город Тюмень, улица Комсомольская 75/5',\n",
       "   'lastRpdId': 667500,\n",
       "   'fundGuarantyFlg': 1,\n",
       "   'devOrgRegRegionCd': 72,\n",
       "   'devEmplMainFullNm': 'Киселев Сергей Михайлович',\n",
       "   'developerGroupName': '2МЕН ГРУПП ДЕВЕЛОПМЕНТ',\n",
       "   'orgForm': {'id': 1, 'fullForm': 'Акционерное общество', 'shortForm': 'АО'},\n",
       "   'companyGroupId': 5776,\n",
       "   'objGuarantyEscrowFlg': 0,\n",
       "   'govFundFlg': 0},\n",
       "  'region': 72,\n",
       "  'address': 'г Тюмень',\n",
       "  'floorMin': 4,\n",
       "  'floorMax': 20,\n",
       "  'objElemLivingCnt': 68,\n",
       "  'objReady100PercDt': '2022-12-31',\n",
       "  'wallMaterialShortDesc': 'Другое',\n",
       "  'objLkFinishTypeDesc': 'По желанию заказчика',\n",
       "  'objLkFreePlanDesc': 'Есть',\n",
       "  'objElemParkingCnt': 31,\n",
       "  'objSquareLiving': 6296.55,\n",
       "  'rpdNum': '72-000095',\n",
       "  'rpdPdfLink': 'https://xn--80az8a.xn--d1aqf.xn--p1ai/api/ext/file/52368911-c020-446c-acaf-1e4028460a64',\n",
       "  'rpdIssueDttm': '09-12-2022 15:05',\n",
       "  'objLkLatitude': '57.1519',\n",
       "  'objLkLongitude': '65.5536',\n",
       "  'objCompensFundFlg': 1,\n",
       "  'objProblemFlg': 0,\n",
       "  'objLkClassDesc': 'Элитный',\n",
       "  'loadDttm': '15-12-2022 01:22',\n",
       "  'photoRenderDTO': [{'objId': 13383,\n",
       "    'pdId': 28105,\n",
       "    'rpdId': 667480,\n",
       "    'devId': 306,\n",
       "    'ordNum': 1,\n",
       "    'objRenderPhotoSize': 1433738,\n",
       "    'objRenderPhotoUrl': 'https://xn--80az8a.xn--d1aqf.xn--p1ai/api/ext/file/7c1ce108-aa51-45c2-acfa-3091f6bf7e54',\n",
       "    'objRenderPhotoDttm': '12-05-2021 16:56',\n",
       "    'objRenderPhotoHiddenFlg': 0,\n",
       "    'objRenderPhotoNm': 'IMG_20210512_093657.jpg',\n",
       "    'objReadyDesc': 'Строится',\n",
       "    'objBuildTypeShortDesc': 'Жилое',\n",
       "    'knFlg': 1,\n",
       "    'loadDttm': '15-12-2022 01:05'},\n",
       "   {'objId': 13383,\n",
       "    'pdId': 28105,\n",
       "    'rpdId': 667480,\n",
       "    'devId': 306,\n",
       "    'ordNum': 2,\n",
       "    'objRenderPhotoSize': 1304772,\n",
       "    'objRenderPhotoUrl': 'https://xn--80az8a.xn--d1aqf.xn--p1ai/api/ext/file/cf350104-3afa-40e8-86e1-212da5c99a9a',\n",
       "    'objRenderPhotoDttm': '12-05-2021 16:56',\n",
       "    'objRenderPhotoHiddenFlg': 0,\n",
       "    'objRenderPhotoNm': 'IMG_20210512_0937271.jpg',\n",
       "    'objReadyDesc': 'Строится',\n",
       "    'objBuildTypeShortDesc': 'Жилое',\n",
       "    'knFlg': 1,\n",
       "    'loadDttm': '15-12-2022 01:05'},\n",
       "   {'objId': 13383,\n",
       "    'pdId': 28105,\n",
       "    'rpdId': 667480,\n",
       "    'devId': 306,\n",
       "    'ordNum': 3,\n",
       "    'objRenderPhotoSize': 1351679,\n",
       "    'objRenderPhotoUrl': 'https://xn--80az8a.xn--d1aqf.xn--p1ai/api/ext/file/80422003-fc35-43f2-9174-de241b92bf1d',\n",
       "    'objRenderPhotoDttm': '12-05-2021 16:56',\n",
       "    'objRenderPhotoHiddenFlg': 0,\n",
       "    'objRenderPhotoNm': 'IMG_20210512_0938052.jpg',\n",
       "    'objReadyDesc': 'Строится',\n",
       "    'objBuildTypeShortDesc': 'Жилое',\n",
       "    'knFlg': 1,\n",
       "    'loadDttm': '15-12-2022 01:05'},\n",
       "   {'objId': 13383,\n",
       "    'pdId': 28105,\n",
       "    'rpdId': 667480,\n",
       "    'devId': 306,\n",
       "    'ordNum': 4,\n",
       "    'objRenderPhotoSize': 1472991,\n",
       "    'objRenderPhotoUrl': 'https://xn--80az8a.xn--d1aqf.xn--p1ai/api/ext/file/f70dc8e2-776f-4405-8f6f-d410c0061adf',\n",
       "    'objRenderPhotoDttm': '12-05-2021 16:56',\n",
       "    'objRenderPhotoHiddenFlg': 0,\n",
       "    'objRenderPhotoNm': 'IMG_20210512_0938223.jpg',\n",
       "    'objReadyDesc': 'Строится',\n",
       "    'objBuildTypeShortDesc': 'Жилое',\n",
       "    'knFlg': 1,\n",
       "    'loadDttm': '15-12-2022 01:05'},\n",
       "   {'objId': 13383,\n",
       "    'pdId': 28105,\n",
       "    'rpdId': 667480,\n",
       "    'devId': 306,\n",
       "    'ordNum': 5,\n",
       "    'objRenderPhotoSize': 1063993,\n",
       "    'objRenderPhotoUrl': 'https://xn--80az8a.xn--d1aqf.xn--p1ai/api/ext/file/ffd2a110-55a5-45c0-9bc1-61e146547df8',\n",
       "    'objRenderPhotoDttm': '12-05-2021 16:56',\n",
       "    'objRenderPhotoHiddenFlg': 0,\n",
       "    'objRenderPhotoNm': 'IMG_20210512_0940044.jpg',\n",
       "    'objReadyDesc': 'Строится',\n",
       "    'objBuildTypeShortDesc': 'Жилое',\n",
       "    'knFlg': 1,\n",
       "    'loadDttm': '15-12-2022 01:05'},\n",
       "   {'objId': 13383,\n",
       "    'pdId': 28105,\n",
       "    'rpdId': 667480,\n",
       "    'devId': 306,\n",
       "    'ordNum': 6,\n",
       "    'objRenderPhotoSize': 1034002,\n",
       "    'objRenderPhotoUrl': 'https://xn--80az8a.xn--d1aqf.xn--p1ai/api/ext/file/4c2881c9-a6da-4235-8faa-2f74c5970837',\n",
       "    'objRenderPhotoDttm': '12-05-2021 16:56',\n",
       "    'objRenderPhotoHiddenFlg': 0,\n",
       "    'objRenderPhotoNm': 'IMG_20210512_0940155.jpg',\n",
       "    'objReadyDesc': 'Строится',\n",
       "    'objBuildTypeShortDesc': 'Жилое',\n",
       "    'knFlg': 1,\n",
       "    'loadDttm': '15-12-2022 01:05'},\n",
       "   {'objId': 13383,\n",
       "    'pdId': 28105,\n",
       "    'rpdId': 667480,\n",
       "    'devId': 306,\n",
       "    'ordNum': 7,\n",
       "    'objRenderPhotoSize': 1169206,\n",
       "    'objRenderPhotoUrl': 'https://xn--80az8a.xn--d1aqf.xn--p1ai/api/ext/file/3c35f14c-f16c-46cc-a9a8-c3e828a514b0',\n",
       "    'objRenderPhotoDttm': '12-05-2021 16:56',\n",
       "    'objRenderPhotoHiddenFlg': 0,\n",
       "    'objRenderPhotoNm': 'IMG_20210512_0951216.jpg',\n",
       "    'objReadyDesc': 'Строится',\n",
       "    'objBuildTypeShortDesc': 'Жилое',\n",
       "    'knFlg': 1,\n",
       "    'loadDttm': '15-12-2022 01:05'}],\n",
       "  'objGuarantyEscrowFlg': 0,\n",
       "  'objectType': 'normal',\n",
       "  'miniUrl': 'https://xn--80az8a.xn--d1aqf.xn--p1ai/api/ext/file/0dca6482-02ba-4d56-a861-7a17db04c957',\n",
       "  'residentialBuildings': 1,\n",
       "  'newBuildingId': 39024,\n",
       "  'objFloorCnt': 20,\n",
       "  'objFlatCnt': 68,\n",
       "  'objFlatSq': '6296.55',\n",
       "  'objNonlivElemCnt': 10,\n",
       "  'quartography': {'objLivElem1KCnt': 13,\n",
       "   'objLivElem2KCnt': 21,\n",
       "   'objLivElem3KCnt': 34,\n",
       "   'objLivElem4KCnt': 0,\n",
       "   'objLivElemCnt': 68,\n",
       "   'objLivElemEntrCnt': 1,\n",
       "   'objLivElemEntrFloorAvg': 6},\n",
       "  'objStatus': 0,\n",
       "  'isAvailableWantLiveHere': True,\n",
       "  'objTransferPlanDt': '28-02-2023 12:00',\n",
       "  'objLivCeilingHeight': '2,8',\n",
       "  'objInfrstrBicycleLaneFlg': 0,\n",
       "  'objInfrstrPlaygrndCnt': 1,\n",
       "  'objInfrstrSportGroundCnt': 1,\n",
       "  'objInfrstrTrashAreaCnt': 1,\n",
       "  'objInfrstrObjPrkngCnt': 0,\n",
       "  'objInfrstrNotObjPrkngCnt': 11,\n",
       "  'objInfrstrRampFlg': 1,\n",
       "  'objInfrstrCurbLoweringFlg': 1,\n",
       "  'objElevatorWheelchairCnt': 0,\n",
       "  'objElevatorPassengerCnt': 5,\n",
       "  'objElevatorCargoCnt': 1,\n",
       "  'objElevatorCargoPassengerCnt': 7,\n",
       "  'soldOutPerc': 0.406984777378088,\n",
       "  'objPriceAvg': 53109,\n",
       "  'generalContractorNm': 'ООО Транспромжилстрой-2005 (ИНН: 7204097730)',\n",
       "  'nonlivFirstFloor': 1,\n",
       "  'objectTransportInfo': [],\n",
       "  'conclusion': False,\n",
       "  'objLkSaleDepEmail': 'info@2mengroup.ru',\n",
       "  'objGreenHouseFlg': 0,\n",
       "  'objEnergyEffShortDesc': 'B',\n",
       "  'infrastructureIndexValue': 10},\n",
       " 'errcode': '0'}"
      ]
     },
     "execution_count": 37,
     "metadata": {},
     "output_type": "execute_result"
    }
   ],
   "source": [
    "res = requests.get(url)\n",
    "res.json()"
   ]
  },
  {
   "cell_type": "code",
   "execution_count": 38,
   "id": "3f4b5971",
   "metadata": {},
   "outputs": [],
   "source": [
    "res = requests.get(url)\n",
    "oneobject = res.json()"
   ]
  },
  {
   "cell_type": "code",
   "execution_count": 39,
   "id": "c33758e6",
   "metadata": {},
   "outputs": [
    {
     "data": {
      "text/plain": [
       "[{'objId': 13383,\n",
       "  'pdId': 28105,\n",
       "  'rpdId': 667480,\n",
       "  'devId': 306,\n",
       "  'ordNum': 1,\n",
       "  'objRenderPhotoSize': 1433738,\n",
       "  'objRenderPhotoUrl': 'https://xn--80az8a.xn--d1aqf.xn--p1ai/api/ext/file/7c1ce108-aa51-45c2-acfa-3091f6bf7e54',\n",
       "  'objRenderPhotoDttm': '12-05-2021 16:56',\n",
       "  'objRenderPhotoHiddenFlg': 0,\n",
       "  'objRenderPhotoNm': 'IMG_20210512_093657.jpg',\n",
       "  'objReadyDesc': 'Строится',\n",
       "  'objBuildTypeShortDesc': 'Жилое',\n",
       "  'knFlg': 1,\n",
       "  'loadDttm': '15-12-2022 01:05'},\n",
       " {'objId': 13383,\n",
       "  'pdId': 28105,\n",
       "  'rpdId': 667480,\n",
       "  'devId': 306,\n",
       "  'ordNum': 2,\n",
       "  'objRenderPhotoSize': 1304772,\n",
       "  'objRenderPhotoUrl': 'https://xn--80az8a.xn--d1aqf.xn--p1ai/api/ext/file/cf350104-3afa-40e8-86e1-212da5c99a9a',\n",
       "  'objRenderPhotoDttm': '12-05-2021 16:56',\n",
       "  'objRenderPhotoHiddenFlg': 0,\n",
       "  'objRenderPhotoNm': 'IMG_20210512_0937271.jpg',\n",
       "  'objReadyDesc': 'Строится',\n",
       "  'objBuildTypeShortDesc': 'Жилое',\n",
       "  'knFlg': 1,\n",
       "  'loadDttm': '15-12-2022 01:05'},\n",
       " {'objId': 13383,\n",
       "  'pdId': 28105,\n",
       "  'rpdId': 667480,\n",
       "  'devId': 306,\n",
       "  'ordNum': 3,\n",
       "  'objRenderPhotoSize': 1351679,\n",
       "  'objRenderPhotoUrl': 'https://xn--80az8a.xn--d1aqf.xn--p1ai/api/ext/file/80422003-fc35-43f2-9174-de241b92bf1d',\n",
       "  'objRenderPhotoDttm': '12-05-2021 16:56',\n",
       "  'objRenderPhotoHiddenFlg': 0,\n",
       "  'objRenderPhotoNm': 'IMG_20210512_0938052.jpg',\n",
       "  'objReadyDesc': 'Строится',\n",
       "  'objBuildTypeShortDesc': 'Жилое',\n",
       "  'knFlg': 1,\n",
       "  'loadDttm': '15-12-2022 01:05'},\n",
       " {'objId': 13383,\n",
       "  'pdId': 28105,\n",
       "  'rpdId': 667480,\n",
       "  'devId': 306,\n",
       "  'ordNum': 4,\n",
       "  'objRenderPhotoSize': 1472991,\n",
       "  'objRenderPhotoUrl': 'https://xn--80az8a.xn--d1aqf.xn--p1ai/api/ext/file/f70dc8e2-776f-4405-8f6f-d410c0061adf',\n",
       "  'objRenderPhotoDttm': '12-05-2021 16:56',\n",
       "  'objRenderPhotoHiddenFlg': 0,\n",
       "  'objRenderPhotoNm': 'IMG_20210512_0938223.jpg',\n",
       "  'objReadyDesc': 'Строится',\n",
       "  'objBuildTypeShortDesc': 'Жилое',\n",
       "  'knFlg': 1,\n",
       "  'loadDttm': '15-12-2022 01:05'},\n",
       " {'objId': 13383,\n",
       "  'pdId': 28105,\n",
       "  'rpdId': 667480,\n",
       "  'devId': 306,\n",
       "  'ordNum': 5,\n",
       "  'objRenderPhotoSize': 1063993,\n",
       "  'objRenderPhotoUrl': 'https://xn--80az8a.xn--d1aqf.xn--p1ai/api/ext/file/ffd2a110-55a5-45c0-9bc1-61e146547df8',\n",
       "  'objRenderPhotoDttm': '12-05-2021 16:56',\n",
       "  'objRenderPhotoHiddenFlg': 0,\n",
       "  'objRenderPhotoNm': 'IMG_20210512_0940044.jpg',\n",
       "  'objReadyDesc': 'Строится',\n",
       "  'objBuildTypeShortDesc': 'Жилое',\n",
       "  'knFlg': 1,\n",
       "  'loadDttm': '15-12-2022 01:05'},\n",
       " {'objId': 13383,\n",
       "  'pdId': 28105,\n",
       "  'rpdId': 667480,\n",
       "  'devId': 306,\n",
       "  'ordNum': 6,\n",
       "  'objRenderPhotoSize': 1034002,\n",
       "  'objRenderPhotoUrl': 'https://xn--80az8a.xn--d1aqf.xn--p1ai/api/ext/file/4c2881c9-a6da-4235-8faa-2f74c5970837',\n",
       "  'objRenderPhotoDttm': '12-05-2021 16:56',\n",
       "  'objRenderPhotoHiddenFlg': 0,\n",
       "  'objRenderPhotoNm': 'IMG_20210512_0940155.jpg',\n",
       "  'objReadyDesc': 'Строится',\n",
       "  'objBuildTypeShortDesc': 'Жилое',\n",
       "  'knFlg': 1,\n",
       "  'loadDttm': '15-12-2022 01:05'},\n",
       " {'objId': 13383,\n",
       "  'pdId': 28105,\n",
       "  'rpdId': 667480,\n",
       "  'devId': 306,\n",
       "  'ordNum': 7,\n",
       "  'objRenderPhotoSize': 1169206,\n",
       "  'objRenderPhotoUrl': 'https://xn--80az8a.xn--d1aqf.xn--p1ai/api/ext/file/3c35f14c-f16c-46cc-a9a8-c3e828a514b0',\n",
       "  'objRenderPhotoDttm': '12-05-2021 16:56',\n",
       "  'objRenderPhotoHiddenFlg': 0,\n",
       "  'objRenderPhotoNm': 'IMG_20210512_0951216.jpg',\n",
       "  'objReadyDesc': 'Строится',\n",
       "  'objBuildTypeShortDesc': 'Жилое',\n",
       "  'knFlg': 1,\n",
       "  'loadDttm': '15-12-2022 01:05'}]"
      ]
     },
     "execution_count": 39,
     "metadata": {},
     "output_type": "execute_result"
    }
   ],
   "source": [
    "oneobject['data']['photoRenderDTO']"
   ]
  },
  {
   "cell_type": "code",
   "execution_count": 40,
   "id": "e6d83601",
   "metadata": {},
   "outputs": [],
   "source": [
    "pics_oneobj = oneobject['data']['photoRenderDTO']"
   ]
  },
  {
   "cell_type": "code",
   "execution_count": 41,
   "id": "724c727b",
   "metadata": {},
   "outputs": [
    {
     "data": {
      "text/plain": [
       "7"
      ]
     },
     "execution_count": 41,
     "metadata": {},
     "output_type": "execute_result"
    }
   ],
   "source": [
    "len(pics_oneobj)"
   ]
  },
  {
   "cell_type": "code",
   "execution_count": 42,
   "id": "0ab9e430",
   "metadata": {},
   "outputs": [
    {
     "name": "stdout",
     "output_type": "stream",
     "text": [
      "https://xn--80az8a.xn--d1aqf.xn--p1ai/api/ext/file/7c1ce108-aa51-45c2-acfa-3091f6bf7e54\n",
      "IMG_20210512_093657.jpg\n",
      "https://xn--80az8a.xn--d1aqf.xn--p1ai/api/ext/file/cf350104-3afa-40e8-86e1-212da5c99a9a\n",
      "IMG_20210512_0937271.jpg\n",
      "https://xn--80az8a.xn--d1aqf.xn--p1ai/api/ext/file/80422003-fc35-43f2-9174-de241b92bf1d\n",
      "IMG_20210512_0938052.jpg\n",
      "https://xn--80az8a.xn--d1aqf.xn--p1ai/api/ext/file/f70dc8e2-776f-4405-8f6f-d410c0061adf\n",
      "IMG_20210512_0938223.jpg\n",
      "https://xn--80az8a.xn--d1aqf.xn--p1ai/api/ext/file/ffd2a110-55a5-45c0-9bc1-61e146547df8\n",
      "IMG_20210512_0940044.jpg\n",
      "https://xn--80az8a.xn--d1aqf.xn--p1ai/api/ext/file/4c2881c9-a6da-4235-8faa-2f74c5970837\n",
      "IMG_20210512_0940155.jpg\n",
      "https://xn--80az8a.xn--d1aqf.xn--p1ai/api/ext/file/3c35f14c-f16c-46cc-a9a8-c3e828a514b0\n",
      "IMG_20210512_0951216.jpg\n"
     ]
    }
   ],
   "source": [
    "for obj in pics_oneobj:\n",
    "    print(obj['objRenderPhotoUrl'])\n",
    "    print(obj['objRenderPhotoNm'])"
   ]
  },
  {
   "cell_type": "code",
   "execution_count": null,
   "id": "8fa6c7fc",
   "metadata": {},
   "outputs": [],
   "source": []
  },
  {
   "cell_type": "code",
   "execution_count": 43,
   "id": "1a56721d",
   "metadata": {},
   "outputs": [],
   "source": [
    "### Save one picture"
   ]
  },
  {
   "cell_type": "code",
   "execution_count": 44,
   "id": "0c3f5ba8",
   "metadata": {},
   "outputs": [],
   "source": [
    "import urllib\n",
    "urlpic = 'https://xn--80az8a.xn--d1aqf.xn--p1ai/api/ext/file/7c1ce108-aa51-45c2-acfa-3091f6bf7e54'\n",
    "resource = urllib.request.urlopen(urlpic)\n",
    "output = open(\"file01.jpg\",\"wb\")\n",
    "output.write(resource.read())\n",
    "output.close()"
   ]
  },
  {
   "cell_type": "code",
   "execution_count": null,
   "id": "ad7e2a09",
   "metadata": {},
   "outputs": [],
   "source": []
  },
  {
   "cell_type": "code",
   "execution_count": 45,
   "id": "ef99cbf6",
   "metadata": {},
   "outputs": [],
   "source": [
    "## All pictures for one object"
   ]
  },
  {
   "cell_type": "code",
   "execution_count": 47,
   "id": "9c3099d7",
   "metadata": {},
   "outputs": [],
   "source": [
    "for obj in pics_oneobj:\n",
    "    url = obj['objRenderPhotoUrl']\n",
    "    fname = obj['objRenderPhotoNm']\n",
    "    resource = urllib.request.urlopen(url)\n",
    "    output = open(\"./Pictures/\"+fname,\"wb\")\n",
    "    output.write(resource.read())\n",
    "    output.close()"
   ]
  },
  {
   "cell_type": "code",
   "execution_count": null,
   "id": "e2205f63",
   "metadata": {},
   "outputs": [],
   "source": []
  },
  {
   "cell_type": "code",
   "execution_count": null,
   "id": "ab0694da",
   "metadata": {},
   "outputs": [],
   "source": []
  },
  {
   "cell_type": "code",
   "execution_count": 48,
   "id": "cb388dcc",
   "metadata": {},
   "outputs": [],
   "source": [
    "### Now saving all pictures from 10 objects"
   ]
  },
  {
   "cell_type": "code",
   "execution_count": 49,
   "id": "e96c450c",
   "metadata": {},
   "outputs": [],
   "source": [
    "# Create a folder in Pictures named 13383"
   ]
  },
  {
   "cell_type": "code",
   "execution_count": 50,
   "id": "840ce663",
   "metadata": {},
   "outputs": [],
   "source": [
    "import os"
   ]
  },
  {
   "cell_type": "code",
   "execution_count": 51,
   "id": "c3394017",
   "metadata": {},
   "outputs": [],
   "source": [
    "os.mkdir('MyDir')"
   ]
  },
  {
   "cell_type": "code",
   "execution_count": null,
   "id": "6c1296ac",
   "metadata": {},
   "outputs": [],
   "source": []
  },
  {
   "cell_type": "code",
   "execution_count": null,
   "id": "a186b575",
   "metadata": {},
   "outputs": [],
   "source": []
  },
  {
   "cell_type": "code",
   "execution_count": 52,
   "id": "1019898e",
   "metadata": {},
   "outputs": [],
   "source": [
    "offset_ = 1\n",
    "limit_ = 100\n",
    "url = f'https://xn--80az8a.xn--d1aqf.xn--p1ai/%D1%81%D0%B5%D1%80%D0%B2%D0%B8%D1%81%D1%8B/api/kn/object?offset={offset_}&limit={limit_}&sortField=devId.devShortCleanNm&sortType=asc&objStatus=0'\n",
    "res = requests.get(url)\n",
    "objects_data = res.json()\n",
    "objects_list = objects_data.get('data').get('list')\n",
    "objids = [x.get('objId') for x in objects_list]\n",
    "objids10 = objids[:10]"
   ]
  },
  {
   "cell_type": "code",
   "execution_count": 53,
   "id": "17ec22a7",
   "metadata": {},
   "outputs": [
    {
     "name": "stdout",
     "output_type": "stream",
     "text": [
      "https://xn--80az8a.xn--d1aqf.xn--p1ai/%D1%81%D0%B5%D1%80%D0%B2%D0%B8%D1%81%D1%8B/api/object/13383\n",
      "https://xn--80az8a.xn--d1aqf.xn--p1ai/%D1%81%D0%B5%D1%80%D0%B2%D0%B8%D1%81%D1%8B/api/object/13398\n",
      "https://xn--80az8a.xn--d1aqf.xn--p1ai/%D1%81%D0%B5%D1%80%D0%B2%D0%B8%D1%81%D1%8B/api/object/13397\n",
      "https://xn--80az8a.xn--d1aqf.xn--p1ai/%D1%81%D0%B5%D1%80%D0%B2%D0%B8%D1%81%D1%8B/api/object/13399\n",
      "https://xn--80az8a.xn--d1aqf.xn--p1ai/%D1%81%D0%B5%D1%80%D0%B2%D0%B8%D1%81%D1%8B/api/object/36912\n",
      "https://xn--80az8a.xn--d1aqf.xn--p1ai/%D1%81%D0%B5%D1%80%D0%B2%D0%B8%D1%81%D1%8B/api/object/10891\n",
      "https://xn--80az8a.xn--d1aqf.xn--p1ai/%D1%81%D0%B5%D1%80%D0%B2%D0%B8%D1%81%D1%8B/api/object/8809\n",
      "https://xn--80az8a.xn--d1aqf.xn--p1ai/%D1%81%D0%B5%D1%80%D0%B2%D0%B8%D1%81%D1%8B/api/object/8810\n",
      "https://xn--80az8a.xn--d1aqf.xn--p1ai/%D1%81%D0%B5%D1%80%D0%B2%D0%B8%D1%81%D1%8B/api/object/39176\n",
      "https://xn--80az8a.xn--d1aqf.xn--p1ai/%D1%81%D0%B5%D1%80%D0%B2%D0%B8%D1%81%D1%8B/api/object/39175\n"
     ]
    }
   ],
   "source": [
    "for objid in objids10:\n",
    "    # Для скачивания данных по определенному объекту, нужно добавить его id в конец строки запроса\n",
    "    urlobj = 'https://xn--80az8a.xn--d1aqf.xn--p1ai/%D1%81%D0%B5%D1%80%D0%B2%D0%B8%D1%81%D1%8B/api/object/'+'{}'.format(objid)\n",
    "    print(urlobj)"
   ]
  },
  {
   "cell_type": "code",
   "execution_count": 54,
   "id": "eb317b28",
   "metadata": {},
   "outputs": [],
   "source": [
    "## Get picture data for each object"
   ]
  },
  {
   "cell_type": "code",
   "execution_count": 55,
   "id": "478f47fb",
   "metadata": {},
   "outputs": [
    {
     "name": "stdout",
     "output_type": "stream",
     "text": [
      "7\n",
      "5\n",
      "4\n",
      "1\n",
      "2\n",
      "1\n",
      "0\n",
      "0\n",
      "15\n",
      "15\n"
     ]
    }
   ],
   "source": [
    "for objid in objids10:\n",
    "    # Для скачивания данных по определенному объекту, нужно добавить его id в конец строки запроса\n",
    "    urlobj = 'https://xn--80az8a.xn--d1aqf.xn--p1ai/%D1%81%D0%B5%D1%80%D0%B2%D0%B8%D1%81%D1%8B/api/object/'+'{}'.format(objid)\n",
    "    res = requests.get(urlobj)\n",
    "    oneobject = res.json()\n",
    "    pics_oneobj = oneobject['data']['photoRenderDTO']\n",
    "    print(len(pics_oneobj))"
   ]
  },
  {
   "cell_type": "code",
   "execution_count": 56,
   "id": "433a86a6",
   "metadata": {},
   "outputs": [],
   "source": [
    "## Skip the object with no pictures"
   ]
  },
  {
   "cell_type": "code",
   "execution_count": 57,
   "id": "1c0f84ab",
   "metadata": {},
   "outputs": [
    {
     "name": "stdout",
     "output_type": "stream",
     "text": [
      "7\n",
      "5\n",
      "4\n",
      "1\n",
      "2\n",
      "1\n",
      "15\n",
      "15\n"
     ]
    }
   ],
   "source": [
    "for objid in objids10:\n",
    "    # Для скачивания данных по определенному объекту, нужно добавить его id в конец строки запроса\n",
    "    urlobj = 'https://xn--80az8a.xn--d1aqf.xn--p1ai/%D1%81%D0%B5%D1%80%D0%B2%D0%B8%D1%81%D1%8B/api/object/'+'{}'.format(objid)\n",
    "    res = requests.get(urlobj)\n",
    "    oneobject = res.json()\n",
    "    pics_oneobj = oneobject['data']['photoRenderDTO']\n",
    "    if len(pics_oneobj)==0:\n",
    "        continue\n",
    "    print(len(pics_oneobj))"
   ]
  },
  {
   "cell_type": "code",
   "execution_count": 58,
   "id": "11c103c9",
   "metadata": {},
   "outputs": [],
   "source": [
    "# Create a folder for each object with at least one picture"
   ]
  },
  {
   "cell_type": "code",
   "execution_count": 59,
   "id": "18e57c3c",
   "metadata": {},
   "outputs": [
    {
     "name": "stdout",
     "output_type": "stream",
     "text": [
      "13383\n",
      "13398\n",
      "13397\n",
      "13399\n",
      "36912\n",
      "10891\n",
      "39176\n",
      "39175\n"
     ]
    }
   ],
   "source": [
    "for objid in objids10:\n",
    "    # Для скачивания данных по определенному объекту, нужно добавить его id в конец строки запроса\n",
    "    urlobj = 'https://xn--80az8a.xn--d1aqf.xn--p1ai/%D1%81%D0%B5%D1%80%D0%B2%D0%B8%D1%81%D1%8B/api/object/'+'{}'.format(objid)\n",
    "    res = requests.get(urlobj)\n",
    "    oneobject = res.json()\n",
    "    pics_oneobj = oneobject['data']['photoRenderDTO']\n",
    "    if len(pics_oneobj)==0:\n",
    "        continue\n",
    "    print(oneobject['data']['id'])"
   ]
  },
  {
   "cell_type": "code",
   "execution_count": 60,
   "id": "868b4236",
   "metadata": {},
   "outputs": [],
   "source": [
    "for objid in objids10:\n",
    "    # Для скачивания данных по определенному объекту, нужно добавить его id в конец строки запроса\n",
    "    urlobj = 'https://xn--80az8a.xn--d1aqf.xn--p1ai/%D1%81%D0%B5%D1%80%D0%B2%D0%B8%D1%81%D1%8B/api/object/'+'{}'.format(objid)\n",
    "    res = requests.get(urlobj)\n",
    "    oneobject = res.json()\n",
    "    pics_oneobj = oneobject['data']['photoRenderDTO']\n",
    "    if len(pics_oneobj)==0:\n",
    "        continue\n",
    "    #print(oneobject['data']['id'])\n",
    "    os.mkdir('./Pictures/'+str(oneobject['data']['id']))"
   ]
  },
  {
   "cell_type": "code",
   "execution_count": 61,
   "id": "141719b6",
   "metadata": {},
   "outputs": [],
   "source": [
    "# Put pictures into respective folders"
   ]
  },
  {
   "cell_type": "code",
   "execution_count": 71,
   "id": "da5966ec",
   "metadata": {},
   "outputs": [
    {
     "ename": "FileExistsError",
     "evalue": "[WinError 183] Невозможно создать файл, так как он уже существует: './Pictures2/13383'",
     "output_type": "error",
     "traceback": [
      "\u001b[1;31m---------------------------------------------------------------------------\u001b[0m",
      "\u001b[1;31mFileExistsError\u001b[0m                           Traceback (most recent call last)",
      "\u001b[1;32m~\\AppData\\Local\\Temp\\ipykernel_4992\\4160339937.py\u001b[0m in \u001b[0;36m<module>\u001b[1;34m\u001b[0m\n\u001b[0;32m      8\u001b[0m         \u001b[1;32mcontinue\u001b[0m\u001b[1;33m\u001b[0m\u001b[1;33m\u001b[0m\u001b[0m\n\u001b[0;32m      9\u001b[0m     \u001b[1;31m#print(oneobject['data']['id'])\u001b[0m\u001b[1;33m\u001b[0m\u001b[1;33m\u001b[0m\u001b[0m\n\u001b[1;32m---> 10\u001b[1;33m     \u001b[0mos\u001b[0m\u001b[1;33m.\u001b[0m\u001b[0mmkdir\u001b[0m\u001b[1;33m(\u001b[0m\u001b[1;34m'./Pictures2/'\u001b[0m\u001b[1;33m+\u001b[0m\u001b[0mstr\u001b[0m\u001b[1;33m(\u001b[0m\u001b[0moneobject\u001b[0m\u001b[1;33m[\u001b[0m\u001b[1;34m'data'\u001b[0m\u001b[1;33m]\u001b[0m\u001b[1;33m[\u001b[0m\u001b[1;34m'id'\u001b[0m\u001b[1;33m]\u001b[0m\u001b[1;33m)\u001b[0m\u001b[1;33m)\u001b[0m\u001b[1;33m\u001b[0m\u001b[1;33m\u001b[0m\u001b[0m\n\u001b[0m\u001b[0;32m     11\u001b[0m     \u001b[1;32mfor\u001b[0m \u001b[0mobj\u001b[0m \u001b[1;32min\u001b[0m \u001b[0mpics_oneobj\u001b[0m\u001b[1;33m:\u001b[0m\u001b[1;33m\u001b[0m\u001b[1;33m\u001b[0m\u001b[0m\n\u001b[0;32m     12\u001b[0m         \u001b[0murl\u001b[0m \u001b[1;33m=\u001b[0m \u001b[0mobj\u001b[0m\u001b[1;33m[\u001b[0m\u001b[1;34m'objRenderPhotoUrl'\u001b[0m\u001b[1;33m]\u001b[0m\u001b[1;33m\u001b[0m\u001b[1;33m\u001b[0m\u001b[0m\n",
      "\u001b[1;31mFileExistsError\u001b[0m: [WinError 183] Невозможно создать файл, так как он уже существует: './Pictures2/13383'"
     ]
    }
   ],
   "source": [
    "for objid in objids10:\n",
    "    # Для скачивания данных по определенному объекту, нужно добавить его id в конец строки запроса\n",
    "    urlobj = 'https://xn--80az8a.xn--d1aqf.xn--p1ai/%D1%81%D0%B5%D1%80%D0%B2%D0%B8%D1%81%D1%8B/api/object/'+'{}'.format(objid)\n",
    "    res = requests.get(urlobj)\n",
    "    oneobject = res.json()\n",
    "    pics_oneobj = oneobject['data']['photoRenderDTO']\n",
    "    if len(pics_oneobj)==0:\n",
    "        continue\n",
    "    #print(oneobject['data']['id'])\n",
    "    os.mkdir('./Pictures2/'+str(oneobject['data']['id']))\n",
    "    for obj in pics_oneobj:\n",
    "        url = obj['objRenderPhotoUrl']\n",
    "        fname = obj['objRenderPhotoNm']\n",
    "        resource = urllib.request.urlopen(url)\n",
    "        output = open(\"./Pictures2/\"+str(oneobject['data']['id'])+\"/\"+fname,\"wb\")\n",
    "        output.write(resource.read())\n",
    "        output.close()"
   ]
  },
  {
   "cell_type": "code",
   "execution_count": null,
   "id": "79cd72c2",
   "metadata": {},
   "outputs": [],
   "source": []
  },
  {
   "cell_type": "code",
   "execution_count": 67,
   "id": "29270e3a",
   "metadata": {},
   "outputs": [],
   "source": [
    "offset_ = 1\n",
    "limit_ = 100\n",
    "url = f'https://xn--80az8a.xn--d1aqf.xn--p1ai/%D1%81%D0%B5%D1%80%D0%B2%D0%B8%D1%81%D1%8B/api/kn/object?offset={offset_}&limit={limit_}&sortField=devId.devShortCleanNm&sortType=asc&objStatus=0'\n",
    "res = requests.get(url)\n",
    "objects_data = res.json()\n",
    "objects_list = objects_data.get('data').get('list')\n",
    "objids = [x.get('objId') for x in objects_list]\n",
    "objids10 = objids[:10]"
   ]
  },
  {
   "cell_type": "code",
   "execution_count": null,
   "id": "bcb5ee4a",
   "metadata": {},
   "outputs": [],
   "source": []
  },
  {
   "cell_type": "code",
   "execution_count": null,
   "id": "648593e9",
   "metadata": {},
   "outputs": [],
   "source": []
  },
  {
   "cell_type": "code",
   "execution_count": 43,
   "id": "c7724f79",
   "metadata": {},
   "outputs": [],
   "source": [
    "# Cохранить pandas dataframe в БД\n"
   ]
  },
  {
   "cell_type": "code",
   "execution_count": 44,
   "id": "2e48b4cf",
   "metadata": {},
   "outputs": [],
   "source": [
    "import pandas as pd"
   ]
  },
  {
   "cell_type": "code",
   "execution_count": 45,
   "id": "8bdde389",
   "metadata": {},
   "outputs": [],
   "source": [
    "mydf = pd.read_pickle('my_df.pickle')"
   ]
  },
  {
   "cell_type": "code",
   "execution_count": 46,
   "id": "1f9024e5",
   "metadata": {},
   "outputs": [
    {
     "data": {
      "text/plain": [
       "(100, 5)"
      ]
     },
     "execution_count": 46,
     "metadata": {},
     "output_type": "execute_result"
    }
   ],
   "source": [
    "mydf.shape"
   ]
  },
  {
   "cell_type": "code",
   "execution_count": 47,
   "id": "142e77f3",
   "metadata": {},
   "outputs": [
    {
     "data": {
      "text/html": [
       "<div>\n",
       "<style scoped>\n",
       "    .dataframe tbody tr th:only-of-type {\n",
       "        vertical-align: middle;\n",
       "    }\n",
       "\n",
       "    .dataframe tbody tr th {\n",
       "        vertical-align: top;\n",
       "    }\n",
       "\n",
       "    .dataframe thead th {\n",
       "        text-align: right;\n",
       "    }\n",
       "</style>\n",
       "<table border=\"1\" class=\"dataframe\">\n",
       "  <thead>\n",
       "    <tr style=\"text-align: right;\">\n",
       "      <th></th>\n",
       "      <th>ObjectId</th>\n",
       "      <th>ShortName</th>\n",
       "      <th>ObjectAddress</th>\n",
       "      <th>Latitude</th>\n",
       "      <th>Longitude</th>\n",
       "    </tr>\n",
       "  </thead>\n",
       "  <tbody>\n",
       "    <tr>\n",
       "      <th>0</th>\n",
       "      <td>13383</td>\n",
       "      <td>2МЕН ГРУПП</td>\n",
       "      <td>г Тюмень</td>\n",
       "      <td>57.1519</td>\n",
       "      <td>65.5536</td>\n",
       "    </tr>\n",
       "    <tr>\n",
       "      <th>1</th>\n",
       "      <td>13398</td>\n",
       "      <td>2МЕН ГРУПП</td>\n",
       "      <td>г Тюмень, ул Профсоюзная, д. 56</td>\n",
       "      <td>57.1519</td>\n",
       "      <td>65.5544</td>\n",
       "    </tr>\n",
       "    <tr>\n",
       "      <th>2</th>\n",
       "      <td>13397</td>\n",
       "      <td>2МЕН ГРУПП</td>\n",
       "      <td>г Тюмень, ул Профсоюзная, д. 56</td>\n",
       "      <td>57.1519</td>\n",
       "      <td>65.5544</td>\n",
       "    </tr>\n",
       "    <tr>\n",
       "      <th>3</th>\n",
       "      <td>13399</td>\n",
       "      <td>2МЕН ГРУПП</td>\n",
       "      <td>г Тюмень, ул Профсоюзная, д. 56</td>\n",
       "      <td>57.1519</td>\n",
       "      <td>65.5544</td>\n",
       "    </tr>\n",
       "    <tr>\n",
       "      <th>4</th>\n",
       "      <td>36912</td>\n",
       "      <td>CЗ СТРОЙРЕСУРС</td>\n",
       "      <td>г Ставрополь, ул Шпаковская, Доваторцев, д. 10...</td>\n",
       "      <td>45.0200</td>\n",
       "      <td>41.9346</td>\n",
       "    </tr>\n",
       "  </tbody>\n",
       "</table>\n",
       "</div>"
      ],
      "text/plain": [
       "   ObjectId       ShortName  \\\n",
       "0     13383      2МЕН ГРУПП   \n",
       "1     13398      2МЕН ГРУПП   \n",
       "2     13397      2МЕН ГРУПП   \n",
       "3     13399      2МЕН ГРУПП   \n",
       "4     36912  CЗ СТРОЙРЕСУРС   \n",
       "\n",
       "                                       ObjectAddress  Latitude  Longitude  \n",
       "0                                           г Тюмень   57.1519    65.5536  \n",
       "1                    г Тюмень, ул Профсоюзная, д. 56   57.1519    65.5544  \n",
       "2                    г Тюмень, ул Профсоюзная, д. 56   57.1519    65.5544  \n",
       "3                    г Тюмень, ул Профсоюзная, д. 56   57.1519    65.5544  \n",
       "4  г Ставрополь, ул Шпаковская, Доваторцев, д. 10...   45.0200    41.9346  "
      ]
     },
     "execution_count": 47,
     "metadata": {},
     "output_type": "execute_result"
    }
   ],
   "source": [
    "mydf.head()"
   ]
  },
  {
   "cell_type": "code",
   "execution_count": null,
   "id": "06101aca",
   "metadata": {},
   "outputs": [],
   "source": []
  },
  {
   "cell_type": "code",
   "execution_count": 48,
   "id": "575ec392",
   "metadata": {},
   "outputs": [],
   "source": [
    "# To save dataframe into database we must have a database"
   ]
  },
  {
   "cell_type": "code",
   "execution_count": 49,
   "id": "89256a1d",
   "metadata": {},
   "outputs": [],
   "source": [
    "# SQL"
   ]
  },
  {
   "cell_type": "code",
   "execution_count": 50,
   "id": "75cedc04",
   "metadata": {},
   "outputs": [],
   "source": [
    "## PostgreSQL"
   ]
  },
  {
   "cell_type": "code",
   "execution_count": 51,
   "id": "15ad9c41",
   "metadata": {},
   "outputs": [],
   "source": [
    "\n",
    "#1. Create a new DB\n",
    "#2. Create a table in this DB\n",
    "#3. Upload Pandas dataframe into this table"
   ]
  },
  {
   "cell_type": "code",
   "execution_count": null,
   "id": "37d7e7c7",
   "metadata": {},
   "outputs": [],
   "source": []
  },
  {
   "cell_type": "code",
   "execution_count": 56,
   "id": "7bbf8653",
   "metadata": {},
   "outputs": [
    {
     "data": {
      "text/plain": [
       "'\\nCREATE TABLE homes(\\nobjid integer,\\nshortname varchar(128),\\naddress varchar(128),\\nlatitude numeric (15, 7),\\nlongitude numeric (15, 7)\\n)\\n\\n'"
      ]
     },
     "execution_count": 56,
     "metadata": {},
     "output_type": "execute_result"
    }
   ],
   "source": [
    "'''\n",
    "CREATE TABLE homes(\n",
    "objid integer,\n",
    "shortname varchar(128),\n",
    "address varchar(128),\n",
    "latitude numeric (15, 7),\n",
    "longitude numeric (15, 7)\n",
    ")\n",
    "\n",
    "'''"
   ]
  },
  {
   "cell_type": "code",
   "execution_count": 63,
   "id": "9dd2ba6a",
   "metadata": {},
   "outputs": [],
   "source": [
    "import psycopg2"
   ]
  },
  {
   "cell_type": "code",
   "execution_count": 64,
   "id": "382163fa",
   "metadata": {},
   "outputs": [
    {
     "name": "stdout",
     "output_type": "stream",
     "text": [
      "(13383, '2МЕН ГРУПП', 'г Тюмень', Decimal('57.1519000'), Decimal('65.5536000'))\n",
      "(13383, '2МЕН ГРУПП', 'г Тюмень', Decimal('57.1519000'), Decimal('65.5536000'))\n",
      "(13383, '2МЕН ГРУПП', 'г Тюмень', Decimal('57.1519000'), Decimal('65.5536000'))\n",
      "(13383, '2МЕН ГРУПП', 'г Тюмень', Decimal('57.1519000'), Decimal('65.5536000'))\n"
     ]
    }
   ],
   "source": [
    "connect_str = \"dbname='DataScience' user='postgres' host='localhost' password='BetaSat1819'\" \n",
    "conn = psycopg2.connect(connect_str)\n",
    "cursor = conn.cursor()\n",
    "stmt = '''\n",
    "SELECT \n",
    "*\n",
    "from homes\n",
    "'''\n",
    "cursor.execute(stmt)\n",
    "for row in cursor:\n",
    "    print(row)"
   ]
  },
  {
   "cell_type": "code",
   "execution_count": 60,
   "id": "84e69054",
   "metadata": {},
   "outputs": [],
   "source": [
    "conn = psycopg2.connect(connect_str)\n",
    "cursor = conn.cursor()\n",
    "stmt = '''\n",
    "INSERT INTO homes\n",
    "VALUES\n",
    "(%s, %s, %s, %s, %s );\n",
    "'''\n",
    "cursor.execute(stmt, (13383,'2МЕН ГРУПП', 'г Тюмень', 57.1519, 65.5536))\n",
    "conn.commit()\n",
    "cursor.close()"
   ]
  },
  {
   "cell_type": "code",
   "execution_count": null,
   "id": "ffb6f141",
   "metadata": {},
   "outputs": [],
   "source": []
  },
  {
   "cell_type": "code",
   "execution_count": 61,
   "id": "195b07b4",
   "metadata": {},
   "outputs": [],
   "source": [
    "## Iterate all rows in a dataframe?"
   ]
  },
  {
   "cell_type": "code",
   "execution_count": 62,
   "id": "270b7484",
   "metadata": {},
   "outputs": [
    {
     "name": "stdout",
     "output_type": "stream",
     "text": [
      "0     13383\n",
      "1     13398\n",
      "2     13397\n",
      "3     13399\n",
      "4     36912\n",
      "      ...  \n",
      "95    33180\n",
      "96    33134\n",
      "97    33213\n",
      "98    33158\n",
      "99    33212\n",
      "Name: ObjectId, Length: 100, dtype: int64\n",
      "0         2МЕН ГРУПП\n",
      "1         2МЕН ГРУПП\n",
      "2         2МЕН ГРУПП\n",
      "3         2МЕН ГРУПП\n",
      "4     CЗ СТРОЙРЕСУРС\n",
      "           ...      \n",
      "95      АПРЕЛЕВКА С2\n",
      "96      АПРЕЛЕВКА С2\n",
      "97      АПРЕЛЕВКА С2\n",
      "98      АПРЕЛЕВКА С2\n",
      "99      АПРЕЛЕВКА С2\n",
      "Name: ShortName, Length: 100, dtype: object\n",
      "0                                              г Тюмень\n",
      "1                       г Тюмень, ул Профсоюзная, д. 56\n",
      "2                       г Тюмень, ул Профсоюзная, д. 56\n",
      "3                       г Тюмень, ул Профсоюзная, д. 56\n",
      "4     г Ставрополь, ул Шпаковская, Доваторцев, д. 10...\n",
      "                            ...                        \n",
      "95                                     д Зверево, д. 86\n",
      "96                                     д Зверево, д. 40\n",
      "97                                    д Зверево, д. 119\n",
      "98                                     д Зверево, д. 64\n",
      "99                                    д Зверево, д. 118\n",
      "Name: ObjectAddress, Length: 100, dtype: object\n",
      "0     57.1519\n",
      "1     57.1519\n",
      "2     57.1519\n",
      "3     57.1519\n",
      "4     45.0200\n",
      "       ...   \n",
      "95    55.5057\n",
      "96    55.5022\n",
      "97    55.5055\n",
      "98    55.4978\n",
      "99    55.5056\n",
      "Name: Latitude, Length: 100, dtype: float64\n",
      "0     65.5536\n",
      "1     65.5544\n",
      "2     65.5544\n",
      "3     65.5544\n",
      "4     41.9346\n",
      "       ...   \n",
      "95    36.9340\n",
      "96    36.9291\n",
      "97    36.9306\n",
      "98    36.9284\n",
      "99    36.9301\n",
      "Name: Longitude, Length: 100, dtype: float64\n"
     ]
    }
   ],
   "source": [
    "for index, row in mydf.items():\n",
    "    print(row)"
   ]
  },
  {
   "cell_type": "code",
   "execution_count": null,
   "id": "c2fd07f2",
   "metadata": {},
   "outputs": [],
   "source": []
  },
  {
   "cell_type": "code",
   "execution_count": null,
   "id": "e8f657a6",
   "metadata": {},
   "outputs": [],
   "source": []
  }
 ],
 "metadata": {
  "kernelspec": {
   "display_name": "Python 3 (ipykernel)",
   "language": "python",
   "name": "python3"
  },
  "language_info": {
   "codemirror_mode": {
    "name": "ipython",
    "version": 3
   },
   "file_extension": ".py",
   "mimetype": "text/x-python",
   "name": "python",
   "nbconvert_exporter": "python",
   "pygments_lexer": "ipython3",
   "version": "3.9.13"
  }
 },
 "nbformat": 4,
 "nbformat_minor": 5
}
