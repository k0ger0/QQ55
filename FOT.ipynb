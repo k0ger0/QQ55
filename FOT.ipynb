{
 "cells": [
  {
   "cell_type": "code",
   "execution_count": null,
   "id": "b14e0cef",
   "metadata": {},
   "outputs": [],
   "source": [
    "### Написать скрипт, который скачивает фотографии всех строящихся объектов с сайта \"наш.дом.рф\""
   ]
  },
  {
   "cell_type": "code",
   "execution_count": null,
   "id": "fb0e6b92",
   "metadata": {},
   "outputs": [],
   "source": [
    "import requests"
   ]
  },
  {
   "cell_type": "code",
   "execution_count": null,
   "id": "faad543c",
   "metadata": {},
   "outputs": [],
   "source": [
    "offset_ = 1\n",
    "limit_ = 100\n",
    "url = f'https://xn--80az8a.xn--d1aqf.xn--p1ai/%D1%81%D0%B5%D1%80%D0%B2%D0%B8%D1%81%D1%8B/api/kn/object?offset={offset_}&limit={limit_}&sortField=devId.devShortCleanNm&sortType=asc&objStatus=0'\n",
    "res = requests.get(url)\n",
    "objects_data = res.json()"
   ]
  },
  {
   "cell_type": "code",
   "execution_count": null,
   "id": "f0ef07b9",
   "metadata": {},
   "outputs": [],
   "source": [
    "objects_list = objects_data.get('data').get('list')\n",
    "objids = [x.get('objId') for x in objects_list]\n",
    "objids[:10]"
   ]
  },
  {
   "cell_type": "code",
   "execution_count": null,
   "id": "a1330a44",
   "metadata": {},
   "outputs": [],
   "source": [
    "len(objids)"
   ]
  },
  {
   "cell_type": "code",
   "execution_count": null,
   "id": "b95275a7",
   "metadata": {},
   "outputs": [],
   "source": [
    "# Для скачивания данных по определенному объекту, нужно добавить его id в конец строки запроса\n",
    "url = f'https://xn--80az8a.xn--d1aqf.xn--p1ai/%D1%81%D0%B5%D1%80%D0%B2%D0%B8%D1%81%D1%8B/api/object/13383'"
   ]
  },
  {
   "cell_type": "code",
   "execution_count": null,
   "id": "cf491049",
   "metadata": {},
   "outputs": [],
   "source": [
    "res = requests.get(url)\n",
    "res.json()"
   ]
  },
  {
   "cell_type": "code",
   "execution_count": null,
   "id": "f6b2a912",
   "metadata": {},
   "outputs": [],
   "source": [
    "res = requests.get(url)\n",
    "oneobject = res.json()"
   ]
  },
  {
   "cell_type": "code",
   "execution_count": null,
   "id": "48a98d0f",
   "metadata": {},
   "outputs": [],
   "source": [
    "oneobject['data']['photoRenderDTO']"
   ]
  },
  {
   "cell_type": "code",
   "execution_count": null,
   "id": "68f94855",
   "metadata": {},
   "outputs": [],
   "source": [
    "pics_oneobj = oneobject['data']['photoRenderDTO']"
   ]
  },
  {
   "cell_type": "code",
   "execution_count": null,
   "id": "43d12f9c",
   "metadata": {},
   "outputs": [],
   "source": [
    "len(pics_oneobj)"
   ]
  },
  {
   "cell_type": "code",
   "execution_count": null,
   "id": "4293393c",
   "metadata": {},
   "outputs": [],
   "source": [
    "for obj in pics_oneobj:\n",
    "    print(obj['objRenderPhotoUrl'])\n",
    "    print(obj['objRenderPhotoNm'])"
   ]
  },
  {
   "cell_type": "code",
   "execution_count": null,
   "id": "763bcad2",
   "metadata": {},
   "outputs": [],
   "source": [
    "### Save one picture"
   ]
  },
  {
   "cell_type": "code",
   "execution_count": null,
   "id": "75f52e5e",
   "metadata": {},
   "outputs": [],
   "source": [
    "import urllib\n",
    "urlpic = 'https://xn--80az8a.xn--d1aqf.xn--p1ai/api/ext/file/7c1ce108-aa51-45c2-acfa-3091f6bf7e54'\n",
    "resource = urllib.request.urlopen(urlpic)\n",
    "output = open(\"file01.jpg\",\"wb\")\n",
    "output.write(resource.read())\n",
    "output.close()"
   ]
  },
  {
   "cell_type": "code",
   "execution_count": null,
   "id": "eef25ed5",
   "metadata": {},
   "outputs": [],
   "source": [
    "## All pictures for one object"
   ]
  },
  {
   "cell_type": "code",
   "execution_count": null,
   "id": "ee87b754",
   "metadata": {},
   "outputs": [],
   "source": [
    "for obj in pics_oneobj:\n",
    "    url = obj['objRenderPhotoUrl']\n",
    "    fname = obj['objRenderPhotoNm']\n",
    "    resource = urllib.request.urlopen(url)\n",
    "    output = open(\"./Pictures2/\"+fname,\"wb\")\n",
    "    output.write(resource.read())\n",
    "    output.close()"
   ]
  },
  {
   "cell_type": "code",
   "execution_count": null,
   "id": "20958214",
   "metadata": {},
   "outputs": [],
   "source": [
    "### Now saving all pictures from 100 objects"
   ]
  },
  {
   "cell_type": "code",
   "execution_count": null,
   "id": "e99b691d",
   "metadata": {},
   "outputs": [],
   "source": [
    "# Create a folder in Pictures named 13383"
   ]
  },
  {
   "cell_type": "code",
   "execution_count": null,
   "id": "274204aa",
   "metadata": {},
   "outputs": [],
   "source": [
    "import os"
   ]
  },
  {
   "cell_type": "code",
   "execution_count": null,
   "id": "c73cfeb5",
   "metadata": {},
   "outputs": [],
   "source": [
    "os.mkdir('MyDir')"
   ]
  },
  {
   "cell_type": "code",
   "execution_count": null,
   "id": "f1a444fb",
   "metadata": {},
   "outputs": [],
   "source": [
    "offset_ = 1\n",
    "limit_ = 100\n",
    "url = f'https://xn--80az8a.xn--d1aqf.xn--p1ai/%D1%81%D0%B5%D1%80%D0%B2%D0%B8%D1%81%D1%8B/api/kn/object?offset={offset_}&limit={limit_}&sortField=devId.devShortCleanNm&sortType=asc&objStatus=0'\n",
    "res = requests.get(url)\n",
    "objects_data = res.json()\n",
    "objects_list = objects_data.get('data').get('list')\n",
    "objids = [x.get('objId') for x in objects_list]\n",
    "objids100 = objids[:100]"
   ]
  },
  {
   "cell_type": "code",
   "execution_count": null,
   "id": "a3af36bc",
   "metadata": {},
   "outputs": [],
   "source": [
    "for objid in objids10:\n",
    "    # Для скачивания данных по определенному объекту, нужно добавить его id в конец строки запроса\n",
    "    urlobj = 'https://xn--80az8a.xn--d1aqf.xn--p1ai/%D1%81%D0%B5%D1%80%D0%B2%D0%B8%D1%81%D1%8B/api/object/'+'{}'.format(objid)\n",
    "    print(urlobj)"
   ]
  },
  {
   "cell_type": "code",
   "execution_count": null,
   "id": "5b8620d7",
   "metadata": {},
   "outputs": [],
   "source": [
    "## Get picture data for each object"
   ]
  },
  {
   "cell_type": "code",
   "execution_count": null,
   "id": "28e34e4d",
   "metadata": {},
   "outputs": [],
   "source": [
    "for objid in objids10:\n",
    "    # Для скачивания данных по определенному объекту, нужно добавить его id в конец строки запроса\n",
    "    urlobj = 'https://xn--80az8a.xn--d1aqf.xn--p1ai/%D1%81%D0%B5%D1%80%D0%B2%D0%B8%D1%81%D1%8B/api/object/'+'{}'.format(objid)\n",
    "    res = requests.get(urlobj)\n",
    "    oneobject = res.json()\n",
    "    pics_oneobj = oneobject['data']['photoRenderDTO']\n",
    "    print(len(pics_oneobj))"
   ]
  },
  {
   "cell_type": "code",
   "execution_count": null,
   "id": "c57b45dc",
   "metadata": {},
   "outputs": [],
   "source": [
    "## Skip the object with no pictures"
   ]
  },
  {
   "cell_type": "code",
   "execution_count": null,
   "id": "6bc3bdaf",
   "metadata": {},
   "outputs": [],
   "source": [
    "for objid in objids10:\n",
    "    # Для скачивания данных по определенному объекту, нужно добавить его id в конец строки запроса\n",
    "    urlobj = 'https://xn--80az8a.xn--d1aqf.xn--p1ai/%D1%81%D0%B5%D1%80%D0%B2%D0%B8%D1%81%D1%8B/api/object/'+'{}'.format(objid)\n",
    "    res = requests.get(urlobj)\n",
    "    oneobject = res.json()\n",
    "    pics_oneobj = oneobject['data']['photoRenderDTO']\n",
    "    if len(pics_oneobj)==0:\n",
    "        continue\n",
    "    print(len(pics_oneobj))"
   ]
  },
  {
   "cell_type": "code",
   "execution_count": null,
   "id": "7422c67f",
   "metadata": {},
   "outputs": [],
   "source": [
    "# Create a folder for each object with at least one picture"
   ]
  },
  {
   "cell_type": "code",
   "execution_count": null,
   "id": "484b05d2",
   "metadata": {},
   "outputs": [],
   "source": [
    "for objid in objids10:\n",
    "    # Для скачивания данных по определенному объекту, нужно добавить его id в конец строки запроса\n",
    "    urlobj = 'https://xn--80az8a.xn--d1aqf.xn--p1ai/%D1%81%D0%B5%D1%80%D0%B2%D0%B8%D1%81%D1%8B/api/object/'+'{}'.format(objid)\n",
    "    res = requests.get(urlobj)\n",
    "    oneobject = res.json()\n",
    "    pics_oneobj = oneobject['data']['photoRenderDTO']\n",
    "    if len(pics_oneobj)==0:\n",
    "        continue\n",
    "    print(oneobject['data']['id'])"
   ]
  },
  {
   "cell_type": "code",
   "execution_count": null,
   "id": "57392187",
   "metadata": {},
   "outputs": [],
   "source": [
    "for objid in objids100:\n",
    "    # Для скачивания данных по определенному объекту, нужно добавить его id в конец строки запроса\n",
    "    urlobj = 'https://xn--80az8a.xn--d1aqf.xn--p1ai/%D1%81%D0%B5%D1%80%D0%B2%D0%B8%D1%81%D1%8B/api/object/'+'{}'.format(objid)\n",
    "    res = requests.get(urlobj)\n",
    "    oneobject = res.json()\n",
    "    pics_oneobj = oneobject['data']['photoRenderDTO']\n",
    "    if len(pics_oneobj)==0:\n",
    "        continue\n",
    "    #print(oneobject['data']['id'])\n",
    "    os.mkdir('./Pictures2/'+str(oneobject['data']['id']))"
   ]
  },
  {
   "cell_type": "code",
   "execution_count": null,
   "id": "42562dcb",
   "metadata": {},
   "outputs": [],
   "source": [
    "# Put pictures into respective folders"
   ]
  },
  {
   "cell_type": "code",
   "execution_count": null,
   "id": "7c286461",
   "metadata": {},
   "outputs": [],
   "source": [
    "for objid in objids10:\n",
    "    # Для скачивания данных по определенному объекту, нужно добавить его id в конец строки запроса\n",
    "    urlobj = 'https://xn--80az8a.xn--d1aqf.xn--p1ai/%D1%81%D0%B5%D1%80%D0%B2%D0%B8%D1%81%D1%8B/api/object/'+'{}'.format(objid)\n",
    "    res = requests.get(urlobj)\n",
    "    oneobject = res.json()\n",
    "    pics_oneobj = oneobject['data']['photoRenderDTO']\n",
    "    if len(pics_oneobj)==0:\n",
    "        continue\n",
    "    #print(oneobject['data']['id'])\n",
    "    os.mkdir('./Pictures2/'+str(oneobject['data']['id']))\n",
    "    for obj in pics_oneobj:\n",
    "        url = obj['objRenderPhotoUrl']\n",
    "        fname = obj['objRenderPhotoNm']\n",
    "        resource = urllib.request.urlopen(url)\n",
    "        output = open(\"./Pictures2/\"+str(oneobject['data']['id'])+\"/\"+fname,\"wb\")\n",
    "        output.write(resource.read())\n",
    "        output.close()"
   ]
  },
  {
   "cell_type": "code",
   "execution_count": null,
   "id": "5084bc00",
   "metadata": {},
   "outputs": [],
   "source": []
  },
  {
   "cell_type": "code",
   "execution_count": null,
   "id": "981710fa",
   "metadata": {},
   "outputs": [],
   "source": []
  }
 ],
 "metadata": {
  "kernelspec": {
   "display_name": "Python 3 (ipykernel)",
   "language": "python",
   "name": "python3"
  },
  "language_info": {
   "codemirror_mode": {
    "name": "ipython",
    "version": 3
   },
   "file_extension": ".py",
   "mimetype": "text/x-python",
   "name": "python",
   "nbconvert_exporter": "python",
   "pygments_lexer": "ipython3",
   "version": "3.9.13"
  }
 },
 "nbformat": 4,
 "nbformat_minor": 5
}
