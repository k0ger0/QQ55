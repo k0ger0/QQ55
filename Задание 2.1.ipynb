{
 "cells": [
  {
   "cell_type": "markdown",
   "metadata": {
    "id": "1w80p_mSmfOs",
    "pycharm": {
     "name": "#%% md\n"
    }
   },
   "source": [
    "[![Open In Colab](https://colab.research.google.com/assets/colab-badge.svg)](https://colab.research.google.com/github/ds-reboot/python-first-part/blob/main/notebooks/hometasks/Task2_dmrf_visual.ipynb)"
   ]
  },
  {
   "cell_type": "markdown",
   "metadata": {
    "id": "a4o17Gq-mfOy",
    "pycharm": {
     "name": "#%% md\n"
    }
   },
   "source": [
    "# Задание\n",
    "* Собрать информацию о всех строящихся объектах на сайте \"наш.дом.рф\"\n",
    "* Cохранить результаты в pandas dataframe\n",
    "<hr>\n",
    "\n",
    "* Проверить состояние датафрейма и привести его в формат, позволяющий дальнейшее исследование данных:\n",
    "-- Привести колонки датафрейма к одному типу данных\n",
    "-- Проверить индекс, чтобы он соответствовал порядку строк\n",
    "-- Проверить наличие пропусков и в случае обнаружения, определить стратегию их обработки\n",
    "<hr>\n",
    "\n",
    "* Провести мини-исследование рынка строящейся недвижимости в одном или нескольких регионах с помощью pandas, matplotlib, seaborn, plotly и других инструментов.\n",
    "-- Рассчитать средние цены за квадратный метр по регионам. Важно чтобы пропуски не учитывались при расчете средней цены.\n",
    "-- Рассчитать объемы вводимого жилья по регионам и по годам.\n",
    "-- Сравнить этажность домов, количество квартир, жилую площадь, количество парковочных мест и цену за квадратный метр в разных регионах\n",
    "-- Визуализировать разброс, связь и распределение этих показателей по регионам\n",
    "-- Сделать выводы по каждому из расчетов и графиков\n",
    "\n"
   ]
  },
  {
   "cell_type": "code",
   "execution_count": 4,
   "metadata": {
    "id": "QhNWvLGOmfOz",
    "pycharm": {
     "name": "#%%\n"
    }
   },
   "outputs": [],
   "source": [
    "import requests"
   ]
  },
  {
   "cell_type": "markdown",
   "metadata": {
    "id": "-9OnkIdcmfO1",
    "pycharm": {
     "name": "#%% md\n"
    }
   },
   "source": [
    "## Список объектов"
   ]
  },
  {
   "cell_type": "code",
   "execution_count": 5,
   "metadata": {
    "id": "iuCQaBv5mfO2",
    "pycharm": {
     "name": "#%%\n"
    }
   },
   "outputs": [],
   "source": [
    "\n",
    "offset_ = 1\n",
    "limit_ = 1000\n",
    "url = f'https://xn--80az8a.xn--d1aqf.xn--p1ai/%D1%81%D0%B5%D1%80%D0%B2%D0%B8%D1%81%D1%8B/api/kn/object?offset={offset_}&limit={limit_}&sortField=devId.devShortCleanNm&sortType=asc&objStatus=0'\n",
    "res = requests.get(url)\n",
    "objects_data = res.json()"
   ]
  },
  {
   "cell_type": "markdown",
   "metadata": {
    "id": "qxA7Jg0_mfO3",
    "pycharm": {
     "name": "#%% md\n"
    }
   },
   "source": [
    "# Данные по определенному объекту"
   ]
  },
  {
   "cell_type": "code",
   "execution_count": 6,
   "metadata": {
    "id": "fnoub0PcmfO3",
    "pycharm": {
     "name": "#%%\n"
    }
   },
   "outputs": [],
   "source": [
    "\n",
    "url = f'https://xn--80az8a.xn--d1aqf.xn--p1ai/%D1%81%D0%B5%D1%80%D0%B2%D0%B8%D1%81%D1%8B/api/object/36774'"
   ]
  },
  {
   "cell_type": "code",
   "execution_count": null,
   "metadata": {
    "id": "SlOtY3QamfO4",
    "pycharm": {
     "name": "#%%\n"
    }
   },
   "outputs": [],
   "source": []
  },
  {
   "cell_type": "code",
   "execution_count": 7,
   "metadata": {},
   "outputs": [],
   "source": [
    "\n",
    "#####"
   ]
  },
  {
   "cell_type": "code",
   "execution_count": 8,
   "metadata": {},
   "outputs": [
    {
     "data": {
      "text/plain": [
       "[13383, 13398, 13397, 13399, 36912, 10891, 8809, 8810, 39176, 39175]"
      ]
     },
     "execution_count": 8,
     "metadata": {},
     "output_type": "execute_result"
    }
   ],
   "source": [
    "offset_ = 1\n",
    "limit_ = 1000\n",
    "url = f'https://xn--80az8a.xn--d1aqf.xn--p1ai/%D1%81%D0%B5%D1%80%D0%B2%D0%B8%D1%81%D1%8B/api/kn/object?offset={offset_}&limit={limit_}&sortField=devId.devShortCleanNm&sortType=asc&objStatus=0'\n",
    "res = requests.get(url)\n",
    "objects_data = res.json()\n",
    "objects_list = objects_data.get('data').get('list')\n",
    "Allobjids = [x.get('objId') for x in objects_list]\n",
    "Allobjids[:10]"
   ]
  },
  {
   "cell_type": "code",
   "execution_count": 9,
   "metadata": {},
   "outputs": [
    {
     "data": {
      "text/plain": [
       "1000"
      ]
     },
     "execution_count": 9,
     "metadata": {},
     "output_type": "execute_result"
    }
   ],
   "source": [
    "len(Allobjids)"
   ]
  },
  {
   "cell_type": "code",
   "execution_count": 10,
   "metadata": {},
   "outputs": [],
   "source": [
    "### One object full data"
   ]
  },
  {
   "cell_type": "code",
   "execution_count": 11,
   "metadata": {},
   "outputs": [],
   "source": [
    "url = f'https://xn--80az8a.xn--d1aqf.xn--p1ai/%D1%81%D0%B5%D1%80%D0%B2%D0%B8%D1%81%D1%8B/api/object/13383'\n",
    "\n",
    "res = requests.get(url)\n",
    "object_data = res.json()"
   ]
  },
  {
   "cell_type": "code",
   "execution_count": 12,
   "metadata": {},
   "outputs": [],
   "source": [
    "### All keys in that JSON structure"
   ]
  },
  {
   "cell_type": "code",
   "execution_count": 13,
   "metadata": {},
   "outputs": [
    {
     "name": "stdout",
     "output_type": "stream",
     "text": [
      "id\n",
      "hobjId\n",
      "pdId\n",
      "developer\n",
      "region\n",
      "address\n",
      "floorMin\n",
      "floorMax\n",
      "objElemLivingCnt\n",
      "objReady100PercDt\n",
      "wallMaterialShortDesc\n",
      "objLkFinishTypeDesc\n",
      "objLkFreePlanDesc\n",
      "objElemParkingCnt\n",
      "objSquareLiving\n",
      "rpdNum\n",
      "rpdPdfLink\n",
      "rpdIssueDttm\n",
      "objLkLatitude\n",
      "objLkLongitude\n",
      "objCompensFundFlg\n",
      "objProblemFlg\n",
      "objLkClassDesc\n",
      "loadDttm\n",
      "photoRenderDTO\n",
      "objGuarantyEscrowFlg\n",
      "objectType\n",
      "miniUrl\n",
      "residentialBuildings\n",
      "newBuildingId\n",
      "objFloorCnt\n",
      "objFlatCnt\n",
      "objFlatSq\n",
      "objNonlivElemCnt\n",
      "quartography\n",
      "objStatus\n",
      "isAvailableWantLiveHere\n",
      "objTransferPlanDt\n",
      "objLivCeilingHeight\n",
      "objInfrstrBicycleLaneFlg\n",
      "objInfrstrPlaygrndCnt\n",
      "objInfrstrSportGroundCnt\n",
      "objInfrstrTrashAreaCnt\n",
      "objInfrstrObjPrkngCnt\n",
      "objInfrstrNotObjPrkngCnt\n",
      "objInfrstrRampFlg\n",
      "objInfrstrCurbLoweringFlg\n",
      "objElevatorWheelchairCnt\n",
      "objElevatorPassengerCnt\n",
      "objElevatorCargoCnt\n",
      "objElevatorCargoPassengerCnt\n",
      "soldOutPerc\n",
      "objPriceAvg\n",
      "generalContractorNm\n",
      "nonlivFirstFloor\n",
      "objectTransportInfo\n",
      "conclusion\n",
      "objLkSaleDepEmail\n",
      "objGreenHouseFlg\n",
      "objEnergyEffShortDesc\n",
      "infrastructureIndexValue\n"
     ]
    }
   ],
   "source": [
    "for key in object_data['data'].keys():\n",
    "    print(key)"
   ]
  },
  {
   "cell_type": "code",
   "execution_count": 14,
   "metadata": {},
   "outputs": [],
   "source": [
    "AllKeysDict = {key:[] for key in object_data['data'].keys()}"
   ]
  },
  {
   "cell_type": "code",
   "execution_count": 15,
   "metadata": {},
   "outputs": [
    {
     "name": "stdout",
     "output_type": "stream",
     "text": [
      "{'id': [], 'hobjId': [], 'pdId': [], 'developer': [], 'region': [], 'address': [], 'floorMin': [], 'floorMax': [], 'objElemLivingCnt': [], 'objReady100PercDt': [], 'wallMaterialShortDesc': [], 'objLkFinishTypeDesc': [], 'objLkFreePlanDesc': [], 'objElemParkingCnt': [], 'objSquareLiving': [], 'rpdNum': [], 'rpdPdfLink': [], 'rpdIssueDttm': [], 'objLkLatitude': [], 'objLkLongitude': [], 'objCompensFundFlg': [], 'objProblemFlg': [], 'objLkClassDesc': [], 'loadDttm': [], 'photoRenderDTO': [], 'objGuarantyEscrowFlg': [], 'objectType': [], 'miniUrl': [], 'residentialBuildings': [], 'newBuildingId': [], 'objFloorCnt': [], 'objFlatCnt': [], 'objFlatSq': [], 'objNonlivElemCnt': [], 'quartography': [], 'objStatus': [], 'isAvailableWantLiveHere': [], 'objTransferPlanDt': [], 'objLivCeilingHeight': [], 'objInfrstrBicycleLaneFlg': [], 'objInfrstrPlaygrndCnt': [], 'objInfrstrSportGroundCnt': [], 'objInfrstrTrashAreaCnt': [], 'objInfrstrObjPrkngCnt': [], 'objInfrstrNotObjPrkngCnt': [], 'objInfrstrRampFlg': [], 'objInfrstrCurbLoweringFlg': [], 'objElevatorWheelchairCnt': [], 'objElevatorPassengerCnt': [], 'objElevatorCargoCnt': [], 'objElevatorCargoPassengerCnt': [], 'soldOutPerc': [], 'objPriceAvg': [], 'generalContractorNm': [], 'nonlivFirstFloor': [], 'objectTransportInfo': [], 'conclusion': [], 'objLkSaleDepEmail': [], 'objGreenHouseFlg': [], 'objEnergyEffShortDesc': [], 'infrastructureIndexValue': []}\n"
     ]
    }
   ],
   "source": [
    "print(AllKeysDict)"
   ]
  },
  {
   "cell_type": "code",
   "execution_count": null,
   "metadata": {},
   "outputs": [],
   "source": []
  },
  {
   "cell_type": "code",
   "execution_count": 16,
   "metadata": {},
   "outputs": [],
   "source": [
    "## Now iterate all construction objects and add one value to lists of values"
   ]
  },
  {
   "cell_type": "code",
   "execution_count": 17,
   "metadata": {},
   "outputs": [
    {
     "name": "stdout",
     "output_type": "stream",
     "text": [
      "13383\n",
      "13398\n",
      "13397\n",
      "13399\n",
      "36912\n",
      "10891\n",
      "8809\n",
      "8810\n",
      "39176\n",
      "39175\n"
     ]
    }
   ],
   "source": [
    "for idvalue in Allobjids[:10]:\n",
    "    print(idvalue)"
   ]
  },
  {
   "cell_type": "code",
   "execution_count": null,
   "metadata": {},
   "outputs": [],
   "source": []
  },
  {
   "cell_type": "code",
   "execution_count": 18,
   "metadata": {},
   "outputs": [],
   "source": [
    "AllKeysDict = {'id': [], 'hobjId': [], 'pdId': [], 'developer': [], 'region': [], 'address': [], 'floorMin': [], 'floorMax': [], 'objElemLivingCnt': [], 'objReady100PercDt': [], 'wallMaterialShortDesc': [], 'objLkFinishTypeDesc': [], 'objLkFreePlanDesc': [], 'objElemParkingCnt': [], 'objSquareLiving': [], 'rpdNum': [], 'rpdPdfLink': [], 'rpdIssueDttm': [], 'objLkLatitude': [], 'objLkLongitude': [], 'objCompensFundFlg': [], 'objProblemFlg': [], 'objLkClassDesc': [], 'loadDttm': [], 'photoRenderDTO': [], 'objGuarantyEscrowFlg': [], 'objectType': [], 'miniUrl': [], 'residentialBuildings': [], 'newBuildingId': [], 'objFloorCnt': [], 'objFlatCnt': [], 'objFlatSq': [], 'objNonlivElemCnt': [],  'objStatus': [], 'isAvailableWantLiveHere': [], 'objTransferPlanDt': [], 'objLivCeilingHeight': [], 'objInfrstrBicycleLaneFlg': [], 'objInfrstrPlaygrndCnt': [], 'objInfrstrSportGroundCnt': [], 'objInfrstrTrashAreaCnt': [], 'objInfrstrObjPrkngCnt': [], 'objInfrstrNotObjPrkngCnt': [], 'objInfrstrRampFlg': [], 'objInfrstrCurbLoweringFlg': [], 'objElevatorWheelchairCnt': [], 'objElevatorPassengerCnt': [], 'objElevatorCargoCnt': [], 'objElevatorCargoPassengerCnt': [], 'soldOutPerc': [], 'objPriceAvg': [], 'generalContractorNm': [], 'nonlivFirstFloor': [], 'objectTransportInfo': [], 'conclusion': [], 'objLkSaleDepEmail': [], 'objGreenHouseFlg': [], 'objEnergyEffShortDesc': [], 'infrastructureIndexValue': []}"
   ]
  },
  {
   "cell_type": "code",
   "execution_count": null,
   "metadata": {},
   "outputs": [],
   "source": []
  },
  {
   "cell_type": "code",
   "execution_count": null,
   "metadata": {},
   "outputs": [],
   "source": []
  },
  {
   "cell_type": "code",
   "execution_count": 19,
   "metadata": {},
   "outputs": [],
   "source": [
    "for idvalue in Allobjids[:10]:\n",
    "    url = 'https://xn--80az8a.xn--d1aqf.xn--p1ai/%D1%81%D0%B5%D1%80%D0%B2%D0%B8%D1%81%D1%8B/api/object/{}'.format(idvalue)\n",
    "    res = requests.get(url)\n",
    "    object_data = res.json()\n",
    "    for key in AllKeysDict:\n",
    "        try:\n",
    "            AllKeysDict[key].append(object_data['data'][key])\n",
    "        except:\n",
    "            AllKeysDict[key].append('----')"
   ]
  },
  {
   "cell_type": "code",
   "execution_count": null,
   "metadata": {},
   "outputs": [],
   "source": []
  },
  {
   "cell_type": "code",
   "execution_count": 20,
   "metadata": {},
   "outputs": [],
   "source": [
    "### Convert this to Pandas DataFrame"
   ]
  },
  {
   "cell_type": "code",
   "execution_count": 21,
   "metadata": {},
   "outputs": [],
   "source": [
    "import pandas as pd"
   ]
  },
  {
   "cell_type": "code",
   "execution_count": 22,
   "metadata": {},
   "outputs": [],
   "source": [
    "homes = pd.DataFrame.from_dict(AllKeysDict)"
   ]
  },
  {
   "cell_type": "code",
   "execution_count": 23,
   "metadata": {},
   "outputs": [
    {
     "data": {
      "text/plain": [
       "(10, 60)"
      ]
     },
     "execution_count": 23,
     "metadata": {},
     "output_type": "execute_result"
    }
   ],
   "source": [
    "homes.shape"
   ]
  },
  {
   "cell_type": "code",
   "execution_count": 24,
   "metadata": {},
   "outputs": [
    {
     "data": {
      "text/html": [
       "<div>\n",
       "<style scoped>\n",
       "    .dataframe tbody tr th:only-of-type {\n",
       "        vertical-align: middle;\n",
       "    }\n",
       "\n",
       "    .dataframe tbody tr th {\n",
       "        vertical-align: top;\n",
       "    }\n",
       "\n",
       "    .dataframe thead th {\n",
       "        text-align: right;\n",
       "    }\n",
       "</style>\n",
       "<table border=\"1\" class=\"dataframe\">\n",
       "  <thead>\n",
       "    <tr style=\"text-align: right;\">\n",
       "      <th></th>\n",
       "      <th>id</th>\n",
       "      <th>hobjId</th>\n",
       "      <th>pdId</th>\n",
       "      <th>developer</th>\n",
       "      <th>region</th>\n",
       "      <th>address</th>\n",
       "      <th>floorMin</th>\n",
       "      <th>floorMax</th>\n",
       "      <th>objElemLivingCnt</th>\n",
       "      <th>objReady100PercDt</th>\n",
       "      <th>...</th>\n",
       "      <th>soldOutPerc</th>\n",
       "      <th>objPriceAvg</th>\n",
       "      <th>generalContractorNm</th>\n",
       "      <th>nonlivFirstFloor</th>\n",
       "      <th>objectTransportInfo</th>\n",
       "      <th>conclusion</th>\n",
       "      <th>objLkSaleDepEmail</th>\n",
       "      <th>objGreenHouseFlg</th>\n",
       "      <th>objEnergyEffShortDesc</th>\n",
       "      <th>infrastructureIndexValue</th>\n",
       "    </tr>\n",
       "  </thead>\n",
       "  <tbody>\n",
       "    <tr>\n",
       "      <th>0</th>\n",
       "      <td>13383</td>\n",
       "      <td>39024</td>\n",
       "      <td>28105</td>\n",
       "      <td>{'devId': 306, 'devShortCleanNm': '2МЕН ГРУПП'...</td>\n",
       "      <td>72</td>\n",
       "      <td>г Тюмень</td>\n",
       "      <td>4</td>\n",
       "      <td>20</td>\n",
       "      <td>68</td>\n",
       "      <td>2023-03-31</td>\n",
       "      <td>...</td>\n",
       "      <td>0.406985</td>\n",
       "      <td>53109</td>\n",
       "      <td>ООО Транспромжилстрой-2005 (ИНН: 7204097730)</td>\n",
       "      <td>1</td>\n",
       "      <td>[]</td>\n",
       "      <td>False</td>\n",
       "      <td>info@2mengroup.ru</td>\n",
       "      <td>0</td>\n",
       "      <td>B</td>\n",
       "      <td>10</td>\n",
       "    </tr>\n",
       "    <tr>\n",
       "      <th>1</th>\n",
       "      <td>13398</td>\n",
       "      <td>37165</td>\n",
       "      <td>28141</td>\n",
       "      <td>{'devId': 306, 'devShortCleanNm': '2МЕН ГРУПП'...</td>\n",
       "      <td>72</td>\n",
       "      <td>г Тюмень, ул Профсоюзная, д. 56</td>\n",
       "      <td>7</td>\n",
       "      <td>10</td>\n",
       "      <td>43</td>\n",
       "      <td>2024-12-31</td>\n",
       "      <td>...</td>\n",
       "      <td>1.0</td>\n",
       "      <td>47886</td>\n",
       "      <td>ООО Транспромжилстрой-2005 (ИНН: 7204097730)</td>\n",
       "      <td>0</td>\n",
       "      <td>[]</td>\n",
       "      <td>False</td>\n",
       "      <td>info@2mengroup.ru</td>\n",
       "      <td>0</td>\n",
       "      <td>B</td>\n",
       "      <td>10</td>\n",
       "    </tr>\n",
       "    <tr>\n",
       "      <th>2</th>\n",
       "      <td>13397</td>\n",
       "      <td>37201</td>\n",
       "      <td>28141</td>\n",
       "      <td>{'devId': 306, 'devShortCleanNm': '2МЕН ГРУПП'...</td>\n",
       "      <td>72</td>\n",
       "      <td>г Тюмень, ул Профсоюзная, д. 56</td>\n",
       "      <td>6</td>\n",
       "      <td>12</td>\n",
       "      <td>65</td>\n",
       "      <td>2024-12-31</td>\n",
       "      <td>...</td>\n",
       "      <td>0.999984</td>\n",
       "      <td>45523</td>\n",
       "      <td>ООО Транспромжилстрой-2005 (ИНН: 7204097730)</td>\n",
       "      <td>0</td>\n",
       "      <td>[]</td>\n",
       "      <td>False</td>\n",
       "      <td>info@2mengroup.ru</td>\n",
       "      <td>0</td>\n",
       "      <td>B</td>\n",
       "      <td>10</td>\n",
       "    </tr>\n",
       "    <tr>\n",
       "      <th>3</th>\n",
       "      <td>13399</td>\n",
       "      <td>34754</td>\n",
       "      <td>28141</td>\n",
       "      <td>{'devId': 306, 'devShortCleanNm': '2МЕН ГРУПП'...</td>\n",
       "      <td>72</td>\n",
       "      <td>г Тюмень, ул Профсоюзная, д. 56</td>\n",
       "      <td>1</td>\n",
       "      <td>1</td>\n",
       "      <td>0</td>\n",
       "      <td>2024-12-31</td>\n",
       "      <td>...</td>\n",
       "      <td>0.917243</td>\n",
       "      <td>50768</td>\n",
       "      <td>ООО Транспромжилстрой-2005 (ИНН: 7204097730)</td>\n",
       "      <td>1</td>\n",
       "      <td>[]</td>\n",
       "      <td>False</td>\n",
       "      <td>info@2mengroup.ru</td>\n",
       "      <td>0</td>\n",
       "      <td>B</td>\n",
       "      <td>10</td>\n",
       "    </tr>\n",
       "    <tr>\n",
       "      <th>4</th>\n",
       "      <td>36912</td>\n",
       "      <td>117248</td>\n",
       "      <td>337586</td>\n",
       "      <td>{'devId': 10296, 'devShortCleanNm': 'CЗ СТРОЙР...</td>\n",
       "      <td>26</td>\n",
       "      <td>г Ставрополь, ул Шпаковская, Доваторцев, д. 10...</td>\n",
       "      <td>2</td>\n",
       "      <td>10</td>\n",
       "      <td>104</td>\n",
       "      <td>2022-12-31</td>\n",
       "      <td>...</td>\n",
       "      <td>0.609216</td>\n",
       "      <td>62703</td>\n",
       "      <td>ООО Стройресурс (ИНН: 2634053119)</td>\n",
       "      <td>1</td>\n",
       "      <td>[]</td>\n",
       "      <td>False</td>\n",
       "      <td>sz.stroyresurs@yandex.ru</td>\n",
       "      <td>0</td>\n",
       "      <td>B</td>\n",
       "      <td>8</td>\n",
       "    </tr>\n",
       "    <tr>\n",
       "      <th>5</th>\n",
       "      <td>10891</td>\n",
       "      <td>6541</td>\n",
       "      <td>23054</td>\n",
       "      <td>{'devId': 3006, 'devShortCleanNm': 'ААК ВОЛОГД...</td>\n",
       "      <td>35</td>\n",
       "      <td>г Вологда, ул Медуницинская, д. 7</td>\n",
       "      <td>16</td>\n",
       "      <td>16</td>\n",
       "      <td>225</td>\n",
       "      <td>2023-03-31</td>\n",
       "      <td>...</td>\n",
       "      <td>0.916518</td>\n",
       "      <td>44771</td>\n",
       "      <td>----</td>\n",
       "      <td>0</td>\n",
       "      <td>[]</td>\n",
       "      <td>False</td>\n",
       "      <td>vologdaagrostroy@yandex.ru</td>\n",
       "      <td>0</td>\n",
       "      <td>D</td>\n",
       "      <td>9</td>\n",
       "    </tr>\n",
       "    <tr>\n",
       "      <th>6</th>\n",
       "      <td>8809</td>\n",
       "      <td>4071</td>\n",
       "      <td>18074</td>\n",
       "      <td>{'devId': 1955, 'devShortCleanNm': 'АБСОЛЮТ', ...</td>\n",
       "      <td>74</td>\n",
       "      <td>город Южноуральск, улица Сергея Буландо, д. 8</td>\n",
       "      <td>10</td>\n",
       "      <td>10</td>\n",
       "      <td>129</td>\n",
       "      <td>2019-03-31</td>\n",
       "      <td>...</td>\n",
       "      <td>----</td>\n",
       "      <td>----</td>\n",
       "      <td>----</td>\n",
       "      <td>0</td>\n",
       "      <td>[]</td>\n",
       "      <td>False</td>\n",
       "      <td>----</td>\n",
       "      <td>0</td>\n",
       "      <td>B</td>\n",
       "      <td>7</td>\n",
       "    </tr>\n",
       "    <tr>\n",
       "      <th>7</th>\n",
       "      <td>8810</td>\n",
       "      <td>39960</td>\n",
       "      <td>18074</td>\n",
       "      <td>{'devId': 1955, 'devShortCleanNm': 'АБСОЛЮТ', ...</td>\n",
       "      <td>74</td>\n",
       "      <td>город Южноуральск, улица Сергея Буландо, д. 8</td>\n",
       "      <td>10</td>\n",
       "      <td>10</td>\n",
       "      <td>119</td>\n",
       "      <td>2019-03-31</td>\n",
       "      <td>...</td>\n",
       "      <td>----</td>\n",
       "      <td>----</td>\n",
       "      <td>----</td>\n",
       "      <td>0</td>\n",
       "      <td>[]</td>\n",
       "      <td>False</td>\n",
       "      <td>----</td>\n",
       "      <td>0</td>\n",
       "      <td>B</td>\n",
       "      <td>7</td>\n",
       "    </tr>\n",
       "    <tr>\n",
       "      <th>8</th>\n",
       "      <td>39176</td>\n",
       "      <td>119604</td>\n",
       "      <td>435352</td>\n",
       "      <td>{'devId': 1146, 'devShortCleanNm': 'АВА ДЕВЕЛО...</td>\n",
       "      <td>23</td>\n",
       "      <td>г Краснодар, улица Валерия Гассия, д. 4/7, лит...</td>\n",
       "      <td>25</td>\n",
       "      <td>25</td>\n",
       "      <td>198</td>\n",
       "      <td>2024-09-30</td>\n",
       "      <td>...</td>\n",
       "      <td>0.544263</td>\n",
       "      <td>103761</td>\n",
       "      <td>ООО ГРАНТ СТРОЙ (ИНН: 2312246941)</td>\n",
       "      <td>1</td>\n",
       "      <td>[]</td>\n",
       "      <td>True</td>\n",
       "      <td>info@ask-yug.com</td>\n",
       "      <td>0</td>\n",
       "      <td>B</td>\n",
       "      <td>5</td>\n",
       "    </tr>\n",
       "    <tr>\n",
       "      <th>9</th>\n",
       "      <td>39175</td>\n",
       "      <td>119603</td>\n",
       "      <td>435351</td>\n",
       "      <td>{'devId': 1146, 'devShortCleanNm': 'АВА ДЕВЕЛО...</td>\n",
       "      <td>23</td>\n",
       "      <td>г Краснодар, улица Валерия Гассия, д. 4/7, лит...</td>\n",
       "      <td>25</td>\n",
       "      <td>25</td>\n",
       "      <td>396</td>\n",
       "      <td>2023-06-30</td>\n",
       "      <td>...</td>\n",
       "      <td>0.545813</td>\n",
       "      <td>102841</td>\n",
       "      <td>ООО ГРАНТ СТРОЙ (ИНН: 2312246941)</td>\n",
       "      <td>1</td>\n",
       "      <td>[]</td>\n",
       "      <td>True</td>\n",
       "      <td>info@ask-yug.com</td>\n",
       "      <td>0</td>\n",
       "      <td>B</td>\n",
       "      <td>5</td>\n",
       "    </tr>\n",
       "  </tbody>\n",
       "</table>\n",
       "<p>10 rows × 60 columns</p>\n",
       "</div>"
      ],
      "text/plain": [
       "      id  hobjId    pdId                                          developer  \\\n",
       "0  13383   39024   28105  {'devId': 306, 'devShortCleanNm': '2МЕН ГРУПП'...   \n",
       "1  13398   37165   28141  {'devId': 306, 'devShortCleanNm': '2МЕН ГРУПП'...   \n",
       "2  13397   37201   28141  {'devId': 306, 'devShortCleanNm': '2МЕН ГРУПП'...   \n",
       "3  13399   34754   28141  {'devId': 306, 'devShortCleanNm': '2МЕН ГРУПП'...   \n",
       "4  36912  117248  337586  {'devId': 10296, 'devShortCleanNm': 'CЗ СТРОЙР...   \n",
       "5  10891    6541   23054  {'devId': 3006, 'devShortCleanNm': 'ААК ВОЛОГД...   \n",
       "6   8809    4071   18074  {'devId': 1955, 'devShortCleanNm': 'АБСОЛЮТ', ...   \n",
       "7   8810   39960   18074  {'devId': 1955, 'devShortCleanNm': 'АБСОЛЮТ', ...   \n",
       "8  39176  119604  435352  {'devId': 1146, 'devShortCleanNm': 'АВА ДЕВЕЛО...   \n",
       "9  39175  119603  435351  {'devId': 1146, 'devShortCleanNm': 'АВА ДЕВЕЛО...   \n",
       "\n",
       "   region                                            address  floorMin  \\\n",
       "0      72                                           г Тюмень         4   \n",
       "1      72                    г Тюмень, ул Профсоюзная, д. 56         7   \n",
       "2      72                    г Тюмень, ул Профсоюзная, д. 56         6   \n",
       "3      72                    г Тюмень, ул Профсоюзная, д. 56         1   \n",
       "4      26  г Ставрополь, ул Шпаковская, Доваторцев, д. 10...         2   \n",
       "5      35                  г Вологда, ул Медуницинская, д. 7        16   \n",
       "6      74      город Южноуральск, улица Сергея Буландо, д. 8        10   \n",
       "7      74      город Южноуральск, улица Сергея Буландо, д. 8        10   \n",
       "8      23  г Краснодар, улица Валерия Гассия, д. 4/7, лит...        25   \n",
       "9      23  г Краснодар, улица Валерия Гассия, д. 4/7, лит...        25   \n",
       "\n",
       "   floorMax  objElemLivingCnt objReady100PercDt  ... soldOutPerc objPriceAvg  \\\n",
       "0        20                68        2023-03-31  ...    0.406985       53109   \n",
       "1        10                43        2024-12-31  ...         1.0       47886   \n",
       "2        12                65        2024-12-31  ...    0.999984       45523   \n",
       "3         1                 0        2024-12-31  ...    0.917243       50768   \n",
       "4        10               104        2022-12-31  ...    0.609216       62703   \n",
       "5        16               225        2023-03-31  ...    0.916518       44771   \n",
       "6        10               129        2019-03-31  ...        ----        ----   \n",
       "7        10               119        2019-03-31  ...        ----        ----   \n",
       "8        25               198        2024-09-30  ...    0.544263      103761   \n",
       "9        25               396        2023-06-30  ...    0.545813      102841   \n",
       "\n",
       "                            generalContractorNm  nonlivFirstFloor  \\\n",
       "0  ООО Транспромжилстрой-2005 (ИНН: 7204097730)                 1   \n",
       "1  ООО Транспромжилстрой-2005 (ИНН: 7204097730)                 0   \n",
       "2  ООО Транспромжилстрой-2005 (ИНН: 7204097730)                 0   \n",
       "3  ООО Транспромжилстрой-2005 (ИНН: 7204097730)                 1   \n",
       "4             ООО Стройресурс (ИНН: 2634053119)                 1   \n",
       "5                                          ----                 0   \n",
       "6                                          ----                 0   \n",
       "7                                          ----                 0   \n",
       "8             ООО ГРАНТ СТРОЙ (ИНН: 2312246941)                 1   \n",
       "9             ООО ГРАНТ СТРОЙ (ИНН: 2312246941)                 1   \n",
       "\n",
       "   objectTransportInfo conclusion           objLkSaleDepEmail  \\\n",
       "0                   []      False           info@2mengroup.ru   \n",
       "1                   []      False           info@2mengroup.ru   \n",
       "2                   []      False           info@2mengroup.ru   \n",
       "3                   []      False           info@2mengroup.ru   \n",
       "4                   []      False    sz.stroyresurs@yandex.ru   \n",
       "5                   []      False  vologdaagrostroy@yandex.ru   \n",
       "6                   []      False                        ----   \n",
       "7                   []      False                        ----   \n",
       "8                   []       True            info@ask-yug.com   \n",
       "9                   []       True            info@ask-yug.com   \n",
       "\n",
       "  objGreenHouseFlg objEnergyEffShortDesc infrastructureIndexValue  \n",
       "0                0                     B                       10  \n",
       "1                0                     B                       10  \n",
       "2                0                     B                       10  \n",
       "3                0                     B                       10  \n",
       "4                0                     B                        8  \n",
       "5                0                     D                        9  \n",
       "6                0                     B                        7  \n",
       "7                0                     B                        7  \n",
       "8                0                     B                        5  \n",
       "9                0                     B                        5  \n",
       "\n",
       "[10 rows x 60 columns]"
      ]
     },
     "execution_count": 24,
     "metadata": {},
     "output_type": "execute_result"
    }
   ],
   "source": [
    "homes.head(10)"
   ]
  },
  {
   "cell_type": "code",
   "execution_count": null,
   "metadata": {},
   "outputs": [],
   "source": []
  },
  {
   "cell_type": "code",
   "execution_count": 25,
   "metadata": {},
   "outputs": [
    {
     "name": "stdout",
     "output_type": "stream",
     "text": [
      "<class 'pandas.core.frame.DataFrame'>\n",
      "RangeIndex: 10 entries, 0 to 9\n",
      "Data columns (total 60 columns):\n",
      " #   Column                        Non-Null Count  Dtype  \n",
      "---  ------                        --------------  -----  \n",
      " 0   id                            10 non-null     int64  \n",
      " 1   hobjId                        10 non-null     int64  \n",
      " 2   pdId                          10 non-null     int64  \n",
      " 3   developer                     10 non-null     object \n",
      " 4   region                        10 non-null     int64  \n",
      " 5   address                       10 non-null     object \n",
      " 6   floorMin                      10 non-null     int64  \n",
      " 7   floorMax                      10 non-null     int64  \n",
      " 8   objElemLivingCnt              10 non-null     int64  \n",
      " 9   objReady100PercDt             10 non-null     object \n",
      " 10  wallMaterialShortDesc         10 non-null     object \n",
      " 11  objLkFinishTypeDesc           10 non-null     object \n",
      " 12  objLkFreePlanDesc             10 non-null     object \n",
      " 13  objElemParkingCnt             10 non-null     int64  \n",
      " 14  objSquareLiving               10 non-null     float64\n",
      " 15  rpdNum                        10 non-null     object \n",
      " 16  rpdPdfLink                    10 non-null     object \n",
      " 17  rpdIssueDttm                  10 non-null     object \n",
      " 18  objLkLatitude                 10 non-null     object \n",
      " 19  objLkLongitude                10 non-null     object \n",
      " 20  objCompensFundFlg             10 non-null     int64  \n",
      " 21  objProblemFlg                 10 non-null     int64  \n",
      " 22  objLkClassDesc                10 non-null     object \n",
      " 23  loadDttm                      10 non-null     object \n",
      " 24  photoRenderDTO                10 non-null     object \n",
      " 25  objGuarantyEscrowFlg          10 non-null     int64  \n",
      " 26  objectType                    10 non-null     object \n",
      " 27  miniUrl                       10 non-null     object \n",
      " 28  residentialBuildings          10 non-null     int64  \n",
      " 29  newBuildingId                 10 non-null     int64  \n",
      " 30  objFloorCnt                   10 non-null     int64  \n",
      " 31  objFlatCnt                    10 non-null     int64  \n",
      " 32  objFlatSq                     10 non-null     object \n",
      " 33  objNonlivElemCnt              10 non-null     int64  \n",
      " 34  objStatus                     10 non-null     int64  \n",
      " 35  isAvailableWantLiveHere       10 non-null     bool   \n",
      " 36  objTransferPlanDt             10 non-null     object \n",
      " 37  objLivCeilingHeight           10 non-null     object \n",
      " 38  objInfrstrBicycleLaneFlg      10 non-null     int64  \n",
      " 39  objInfrstrPlaygrndCnt         10 non-null     object \n",
      " 40  objInfrstrSportGroundCnt      10 non-null     object \n",
      " 41  objInfrstrTrashAreaCnt        10 non-null     object \n",
      " 42  objInfrstrObjPrkngCnt         10 non-null     object \n",
      " 43  objInfrstrNotObjPrkngCnt      10 non-null     object \n",
      " 44  objInfrstrRampFlg             10 non-null     int64  \n",
      " 45  objInfrstrCurbLoweringFlg     10 non-null     int64  \n",
      " 46  objElevatorWheelchairCnt      10 non-null     object \n",
      " 47  objElevatorPassengerCnt       10 non-null     object \n",
      " 48  objElevatorCargoCnt           10 non-null     object \n",
      " 49  objElevatorCargoPassengerCnt  10 non-null     int64  \n",
      " 50  soldOutPerc                   10 non-null     object \n",
      " 51  objPriceAvg                   10 non-null     object \n",
      " 52  generalContractorNm           10 non-null     object \n",
      " 53  nonlivFirstFloor              10 non-null     int64  \n",
      " 54  objectTransportInfo           10 non-null     object \n",
      " 55  conclusion                    10 non-null     bool   \n",
      " 56  objLkSaleDepEmail             10 non-null     object \n",
      " 57  objGreenHouseFlg              10 non-null     int64  \n",
      " 58  objEnergyEffShortDesc         10 non-null     object \n",
      " 59  infrastructureIndexValue      10 non-null     int64  \n",
      "dtypes: bool(2), float64(1), int64(24), object(33)\n",
      "memory usage: 4.7+ KB\n"
     ]
    }
   ],
   "source": [
    "homes.info()"
   ]
  },
  {
   "cell_type": "code",
   "execution_count": 26,
   "metadata": {},
   "outputs": [
    {
     "data": {
      "text/html": [
       "<div>\n",
       "<style scoped>\n",
       "    .dataframe tbody tr th:only-of-type {\n",
       "        vertical-align: middle;\n",
       "    }\n",
       "\n",
       "    .dataframe tbody tr th {\n",
       "        vertical-align: top;\n",
       "    }\n",
       "\n",
       "    .dataframe thead th {\n",
       "        text-align: right;\n",
       "    }\n",
       "</style>\n",
       "<table border=\"1\" class=\"dataframe\">\n",
       "  <thead>\n",
       "    <tr style=\"text-align: right;\">\n",
       "      <th></th>\n",
       "      <th>id</th>\n",
       "      <th>hobjId</th>\n",
       "      <th>pdId</th>\n",
       "      <th>region</th>\n",
       "      <th>floorMin</th>\n",
       "      <th>floorMax</th>\n",
       "      <th>objElemLivingCnt</th>\n",
       "      <th>objElemParkingCnt</th>\n",
       "      <th>objSquareLiving</th>\n",
       "      <th>objCompensFundFlg</th>\n",
       "      <th>...</th>\n",
       "      <th>objFlatCnt</th>\n",
       "      <th>objNonlivElemCnt</th>\n",
       "      <th>objStatus</th>\n",
       "      <th>objInfrstrBicycleLaneFlg</th>\n",
       "      <th>objInfrstrRampFlg</th>\n",
       "      <th>objInfrstrCurbLoweringFlg</th>\n",
       "      <th>objElevatorCargoPassengerCnt</th>\n",
       "      <th>nonlivFirstFloor</th>\n",
       "      <th>objGreenHouseFlg</th>\n",
       "      <th>infrastructureIndexValue</th>\n",
       "    </tr>\n",
       "  </thead>\n",
       "  <tbody>\n",
       "    <tr>\n",
       "      <th>count</th>\n",
       "      <td>10.000000</td>\n",
       "      <td>10.000000</td>\n",
       "      <td>10.000000</td>\n",
       "      <td>10.000000</td>\n",
       "      <td>10.000000</td>\n",
       "      <td>10.000000</td>\n",
       "      <td>10.000000</td>\n",
       "      <td>10.00000</td>\n",
       "      <td>10.000000</td>\n",
       "      <td>10.000000</td>\n",
       "      <td>...</td>\n",
       "      <td>10.000000</td>\n",
       "      <td>10.000000</td>\n",
       "      <td>10.0</td>\n",
       "      <td>10.0</td>\n",
       "      <td>10.000000</td>\n",
       "      <td>10.000000</td>\n",
       "      <td>10.000000</td>\n",
       "      <td>10.000000</td>\n",
       "      <td>10.0</td>\n",
       "      <td>10.000000</td>\n",
       "    </tr>\n",
       "    <tr>\n",
       "      <th>mean</th>\n",
       "      <td>19735.000000</td>\n",
       "      <td>55517.100000</td>\n",
       "      <td>138001.900000</td>\n",
       "      <td>54.300000</td>\n",
       "      <td>10.600000</td>\n",
       "      <td>13.900000</td>\n",
       "      <td>134.700000</td>\n",
       "      <td>19.80000</td>\n",
       "      <td>8166.245000</td>\n",
       "      <td>0.200000</td>\n",
       "      <td>...</td>\n",
       "      <td>134.700000</td>\n",
       "      <td>19.100000</td>\n",
       "      <td>0.0</td>\n",
       "      <td>0.0</td>\n",
       "      <td>0.700000</td>\n",
       "      <td>0.800000</td>\n",
       "      <td>4.300000</td>\n",
       "      <td>0.500000</td>\n",
       "      <td>0.0</td>\n",
       "      <td>8.100000</td>\n",
       "    </tr>\n",
       "    <tr>\n",
       "      <th>std</th>\n",
       "      <td>13032.802461</td>\n",
       "      <td>45567.566493</td>\n",
       "      <td>184671.295069</td>\n",
       "      <td>23.949252</td>\n",
       "      <td>8.745793</td>\n",
       "      <td>7.593126</td>\n",
       "      <td>114.270683</td>\n",
       "      <td>40.04109</td>\n",
       "      <td>6070.262766</td>\n",
       "      <td>0.421637</td>\n",
       "      <td>...</td>\n",
       "      <td>114.270683</td>\n",
       "      <td>23.722704</td>\n",
       "      <td>0.0</td>\n",
       "      <td>0.0</td>\n",
       "      <td>0.483046</td>\n",
       "      <td>0.421637</td>\n",
       "      <td>4.945256</td>\n",
       "      <td>0.527046</td>\n",
       "      <td>0.0</td>\n",
       "      <td>2.024846</td>\n",
       "    </tr>\n",
       "    <tr>\n",
       "      <th>min</th>\n",
       "      <td>8809.000000</td>\n",
       "      <td>4071.000000</td>\n",
       "      <td>18074.000000</td>\n",
       "      <td>23.000000</td>\n",
       "      <td>1.000000</td>\n",
       "      <td>1.000000</td>\n",
       "      <td>0.000000</td>\n",
       "      <td>0.00000</td>\n",
       "      <td>0.000000</td>\n",
       "      <td>0.000000</td>\n",
       "      <td>...</td>\n",
       "      <td>0.000000</td>\n",
       "      <td>0.000000</td>\n",
       "      <td>0.0</td>\n",
       "      <td>0.0</td>\n",
       "      <td>0.000000</td>\n",
       "      <td>0.000000</td>\n",
       "      <td>0.000000</td>\n",
       "      <td>0.000000</td>\n",
       "      <td>0.0</td>\n",
       "      <td>5.000000</td>\n",
       "    </tr>\n",
       "    <tr>\n",
       "      <th>25%</th>\n",
       "      <td>11514.000000</td>\n",
       "      <td>35356.750000</td>\n",
       "      <td>24316.750000</td>\n",
       "      <td>28.250000</td>\n",
       "      <td>4.500000</td>\n",
       "      <td>10.000000</td>\n",
       "      <td>65.750000</td>\n",
       "      <td>0.00000</td>\n",
       "      <td>5051.310000</td>\n",
       "      <td>0.000000</td>\n",
       "      <td>...</td>\n",
       "      <td>65.750000</td>\n",
       "      <td>0.750000</td>\n",
       "      <td>0.0</td>\n",
       "      <td>0.0</td>\n",
       "      <td>0.250000</td>\n",
       "      <td>1.000000</td>\n",
       "      <td>0.250000</td>\n",
       "      <td>0.000000</td>\n",
       "      <td>0.0</td>\n",
       "      <td>7.000000</td>\n",
       "    </tr>\n",
       "    <tr>\n",
       "      <th>50%</th>\n",
       "      <td>13397.500000</td>\n",
       "      <td>38112.500000</td>\n",
       "      <td>28141.000000</td>\n",
       "      <td>72.000000</td>\n",
       "      <td>8.500000</td>\n",
       "      <td>11.000000</td>\n",
       "      <td>111.500000</td>\n",
       "      <td>0.00000</td>\n",
       "      <td>6272.530000</td>\n",
       "      <td>0.000000</td>\n",
       "      <td>...</td>\n",
       "      <td>111.500000</td>\n",
       "      <td>10.000000</td>\n",
       "      <td>0.0</td>\n",
       "      <td>0.0</td>\n",
       "      <td>1.000000</td>\n",
       "      <td>1.000000</td>\n",
       "      <td>2.500000</td>\n",
       "      <td>0.500000</td>\n",
       "      <td>0.0</td>\n",
       "      <td>8.500000</td>\n",
       "    </tr>\n",
       "    <tr>\n",
       "      <th>75%</th>\n",
       "      <td>31033.750000</td>\n",
       "      <td>97926.000000</td>\n",
       "      <td>260224.750000</td>\n",
       "      <td>72.000000</td>\n",
       "      <td>14.500000</td>\n",
       "      <td>19.000000</td>\n",
       "      <td>180.750000</td>\n",
       "      <td>23.25000</td>\n",
       "      <td>10725.500000</td>\n",
       "      <td>0.000000</td>\n",
       "      <td>...</td>\n",
       "      <td>180.750000</td>\n",
       "      <td>27.500000</td>\n",
       "      <td>0.0</td>\n",
       "      <td>0.0</td>\n",
       "      <td>1.000000</td>\n",
       "      <td>1.000000</td>\n",
       "      <td>6.750000</td>\n",
       "      <td>1.000000</td>\n",
       "      <td>0.0</td>\n",
       "      <td>10.000000</td>\n",
       "    </tr>\n",
       "    <tr>\n",
       "      <th>max</th>\n",
       "      <td>39176.000000</td>\n",
       "      <td>119604.000000</td>\n",
       "      <td>435352.000000</td>\n",
       "      <td>74.000000</td>\n",
       "      <td>25.000000</td>\n",
       "      <td>25.000000</td>\n",
       "      <td>396.000000</td>\n",
       "      <td>125.00000</td>\n",
       "      <td>21932.800000</td>\n",
       "      <td>1.000000</td>\n",
       "      <td>...</td>\n",
       "      <td>396.000000</td>\n",
       "      <td>70.000000</td>\n",
       "      <td>0.0</td>\n",
       "      <td>0.0</td>\n",
       "      <td>1.000000</td>\n",
       "      <td>1.000000</td>\n",
       "      <td>15.000000</td>\n",
       "      <td>1.000000</td>\n",
       "      <td>0.0</td>\n",
       "      <td>10.000000</td>\n",
       "    </tr>\n",
       "  </tbody>\n",
       "</table>\n",
       "<p>8 rows × 25 columns</p>\n",
       "</div>"
      ],
      "text/plain": [
       "                 id         hobjId           pdId     region   floorMin  \\\n",
       "count     10.000000      10.000000      10.000000  10.000000  10.000000   \n",
       "mean   19735.000000   55517.100000  138001.900000  54.300000  10.600000   \n",
       "std    13032.802461   45567.566493  184671.295069  23.949252   8.745793   \n",
       "min     8809.000000    4071.000000   18074.000000  23.000000   1.000000   \n",
       "25%    11514.000000   35356.750000   24316.750000  28.250000   4.500000   \n",
       "50%    13397.500000   38112.500000   28141.000000  72.000000   8.500000   \n",
       "75%    31033.750000   97926.000000  260224.750000  72.000000  14.500000   \n",
       "max    39176.000000  119604.000000  435352.000000  74.000000  25.000000   \n",
       "\n",
       "        floorMax  objElemLivingCnt  objElemParkingCnt  objSquareLiving  \\\n",
       "count  10.000000         10.000000           10.00000        10.000000   \n",
       "mean   13.900000        134.700000           19.80000      8166.245000   \n",
       "std     7.593126        114.270683           40.04109      6070.262766   \n",
       "min     1.000000          0.000000            0.00000         0.000000   \n",
       "25%    10.000000         65.750000            0.00000      5051.310000   \n",
       "50%    11.000000        111.500000            0.00000      6272.530000   \n",
       "75%    19.000000        180.750000           23.25000     10725.500000   \n",
       "max    25.000000        396.000000          125.00000     21932.800000   \n",
       "\n",
       "       objCompensFundFlg  ...  objFlatCnt  objNonlivElemCnt  objStatus  \\\n",
       "count          10.000000  ...   10.000000         10.000000       10.0   \n",
       "mean            0.200000  ...  134.700000         19.100000        0.0   \n",
       "std             0.421637  ...  114.270683         23.722704        0.0   \n",
       "min             0.000000  ...    0.000000          0.000000        0.0   \n",
       "25%             0.000000  ...   65.750000          0.750000        0.0   \n",
       "50%             0.000000  ...  111.500000         10.000000        0.0   \n",
       "75%             0.000000  ...  180.750000         27.500000        0.0   \n",
       "max             1.000000  ...  396.000000         70.000000        0.0   \n",
       "\n",
       "       objInfrstrBicycleLaneFlg  objInfrstrRampFlg  objInfrstrCurbLoweringFlg  \\\n",
       "count                      10.0          10.000000                  10.000000   \n",
       "mean                        0.0           0.700000                   0.800000   \n",
       "std                         0.0           0.483046                   0.421637   \n",
       "min                         0.0           0.000000                   0.000000   \n",
       "25%                         0.0           0.250000                   1.000000   \n",
       "50%                         0.0           1.000000                   1.000000   \n",
       "75%                         0.0           1.000000                   1.000000   \n",
       "max                         0.0           1.000000                   1.000000   \n",
       "\n",
       "       objElevatorCargoPassengerCnt  nonlivFirstFloor  objGreenHouseFlg  \\\n",
       "count                     10.000000         10.000000              10.0   \n",
       "mean                       4.300000          0.500000               0.0   \n",
       "std                        4.945256          0.527046               0.0   \n",
       "min                        0.000000          0.000000               0.0   \n",
       "25%                        0.250000          0.000000               0.0   \n",
       "50%                        2.500000          0.500000               0.0   \n",
       "75%                        6.750000          1.000000               0.0   \n",
       "max                       15.000000          1.000000               0.0   \n",
       "\n",
       "       infrastructureIndexValue  \n",
       "count                 10.000000  \n",
       "mean                   8.100000  \n",
       "std                    2.024846  \n",
       "min                    5.000000  \n",
       "25%                    7.000000  \n",
       "50%                    8.500000  \n",
       "75%                   10.000000  \n",
       "max                   10.000000  \n",
       "\n",
       "[8 rows x 25 columns]"
      ]
     },
     "execution_count": 26,
     "metadata": {},
     "output_type": "execute_result"
    }
   ],
   "source": [
    "homes.describe()"
   ]
  },
  {
   "cell_type": "code",
   "execution_count": 27,
   "metadata": {},
   "outputs": [
    {
     "data": {
      "text/html": [
       "<div>\n",
       "<style scoped>\n",
       "    .dataframe tbody tr th:only-of-type {\n",
       "        vertical-align: middle;\n",
       "    }\n",
       "\n",
       "    .dataframe tbody tr th {\n",
       "        vertical-align: top;\n",
       "    }\n",
       "\n",
       "    .dataframe thead th {\n",
       "        text-align: right;\n",
       "    }\n",
       "</style>\n",
       "<table border=\"1\" class=\"dataframe\">\n",
       "  <thead>\n",
       "    <tr style=\"text-align: right;\">\n",
       "      <th></th>\n",
       "      <th>floorMin</th>\n",
       "      <th>floorMax</th>\n",
       "    </tr>\n",
       "  </thead>\n",
       "  <tbody>\n",
       "    <tr>\n",
       "      <th>0</th>\n",
       "      <td>4</td>\n",
       "      <td>20</td>\n",
       "    </tr>\n",
       "    <tr>\n",
       "      <th>1</th>\n",
       "      <td>7</td>\n",
       "      <td>10</td>\n",
       "    </tr>\n",
       "    <tr>\n",
       "      <th>2</th>\n",
       "      <td>6</td>\n",
       "      <td>12</td>\n",
       "    </tr>\n",
       "    <tr>\n",
       "      <th>3</th>\n",
       "      <td>1</td>\n",
       "      <td>1</td>\n",
       "    </tr>\n",
       "    <tr>\n",
       "      <th>4</th>\n",
       "      <td>2</td>\n",
       "      <td>10</td>\n",
       "    </tr>\n",
       "    <tr>\n",
       "      <th>5</th>\n",
       "      <td>16</td>\n",
       "      <td>16</td>\n",
       "    </tr>\n",
       "    <tr>\n",
       "      <th>6</th>\n",
       "      <td>10</td>\n",
       "      <td>10</td>\n",
       "    </tr>\n",
       "    <tr>\n",
       "      <th>7</th>\n",
       "      <td>10</td>\n",
       "      <td>10</td>\n",
       "    </tr>\n",
       "    <tr>\n",
       "      <th>8</th>\n",
       "      <td>25</td>\n",
       "      <td>25</td>\n",
       "    </tr>\n",
       "    <tr>\n",
       "      <th>9</th>\n",
       "      <td>25</td>\n",
       "      <td>25</td>\n",
       "    </tr>\n",
       "  </tbody>\n",
       "</table>\n",
       "</div>"
      ],
      "text/plain": [
       "   floorMin  floorMax\n",
       "0         4        20\n",
       "1         7        10\n",
       "2         6        12\n",
       "3         1         1\n",
       "4         2        10\n",
       "5        16        16\n",
       "6        10        10\n",
       "7        10        10\n",
       "8        25        25\n",
       "9        25        25"
      ]
     },
     "execution_count": 27,
     "metadata": {},
     "output_type": "execute_result"
    }
   ],
   "source": [
    "homes[['floorMin', 'floorMax']]"
   ]
  },
  {
   "cell_type": "code",
   "execution_count": null,
   "metadata": {},
   "outputs": [],
   "source": []
  },
  {
   "cell_type": "code",
   "execution_count": 28,
   "metadata": {},
   "outputs": [],
   "source": [
    "## Рассчитать средние цены за квадратный метр по регионам. Важно чтобы пропуски не учитывались при расчете средней цены."
   ]
  },
  {
   "cell_type": "code",
   "execution_count": 29,
   "metadata": {},
   "outputs": [
    {
     "data": {
      "text/html": [
       "<div>\n",
       "<style scoped>\n",
       "    .dataframe tbody tr th:only-of-type {\n",
       "        vertical-align: middle;\n",
       "    }\n",
       "\n",
       "    .dataframe tbody tr th {\n",
       "        vertical-align: top;\n",
       "    }\n",
       "\n",
       "    .dataframe thead th {\n",
       "        text-align: right;\n",
       "    }\n",
       "</style>\n",
       "<table border=\"1\" class=\"dataframe\">\n",
       "  <thead>\n",
       "    <tr style=\"text-align: right;\">\n",
       "      <th></th>\n",
       "      <th>id</th>\n",
       "      <th>region</th>\n",
       "      <th>objPriceAvg</th>\n",
       "    </tr>\n",
       "  </thead>\n",
       "  <tbody>\n",
       "    <tr>\n",
       "      <th>0</th>\n",
       "      <td>13383</td>\n",
       "      <td>72</td>\n",
       "      <td>53109</td>\n",
       "    </tr>\n",
       "    <tr>\n",
       "      <th>1</th>\n",
       "      <td>13398</td>\n",
       "      <td>72</td>\n",
       "      <td>47886</td>\n",
       "    </tr>\n",
       "    <tr>\n",
       "      <th>2</th>\n",
       "      <td>13397</td>\n",
       "      <td>72</td>\n",
       "      <td>45523</td>\n",
       "    </tr>\n",
       "    <tr>\n",
       "      <th>3</th>\n",
       "      <td>13399</td>\n",
       "      <td>72</td>\n",
       "      <td>50768</td>\n",
       "    </tr>\n",
       "    <tr>\n",
       "      <th>4</th>\n",
       "      <td>36912</td>\n",
       "      <td>26</td>\n",
       "      <td>62703</td>\n",
       "    </tr>\n",
       "    <tr>\n",
       "      <th>5</th>\n",
       "      <td>10891</td>\n",
       "      <td>35</td>\n",
       "      <td>44771</td>\n",
       "    </tr>\n",
       "    <tr>\n",
       "      <th>6</th>\n",
       "      <td>8809</td>\n",
       "      <td>74</td>\n",
       "      <td>----</td>\n",
       "    </tr>\n",
       "    <tr>\n",
       "      <th>7</th>\n",
       "      <td>8810</td>\n",
       "      <td>74</td>\n",
       "      <td>----</td>\n",
       "    </tr>\n",
       "    <tr>\n",
       "      <th>8</th>\n",
       "      <td>39176</td>\n",
       "      <td>23</td>\n",
       "      <td>103761</td>\n",
       "    </tr>\n",
       "    <tr>\n",
       "      <th>9</th>\n",
       "      <td>39175</td>\n",
       "      <td>23</td>\n",
       "      <td>102841</td>\n",
       "    </tr>\n",
       "  </tbody>\n",
       "</table>\n",
       "</div>"
      ],
      "text/plain": [
       "      id  region objPriceAvg\n",
       "0  13383      72       53109\n",
       "1  13398      72       47886\n",
       "2  13397      72       45523\n",
       "3  13399      72       50768\n",
       "4  36912      26       62703\n",
       "5  10891      35       44771\n",
       "6   8809      74        ----\n",
       "7   8810      74        ----\n",
       "8  39176      23      103761\n",
       "9  39175      23      102841"
      ]
     },
     "execution_count": 29,
     "metadata": {},
     "output_type": "execute_result"
    }
   ],
   "source": [
    "homes[['id', 'region', 'objPriceAvg']]"
   ]
  },
  {
   "cell_type": "code",
   "execution_count": 30,
   "metadata": {},
   "outputs": [],
   "source": [
    "## Delete rows where price is not set"
   ]
  },
  {
   "cell_type": "code",
   "execution_count": 31,
   "metadata": {},
   "outputs": [],
   "source": [
    "homes_prices = homes[['id', 'region', 'objPriceAvg']]"
   ]
  },
  {
   "cell_type": "code",
   "execution_count": 32,
   "metadata": {},
   "outputs": [
    {
     "data": {
      "text/html": [
       "<div>\n",
       "<style scoped>\n",
       "    .dataframe tbody tr th:only-of-type {\n",
       "        vertical-align: middle;\n",
       "    }\n",
       "\n",
       "    .dataframe tbody tr th {\n",
       "        vertical-align: top;\n",
       "    }\n",
       "\n",
       "    .dataframe thead th {\n",
       "        text-align: right;\n",
       "    }\n",
       "</style>\n",
       "<table border=\"1\" class=\"dataframe\">\n",
       "  <thead>\n",
       "    <tr style=\"text-align: right;\">\n",
       "      <th></th>\n",
       "      <th>id</th>\n",
       "      <th>region</th>\n",
       "      <th>objPriceAvg</th>\n",
       "    </tr>\n",
       "  </thead>\n",
       "  <tbody>\n",
       "    <tr>\n",
       "      <th>0</th>\n",
       "      <td>13383</td>\n",
       "      <td>72</td>\n",
       "      <td>53109</td>\n",
       "    </tr>\n",
       "    <tr>\n",
       "      <th>1</th>\n",
       "      <td>13398</td>\n",
       "      <td>72</td>\n",
       "      <td>47886</td>\n",
       "    </tr>\n",
       "    <tr>\n",
       "      <th>2</th>\n",
       "      <td>13397</td>\n",
       "      <td>72</td>\n",
       "      <td>45523</td>\n",
       "    </tr>\n",
       "    <tr>\n",
       "      <th>3</th>\n",
       "      <td>13399</td>\n",
       "      <td>72</td>\n",
       "      <td>50768</td>\n",
       "    </tr>\n",
       "    <tr>\n",
       "      <th>4</th>\n",
       "      <td>36912</td>\n",
       "      <td>26</td>\n",
       "      <td>62703</td>\n",
       "    </tr>\n",
       "    <tr>\n",
       "      <th>5</th>\n",
       "      <td>10891</td>\n",
       "      <td>35</td>\n",
       "      <td>44771</td>\n",
       "    </tr>\n",
       "    <tr>\n",
       "      <th>6</th>\n",
       "      <td>8809</td>\n",
       "      <td>74</td>\n",
       "      <td>----</td>\n",
       "    </tr>\n",
       "    <tr>\n",
       "      <th>7</th>\n",
       "      <td>8810</td>\n",
       "      <td>74</td>\n",
       "      <td>----</td>\n",
       "    </tr>\n",
       "    <tr>\n",
       "      <th>8</th>\n",
       "      <td>39176</td>\n",
       "      <td>23</td>\n",
       "      <td>103761</td>\n",
       "    </tr>\n",
       "    <tr>\n",
       "      <th>9</th>\n",
       "      <td>39175</td>\n",
       "      <td>23</td>\n",
       "      <td>102841</td>\n",
       "    </tr>\n",
       "  </tbody>\n",
       "</table>\n",
       "</div>"
      ],
      "text/plain": [
       "      id  region objPriceAvg\n",
       "0  13383      72       53109\n",
       "1  13398      72       47886\n",
       "2  13397      72       45523\n",
       "3  13399      72       50768\n",
       "4  36912      26       62703\n",
       "5  10891      35       44771\n",
       "6   8809      74        ----\n",
       "7   8810      74        ----\n",
       "8  39176      23      103761\n",
       "9  39175      23      102841"
      ]
     },
     "execution_count": 32,
     "metadata": {},
     "output_type": "execute_result"
    }
   ],
   "source": [
    "homes_prices"
   ]
  },
  {
   "cell_type": "code",
   "execution_count": 33,
   "metadata": {},
   "outputs": [],
   "source": [
    "homes_prices = homes_prices[ homes_prices['objPriceAvg']!='----']"
   ]
  },
  {
   "cell_type": "code",
   "execution_count": 34,
   "metadata": {},
   "outputs": [
    {
     "data": {
      "text/html": [
       "<div>\n",
       "<style scoped>\n",
       "    .dataframe tbody tr th:only-of-type {\n",
       "        vertical-align: middle;\n",
       "    }\n",
       "\n",
       "    .dataframe tbody tr th {\n",
       "        vertical-align: top;\n",
       "    }\n",
       "\n",
       "    .dataframe thead th {\n",
       "        text-align: right;\n",
       "    }\n",
       "</style>\n",
       "<table border=\"1\" class=\"dataframe\">\n",
       "  <thead>\n",
       "    <tr style=\"text-align: right;\">\n",
       "      <th></th>\n",
       "      <th>id</th>\n",
       "      <th>region</th>\n",
       "      <th>objPriceAvg</th>\n",
       "    </tr>\n",
       "  </thead>\n",
       "  <tbody>\n",
       "    <tr>\n",
       "      <th>0</th>\n",
       "      <td>13383</td>\n",
       "      <td>72</td>\n",
       "      <td>53109</td>\n",
       "    </tr>\n",
       "    <tr>\n",
       "      <th>1</th>\n",
       "      <td>13398</td>\n",
       "      <td>72</td>\n",
       "      <td>47886</td>\n",
       "    </tr>\n",
       "    <tr>\n",
       "      <th>2</th>\n",
       "      <td>13397</td>\n",
       "      <td>72</td>\n",
       "      <td>45523</td>\n",
       "    </tr>\n",
       "    <tr>\n",
       "      <th>3</th>\n",
       "      <td>13399</td>\n",
       "      <td>72</td>\n",
       "      <td>50768</td>\n",
       "    </tr>\n",
       "    <tr>\n",
       "      <th>4</th>\n",
       "      <td>36912</td>\n",
       "      <td>26</td>\n",
       "      <td>62703</td>\n",
       "    </tr>\n",
       "    <tr>\n",
       "      <th>5</th>\n",
       "      <td>10891</td>\n",
       "      <td>35</td>\n",
       "      <td>44771</td>\n",
       "    </tr>\n",
       "    <tr>\n",
       "      <th>8</th>\n",
       "      <td>39176</td>\n",
       "      <td>23</td>\n",
       "      <td>103761</td>\n",
       "    </tr>\n",
       "    <tr>\n",
       "      <th>9</th>\n",
       "      <td>39175</td>\n",
       "      <td>23</td>\n",
       "      <td>102841</td>\n",
       "    </tr>\n",
       "  </tbody>\n",
       "</table>\n",
       "</div>"
      ],
      "text/plain": [
       "      id  region objPriceAvg\n",
       "0  13383      72       53109\n",
       "1  13398      72       47886\n",
       "2  13397      72       45523\n",
       "3  13399      72       50768\n",
       "4  36912      26       62703\n",
       "5  10891      35       44771\n",
       "8  39176      23      103761\n",
       "9  39175      23      102841"
      ]
     },
     "execution_count": 34,
     "metadata": {},
     "output_type": "execute_result"
    }
   ],
   "source": [
    "homes_prices"
   ]
  },
  {
   "cell_type": "code",
   "execution_count": null,
   "metadata": {},
   "outputs": [],
   "source": []
  },
  {
   "cell_type": "code",
   "execution_count": 35,
   "metadata": {},
   "outputs": [],
   "source": [
    "## Group by region"
   ]
  },
  {
   "cell_type": "code",
   "execution_count": 36,
   "metadata": {},
   "outputs": [],
   "source": [
    "byregion = homes_prices.groupby('region')"
   ]
  },
  {
   "cell_type": "code",
   "execution_count": 37,
   "metadata": {},
   "outputs": [
    {
     "data": {
      "text/plain": [
       "<pandas.core.groupby.generic.DataFrameGroupBy object at 0x000001FCB40F34C0>"
      ]
     },
     "execution_count": 37,
     "metadata": {},
     "output_type": "execute_result"
    }
   ],
   "source": [
    "byregion"
   ]
  },
  {
   "cell_type": "code",
   "execution_count": 38,
   "metadata": {},
   "outputs": [
    {
     "data": {
      "text/plain": [
       "dict_keys([23, 26, 35, 72])"
      ]
     },
     "execution_count": 38,
     "metadata": {},
     "output_type": "execute_result"
    }
   ],
   "source": [
    "byregion.groups.keys()"
   ]
  },
  {
   "cell_type": "code",
   "execution_count": 39,
   "metadata": {},
   "outputs": [
    {
     "data": {
      "text/html": [
       "<div>\n",
       "<style scoped>\n",
       "    .dataframe tbody tr th:only-of-type {\n",
       "        vertical-align: middle;\n",
       "    }\n",
       "\n",
       "    .dataframe tbody tr th {\n",
       "        vertical-align: top;\n",
       "    }\n",
       "\n",
       "    .dataframe thead th {\n",
       "        text-align: right;\n",
       "    }\n",
       "</style>\n",
       "<table border=\"1\" class=\"dataframe\">\n",
       "  <thead>\n",
       "    <tr style=\"text-align: right;\">\n",
       "      <th></th>\n",
       "      <th>id</th>\n",
       "      <th>region</th>\n",
       "      <th>objPriceAvg</th>\n",
       "    </tr>\n",
       "  </thead>\n",
       "  <tbody>\n",
       "    <tr>\n",
       "      <th>8</th>\n",
       "      <td>39176</td>\n",
       "      <td>23</td>\n",
       "      <td>103761</td>\n",
       "    </tr>\n",
       "    <tr>\n",
       "      <th>9</th>\n",
       "      <td>39175</td>\n",
       "      <td>23</td>\n",
       "      <td>102841</td>\n",
       "    </tr>\n",
       "  </tbody>\n",
       "</table>\n",
       "</div>"
      ],
      "text/plain": [
       "      id  region objPriceAvg\n",
       "8  39176      23      103761\n",
       "9  39175      23      102841"
      ]
     },
     "execution_count": 39,
     "metadata": {},
     "output_type": "execute_result"
    }
   ],
   "source": [
    "byregion.get_group(23)"
   ]
  },
  {
   "cell_type": "code",
   "execution_count": 40,
   "metadata": {},
   "outputs": [
    {
     "data": {
      "text/plain": [
       "103301.0"
      ]
     },
     "execution_count": 40,
     "metadata": {},
     "output_type": "execute_result"
    }
   ],
   "source": [
    "byregion.get_group(23)['objPriceAvg'].mean()"
   ]
  },
  {
   "cell_type": "code",
   "execution_count": null,
   "metadata": {},
   "outputs": [],
   "source": []
  },
  {
   "cell_type": "code",
   "execution_count": null,
   "metadata": {},
   "outputs": [],
   "source": []
  },
  {
   "cell_type": "code",
   "execution_count": 41,
   "metadata": {},
   "outputs": [],
   "source": [
    "# Average prices by region"
   ]
  },
  {
   "cell_type": "code",
   "execution_count": 42,
   "metadata": {},
   "outputs": [
    {
     "name": "stdout",
     "output_type": "stream",
     "text": [
      "23 103301.0\n",
      "26 62703.0\n",
      "35 44771.0\n",
      "72 49321.5\n"
     ]
    }
   ],
   "source": [
    "byregion = homes_prices.groupby('region')\n",
    "for reg in byregion.groups.keys():\n",
    "    print(reg, byregion.get_group(reg)['objPriceAvg'].mean())"
   ]
  },
  {
   "cell_type": "code",
   "execution_count": null,
   "metadata": {},
   "outputs": [],
   "source": []
  },
  {
   "cell_type": "code",
   "execution_count": null,
   "metadata": {},
   "outputs": [],
   "source": []
  },
  {
   "cell_type": "code",
   "execution_count": 43,
   "metadata": {},
   "outputs": [],
   "source": [
    "### Now taking more than 10 construction objects"
   ]
  },
  {
   "cell_type": "code",
   "execution_count": 44,
   "metadata": {},
   "outputs": [],
   "source": [
    "AllKeysDict = {'id': [], 'hobjId': [], 'pdId': [], 'developer': [], 'region': [], 'address': [], 'floorMin': [], 'floorMax': [], 'objElemLivingCnt': [], 'objReady100PercDt': [], 'wallMaterialShortDesc': [], 'objLkFinishTypeDesc': [], 'objLkFreePlanDesc': [], 'objElemParkingCnt': [], 'objSquareLiving': [], 'rpdNum': [], 'rpdPdfLink': [], 'rpdIssueDttm': [], 'objLkLatitude': [], 'objLkLongitude': [], 'objCompensFundFlg': [], 'objProblemFlg': [], 'objLkClassDesc': [], 'loadDttm': [], 'photoRenderDTO': [], 'objGuarantyEscrowFlg': [], 'objectType': [], 'miniUrl': [], 'residentialBuildings': [], 'newBuildingId': [], 'objFloorCnt': [], 'objFlatCnt': [], 'objFlatSq': [], 'objNonlivElemCnt': [],  'objStatus': [], 'isAvailableWantLiveHere': [], 'objTransferPlanDt': [], 'objLivCeilingHeight': [], 'objInfrstrBicycleLaneFlg': [], 'objInfrstrPlaygrndCnt': [], 'objInfrstrSportGroundCnt': [], 'objInfrstrTrashAreaCnt': [], 'objInfrstrObjPrkngCnt': [], 'objInfrstrNotObjPrkngCnt': [], 'objInfrstrRampFlg': [], 'objInfrstrCurbLoweringFlg': [], 'objElevatorWheelchairCnt': [], 'objElevatorPassengerCnt': [], 'objElevatorCargoCnt': [], 'objElevatorCargoPassengerCnt': [], 'soldOutPerc': [], 'objPriceAvg': [], 'generalContractorNm': [], 'nonlivFirstFloor': [], 'objectTransportInfo': [], 'conclusion': [], 'objLkSaleDepEmail': [], 'objGreenHouseFlg': [], 'objEnergyEffShortDesc': [], 'infrastructureIndexValue': []}"
   ]
  },
  {
   "cell_type": "code",
   "execution_count": 45,
   "metadata": {},
   "outputs": [],
   "source": [
    "for idvalue in Allobjids[:100]:\n",
    "    url = 'https://xn--80az8a.xn--d1aqf.xn--p1ai/%D1%81%D0%B5%D1%80%D0%B2%D0%B8%D1%81%D1%8B/api/object/{}'.format(idvalue)\n",
    "    res = requests.get(url)\n",
    "    object_data = res.json()\n",
    "    for key in AllKeysDict:\n",
    "        try:\n",
    "            AllKeysDict[key].append(object_data['data'][key])\n",
    "        except:\n",
    "            AllKeysDict[key].append('----')"
   ]
  },
  {
   "cell_type": "code",
   "execution_count": 46,
   "metadata": {},
   "outputs": [],
   "source": [
    "homes = pd.DataFrame.from_dict(AllKeysDict)"
   ]
  },
  {
   "cell_type": "code",
   "execution_count": 47,
   "metadata": {},
   "outputs": [
    {
     "data": {
      "text/plain": [
       "(100, 60)"
      ]
     },
     "execution_count": 47,
     "metadata": {},
     "output_type": "execute_result"
    }
   ],
   "source": [
    "homes.shape"
   ]
  },
  {
   "cell_type": "code",
   "execution_count": 48,
   "metadata": {},
   "outputs": [],
   "source": [
    "homes_prices = homes[['id', 'region', 'objPriceAvg']]"
   ]
  },
  {
   "cell_type": "code",
   "execution_count": 49,
   "metadata": {},
   "outputs": [],
   "source": [
    "homes_prices = homes_prices[ homes_prices['objPriceAvg']!='----']"
   ]
  },
  {
   "cell_type": "code",
   "execution_count": 50,
   "metadata": {},
   "outputs": [
    {
     "data": {
      "text/plain": [
       "(48, 3)"
      ]
     },
     "execution_count": 50,
     "metadata": {},
     "output_type": "execute_result"
    }
   ],
   "source": [
    "homes_prices.shape"
   ]
  },
  {
   "cell_type": "code",
   "execution_count": 51,
   "metadata": {},
   "outputs": [
    {
     "name": "stdout",
     "output_type": "stream",
     "text": [
      "16 108093.0\n",
      "22 16438.0\n",
      "23 102716.77777777778\n",
      "26 62703.0\n",
      "35 44771.0\n",
      "47 61929.0\n",
      "50 74580.0\n",
      "54 110060.66666666667\n",
      "55 55506.0\n",
      "57 31439.0\n",
      "62 59997.5\n",
      "63 46899.0\n",
      "71 46993.0\n",
      "72 49321.5\n",
      "77 257499.0\n"
     ]
    }
   ],
   "source": [
    "byregion = homes_prices.groupby('region')\n",
    "for reg in byregion.groups.keys():\n",
    "    print(reg, byregion.get_group(reg)['objPriceAvg'].mean())"
   ]
  },
  {
   "cell_type": "code",
   "execution_count": 52,
   "metadata": {},
   "outputs": [],
   "source": [
    "## Convert regions and prices into their own dataframe"
   ]
  },
  {
   "cell_type": "code",
   "execution_count": 53,
   "metadata": {},
   "outputs": [],
   "source": [
    "byregion = homes_prices.groupby('region')\n",
    "Reg_Price_Dict = {reg:int(byregion.get_group(reg)['objPriceAvg'].mean()) for reg in byregion.groups.keys()}"
   ]
  },
  {
   "cell_type": "code",
   "execution_count": 54,
   "metadata": {},
   "outputs": [
    {
     "name": "stdout",
     "output_type": "stream",
     "text": [
      "{16: 108093, 22: 16438, 23: 102716, 26: 62703, 35: 44771, 47: 61929, 50: 74580, 54: 110060, 55: 55506, 57: 31439, 62: 59997, 63: 46899, 71: 46993, 72: 49321, 77: 257499}\n"
     ]
    }
   ],
   "source": [
    "print(Reg_Price_Dict)"
   ]
  },
  {
   "cell_type": "code",
   "execution_count": 55,
   "metadata": {},
   "outputs": [],
   "source": [
    "regs = [k for k in Reg_Price_Dict.keys()]"
   ]
  },
  {
   "cell_type": "code",
   "execution_count": 56,
   "metadata": {},
   "outputs": [],
   "source": [
    "prices = [v for v in Reg_Price_Dict.values()]"
   ]
  },
  {
   "cell_type": "code",
   "execution_count": 57,
   "metadata": {},
   "outputs": [],
   "source": [
    "avg_prices = pd.DataFrame()"
   ]
  },
  {
   "cell_type": "code",
   "execution_count": 58,
   "metadata": {},
   "outputs": [],
   "source": [
    "avg_prices['Region'] = regs"
   ]
  },
  {
   "cell_type": "code",
   "execution_count": 59,
   "metadata": {},
   "outputs": [],
   "source": [
    "avg_prices['Price'] = prices"
   ]
  },
  {
   "cell_type": "code",
   "execution_count": 60,
   "metadata": {},
   "outputs": [
    {
     "data": {
      "text/html": [
       "<div>\n",
       "<style scoped>\n",
       "    .dataframe tbody tr th:only-of-type {\n",
       "        vertical-align: middle;\n",
       "    }\n",
       "\n",
       "    .dataframe tbody tr th {\n",
       "        vertical-align: top;\n",
       "    }\n",
       "\n",
       "    .dataframe thead th {\n",
       "        text-align: right;\n",
       "    }\n",
       "</style>\n",
       "<table border=\"1\" class=\"dataframe\">\n",
       "  <thead>\n",
       "    <tr style=\"text-align: right;\">\n",
       "      <th></th>\n",
       "      <th>Region</th>\n",
       "      <th>Price</th>\n",
       "    </tr>\n",
       "  </thead>\n",
       "  <tbody>\n",
       "    <tr>\n",
       "      <th>0</th>\n",
       "      <td>16</td>\n",
       "      <td>108093</td>\n",
       "    </tr>\n",
       "    <tr>\n",
       "      <th>1</th>\n",
       "      <td>22</td>\n",
       "      <td>16438</td>\n",
       "    </tr>\n",
       "    <tr>\n",
       "      <th>2</th>\n",
       "      <td>23</td>\n",
       "      <td>102716</td>\n",
       "    </tr>\n",
       "    <tr>\n",
       "      <th>3</th>\n",
       "      <td>26</td>\n",
       "      <td>62703</td>\n",
       "    </tr>\n",
       "    <tr>\n",
       "      <th>4</th>\n",
       "      <td>35</td>\n",
       "      <td>44771</td>\n",
       "    </tr>\n",
       "    <tr>\n",
       "      <th>5</th>\n",
       "      <td>47</td>\n",
       "      <td>61929</td>\n",
       "    </tr>\n",
       "    <tr>\n",
       "      <th>6</th>\n",
       "      <td>50</td>\n",
       "      <td>74580</td>\n",
       "    </tr>\n",
       "    <tr>\n",
       "      <th>7</th>\n",
       "      <td>54</td>\n",
       "      <td>110060</td>\n",
       "    </tr>\n",
       "    <tr>\n",
       "      <th>8</th>\n",
       "      <td>55</td>\n",
       "      <td>55506</td>\n",
       "    </tr>\n",
       "    <tr>\n",
       "      <th>9</th>\n",
       "      <td>57</td>\n",
       "      <td>31439</td>\n",
       "    </tr>\n",
       "    <tr>\n",
       "      <th>10</th>\n",
       "      <td>62</td>\n",
       "      <td>59997</td>\n",
       "    </tr>\n",
       "    <tr>\n",
       "      <th>11</th>\n",
       "      <td>63</td>\n",
       "      <td>46899</td>\n",
       "    </tr>\n",
       "    <tr>\n",
       "      <th>12</th>\n",
       "      <td>71</td>\n",
       "      <td>46993</td>\n",
       "    </tr>\n",
       "    <tr>\n",
       "      <th>13</th>\n",
       "      <td>72</td>\n",
       "      <td>49321</td>\n",
       "    </tr>\n",
       "    <tr>\n",
       "      <th>14</th>\n",
       "      <td>77</td>\n",
       "      <td>257499</td>\n",
       "    </tr>\n",
       "  </tbody>\n",
       "</table>\n",
       "</div>"
      ],
      "text/plain": [
       "    Region   Price\n",
       "0       16  108093\n",
       "1       22   16438\n",
       "2       23  102716\n",
       "3       26   62703\n",
       "4       35   44771\n",
       "5       47   61929\n",
       "6       50   74580\n",
       "7       54  110060\n",
       "8       55   55506\n",
       "9       57   31439\n",
       "10      62   59997\n",
       "11      63   46899\n",
       "12      71   46993\n",
       "13      72   49321\n",
       "14      77  257499"
      ]
     },
     "execution_count": 60,
     "metadata": {},
     "output_type": "execute_result"
    }
   ],
   "source": [
    "avg_prices"
   ]
  },
  {
   "cell_type": "code",
   "execution_count": 61,
   "metadata": {},
   "outputs": [
    {
     "data": {
      "text/plain": [
       "Region       16\n",
       "Price     16438\n",
       "dtype: int64"
      ]
     },
     "execution_count": 61,
     "metadata": {},
     "output_type": "execute_result"
    }
   ],
   "source": [
    "avg_prices.min()"
   ]
  },
  {
   "cell_type": "code",
   "execution_count": 62,
   "metadata": {},
   "outputs": [
    {
     "data": {
      "text/plain": [
       "Region        77\n",
       "Price     257499\n",
       "dtype: int64"
      ]
     },
     "execution_count": 62,
     "metadata": {},
     "output_type": "execute_result"
    }
   ],
   "source": [
    "avg_prices.max()"
   ]
  },
  {
   "cell_type": "code",
   "execution_count": null,
   "metadata": {},
   "outputs": [],
   "source": []
  },
  {
   "cell_type": "code",
   "execution_count": null,
   "metadata": {},
   "outputs": [],
   "source": []
  },
  {
   "cell_type": "code",
   "execution_count": 63,
   "metadata": {},
   "outputs": [],
   "source": [
    "### Now 1000 objects"
   ]
  },
  {
   "cell_type": "code",
   "execution_count": 64,
   "metadata": {},
   "outputs": [],
   "source": [
    "AllKeysDict = {'id': [], 'hobjId': [], 'pdId': [], 'developer': [], 'region': [], 'address': [], 'floorMin': [], 'floorMax': [], 'objElemLivingCnt': [], 'objReady100PercDt': [], 'wallMaterialShortDesc': [], 'objLkFinishTypeDesc': [], 'objLkFreePlanDesc': [], 'objElemParkingCnt': [], 'objSquareLiving': [], 'rpdNum': [], 'rpdPdfLink': [], 'rpdIssueDttm': [], 'objLkLatitude': [], 'objLkLongitude': [], 'objCompensFundFlg': [], 'objProblemFlg': [], 'objLkClassDesc': [], 'loadDttm': [], 'photoRenderDTO': [], 'objGuarantyEscrowFlg': [], 'objectType': [], 'miniUrl': [], 'residentialBuildings': [], 'newBuildingId': [], 'objFloorCnt': [], 'objFlatCnt': [], 'objFlatSq': [], 'objNonlivElemCnt': [],  'objStatus': [], 'isAvailableWantLiveHere': [], 'objTransferPlanDt': [], 'objLivCeilingHeight': [], 'objInfrstrBicycleLaneFlg': [], 'objInfrstrPlaygrndCnt': [], 'objInfrstrSportGroundCnt': [], 'objInfrstrTrashAreaCnt': [], 'objInfrstrObjPrkngCnt': [], 'objInfrstrNotObjPrkngCnt': [], 'objInfrstrRampFlg': [], 'objInfrstrCurbLoweringFlg': [], 'objElevatorWheelchairCnt': [], 'objElevatorPassengerCnt': [], 'objElevatorCargoCnt': [], 'objElevatorCargoPassengerCnt': [], 'soldOutPerc': [], 'objPriceAvg': [], 'generalContractorNm': [], 'nonlivFirstFloor': [], 'objectTransportInfo': [], 'conclusion': [], 'objLkSaleDepEmail': [], 'objGreenHouseFlg': [], 'objEnergyEffShortDesc': [], 'infrastructureIndexValue': []}"
   ]
  },
  {
   "cell_type": "code",
   "execution_count": 65,
   "metadata": {},
   "outputs": [],
   "source": [
    "for idvalue in Allobjids[:1000]:\n",
    "    url = 'https://xn--80az8a.xn--d1aqf.xn--p1ai/%D1%81%D0%B5%D1%80%D0%B2%D0%B8%D1%81%D1%8B/api/object/{}'.format(idvalue)\n",
    "    res = requests.get(url)\n",
    "    object_data = res.json()\n",
    "    for key in AllKeysDict:\n",
    "        try:\n",
    "            AllKeysDict[key].append(object_data['data'][key])\n",
    "        except:\n",
    "            AllKeysDict[key].append('----')\n",
    "homes = pd.DataFrame.from_dict(AllKeysDict)\n",
    "homes_prices = homes[['id', 'region', 'objPriceAvg']]\n",
    "homes_prices = homes_prices[ homes_prices['objPriceAvg']!='----']\n",
    "byregion = homes_prices.groupby('region')\n",
    "Reg_Price_Dict = {reg:int(byregion.get_group(reg)['objPriceAvg'].mean()) for reg in byregion.groups.keys()}\n",
    "#regs = [k for k in Reg_Price_Dict.keys()]\n",
    "#prices = [v for v in Reg_Price_Dict.values()]\n",
    "#avg_prices['Price'] = prices\n",
    "#avg_prices['Region'] = regs"
   ]
  },
  {
   "cell_type": "code",
   "execution_count": null,
   "metadata": {},
   "outputs": [],
   "source": []
  },
  {
   "cell_type": "code",
   "execution_count": null,
   "metadata": {},
   "outputs": [],
   "source": []
  },
  {
   "cell_type": "code",
   "execution_count": null,
   "metadata": {},
   "outputs": [],
   "source": []
  },
  {
   "cell_type": "code",
   "execution_count": 66,
   "metadata": {},
   "outputs": [],
   "source": [
    "### Return to 100 objects"
   ]
  },
  {
   "cell_type": "code",
   "execution_count": 67,
   "metadata": {},
   "outputs": [],
   "source": [
    "AllKeysDict = {'id': [], 'hobjId': [], 'pdId': [], 'developer': [], 'region': [], 'address': [], 'floorMin': [], 'floorMax': [], 'objElemLivingCnt': [], 'objReady100PercDt': [], 'wallMaterialShortDesc': [], 'objLkFinishTypeDesc': [], 'objLkFreePlanDesc': [], 'objElemParkingCnt': [], 'objSquareLiving': [], 'rpdNum': [], 'rpdPdfLink': [], 'rpdIssueDttm': [], 'objLkLatitude': [], 'objLkLongitude': [], 'objCompensFundFlg': [], 'objProblemFlg': [], 'objLkClassDesc': [], 'loadDttm': [], 'photoRenderDTO': [], 'objGuarantyEscrowFlg': [], 'objectType': [], 'miniUrl': [], 'residentialBuildings': [], 'newBuildingId': [], 'objFloorCnt': [], 'objFlatCnt': [], 'objFlatSq': [], 'objNonlivElemCnt': [],  'objStatus': [], 'isAvailableWantLiveHere': [], 'objTransferPlanDt': [], 'objLivCeilingHeight': [], 'objInfrstrBicycleLaneFlg': [], 'objInfrstrPlaygrndCnt': [], 'objInfrstrSportGroundCnt': [], 'objInfrstrTrashAreaCnt': [], 'objInfrstrObjPrkngCnt': [], 'objInfrstrNotObjPrkngCnt': [], 'objInfrstrRampFlg': [], 'objInfrstrCurbLoweringFlg': [], 'objElevatorWheelchairCnt': [], 'objElevatorPassengerCnt': [], 'objElevatorCargoCnt': [], 'objElevatorCargoPassengerCnt': [], 'soldOutPerc': [], 'objPriceAvg': [], 'generalContractorNm': [], 'nonlivFirstFloor': [], 'objectTransportInfo': [], 'conclusion': [], 'objLkSaleDepEmail': [], 'objGreenHouseFlg': [], 'objEnergyEffShortDesc': [], 'infrastructureIndexValue': []}"
   ]
  },
  {
   "cell_type": "code",
   "execution_count": 68,
   "metadata": {},
   "outputs": [],
   "source": [
    "for idvalue in Allobjids[:100]:\n",
    "    url = 'https://xn--80az8a.xn--d1aqf.xn--p1ai/%D1%81%D0%B5%D1%80%D0%B2%D0%B8%D1%81%D1%8B/api/object/{}'.format(idvalue)\n",
    "    res = requests.get(url)\n",
    "    object_data = res.json()\n",
    "    for key in AllKeysDict:\n",
    "        try:\n",
    "            AllKeysDict[key].append(object_data['data'][key])\n",
    "        except:\n",
    "            AllKeysDict[key].append('----')"
   ]
  },
  {
   "cell_type": "code",
   "execution_count": 69,
   "metadata": {},
   "outputs": [],
   "source": [
    "homes = pd.DataFrame.from_dict(AllKeysDict)\n",
    "homes_prices = homes[['id', 'region', 'objPriceAvg']]\n",
    "homes_prices = homes_prices[ homes_prices['objPriceAvg']!='----']"
   ]
  },
  {
   "cell_type": "code",
   "execution_count": 70,
   "metadata": {},
   "outputs": [
    {
     "data": {
      "text/plain": [
       "(48, 3)"
      ]
     },
     "execution_count": 70,
     "metadata": {},
     "output_type": "execute_result"
    }
   ],
   "source": [
    "homes_prices.shape"
   ]
  },
  {
   "cell_type": "code",
   "execution_count": 71,
   "metadata": {},
   "outputs": [
    {
     "data": {
      "text/html": [
       "<div>\n",
       "<style scoped>\n",
       "    .dataframe tbody tr th:only-of-type {\n",
       "        vertical-align: middle;\n",
       "    }\n",
       "\n",
       "    .dataframe tbody tr th {\n",
       "        vertical-align: top;\n",
       "    }\n",
       "\n",
       "    .dataframe thead th {\n",
       "        text-align: right;\n",
       "    }\n",
       "</style>\n",
       "<table border=\"1\" class=\"dataframe\">\n",
       "  <thead>\n",
       "    <tr style=\"text-align: right;\">\n",
       "      <th></th>\n",
       "      <th>id</th>\n",
       "      <th>region</th>\n",
       "      <th>objPriceAvg</th>\n",
       "    </tr>\n",
       "  </thead>\n",
       "  <tbody>\n",
       "    <tr>\n",
       "      <th>0</th>\n",
       "      <td>13383</td>\n",
       "      <td>72</td>\n",
       "      <td>53109</td>\n",
       "    </tr>\n",
       "    <tr>\n",
       "      <th>1</th>\n",
       "      <td>13398</td>\n",
       "      <td>72</td>\n",
       "      <td>47886</td>\n",
       "    </tr>\n",
       "    <tr>\n",
       "      <th>2</th>\n",
       "      <td>13397</td>\n",
       "      <td>72</td>\n",
       "      <td>45523</td>\n",
       "    </tr>\n",
       "    <tr>\n",
       "      <th>3</th>\n",
       "      <td>13399</td>\n",
       "      <td>72</td>\n",
       "      <td>50768</td>\n",
       "    </tr>\n",
       "    <tr>\n",
       "      <th>4</th>\n",
       "      <td>36912</td>\n",
       "      <td>26</td>\n",
       "      <td>62703</td>\n",
       "    </tr>\n",
       "    <tr>\n",
       "      <th>5</th>\n",
       "      <td>10891</td>\n",
       "      <td>35</td>\n",
       "      <td>44771</td>\n",
       "    </tr>\n",
       "    <tr>\n",
       "      <th>8</th>\n",
       "      <td>39176</td>\n",
       "      <td>23</td>\n",
       "      <td>103761</td>\n",
       "    </tr>\n",
       "    <tr>\n",
       "      <th>9</th>\n",
       "      <td>39175</td>\n",
       "      <td>23</td>\n",
       "      <td>102841</td>\n",
       "    </tr>\n",
       "    <tr>\n",
       "      <th>10</th>\n",
       "      <td>27049</td>\n",
       "      <td>23</td>\n",
       "      <td>143402</td>\n",
       "    </tr>\n",
       "    <tr>\n",
       "      <th>11</th>\n",
       "      <td>41420</td>\n",
       "      <td>54</td>\n",
       "      <td>81058</td>\n",
       "    </tr>\n",
       "  </tbody>\n",
       "</table>\n",
       "</div>"
      ],
      "text/plain": [
       "       id  region objPriceAvg\n",
       "0   13383      72       53109\n",
       "1   13398      72       47886\n",
       "2   13397      72       45523\n",
       "3   13399      72       50768\n",
       "4   36912      26       62703\n",
       "5   10891      35       44771\n",
       "8   39176      23      103761\n",
       "9   39175      23      102841\n",
       "10  27049      23      143402\n",
       "11  41420      54       81058"
      ]
     },
     "execution_count": 71,
     "metadata": {},
     "output_type": "execute_result"
    }
   ],
   "source": [
    "homes_prices.head(10)"
   ]
  },
  {
   "cell_type": "code",
   "execution_count": 72,
   "metadata": {},
   "outputs": [],
   "source": [
    "# Import seaborn\n",
    "import seaborn as sns\n",
    "\n",
    "# Apply the default theme\n",
    "sns.set_theme()"
   ]
  },
  {
   "cell_type": "code",
   "execution_count": null,
   "metadata": {},
   "outputs": [],
   "source": []
  },
  {
   "cell_type": "code",
   "execution_count": null,
   "metadata": {},
   "outputs": [],
   "source": []
  },
  {
   "cell_type": "code",
   "execution_count": null,
   "metadata": {},
   "outputs": [],
   "source": [
    "#Цена за квадратный метр в разных регионах"
   ]
  },
  {
   "cell_type": "code",
   "execution_count": 74,
   "metadata": {},
   "outputs": [
    {
     "data": {
      "text/plain": [
       "<AxesSubplot:xlabel='region', ylabel='objPriceAvg'>"
      ]
     },
     "execution_count": 74,
     "metadata": {},
     "output_type": "execute_result"
    },
    {
     "data": {
      "image/png": "[encoded data removed]",
      "text/plain": [
       "<Figure size 640x480 with 1 Axes>"
      ]
     },
     "metadata": {},
     "output_type": "display_data"
    }
   ],
   "source": [
    "sns.barplot(data=homes_prices, x='region', y='objPriceAvg')"
   ]
  },
  {
   "cell_type": "markdown",
   "metadata": {},
   "source": [
    "По данной диаграмме мы можем наблюдать значительный разрыв между Московским регионам и остальными оегионами по цене за квадратный метр. Жить в Москве намного дороже, чем в других регионах."
   ]
  },
  {
   "cell_type": "code",
   "execution_count": 75,
   "metadata": {},
   "outputs": [],
   "source": [
    "### Full table"
   ]
  },
  {
   "cell_type": "code",
   "execution_count": 76,
   "metadata": {},
   "outputs": [
    {
     "data": {
      "text/plain": [
       "(100, 60)"
      ]
     },
     "execution_count": 76,
     "metadata": {},
     "output_type": "execute_result"
    }
   ],
   "source": [
    "homes.shape"
   ]
  },
  {
   "cell_type": "code",
   "execution_count": 77,
   "metadata": {},
   "outputs": [
    {
     "name": "stdout",
     "output_type": "stream",
     "text": [
      "<class 'pandas.core.frame.DataFrame'>\n",
      "RangeIndex: 100 entries, 0 to 99\n",
      "Data columns (total 60 columns):\n",
      " #   Column                        Non-Null Count  Dtype  \n",
      "---  ------                        --------------  -----  \n",
      " 0   id                            100 non-null    int64  \n",
      " 1   hobjId                        100 non-null    int64  \n",
      " 2   pdId                          100 non-null    int64  \n",
      " 3   developer                     100 non-null    object \n",
      " 4   region                        100 non-null    int64  \n",
      " 5   address                       100 non-null    object \n",
      " 6   floorMin                      100 non-null    int64  \n",
      " 7   floorMax                      100 non-null    int64  \n",
      " 8   objElemLivingCnt              100 non-null    int64  \n",
      " 9   objReady100PercDt             100 non-null    object \n",
      " 10  wallMaterialShortDesc         100 non-null    object \n",
      " 11  objLkFinishTypeDesc           100 non-null    object \n",
      " 12  objLkFreePlanDesc             100 non-null    object \n",
      " 13  objElemParkingCnt             100 non-null    int64  \n",
      " 14  objSquareLiving               100 non-null    float64\n",
      " 15  rpdNum                        100 non-null    object \n",
      " 16  rpdPdfLink                    100 non-null    object \n",
      " 17  rpdIssueDttm                  100 non-null    object \n",
      " 18  objLkLatitude                 100 non-null    object \n",
      " 19  objLkLongitude                100 non-null    object \n",
      " 20  objCompensFundFlg             100 non-null    int64  \n",
      " 21  objProblemFlg                 100 non-null    int64  \n",
      " 22  objLkClassDesc                100 non-null    object \n",
      " 23  loadDttm                      100 non-null    object \n",
      " 24  photoRenderDTO                100 non-null    object \n",
      " 25  objGuarantyEscrowFlg          100 non-null    int64  \n",
      " 26  objectType                    100 non-null    object \n",
      " 27  miniUrl                       100 non-null    object \n",
      " 28  residentialBuildings          100 non-null    int64  \n",
      " 29  newBuildingId                 100 non-null    int64  \n",
      " 30  objFloorCnt                   100 non-null    int64  \n",
      " 31  objFlatCnt                    100 non-null    int64  \n",
      " 32  objFlatSq                     100 non-null    object \n",
      " 33  objNonlivElemCnt              100 non-null    int64  \n",
      " 34  objStatus                     100 non-null    int64  \n",
      " 35  isAvailableWantLiveHere       100 non-null    bool   \n",
      " 36  objTransferPlanDt             100 non-null    object \n",
      " 37  objLivCeilingHeight           100 non-null    object \n",
      " 38  objInfrstrBicycleLaneFlg      100 non-null    int64  \n",
      " 39  objInfrstrPlaygrndCnt         100 non-null    object \n",
      " 40  objInfrstrSportGroundCnt      100 non-null    object \n",
      " 41  objInfrstrTrashAreaCnt        100 non-null    object \n",
      " 42  objInfrstrObjPrkngCnt         100 non-null    object \n",
      " 43  objInfrstrNotObjPrkngCnt      100 non-null    object \n",
      " 44  objInfrstrRampFlg             100 non-null    int64  \n",
      " 45  objInfrstrCurbLoweringFlg     100 non-null    int64  \n",
      " 46  objElevatorWheelchairCnt      100 non-null    object \n",
      " 47  objElevatorPassengerCnt       100 non-null    object \n",
      " 48  objElevatorCargoCnt           100 non-null    object \n",
      " 49  objElevatorCargoPassengerCnt  100 non-null    int64  \n",
      " 50  soldOutPerc                   100 non-null    object \n",
      " 51  objPriceAvg                   100 non-null    object \n",
      " 52  generalContractorNm           100 non-null    object \n",
      " 53  nonlivFirstFloor              100 non-null    int64  \n",
      " 54  objectTransportInfo           100 non-null    object \n",
      " 55  conclusion                    100 non-null    bool   \n",
      " 56  objLkSaleDepEmail             100 non-null    object \n",
      " 57  objGreenHouseFlg              100 non-null    int64  \n",
      " 58  objEnergyEffShortDesc         100 non-null    object \n",
      " 59  infrastructureIndexValue      100 non-null    int64  \n",
      "dtypes: bool(2), float64(1), int64(24), object(33)\n",
      "memory usage: 45.6+ KB\n"
     ]
    }
   ],
   "source": [
    "homes.info()"
   ]
  },
  {
   "cell_type": "code",
   "execution_count": null,
   "metadata": {},
   "outputs": [],
   "source": []
  },
  {
   "cell_type": "code",
   "execution_count": null,
   "metadata": {},
   "outputs": [],
   "source": [
    "# Количество новых объектов строительсва в разных регионах"
   ]
  },
  {
   "cell_type": "code",
   "execution_count": 147,
   "metadata": {},
   "outputs": [],
   "source": [
    "newBuildingId = homes[['region', 'newBuildingId']]"
   ]
  },
  {
   "cell_type": "code",
   "execution_count": 148,
   "metadata": {},
   "outputs": [
    {
     "data": {
      "text/plain": [
       "(100, 2)"
      ]
     },
     "execution_count": 148,
     "metadata": {},
     "output_type": "execute_result"
    }
   ],
   "source": [
    "newBuildingId.shape"
   ]
  },
  {
   "cell_type": "code",
   "execution_count": 151,
   "metadata": {},
   "outputs": [
    {
     "data": {
      "text/plain": [
       "<AxesSubplot:xlabel='region', ylabel='newBuildingId'>"
      ]
     },
     "execution_count": 151,
     "metadata": {},
     "output_type": "execute_result"
    },
    {
     "data": {
      "image/png": "[encoded data removed]",
      "text/plain": [
       "<Figure size 640x480 with 1 Axes>"
      ]
     },
     "metadata": {},
     "output_type": "display_data"
    }
   ],
   "source": [
    "sns.barplot(data=newBuildingId, x='region', y='newBuildingId')"
   ]
  },
  {
   "cell_type": "markdown",
   "metadata": {},
   "source": [
    "Тут можно заметить, что Москва находится не на первом месте по объемам строительсва жилых объектов."
   ]
  },
  {
   "cell_type": "code",
   "execution_count": null,
   "metadata": {},
   "outputs": [],
   "source": []
  },
  {
   "cell_type": "code",
   "execution_count": null,
   "metadata": {},
   "outputs": [],
   "source": [
    "#Количество парковочных мест в разных регионах"
   ]
  },
  {
   "cell_type": "code",
   "execution_count": 140,
   "metadata": {},
   "outputs": [],
   "source": [
    "objInfrstrObjPrkngCnt = homes[['region', 'objInfrstrObjPrkngCnt']]"
   ]
  },
  {
   "cell_type": "code",
   "execution_count": 141,
   "metadata": {},
   "outputs": [
    {
     "data": {
      "text/plain": [
       "(100, 2)"
      ]
     },
     "execution_count": 141,
     "metadata": {},
     "output_type": "execute_result"
    }
   ],
   "source": [
    "objPriceAvg.shape"
   ]
  },
  {
   "cell_type": "code",
   "execution_count": 214,
   "metadata": {},
   "outputs": [
    {
     "data": {
      "text/plain": [
       "<AxesSubplot:xlabel='region', ylabel='count'>"
      ]
     },
     "execution_count": 214,
     "metadata": {},
     "output_type": "execute_result"
    },
    {
     "data": {
      "image/png": "[encoded data removed]",
      "text/plain": [
       "<Figure size 640x480 with 1 Axes>"
      ]
     },
     "metadata": {},
     "output_type": "display_data"
    }
   ],
   "source": [
    "sns.countplot(data=objInfrstrObjPrkngCnt, x='region')"
   ]
  },
  {
   "cell_type": "markdown",
   "metadata": {},
   "source": [
    "По кол-ву парковочных мест Москва лидирует "
   ]
  },
  {
   "cell_type": "code",
   "execution_count": 153,
   "metadata": {},
   "outputs": [],
   "source": [
    "#Предпочтения людей, где они хотят жить (в каких регионах)"
   ]
  },
  {
   "cell_type": "code",
   "execution_count": 154,
   "metadata": {},
   "outputs": [],
   "source": [
    "isAvailableWantLiveHere = homes[['region', 'isAvailableWantLiveHere']]"
   ]
  },
  {
   "cell_type": "code",
   "execution_count": 155,
   "metadata": {},
   "outputs": [
    {
     "data": {
      "text/plain": [
       "(100, 2)"
      ]
     },
     "execution_count": 155,
     "metadata": {},
     "output_type": "execute_result"
    }
   ],
   "source": [
    "isAvailableWantLiveHere.shape"
   ]
  },
  {
   "cell_type": "code",
   "execution_count": 156,
   "metadata": {},
   "outputs": [
    {
     "data": {
      "text/plain": [
       "<AxesSubplot:xlabel='region', ylabel='count'>"
      ]
     },
     "execution_count": 156,
     "metadata": {},
     "output_type": "execute_result"
    },
    {
     "data": {
      "image/png": "[encoded data removed]",
      "text/plain": [
       "<Figure size 640x480 with 1 Axes>"
      ]
     },
     "metadata": {},
     "output_type": "display_data"
    }
   ],
   "source": [
    "sns.countplot(data=isAvailableWantLiveHere, x='region', hue='isAvailableWantLiveHere')"
   ]
  },
  {
   "cell_type": "markdown",
   "metadata": {},
   "source": [
    "Большентсво хотят жить в Москве "
   ]
  },
  {
   "cell_type": "code",
   "execution_count": 78,
   "metadata": {},
   "outputs": [],
   "source": [
    "# Floors by region"
   ]
  },
  {
   "cell_type": "code",
   "execution_count": 79,
   "metadata": {},
   "outputs": [],
   "source": [
    "floors = homes[['region', 'floorMin', 'floorMax']]"
   ]
  },
  {
   "cell_type": "code",
   "execution_count": 80,
   "metadata": {},
   "outputs": [
    {
     "data": {
      "text/plain": [
       "(100, 3)"
      ]
     },
     "execution_count": 80,
     "metadata": {},
     "output_type": "execute_result"
    }
   ],
   "source": [
    "floors.shape"
   ]
  },
  {
   "cell_type": "code",
   "execution_count": 82,
   "metadata": {},
   "outputs": [
    {
     "data": {
      "text/plain": [
       "<AxesSubplot:xlabel='region', ylabel='floorMin'>"
      ]
     },
     "execution_count": 82,
     "metadata": {},
     "output_type": "execute_result"
    },
    {
     "data": {
      "image/png": "[encoded data removed]",
      "text/plain": [
       "<Figure size 640x480 with 1 Axes>"
      ]
     },
     "metadata": {},
     "output_type": "display_data"
    }
   ],
   "source": [
    "sns.barplot(data=floors, x='region', y='floorMin')"
   ]
  },
  {
   "cell_type": "code",
   "execution_count": 83,
   "metadata": {},
   "outputs": [
    {
     "data": {
      "text/plain": [
       "<AxesSubplot:xlabel='region', ylabel='floorMax'>"
      ]
     },
     "execution_count": 83,
     "metadata": {},
     "output_type": "execute_result"
    },
    {
     "data": {
      "image/png": "[encoded data removed]",
      "text/plain": [
       "<Figure size 640x480 with 1 Axes>"
      ]
     },
     "metadata": {},
     "output_type": "display_data"
    }
   ],
   "source": [
    "sns.barplot(data=floors, x='region', y='floorMax')"
   ]
  },
  {
   "cell_type": "code",
   "execution_count": 84,
   "metadata": {},
   "outputs": [],
   "source": [
    "## Average floors??"
   ]
  },
  {
   "cell_type": "code",
   "execution_count": 85,
   "metadata": {},
   "outputs": [
    {
     "data": {
      "text/html": [
       "<div>\n",
       "<style scoped>\n",
       "    .dataframe tbody tr th:only-of-type {\n",
       "        vertical-align: middle;\n",
       "    }\n",
       "\n",
       "    .dataframe tbody tr th {\n",
       "        vertical-align: top;\n",
       "    }\n",
       "\n",
       "    .dataframe thead th {\n",
       "        text-align: right;\n",
       "    }\n",
       "</style>\n",
       "<table border=\"1\" class=\"dataframe\">\n",
       "  <thead>\n",
       "    <tr style=\"text-align: right;\">\n",
       "      <th></th>\n",
       "      <th>region</th>\n",
       "      <th>floorMin</th>\n",
       "      <th>floorMax</th>\n",
       "    </tr>\n",
       "  </thead>\n",
       "  <tbody>\n",
       "    <tr>\n",
       "      <th>0</th>\n",
       "      <td>72</td>\n",
       "      <td>4</td>\n",
       "      <td>20</td>\n",
       "    </tr>\n",
       "    <tr>\n",
       "      <th>1</th>\n",
       "      <td>72</td>\n",
       "      <td>7</td>\n",
       "      <td>10</td>\n",
       "    </tr>\n",
       "    <tr>\n",
       "      <th>2</th>\n",
       "      <td>72</td>\n",
       "      <td>6</td>\n",
       "      <td>12</td>\n",
       "    </tr>\n",
       "    <tr>\n",
       "      <th>3</th>\n",
       "      <td>72</td>\n",
       "      <td>1</td>\n",
       "      <td>1</td>\n",
       "    </tr>\n",
       "    <tr>\n",
       "      <th>4</th>\n",
       "      <td>26</td>\n",
       "      <td>2</td>\n",
       "      <td>10</td>\n",
       "    </tr>\n",
       "    <tr>\n",
       "      <th>5</th>\n",
       "      <td>35</td>\n",
       "      <td>16</td>\n",
       "      <td>16</td>\n",
       "    </tr>\n",
       "    <tr>\n",
       "      <th>6</th>\n",
       "      <td>74</td>\n",
       "      <td>10</td>\n",
       "      <td>10</td>\n",
       "    </tr>\n",
       "    <tr>\n",
       "      <th>7</th>\n",
       "      <td>74</td>\n",
       "      <td>10</td>\n",
       "      <td>10</td>\n",
       "    </tr>\n",
       "    <tr>\n",
       "      <th>8</th>\n",
       "      <td>23</td>\n",
       "      <td>25</td>\n",
       "      <td>25</td>\n",
       "    </tr>\n",
       "    <tr>\n",
       "      <th>9</th>\n",
       "      <td>23</td>\n",
       "      <td>25</td>\n",
       "      <td>25</td>\n",
       "    </tr>\n",
       "    <tr>\n",
       "      <th>10</th>\n",
       "      <td>23</td>\n",
       "      <td>3</td>\n",
       "      <td>16</td>\n",
       "    </tr>\n",
       "    <tr>\n",
       "      <th>11</th>\n",
       "      <td>54</td>\n",
       "      <td>4</td>\n",
       "      <td>4</td>\n",
       "    </tr>\n",
       "    <tr>\n",
       "      <th>12</th>\n",
       "      <td>54</td>\n",
       "      <td>4</td>\n",
       "      <td>4</td>\n",
       "    </tr>\n",
       "    <tr>\n",
       "      <th>13</th>\n",
       "      <td>16</td>\n",
       "      <td>26</td>\n",
       "      <td>26</td>\n",
       "    </tr>\n",
       "    <tr>\n",
       "      <th>14</th>\n",
       "      <td>47</td>\n",
       "      <td>16</td>\n",
       "      <td>17</td>\n",
       "    </tr>\n",
       "    <tr>\n",
       "      <th>15</th>\n",
       "      <td>50</td>\n",
       "      <td>8</td>\n",
       "      <td>8</td>\n",
       "    </tr>\n",
       "    <tr>\n",
       "      <th>16</th>\n",
       "      <td>50</td>\n",
       "      <td>5</td>\n",
       "      <td>8</td>\n",
       "    </tr>\n",
       "    <tr>\n",
       "      <th>17</th>\n",
       "      <td>50</td>\n",
       "      <td>18</td>\n",
       "      <td>18</td>\n",
       "    </tr>\n",
       "    <tr>\n",
       "      <th>18</th>\n",
       "      <td>50</td>\n",
       "      <td>17</td>\n",
       "      <td>17</td>\n",
       "    </tr>\n",
       "    <tr>\n",
       "      <th>19</th>\n",
       "      <td>71</td>\n",
       "      <td>6</td>\n",
       "      <td>6</td>\n",
       "    </tr>\n",
       "  </tbody>\n",
       "</table>\n",
       "</div>"
      ],
      "text/plain": [
       "    region  floorMin  floorMax\n",
       "0       72         4        20\n",
       "1       72         7        10\n",
       "2       72         6        12\n",
       "3       72         1         1\n",
       "4       26         2        10\n",
       "5       35        16        16\n",
       "6       74        10        10\n",
       "7       74        10        10\n",
       "8       23        25        25\n",
       "9       23        25        25\n",
       "10      23         3        16\n",
       "11      54         4         4\n",
       "12      54         4         4\n",
       "13      16        26        26\n",
       "14      47        16        17\n",
       "15      50         8         8\n",
       "16      50         5         8\n",
       "17      50        18        18\n",
       "18      50        17        17\n",
       "19      71         6         6"
      ]
     },
     "execution_count": 85,
     "metadata": {},
     "output_type": "execute_result"
    }
   ],
   "source": [
    "floors.head(20)"
   ]
  },
  {
   "cell_type": "code",
   "execution_count": 86,
   "metadata": {},
   "outputs": [
    {
     "name": "stderr",
     "output_type": "stream",
     "text": [
      "C:\\Users\\drk0g\\AppData\\Local\\Temp\\ipykernel_10776\\1033145543.py:1: SettingWithCopyWarning: \n",
      "A value is trying to be set on a copy of a slice from a DataFrame.\n",
      "Try using .loc[row_indexer,col_indexer] = value instead\n",
      "\n",
      "See the caveats in the documentation: https://pandas.pydata.org/pandas-docs/stable/user_guide/indexing.html#returning-a-view-versus-a-copy\n",
      "  floors['AvgFloors'] = [0]*len(floors)\n"
     ]
    }
   ],
   "source": [
    "floors['AvgFloors'] = [0]*len(floors)"
   ]
  },
  {
   "cell_type": "code",
   "execution_count": 87,
   "metadata": {},
   "outputs": [
    {
     "data": {
      "text/html": [
       "<div>\n",
       "<style scoped>\n",
       "    .dataframe tbody tr th:only-of-type {\n",
       "        vertical-align: middle;\n",
       "    }\n",
       "\n",
       "    .dataframe tbody tr th {\n",
       "        vertical-align: top;\n",
       "    }\n",
       "\n",
       "    .dataframe thead th {\n",
       "        text-align: right;\n",
       "    }\n",
       "</style>\n",
       "<table border=\"1\" class=\"dataframe\">\n",
       "  <thead>\n",
       "    <tr style=\"text-align: right;\">\n",
       "      <th></th>\n",
       "      <th>region</th>\n",
       "      <th>floorMin</th>\n",
       "      <th>floorMax</th>\n",
       "      <th>AvgFloors</th>\n",
       "    </tr>\n",
       "  </thead>\n",
       "  <tbody>\n",
       "    <tr>\n",
       "      <th>0</th>\n",
       "      <td>72</td>\n",
       "      <td>4</td>\n",
       "      <td>20</td>\n",
       "      <td>0</td>\n",
       "    </tr>\n",
       "    <tr>\n",
       "      <th>1</th>\n",
       "      <td>72</td>\n",
       "      <td>7</td>\n",
       "      <td>10</td>\n",
       "      <td>0</td>\n",
       "    </tr>\n",
       "    <tr>\n",
       "      <th>2</th>\n",
       "      <td>72</td>\n",
       "      <td>6</td>\n",
       "      <td>12</td>\n",
       "      <td>0</td>\n",
       "    </tr>\n",
       "    <tr>\n",
       "      <th>3</th>\n",
       "      <td>72</td>\n",
       "      <td>1</td>\n",
       "      <td>1</td>\n",
       "      <td>0</td>\n",
       "    </tr>\n",
       "    <tr>\n",
       "      <th>4</th>\n",
       "      <td>26</td>\n",
       "      <td>2</td>\n",
       "      <td>10</td>\n",
       "      <td>0</td>\n",
       "    </tr>\n",
       "  </tbody>\n",
       "</table>\n",
       "</div>"
      ],
      "text/plain": [
       "   region  floorMin  floorMax  AvgFloors\n",
       "0      72         4        20          0\n",
       "1      72         7        10          0\n",
       "2      72         6        12          0\n",
       "3      72         1         1          0\n",
       "4      26         2        10          0"
      ]
     },
     "execution_count": 87,
     "metadata": {},
     "output_type": "execute_result"
    }
   ],
   "source": [
    "floors.head()"
   ]
  },
  {
   "cell_type": "code",
   "execution_count": 88,
   "metadata": {},
   "outputs": [
    {
     "name": "stderr",
     "output_type": "stream",
     "text": [
      "C:\\Users\\drk0g\\AppData\\Local\\Temp\\ipykernel_10776\\2317002040.py:3: SettingWithCopyWarning: \n",
      "A value is trying to be set on a copy of a slice from a DataFrame\n",
      "\n",
      "See the caveats in the documentation: https://pandas.pydata.org/pandas-docs/stable/user_guide/indexing.html#returning-a-view-versus-a-copy\n",
      "  floors['AvgFloors'].iloc[i] = avg\n"
     ]
    }
   ],
   "source": [
    "for i in range(len(floors)):\n",
    "    avg = (floors['floorMin'].iloc[i] + floors['floorMax'].iloc[i])//2\n",
    "    floors['AvgFloors'].iloc[i] = avg\n",
    "    "
   ]
  },
  {
   "cell_type": "code",
   "execution_count": 89,
   "metadata": {},
   "outputs": [
    {
     "data": {
      "text/html": [
       "<div>\n",
       "<style scoped>\n",
       "    .dataframe tbody tr th:only-of-type {\n",
       "        vertical-align: middle;\n",
       "    }\n",
       "\n",
       "    .dataframe tbody tr th {\n",
       "        vertical-align: top;\n",
       "    }\n",
       "\n",
       "    .dataframe thead th {\n",
       "        text-align: right;\n",
       "    }\n",
       "</style>\n",
       "<table border=\"1\" class=\"dataframe\">\n",
       "  <thead>\n",
       "    <tr style=\"text-align: right;\">\n",
       "      <th></th>\n",
       "      <th>region</th>\n",
       "      <th>floorMin</th>\n",
       "      <th>floorMax</th>\n",
       "      <th>AvgFloors</th>\n",
       "    </tr>\n",
       "  </thead>\n",
       "  <tbody>\n",
       "    <tr>\n",
       "      <th>0</th>\n",
       "      <td>72</td>\n",
       "      <td>4</td>\n",
       "      <td>20</td>\n",
       "      <td>12</td>\n",
       "    </tr>\n",
       "    <tr>\n",
       "      <th>1</th>\n",
       "      <td>72</td>\n",
       "      <td>7</td>\n",
       "      <td>10</td>\n",
       "      <td>8</td>\n",
       "    </tr>\n",
       "    <tr>\n",
       "      <th>2</th>\n",
       "      <td>72</td>\n",
       "      <td>6</td>\n",
       "      <td>12</td>\n",
       "      <td>9</td>\n",
       "    </tr>\n",
       "    <tr>\n",
       "      <th>3</th>\n",
       "      <td>72</td>\n",
       "      <td>1</td>\n",
       "      <td>1</td>\n",
       "      <td>1</td>\n",
       "    </tr>\n",
       "    <tr>\n",
       "      <th>4</th>\n",
       "      <td>26</td>\n",
       "      <td>2</td>\n",
       "      <td>10</td>\n",
       "      <td>6</td>\n",
       "    </tr>\n",
       "  </tbody>\n",
       "</table>\n",
       "</div>"
      ],
      "text/plain": [
       "   region  floorMin  floorMax  AvgFloors\n",
       "0      72         4        20         12\n",
       "1      72         7        10          8\n",
       "2      72         6        12          9\n",
       "3      72         1         1          1\n",
       "4      26         2        10          6"
      ]
     },
     "execution_count": 89,
     "metadata": {},
     "output_type": "execute_result"
    }
   ],
   "source": [
    "floors.head()"
   ]
  },
  {
   "cell_type": "code",
   "execution_count": 90,
   "metadata": {},
   "outputs": [],
   "source": [
    "# Avg floors by region"
   ]
  },
  {
   "cell_type": "code",
   "execution_count": 91,
   "metadata": {},
   "outputs": [
    {
     "data": {
      "text/plain": [
       "<AxesSubplot:xlabel='region', ylabel='AvgFloors'>"
      ]
     },
     "execution_count": 91,
     "metadata": {},
     "output_type": "execute_result"
    },
    {
     "data": {
      "image/png": "[encoded data removed]",
      "text/plain": [
       "<Figure size 640x480 with 1 Axes>"
      ]
     },
     "metadata": {},
     "output_type": "display_data"
    }
   ],
   "source": [
    "sns.barplot(data=floors, x='region', y='AvgFloors')"
   ]
  },
  {
   "cell_type": "code",
   "execution_count": null,
   "metadata": {},
   "outputs": [],
   "source": []
  },
  {
   "cell_type": "code",
   "execution_count": 92,
   "metadata": {},
   "outputs": [],
   "source": [
    "## Count homes by region"
   ]
  },
  {
   "cell_type": "code",
   "execution_count": 93,
   "metadata": {},
   "outputs": [
    {
     "data": {
      "text/plain": [
       "<AxesSubplot:xlabel='region', ylabel='count'>"
      ]
     },
     "execution_count": 93,
     "metadata": {},
     "output_type": "execute_result"
    },
    {
     "data": {
      "image/png": "[encoded data removed]",
      "text/plain": [
       "<Figure size 640x480 with 1 Axes>"
      ]
     },
     "metadata": {},
     "output_type": "display_data"
    }
   ],
   "source": [
    "sns.countplot(data=homes, x='region')"
   ]
  },
  {
   "cell_type": "code",
   "execution_count": 94,
   "metadata": {},
   "outputs": [],
   "source": [
    "#objReady100PercDt"
   ]
  },
  {
   "cell_type": "code",
   "execution_count": 95,
   "metadata": {},
   "outputs": [],
   "source": [
    "homes_date = homes[['id', 'region', 'objReady100PercDt']]"
   ]
  },
  {
   "cell_type": "code",
   "execution_count": 96,
   "metadata": {},
   "outputs": [
    {
     "data": {
      "text/html": [
       "<div>\n",
       "<style scoped>\n",
       "    .dataframe tbody tr th:only-of-type {\n",
       "        vertical-align: middle;\n",
       "    }\n",
       "\n",
       "    .dataframe tbody tr th {\n",
       "        vertical-align: top;\n",
       "    }\n",
       "\n",
       "    .dataframe thead th {\n",
       "        text-align: right;\n",
       "    }\n",
       "</style>\n",
       "<table border=\"1\" class=\"dataframe\">\n",
       "  <thead>\n",
       "    <tr style=\"text-align: right;\">\n",
       "      <th></th>\n",
       "      <th>id</th>\n",
       "      <th>region</th>\n",
       "      <th>objReady100PercDt</th>\n",
       "    </tr>\n",
       "  </thead>\n",
       "  <tbody>\n",
       "    <tr>\n",
       "      <th>0</th>\n",
       "      <td>13383</td>\n",
       "      <td>72</td>\n",
       "      <td>2023-03-31</td>\n",
       "    </tr>\n",
       "    <tr>\n",
       "      <th>1</th>\n",
       "      <td>13398</td>\n",
       "      <td>72</td>\n",
       "      <td>2024-12-31</td>\n",
       "    </tr>\n",
       "    <tr>\n",
       "      <th>2</th>\n",
       "      <td>13397</td>\n",
       "      <td>72</td>\n",
       "      <td>2024-12-31</td>\n",
       "    </tr>\n",
       "    <tr>\n",
       "      <th>3</th>\n",
       "      <td>13399</td>\n",
       "      <td>72</td>\n",
       "      <td>2024-12-31</td>\n",
       "    </tr>\n",
       "    <tr>\n",
       "      <th>4</th>\n",
       "      <td>36912</td>\n",
       "      <td>26</td>\n",
       "      <td>2022-12-31</td>\n",
       "    </tr>\n",
       "    <tr>\n",
       "      <th>5</th>\n",
       "      <td>10891</td>\n",
       "      <td>35</td>\n",
       "      <td>2023-03-31</td>\n",
       "    </tr>\n",
       "    <tr>\n",
       "      <th>6</th>\n",
       "      <td>8809</td>\n",
       "      <td>74</td>\n",
       "      <td>2019-03-31</td>\n",
       "    </tr>\n",
       "    <tr>\n",
       "      <th>7</th>\n",
       "      <td>8810</td>\n",
       "      <td>74</td>\n",
       "      <td>2019-03-31</td>\n",
       "    </tr>\n",
       "    <tr>\n",
       "      <th>8</th>\n",
       "      <td>39176</td>\n",
       "      <td>23</td>\n",
       "      <td>2024-09-30</td>\n",
       "    </tr>\n",
       "    <tr>\n",
       "      <th>9</th>\n",
       "      <td>39175</td>\n",
       "      <td>23</td>\n",
       "      <td>2023-06-30</td>\n",
       "    </tr>\n",
       "  </tbody>\n",
       "</table>\n",
       "</div>"
      ],
      "text/plain": [
       "      id  region objReady100PercDt\n",
       "0  13383      72        2023-03-31\n",
       "1  13398      72        2024-12-31\n",
       "2  13397      72        2024-12-31\n",
       "3  13399      72        2024-12-31\n",
       "4  36912      26        2022-12-31\n",
       "5  10891      35        2023-03-31\n",
       "6   8809      74        2019-03-31\n",
       "7   8810      74        2019-03-31\n",
       "8  39176      23        2024-09-30\n",
       "9  39175      23        2023-06-30"
      ]
     },
     "execution_count": 96,
     "metadata": {},
     "output_type": "execute_result"
    }
   ],
   "source": [
    "homes_date.head(10)"
   ]
  },
  {
   "cell_type": "code",
   "execution_count": 97,
   "metadata": {},
   "outputs": [
    {
     "data": {
      "text/plain": [
       "'2023-03-31'"
      ]
     },
     "execution_count": 97,
     "metadata": {},
     "output_type": "execute_result"
    }
   ],
   "source": [
    "homes_date['objReady100PercDt'].iloc[0]"
   ]
  },
  {
   "cell_type": "code",
   "execution_count": 98,
   "metadata": {},
   "outputs": [],
   "source": [
    "## Add Year to homes_date"
   ]
  },
  {
   "cell_type": "code",
   "execution_count": 99,
   "metadata": {},
   "outputs": [
    {
     "name": "stderr",
     "output_type": "stream",
     "text": [
      "C:\\Users\\drk0g\\AppData\\Local\\Temp\\ipykernel_10776\\2017191194.py:1: SettingWithCopyWarning: \n",
      "A value is trying to be set on a copy of a slice from a DataFrame.\n",
      "Try using .loc[row_indexer,col_indexer] = value instead\n",
      "\n",
      "See the caveats in the documentation: https://pandas.pydata.org/pandas-docs/stable/user_guide/indexing.html#returning-a-view-versus-a-copy\n",
      "  homes_date['Year'] = ['']*len(homes_date)\n"
     ]
    }
   ],
   "source": [
    "homes_date['Year'] = ['']*len(homes_date) "
   ]
  },
  {
   "cell_type": "code",
   "execution_count": 100,
   "metadata": {},
   "outputs": [
    {
     "name": "stderr",
     "output_type": "stream",
     "text": [
      "C:\\Users\\drk0g\\AppData\\Local\\Temp\\ipykernel_10776\\4131059989.py:2: SettingWithCopyWarning: \n",
      "A value is trying to be set on a copy of a slice from a DataFrame\n",
      "\n",
      "See the caveats in the documentation: https://pandas.pydata.org/pandas-docs/stable/user_guide/indexing.html#returning-a-view-versus-a-copy\n",
      "  homes_date['Year'].iloc[i] = homes_date['objReady100PercDt'].iloc[i][:4]\n"
     ]
    }
   ],
   "source": [
    "for i in range(len(homes_date)):\n",
    "    homes_date['Year'].iloc[i] = homes_date['objReady100PercDt'].iloc[i][:4]\n",
    "    "
   ]
  },
  {
   "cell_type": "code",
   "execution_count": 101,
   "metadata": {},
   "outputs": [
    {
     "data": {
      "text/html": [
       "<div>\n",
       "<style scoped>\n",
       "    .dataframe tbody tr th:only-of-type {\n",
       "        vertical-align: middle;\n",
       "    }\n",
       "\n",
       "    .dataframe tbody tr th {\n",
       "        vertical-align: top;\n",
       "    }\n",
       "\n",
       "    .dataframe thead th {\n",
       "        text-align: right;\n",
       "    }\n",
       "</style>\n",
       "<table border=\"1\" class=\"dataframe\">\n",
       "  <thead>\n",
       "    <tr style=\"text-align: right;\">\n",
       "      <th></th>\n",
       "      <th>id</th>\n",
       "      <th>region</th>\n",
       "      <th>objReady100PercDt</th>\n",
       "      <th>Year</th>\n",
       "    </tr>\n",
       "  </thead>\n",
       "  <tbody>\n",
       "    <tr>\n",
       "      <th>0</th>\n",
       "      <td>13383</td>\n",
       "      <td>72</td>\n",
       "      <td>2023-03-31</td>\n",
       "      <td>2023</td>\n",
       "    </tr>\n",
       "    <tr>\n",
       "      <th>1</th>\n",
       "      <td>13398</td>\n",
       "      <td>72</td>\n",
       "      <td>2024-12-31</td>\n",
       "      <td>2024</td>\n",
       "    </tr>\n",
       "    <tr>\n",
       "      <th>2</th>\n",
       "      <td>13397</td>\n",
       "      <td>72</td>\n",
       "      <td>2024-12-31</td>\n",
       "      <td>2024</td>\n",
       "    </tr>\n",
       "    <tr>\n",
       "      <th>3</th>\n",
       "      <td>13399</td>\n",
       "      <td>72</td>\n",
       "      <td>2024-12-31</td>\n",
       "      <td>2024</td>\n",
       "    </tr>\n",
       "    <tr>\n",
       "      <th>4</th>\n",
       "      <td>36912</td>\n",
       "      <td>26</td>\n",
       "      <td>2022-12-31</td>\n",
       "      <td>2022</td>\n",
       "    </tr>\n",
       "    <tr>\n",
       "      <th>5</th>\n",
       "      <td>10891</td>\n",
       "      <td>35</td>\n",
       "      <td>2023-03-31</td>\n",
       "      <td>2023</td>\n",
       "    </tr>\n",
       "    <tr>\n",
       "      <th>6</th>\n",
       "      <td>8809</td>\n",
       "      <td>74</td>\n",
       "      <td>2019-03-31</td>\n",
       "      <td>2019</td>\n",
       "    </tr>\n",
       "    <tr>\n",
       "      <th>7</th>\n",
       "      <td>8810</td>\n",
       "      <td>74</td>\n",
       "      <td>2019-03-31</td>\n",
       "      <td>2019</td>\n",
       "    </tr>\n",
       "    <tr>\n",
       "      <th>8</th>\n",
       "      <td>39176</td>\n",
       "      <td>23</td>\n",
       "      <td>2024-09-30</td>\n",
       "      <td>2024</td>\n",
       "    </tr>\n",
       "    <tr>\n",
       "      <th>9</th>\n",
       "      <td>39175</td>\n",
       "      <td>23</td>\n",
       "      <td>2023-06-30</td>\n",
       "      <td>2023</td>\n",
       "    </tr>\n",
       "  </tbody>\n",
       "</table>\n",
       "</div>"
      ],
      "text/plain": [
       "      id  region objReady100PercDt  Year\n",
       "0  13383      72        2023-03-31  2023\n",
       "1  13398      72        2024-12-31  2024\n",
       "2  13397      72        2024-12-31  2024\n",
       "3  13399      72        2024-12-31  2024\n",
       "4  36912      26        2022-12-31  2022\n",
       "5  10891      35        2023-03-31  2023\n",
       "6   8809      74        2019-03-31  2019\n",
       "7   8810      74        2019-03-31  2019\n",
       "8  39176      23        2024-09-30  2024\n",
       "9  39175      23        2023-06-30  2023"
      ]
     },
     "execution_count": 101,
     "metadata": {},
     "output_type": "execute_result"
    }
   ],
   "source": [
    "homes_date.head(10)"
   ]
  },
  {
   "cell_type": "code",
   "execution_count": null,
   "metadata": {},
   "outputs": [],
   "source": []
  },
  {
   "cell_type": "code",
   "execution_count": 102,
   "metadata": {},
   "outputs": [],
   "source": [
    "# By region and by year"
   ]
  },
  {
   "cell_type": "code",
   "execution_count": 103,
   "metadata": {},
   "outputs": [
    {
     "data": {
      "text/plain": [
       "<AxesSubplot:xlabel='region', ylabel='count'>"
      ]
     },
     "execution_count": 103,
     "metadata": {},
     "output_type": "execute_result"
    },
    {
     "data": {
      "image/png": "[encoded data removed]",
      "text/plain": [
       "<Figure size 640x480 with 1 Axes>"
      ]
     },
     "metadata": {},
     "output_type": "display_data"
    }
   ],
   "source": [
    "sns.countplot(data=homes_date, x='region', hue='Year')"
   ]
  },
  {
   "cell_type": "code",
   "execution_count": 104,
   "metadata": {},
   "outputs": [
    {
     "data": {
      "text/plain": [
       "<AxesSubplot:xlabel='Year', ylabel='count'>"
      ]
     },
     "execution_count": 104,
     "metadata": {},
     "output_type": "execute_result"
    },
    {
     "data": {
      "image/png": "[encoded data removed]",
      "text/plain": [
       "<Figure size 640x480 with 1 Axes>"
      ]
     },
     "metadata": {},
     "output_type": "display_data"
    }
   ],
   "source": [
    "sns.countplot(data=homes_date, x='Year')"
   ]
  },
  {
   "cell_type": "markdown",
   "metadata": {},
   "source": [
    "Что касается объемов вводимого жилья по регионам и по годам. Картина следующая, лидирует Москва в 2022г"
   ]
  },
  {
   "cell_type": "code",
   "execution_count": 167,
   "metadata": {},
   "outputs": [
    {
     "data": {
      "text/html": [
       "<div>\n",
       "<style scoped>\n",
       "    .dataframe tbody tr th:only-of-type {\n",
       "        vertical-align: middle;\n",
       "    }\n",
       "\n",
       "    .dataframe tbody tr th {\n",
       "        vertical-align: top;\n",
       "    }\n",
       "\n",
       "    .dataframe thead th {\n",
       "        text-align: right;\n",
       "    }\n",
       "</style>\n",
       "<table border=\"1\" class=\"dataframe\">\n",
       "  <thead>\n",
       "    <tr style=\"text-align: right;\">\n",
       "      <th></th>\n",
       "      <th>id</th>\n",
       "      <th>hobjId</th>\n",
       "      <th>pdId</th>\n",
       "      <th>developer</th>\n",
       "      <th>region</th>\n",
       "      <th>address</th>\n",
       "      <th>floorMin</th>\n",
       "      <th>floorMax</th>\n",
       "      <th>objElemLivingCnt</th>\n",
       "      <th>objReady100PercDt</th>\n",
       "      <th>...</th>\n",
       "      <th>soldOutPerc</th>\n",
       "      <th>objPriceAvg</th>\n",
       "      <th>generalContractorNm</th>\n",
       "      <th>nonlivFirstFloor</th>\n",
       "      <th>objectTransportInfo</th>\n",
       "      <th>conclusion</th>\n",
       "      <th>objLkSaleDepEmail</th>\n",
       "      <th>objGreenHouseFlg</th>\n",
       "      <th>objEnergyEffShortDesc</th>\n",
       "      <th>infrastructureIndexValue</th>\n",
       "    </tr>\n",
       "  </thead>\n",
       "  <tbody>\n",
       "    <tr>\n",
       "      <th>0</th>\n",
       "      <td>13383</td>\n",
       "      <td>39024</td>\n",
       "      <td>28105</td>\n",
       "      <td>{'devId': 306, 'devShortCleanNm': '2МЕН ГРУПП'...</td>\n",
       "      <td>72</td>\n",
       "      <td>г Тюмень</td>\n",
       "      <td>4</td>\n",
       "      <td>20</td>\n",
       "      <td>68</td>\n",
       "      <td>2023-03-31</td>\n",
       "      <td>...</td>\n",
       "      <td>0.406985</td>\n",
       "      <td>53109</td>\n",
       "      <td>ООО Транспромжилстрой-2005 (ИНН: 7204097730)</td>\n",
       "      <td>1</td>\n",
       "      <td>[]</td>\n",
       "      <td>False</td>\n",
       "      <td>info@2mengroup.ru</td>\n",
       "      <td>0</td>\n",
       "      <td>B</td>\n",
       "      <td>10</td>\n",
       "    </tr>\n",
       "    <tr>\n",
       "      <th>1</th>\n",
       "      <td>13398</td>\n",
       "      <td>37165</td>\n",
       "      <td>28141</td>\n",
       "      <td>{'devId': 306, 'devShortCleanNm': '2МЕН ГРУПП'...</td>\n",
       "      <td>72</td>\n",
       "      <td>г Тюмень, ул Профсоюзная, д. 56</td>\n",
       "      <td>7</td>\n",
       "      <td>10</td>\n",
       "      <td>43</td>\n",
       "      <td>2024-12-31</td>\n",
       "      <td>...</td>\n",
       "      <td>1.0</td>\n",
       "      <td>47886</td>\n",
       "      <td>ООО Транспромжилстрой-2005 (ИНН: 7204097730)</td>\n",
       "      <td>0</td>\n",
       "      <td>[]</td>\n",
       "      <td>False</td>\n",
       "      <td>info@2mengroup.ru</td>\n",
       "      <td>0</td>\n",
       "      <td>B</td>\n",
       "      <td>10</td>\n",
       "    </tr>\n",
       "    <tr>\n",
       "      <th>2</th>\n",
       "      <td>13397</td>\n",
       "      <td>37201</td>\n",
       "      <td>28141</td>\n",
       "      <td>{'devId': 306, 'devShortCleanNm': '2МЕН ГРУПП'...</td>\n",
       "      <td>72</td>\n",
       "      <td>г Тюмень, ул Профсоюзная, д. 56</td>\n",
       "      <td>6</td>\n",
       "      <td>12</td>\n",
       "      <td>65</td>\n",
       "      <td>2024-12-31</td>\n",
       "      <td>...</td>\n",
       "      <td>0.999984</td>\n",
       "      <td>45523</td>\n",
       "      <td>ООО Транспромжилстрой-2005 (ИНН: 7204097730)</td>\n",
       "      <td>0</td>\n",
       "      <td>[]</td>\n",
       "      <td>False</td>\n",
       "      <td>info@2mengroup.ru</td>\n",
       "      <td>0</td>\n",
       "      <td>B</td>\n",
       "      <td>10</td>\n",
       "    </tr>\n",
       "    <tr>\n",
       "      <th>3</th>\n",
       "      <td>13399</td>\n",
       "      <td>34754</td>\n",
       "      <td>28141</td>\n",
       "      <td>{'devId': 306, 'devShortCleanNm': '2МЕН ГРУПП'...</td>\n",
       "      <td>72</td>\n",
       "      <td>г Тюмень, ул Профсоюзная, д. 56</td>\n",
       "      <td>1</td>\n",
       "      <td>1</td>\n",
       "      <td>0</td>\n",
       "      <td>2024-12-31</td>\n",
       "      <td>...</td>\n",
       "      <td>0.917243</td>\n",
       "      <td>50768</td>\n",
       "      <td>ООО Транспромжилстрой-2005 (ИНН: 7204097730)</td>\n",
       "      <td>1</td>\n",
       "      <td>[]</td>\n",
       "      <td>False</td>\n",
       "      <td>info@2mengroup.ru</td>\n",
       "      <td>0</td>\n",
       "      <td>B</td>\n",
       "      <td>10</td>\n",
       "    </tr>\n",
       "    <tr>\n",
       "      <th>4</th>\n",
       "      <td>36912</td>\n",
       "      <td>117248</td>\n",
       "      <td>337586</td>\n",
       "      <td>{'devId': 10296, 'devShortCleanNm': 'CЗ СТРОЙР...</td>\n",
       "      <td>26</td>\n",
       "      <td>г Ставрополь, ул Шпаковская, Доваторцев, д. 10...</td>\n",
       "      <td>2</td>\n",
       "      <td>10</td>\n",
       "      <td>104</td>\n",
       "      <td>2022-12-31</td>\n",
       "      <td>...</td>\n",
       "      <td>0.609216</td>\n",
       "      <td>62703</td>\n",
       "      <td>ООО Стройресурс (ИНН: 2634053119)</td>\n",
       "      <td>1</td>\n",
       "      <td>[]</td>\n",
       "      <td>False</td>\n",
       "      <td>sz.stroyresurs@yandex.ru</td>\n",
       "      <td>0</td>\n",
       "      <td>B</td>\n",
       "      <td>8</td>\n",
       "    </tr>\n",
       "    <tr>\n",
       "      <th>5</th>\n",
       "      <td>10891</td>\n",
       "      <td>6541</td>\n",
       "      <td>23054</td>\n",
       "      <td>{'devId': 3006, 'devShortCleanNm': 'ААК ВОЛОГД...</td>\n",
       "      <td>35</td>\n",
       "      <td>г Вологда, ул Медуницинская, д. 7</td>\n",
       "      <td>16</td>\n",
       "      <td>16</td>\n",
       "      <td>225</td>\n",
       "      <td>2023-03-31</td>\n",
       "      <td>...</td>\n",
       "      <td>0.916518</td>\n",
       "      <td>44771</td>\n",
       "      <td>----</td>\n",
       "      <td>0</td>\n",
       "      <td>[]</td>\n",
       "      <td>False</td>\n",
       "      <td>vologdaagrostroy@yandex.ru</td>\n",
       "      <td>0</td>\n",
       "      <td>D</td>\n",
       "      <td>9</td>\n",
       "    </tr>\n",
       "    <tr>\n",
       "      <th>6</th>\n",
       "      <td>8809</td>\n",
       "      <td>4071</td>\n",
       "      <td>18074</td>\n",
       "      <td>{'devId': 1955, 'devShortCleanNm': 'АБСОЛЮТ', ...</td>\n",
       "      <td>74</td>\n",
       "      <td>город Южноуральск, улица Сергея Буландо, д. 8</td>\n",
       "      <td>10</td>\n",
       "      <td>10</td>\n",
       "      <td>129</td>\n",
       "      <td>2019-03-31</td>\n",
       "      <td>...</td>\n",
       "      <td>----</td>\n",
       "      <td>----</td>\n",
       "      <td>----</td>\n",
       "      <td>0</td>\n",
       "      <td>[]</td>\n",
       "      <td>False</td>\n",
       "      <td>----</td>\n",
       "      <td>0</td>\n",
       "      <td>B</td>\n",
       "      <td>7</td>\n",
       "    </tr>\n",
       "    <tr>\n",
       "      <th>7</th>\n",
       "      <td>8810</td>\n",
       "      <td>39960</td>\n",
       "      <td>18074</td>\n",
       "      <td>{'devId': 1955, 'devShortCleanNm': 'АБСОЛЮТ', ...</td>\n",
       "      <td>74</td>\n",
       "      <td>город Южноуральск, улица Сергея Буландо, д. 8</td>\n",
       "      <td>10</td>\n",
       "      <td>10</td>\n",
       "      <td>119</td>\n",
       "      <td>2019-03-31</td>\n",
       "      <td>...</td>\n",
       "      <td>----</td>\n",
       "      <td>----</td>\n",
       "      <td>----</td>\n",
       "      <td>0</td>\n",
       "      <td>[]</td>\n",
       "      <td>False</td>\n",
       "      <td>----</td>\n",
       "      <td>0</td>\n",
       "      <td>B</td>\n",
       "      <td>7</td>\n",
       "    </tr>\n",
       "    <tr>\n",
       "      <th>8</th>\n",
       "      <td>39176</td>\n",
       "      <td>119604</td>\n",
       "      <td>435352</td>\n",
       "      <td>{'devId': 1146, 'devShortCleanNm': 'АВА ДЕВЕЛО...</td>\n",
       "      <td>23</td>\n",
       "      <td>г Краснодар, улица Валерия Гассия, д. 4/7, лит...</td>\n",
       "      <td>25</td>\n",
       "      <td>25</td>\n",
       "      <td>198</td>\n",
       "      <td>2024-09-30</td>\n",
       "      <td>...</td>\n",
       "      <td>0.544263</td>\n",
       "      <td>103761</td>\n",
       "      <td>ООО ГРАНТ СТРОЙ (ИНН: 2312246941)</td>\n",
       "      <td>1</td>\n",
       "      <td>[]</td>\n",
       "      <td>True</td>\n",
       "      <td>info@ask-yug.com</td>\n",
       "      <td>0</td>\n",
       "      <td>B</td>\n",
       "      <td>5</td>\n",
       "    </tr>\n",
       "    <tr>\n",
       "      <th>9</th>\n",
       "      <td>39175</td>\n",
       "      <td>119603</td>\n",
       "      <td>435351</td>\n",
       "      <td>{'devId': 1146, 'devShortCleanNm': 'АВА ДЕВЕЛО...</td>\n",
       "      <td>23</td>\n",
       "      <td>г Краснодар, улица Валерия Гассия, д. 4/7, лит...</td>\n",
       "      <td>25</td>\n",
       "      <td>25</td>\n",
       "      <td>396</td>\n",
       "      <td>2023-06-30</td>\n",
       "      <td>...</td>\n",
       "      <td>0.545813</td>\n",
       "      <td>102841</td>\n",
       "      <td>ООО ГРАНТ СТРОЙ (ИНН: 2312246941)</td>\n",
       "      <td>1</td>\n",
       "      <td>[]</td>\n",
       "      <td>True</td>\n",
       "      <td>info@ask-yug.com</td>\n",
       "      <td>0</td>\n",
       "      <td>B</td>\n",
       "      <td>5</td>\n",
       "    </tr>\n",
       "  </tbody>\n",
       "</table>\n",
       "<p>10 rows × 60 columns</p>\n",
       "</div>"
      ],
      "text/plain": [
       "      id  hobjId    pdId                                          developer  \\\n",
       "0  13383   39024   28105  {'devId': 306, 'devShortCleanNm': '2МЕН ГРУПП'...   \n",
       "1  13398   37165   28141  {'devId': 306, 'devShortCleanNm': '2МЕН ГРУПП'...   \n",
       "2  13397   37201   28141  {'devId': 306, 'devShortCleanNm': '2МЕН ГРУПП'...   \n",
       "3  13399   34754   28141  {'devId': 306, 'devShortCleanNm': '2МЕН ГРУПП'...   \n",
       "4  36912  117248  337586  {'devId': 10296, 'devShortCleanNm': 'CЗ СТРОЙР...   \n",
       "5  10891    6541   23054  {'devId': 3006, 'devShortCleanNm': 'ААК ВОЛОГД...   \n",
       "6   8809    4071   18074  {'devId': 1955, 'devShortCleanNm': 'АБСОЛЮТ', ...   \n",
       "7   8810   39960   18074  {'devId': 1955, 'devShortCleanNm': 'АБСОЛЮТ', ...   \n",
       "8  39176  119604  435352  {'devId': 1146, 'devShortCleanNm': 'АВА ДЕВЕЛО...   \n",
       "9  39175  119603  435351  {'devId': 1146, 'devShortCleanNm': 'АВА ДЕВЕЛО...   \n",
       "\n",
       "   region                                            address  floorMin  \\\n",
       "0      72                                           г Тюмень         4   \n",
       "1      72                    г Тюмень, ул Профсоюзная, д. 56         7   \n",
       "2      72                    г Тюмень, ул Профсоюзная, д. 56         6   \n",
       "3      72                    г Тюмень, ул Профсоюзная, д. 56         1   \n",
       "4      26  г Ставрополь, ул Шпаковская, Доваторцев, д. 10...         2   \n",
       "5      35                  г Вологда, ул Медуницинская, д. 7        16   \n",
       "6      74      город Южноуральск, улица Сергея Буландо, д. 8        10   \n",
       "7      74      город Южноуральск, улица Сергея Буландо, д. 8        10   \n",
       "8      23  г Краснодар, улица Валерия Гассия, д. 4/7, лит...        25   \n",
       "9      23  г Краснодар, улица Валерия Гассия, д. 4/7, лит...        25   \n",
       "\n",
       "   floorMax  objElemLivingCnt objReady100PercDt  ... soldOutPerc objPriceAvg  \\\n",
       "0        20                68        2023-03-31  ...    0.406985       53109   \n",
       "1        10                43        2024-12-31  ...         1.0       47886   \n",
       "2        12                65        2024-12-31  ...    0.999984       45523   \n",
       "3         1                 0        2024-12-31  ...    0.917243       50768   \n",
       "4        10               104        2022-12-31  ...    0.609216       62703   \n",
       "5        16               225        2023-03-31  ...    0.916518       44771   \n",
       "6        10               129        2019-03-31  ...        ----        ----   \n",
       "7        10               119        2019-03-31  ...        ----        ----   \n",
       "8        25               198        2024-09-30  ...    0.544263      103761   \n",
       "9        25               396        2023-06-30  ...    0.545813      102841   \n",
       "\n",
       "                            generalContractorNm  nonlivFirstFloor  \\\n",
       "0  ООО Транспромжилстрой-2005 (ИНН: 7204097730)                 1   \n",
       "1  ООО Транспромжилстрой-2005 (ИНН: 7204097730)                 0   \n",
       "2  ООО Транспромжилстрой-2005 (ИНН: 7204097730)                 0   \n",
       "3  ООО Транспромжилстрой-2005 (ИНН: 7204097730)                 1   \n",
       "4             ООО Стройресурс (ИНН: 2634053119)                 1   \n",
       "5                                          ----                 0   \n",
       "6                                          ----                 0   \n",
       "7                                          ----                 0   \n",
       "8             ООО ГРАНТ СТРОЙ (ИНН: 2312246941)                 1   \n",
       "9             ООО ГРАНТ СТРОЙ (ИНН: 2312246941)                 1   \n",
       "\n",
       "   objectTransportInfo conclusion           objLkSaleDepEmail  \\\n",
       "0                   []      False           info@2mengroup.ru   \n",
       "1                   []      False           info@2mengroup.ru   \n",
       "2                   []      False           info@2mengroup.ru   \n",
       "3                   []      False           info@2mengroup.ru   \n",
       "4                   []      False    sz.stroyresurs@yandex.ru   \n",
       "5                   []      False  vologdaagrostroy@yandex.ru   \n",
       "6                   []      False                        ----   \n",
       "7                   []      False                        ----   \n",
       "8                   []       True            info@ask-yug.com   \n",
       "9                   []       True            info@ask-yug.com   \n",
       "\n",
       "  objGreenHouseFlg objEnergyEffShortDesc infrastructureIndexValue  \n",
       "0                0                     B                       10  \n",
       "1                0                     B                       10  \n",
       "2                0                     B                       10  \n",
       "3                0                     B                       10  \n",
       "4                0                     B                        8  \n",
       "5                0                     D                        9  \n",
       "6                0                     B                        7  \n",
       "7                0                     B                        7  \n",
       "8                0                     B                        5  \n",
       "9                0                     B                        5  \n",
       "\n",
       "[10 rows x 60 columns]"
      ]
     },
     "execution_count": 167,
     "metadata": {},
     "output_type": "execute_result"
    }
   ],
   "source": [
    "homes.head(10)"
   ]
  },
  {
   "cell_type": "code",
   "execution_count": 161,
   "metadata": {},
   "outputs": [
    {
     "name": "stdout",
     "output_type": "stream",
     "text": [
      "<class 'pandas.core.frame.DataFrame'>\n",
      "RangeIndex: 100 entries, 0 to 99\n",
      "Data columns (total 60 columns):\n",
      " #   Column                        Non-Null Count  Dtype  \n",
      "---  ------                        --------------  -----  \n",
      " 0   id                            100 non-null    int64  \n",
      " 1   hobjId                        100 non-null    int64  \n",
      " 2   pdId                          100 non-null    int64  \n",
      " 3   developer                     100 non-null    object \n",
      " 4   region                        100 non-null    int64  \n",
      " 5   address                       100 non-null    object \n",
      " 6   floorMin                      100 non-null    int64  \n",
      " 7   floorMax                      100 non-null    int64  \n",
      " 8   objElemLivingCnt              100 non-null    int64  \n",
      " 9   objReady100PercDt             100 non-null    object \n",
      " 10  wallMaterialShortDesc         100 non-null    object \n",
      " 11  objLkFinishTypeDesc           100 non-null    object \n",
      " 12  objLkFreePlanDesc             100 non-null    object \n",
      " 13  objElemParkingCnt             100 non-null    int64  \n",
      " 14  objSquareLiving               100 non-null    float64\n",
      " 15  rpdNum                        100 non-null    object \n",
      " 16  rpdPdfLink                    100 non-null    object \n",
      " 17  rpdIssueDttm                  100 non-null    object \n",
      " 18  objLkLatitude                 100 non-null    object \n",
      " 19  objLkLongitude                100 non-null    object \n",
      " 20  objCompensFundFlg             100 non-null    int64  \n",
      " 21  objProblemFlg                 100 non-null    int64  \n",
      " 22  objLkClassDesc                100 non-null    object \n",
      " 23  loadDttm                      100 non-null    object \n",
      " 24  photoRenderDTO                100 non-null    object \n",
      " 25  objGuarantyEscrowFlg          100 non-null    int64  \n",
      " 26  objectType                    100 non-null    object \n",
      " 27  miniUrl                       100 non-null    object \n",
      " 28  residentialBuildings          100 non-null    int64  \n",
      " 29  newBuildingId                 100 non-null    int64  \n",
      " 30  objFloorCnt                   100 non-null    int64  \n",
      " 31  objFlatCnt                    100 non-null    int64  \n",
      " 32  objFlatSq                     100 non-null    object \n",
      " 33  objNonlivElemCnt              100 non-null    int64  \n",
      " 34  objStatus                     100 non-null    int64  \n",
      " 35  isAvailableWantLiveHere       100 non-null    bool   \n",
      " 36  objTransferPlanDt             100 non-null    object \n",
      " 37  objLivCeilingHeight           100 non-null    object \n",
      " 38  objInfrstrBicycleLaneFlg      100 non-null    int64  \n",
      " 39  objInfrstrPlaygrndCnt         100 non-null    object \n",
      " 40  objInfrstrSportGroundCnt      100 non-null    object \n",
      " 41  objInfrstrTrashAreaCnt        100 non-null    object \n",
      " 42  objInfrstrObjPrkngCnt         100 non-null    object \n",
      " 43  objInfrstrNotObjPrkngCnt      100 non-null    object \n",
      " 44  objInfrstrRampFlg             100 non-null    int64  \n",
      " 45  objInfrstrCurbLoweringFlg     100 non-null    int64  \n",
      " 46  objElevatorWheelchairCnt      100 non-null    object \n",
      " 47  objElevatorPassengerCnt       100 non-null    object \n",
      " 48  objElevatorCargoCnt           100 non-null    object \n",
      " 49  objElevatorCargoPassengerCnt  100 non-null    int64  \n",
      " 50  soldOutPerc                   100 non-null    object \n",
      " 51  objPriceAvg                   100 non-null    object \n",
      " 52  generalContractorNm           100 non-null    object \n",
      " 53  nonlivFirstFloor              100 non-null    int64  \n",
      " 54  objectTransportInfo           100 non-null    object \n",
      " 55  conclusion                    100 non-null    bool   \n",
      " 56  objLkSaleDepEmail             100 non-null    object \n",
      " 57  objGreenHouseFlg              100 non-null    int64  \n",
      " 58  objEnergyEffShortDesc         100 non-null    object \n",
      " 59  infrastructureIndexValue      100 non-null    int64  \n",
      "dtypes: bool(2), float64(1), int64(24), object(33)\n",
      "memory usage: 45.6+ KB\n"
     ]
    }
   ],
   "source": [
    "homes.info()"
   ]
  },
  {
   "cell_type": "code",
   "execution_count": null,
   "metadata": {},
   "outputs": [],
   "source": []
  },
  {
   "cell_type": "code",
   "execution_count": 189,
   "metadata": {},
   "outputs": [],
   "source": [
    "#Посмотрим на кол-во квартир в разныз регионах"
   ]
  },
  {
   "cell_type": "code",
   "execution_count": 190,
   "metadata": {
    "scrolled": true
   },
   "outputs": [
    {
     "data": {
      "image/png": "[encoded data removed]",
      "text/plain": [
       "<Figure size 500x500 with 1 Axes>"
      ]
     },
     "metadata": {},
     "output_type": "display_data"
    }
   ],
   "source": [
    "sns.relplot(\n",
    "    x='region', \n",
    "    y='objElemLivingCnt', \n",
    "    data=homes, \n",
    "    kind='line'\n",
    ")\n",
    "plt.title('Количество квартир', size=20, color='g');"
   ]
  },
  {
   "cell_type": "code",
   "execution_count": 216,
   "metadata": {},
   "outputs": [
    {
     "data": {
      "image/png": "[encoded data removed]",
      "text/plain": [
       "<Figure size 2000x500 with 1 Axes>"
      ]
     },
     "metadata": {},
     "output_type": "display_data"
    }
   ],
   "source": [
    "sns.set(style='darkgrid')  \n",
    "\n",
    "sns.relplot(\n",
    "    x='region', \n",
    "    y='objElemLivingCnt', \n",
    "    data=homes, \n",
    "    kind='line',\n",
    "    aspect=4\n",
    ")\n",
    "plt.title('Количество квартир', size=20, color='g');"
   ]
  },
  {
   "cell_type": "markdown",
   "metadata": {},
   "source": [
    "Количество квартир в Самарской области наибольшее"
   ]
  }
 ],
 "metadata": {
  "colab": {
   "provenance": []
  },
  "kernelspec": {
   "display_name": "Python 3 (ipykernel)",
   "language": "python",
   "name": "python3"
  },
  "language_info": {
   "codemirror_mode": {
    "name": "ipython",
    "version": 3
   },
   "file_extension": ".py",
   "mimetype": "text/x-python",
   "name": "python",
   "nbconvert_exporter": "python",
   "pygments_lexer": "ipython3",
   "version": "3.9.13"
  }
 },
 "nbformat": 4,
 "nbformat_minor": 1
}
