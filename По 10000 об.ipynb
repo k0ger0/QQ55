{
 "cells": [
  {
   "cell_type": "code",
   "execution_count": 1,
   "id": "bba60bdb",
   "metadata": {},
   "outputs": [],
   "source": [
    "import requests"
   ]
  },
  {
   "cell_type": "code",
   "execution_count": 2,
   "id": "f60b3be4",
   "metadata": {},
   "outputs": [],
   "source": [
    "offset_ = 1\n",
    "limit_ = 1000\n",
    "url = f'https://xn--80az8a.xn--d1aqf.xn--p1ai/%D1%81%D0%B5%D1%80%D0%B2%D0%B8%D1%81%D1%8B/api/kn/object?offset={offset_}&limit={limit_}&sortField=devId.devShortCleanNm&sortType=asc&objStatus=0'\n",
    "res = requests.get(url)\n",
    "objects_data = res.json()"
   ]
  },
  {
   "cell_type": "code",
   "execution_count": 3,
   "id": "066d824d",
   "metadata": {},
   "outputs": [],
   "source": [
    "url = f'https://xn--80az8a.xn--d1aqf.xn--p1ai/%D1%81%D0%B5%D1%80%D0%B2%D0%B8%D1%81%D1%8B/api/object/36774'"
   ]
  },
  {
   "cell_type": "code",
   "execution_count": 4,
   "id": "99e4455d",
   "metadata": {},
   "outputs": [],
   "source": [
    "#####"
   ]
  },
  {
   "cell_type": "code",
   "execution_count": 5,
   "id": "55310667",
   "metadata": {},
   "outputs": [
    {
     "data": {
      "text/plain": [
       "[13383, 13398, 13397, 13399, 36912, 10891, 8809, 8810, 39176, 39175]"
      ]
     },
     "execution_count": 5,
     "metadata": {},
     "output_type": "execute_result"
    }
   ],
   "source": [
    "offset_ = 1\n",
    "limit_ = 1000\n",
    "url = f'https://xn--80az8a.xn--d1aqf.xn--p1ai/%D1%81%D0%B5%D1%80%D0%B2%D0%B8%D1%81%D1%8B/api/kn/object?offset={offset_}&limit={limit_}&sortField=devId.devShortCleanNm&sortType=asc&objStatus=0'\n",
    "res = requests.get(url)\n",
    "objects_data = res.json()\n",
    "objects_list = objects_data.get('data').get('list')\n",
    "Allobjids = [x.get('objId') for x in objects_list]\n",
    "Allobjids[:10]"
   ]
  },
  {
   "cell_type": "code",
   "execution_count": 6,
   "id": "5e3cafc7",
   "metadata": {},
   "outputs": [
    {
     "data": {
      "text/plain": [
       "1000"
      ]
     },
     "execution_count": 6,
     "metadata": {},
     "output_type": "execute_result"
    }
   ],
   "source": [
    "len(Allobjids)"
   ]
  },
  {
   "cell_type": "code",
   "execution_count": 7,
   "id": "fbd18f76",
   "metadata": {},
   "outputs": [],
   "source": [
    "### One object full data"
   ]
  },
  {
   "cell_type": "code",
   "execution_count": 8,
   "id": "4d339e2c",
   "metadata": {},
   "outputs": [],
   "source": [
    "url = f'https://xn--80az8a.xn--d1aqf.xn--p1ai/%D1%81%D0%B5%D1%80%D0%B2%D0%B8%D1%81%D1%8B/api/object/13383'\n",
    "\n",
    "res = requests.get(url)\n",
    "object_data = res.json()"
   ]
  },
  {
   "cell_type": "code",
   "execution_count": 9,
   "id": "450c7e7b",
   "metadata": {},
   "outputs": [],
   "source": [
    "### All keys in that JSON structure"
   ]
  },
  {
   "cell_type": "code",
   "execution_count": 10,
   "id": "5d0f6181",
   "metadata": {},
   "outputs": [
    {
     "name": "stdout",
     "output_type": "stream",
     "text": [
      "id\n",
      "hobjId\n",
      "pdId\n",
      "developer\n",
      "region\n",
      "address\n",
      "floorMin\n",
      "floorMax\n",
      "objElemLivingCnt\n",
      "objReady100PercDt\n",
      "wallMaterialShortDesc\n",
      "objLkFinishTypeDesc\n",
      "objLkFreePlanDesc\n",
      "objElemParkingCnt\n",
      "objSquareLiving\n",
      "rpdNum\n",
      "rpdPdfLink\n",
      "rpdIssueDttm\n",
      "objLkLatitude\n",
      "objLkLongitude\n",
      "objCompensFundFlg\n",
      "objProblemFlg\n",
      "objLkClassDesc\n",
      "loadDttm\n",
      "photoRenderDTO\n",
      "objGuarantyEscrowFlg\n",
      "objectType\n",
      "miniUrl\n",
      "residentialBuildings\n",
      "newBuildingId\n",
      "objFloorCnt\n",
      "objFlatCnt\n",
      "objFlatSq\n",
      "objNonlivElemCnt\n",
      "quartography\n",
      "objStatus\n",
      "isAvailableWantLiveHere\n",
      "objTransferPlanDt\n",
      "objLivCeilingHeight\n",
      "objInfrstrBicycleLaneFlg\n",
      "objInfrstrPlaygrndCnt\n",
      "objInfrstrSportGroundCnt\n",
      "objInfrstrTrashAreaCnt\n",
      "objInfrstrObjPrkngCnt\n",
      "objInfrstrNotObjPrkngCnt\n",
      "objInfrstrRampFlg\n",
      "objInfrstrCurbLoweringFlg\n",
      "objElevatorWheelchairCnt\n",
      "objElevatorPassengerCnt\n",
      "objElevatorCargoCnt\n",
      "objElevatorCargoPassengerCnt\n",
      "soldOutPerc\n",
      "objPriceAvg\n",
      "generalContractorNm\n",
      "nonlivFirstFloor\n",
      "objectTransportInfo\n",
      "conclusion\n",
      "objLkSaleDepEmail\n",
      "objGreenHouseFlg\n",
      "objEnergyEffShortDesc\n",
      "infrastructureIndexValue\n"
     ]
    }
   ],
   "source": [
    "for key in object_data['data'].keys():\n",
    "    print(key)"
   ]
  },
  {
   "cell_type": "code",
   "execution_count": 11,
   "id": "6e79f324",
   "metadata": {},
   "outputs": [],
   "source": [
    "AllKeysDict = {key:[] for key in object_data['data'].keys()}"
   ]
  },
  {
   "cell_type": "code",
   "execution_count": 12,
   "id": "6d3f2acb",
   "metadata": {},
   "outputs": [
    {
     "name": "stdout",
     "output_type": "stream",
     "text": [
      "{'id': [], 'hobjId': [], 'pdId': [], 'developer': [], 'region': [], 'address': [], 'floorMin': [], 'floorMax': [], 'objElemLivingCnt': [], 'objReady100PercDt': [], 'wallMaterialShortDesc': [], 'objLkFinishTypeDesc': [], 'objLkFreePlanDesc': [], 'objElemParkingCnt': [], 'objSquareLiving': [], 'rpdNum': [], 'rpdPdfLink': [], 'rpdIssueDttm': [], 'objLkLatitude': [], 'objLkLongitude': [], 'objCompensFundFlg': [], 'objProblemFlg': [], 'objLkClassDesc': [], 'loadDttm': [], 'photoRenderDTO': [], 'objGuarantyEscrowFlg': [], 'objectType': [], 'miniUrl': [], 'residentialBuildings': [], 'newBuildingId': [], 'objFloorCnt': [], 'objFlatCnt': [], 'objFlatSq': [], 'objNonlivElemCnt': [], 'quartography': [], 'objStatus': [], 'isAvailableWantLiveHere': [], 'objTransferPlanDt': [], 'objLivCeilingHeight': [], 'objInfrstrBicycleLaneFlg': [], 'objInfrstrPlaygrndCnt': [], 'objInfrstrSportGroundCnt': [], 'objInfrstrTrashAreaCnt': [], 'objInfrstrObjPrkngCnt': [], 'objInfrstrNotObjPrkngCnt': [], 'objInfrstrRampFlg': [], 'objInfrstrCurbLoweringFlg': [], 'objElevatorWheelchairCnt': [], 'objElevatorPassengerCnt': [], 'objElevatorCargoCnt': [], 'objElevatorCargoPassengerCnt': [], 'soldOutPerc': [], 'objPriceAvg': [], 'generalContractorNm': [], 'nonlivFirstFloor': [], 'objectTransportInfo': [], 'conclusion': [], 'objLkSaleDepEmail': [], 'objGreenHouseFlg': [], 'objEnergyEffShortDesc': [], 'infrastructureIndexValue': []}\n"
     ]
    }
   ],
   "source": [
    "print(AllKeysDict)"
   ]
  },
  {
   "cell_type": "code",
   "execution_count": 13,
   "id": "f0da9f53",
   "metadata": {},
   "outputs": [],
   "source": [
    "## Now iterate all construction objects and add one value to lists of values"
   ]
  },
  {
   "cell_type": "code",
   "execution_count": 14,
   "id": "a8a821eb",
   "metadata": {},
   "outputs": [
    {
     "name": "stdout",
     "output_type": "stream",
     "text": [
      "13383\n",
      "13398\n",
      "13397\n",
      "13399\n",
      "36912\n",
      "10891\n",
      "8809\n",
      "8810\n",
      "39176\n",
      "39175\n"
     ]
    }
   ],
   "source": [
    "for idvalue in Allobjids[:10]:\n",
    "    print(idvalue)"
   ]
  },
  {
   "cell_type": "code",
   "execution_count": 15,
   "id": "5c6bf16a",
   "metadata": {},
   "outputs": [],
   "source": [
    "AllKeysDict = {'id': [], 'hobjId': [], 'pdId': [], 'developer': [], 'region': [], 'address': [], 'floorMin': [], 'floorMax': [], 'objElemLivingCnt': [], 'objReady100PercDt': [], 'wallMaterialShortDesc': [], 'objLkFinishTypeDesc': [], 'objLkFreePlanDesc': [], 'objElemParkingCnt': [], 'objSquareLiving': [], 'rpdNum': [], 'rpdPdfLink': [], 'rpdIssueDttm': [], 'objLkLatitude': [], 'objLkLongitude': [], 'objCompensFundFlg': [], 'objProblemFlg': [], 'objLkClassDesc': [], 'loadDttm': [], 'photoRenderDTO': [], 'objGuarantyEscrowFlg': [], 'objectType': [], 'miniUrl': [], 'residentialBuildings': [], 'newBuildingId': [], 'objFloorCnt': [], 'objFlatCnt': [], 'objFlatSq': [], 'objNonlivElemCnt': [],  'objStatus': [], 'isAvailableWantLiveHere': [], 'objTransferPlanDt': [], 'objLivCeilingHeight': [], 'objInfrstrBicycleLaneFlg': [], 'objInfrstrPlaygrndCnt': [], 'objInfrstrSportGroundCnt': [], 'objInfrstrTrashAreaCnt': [], 'objInfrstrObjPrkngCnt': [], 'objInfrstrNotObjPrkngCnt': [], 'objInfrstrRampFlg': [], 'objInfrstrCurbLoweringFlg': [], 'objElevatorWheelchairCnt': [], 'objElevatorPassengerCnt': [], 'objElevatorCargoCnt': [], 'objElevatorCargoPassengerCnt': [], 'soldOutPerc': [], 'objPriceAvg': [], 'generalContractorNm': [], 'nonlivFirstFloor': [], 'objectTransportInfo': [], 'conclusion': [], 'objLkSaleDepEmail': [], 'objGreenHouseFlg': [], 'objEnergyEffShortDesc': [], 'infrastructureIndexValue': []}"
   ]
  },
  {
   "cell_type": "code",
   "execution_count": 16,
   "id": "4a29f367",
   "metadata": {},
   "outputs": [],
   "source": [
    "for idvalue in Allobjids[:10000]:\n",
    "    url = 'https://xn--80az8a.xn--d1aqf.xn--p1ai/%D1%81%D0%B5%D1%80%D0%B2%D0%B8%D1%81%D1%8B/api/object/{}'.format(idvalue)\n",
    "    res = requests.get(url)\n",
    "    object_data = res.json()\n",
    "    for key in AllKeysDict:\n",
    "        try:\n",
    "            AllKeysDict[key].append(object_data['data'][key])\n",
    "        except:\n",
    "            AllKeysDict[key].append('----')"
   ]
  },
  {
   "cell_type": "code",
   "execution_count": 17,
   "id": "049da86e",
   "metadata": {},
   "outputs": [],
   "source": [
    "### Convert this to Pandas DataFrame"
   ]
  },
  {
   "cell_type": "code",
   "execution_count": 18,
   "id": "703e23e0",
   "metadata": {},
   "outputs": [],
   "source": [
    "import pandas as pd"
   ]
  },
  {
   "cell_type": "code",
   "execution_count": 19,
   "id": "8cd5a016",
   "metadata": {},
   "outputs": [],
   "source": [
    "homes = pd.DataFrame.from_dict(AllKeysDict)"
   ]
  },
  {
   "cell_type": "code",
   "execution_count": 20,
   "id": "3eea6971",
   "metadata": {},
   "outputs": [
    {
     "data": {
      "text/plain": [
       "(1000, 60)"
      ]
     },
     "execution_count": 20,
     "metadata": {},
     "output_type": "execute_result"
    }
   ],
   "source": [
    "homes.shape"
   ]
  },
  {
   "cell_type": "code",
   "execution_count": 21,
   "id": "c32c235d",
   "metadata": {},
   "outputs": [
    {
     "data": {
      "text/html": [
       "<div>\n",
       "<style scoped>\n",
       "    .dataframe tbody tr th:only-of-type {\n",
       "        vertical-align: middle;\n",
       "    }\n",
       "\n",
       "    .dataframe tbody tr th {\n",
       "        vertical-align: top;\n",
       "    }\n",
       "\n",
       "    .dataframe thead th {\n",
       "        text-align: right;\n",
       "    }\n",
       "</style>\n",
       "<table border=\"1\" class=\"dataframe\">\n",
       "  <thead>\n",
       "    <tr style=\"text-align: right;\">\n",
       "      <th></th>\n",
       "      <th>id</th>\n",
       "      <th>hobjId</th>\n",
       "      <th>pdId</th>\n",
       "      <th>developer</th>\n",
       "      <th>region</th>\n",
       "      <th>address</th>\n",
       "      <th>floorMin</th>\n",
       "      <th>floorMax</th>\n",
       "      <th>objElemLivingCnt</th>\n",
       "      <th>objReady100PercDt</th>\n",
       "      <th>...</th>\n",
       "      <th>soldOutPerc</th>\n",
       "      <th>objPriceAvg</th>\n",
       "      <th>generalContractorNm</th>\n",
       "      <th>nonlivFirstFloor</th>\n",
       "      <th>objectTransportInfo</th>\n",
       "      <th>conclusion</th>\n",
       "      <th>objLkSaleDepEmail</th>\n",
       "      <th>objGreenHouseFlg</th>\n",
       "      <th>objEnergyEffShortDesc</th>\n",
       "      <th>infrastructureIndexValue</th>\n",
       "    </tr>\n",
       "  </thead>\n",
       "  <tbody>\n",
       "    <tr>\n",
       "      <th>0</th>\n",
       "      <td>13383</td>\n",
       "      <td>39024</td>\n",
       "      <td>28105</td>\n",
       "      <td>{'devId': 306, 'devShortCleanNm': '2МЕН ГРУПП'...</td>\n",
       "      <td>72</td>\n",
       "      <td>г Тюмень</td>\n",
       "      <td>4</td>\n",
       "      <td>20</td>\n",
       "      <td>68</td>\n",
       "      <td>2022-12-31</td>\n",
       "      <td>...</td>\n",
       "      <td>0.406985</td>\n",
       "      <td>53109</td>\n",
       "      <td>ООО Транспромжилстрой-2005 (ИНН: 7204097730)</td>\n",
       "      <td>1</td>\n",
       "      <td>[]</td>\n",
       "      <td>False</td>\n",
       "      <td>info@2mengroup.ru</td>\n",
       "      <td>0</td>\n",
       "      <td>B</td>\n",
       "      <td>10</td>\n",
       "    </tr>\n",
       "    <tr>\n",
       "      <th>1</th>\n",
       "      <td>13398</td>\n",
       "      <td>37165</td>\n",
       "      <td>28141</td>\n",
       "      <td>{'devId': 306, 'devShortCleanNm': '2МЕН ГРУПП'...</td>\n",
       "      <td>72</td>\n",
       "      <td>г Тюмень, ул Профсоюзная, д. 56</td>\n",
       "      <td>7</td>\n",
       "      <td>10</td>\n",
       "      <td>43</td>\n",
       "      <td>2024-12-31</td>\n",
       "      <td>...</td>\n",
       "      <td>1.0</td>\n",
       "      <td>47886</td>\n",
       "      <td>ООО Транспромжилстрой-2005 (ИНН: 7204097730)</td>\n",
       "      <td>0</td>\n",
       "      <td>[]</td>\n",
       "      <td>False</td>\n",
       "      <td>info@2mengroup.ru</td>\n",
       "      <td>0</td>\n",
       "      <td>B</td>\n",
       "      <td>10</td>\n",
       "    </tr>\n",
       "    <tr>\n",
       "      <th>2</th>\n",
       "      <td>13397</td>\n",
       "      <td>37201</td>\n",
       "      <td>28141</td>\n",
       "      <td>{'devId': 306, 'devShortCleanNm': '2МЕН ГРУПП'...</td>\n",
       "      <td>72</td>\n",
       "      <td>г Тюмень, ул Профсоюзная, д. 56</td>\n",
       "      <td>6</td>\n",
       "      <td>12</td>\n",
       "      <td>65</td>\n",
       "      <td>2024-12-31</td>\n",
       "      <td>...</td>\n",
       "      <td>0.999984</td>\n",
       "      <td>45523</td>\n",
       "      <td>ООО Транспромжилстрой-2005 (ИНН: 7204097730)</td>\n",
       "      <td>0</td>\n",
       "      <td>[]</td>\n",
       "      <td>False</td>\n",
       "      <td>info@2mengroup.ru</td>\n",
       "      <td>0</td>\n",
       "      <td>B</td>\n",
       "      <td>10</td>\n",
       "    </tr>\n",
       "    <tr>\n",
       "      <th>3</th>\n",
       "      <td>13399</td>\n",
       "      <td>34754</td>\n",
       "      <td>28141</td>\n",
       "      <td>{'devId': 306, 'devShortCleanNm': '2МЕН ГРУПП'...</td>\n",
       "      <td>72</td>\n",
       "      <td>г Тюмень, ул Профсоюзная, д. 56</td>\n",
       "      <td>1</td>\n",
       "      <td>1</td>\n",
       "      <td>0</td>\n",
       "      <td>2024-12-31</td>\n",
       "      <td>...</td>\n",
       "      <td>0.917243</td>\n",
       "      <td>50768</td>\n",
       "      <td>ООО Транспромжилстрой-2005 (ИНН: 7204097730)</td>\n",
       "      <td>1</td>\n",
       "      <td>[]</td>\n",
       "      <td>False</td>\n",
       "      <td>info@2mengroup.ru</td>\n",
       "      <td>0</td>\n",
       "      <td>B</td>\n",
       "      <td>10</td>\n",
       "    </tr>\n",
       "    <tr>\n",
       "      <th>4</th>\n",
       "      <td>36912</td>\n",
       "      <td>117248</td>\n",
       "      <td>337586</td>\n",
       "      <td>{'devId': 10296, 'devShortCleanNm': 'CЗ СТРОЙР...</td>\n",
       "      <td>26</td>\n",
       "      <td>г Ставрополь, ул Шпаковская, Доваторцев, д. 10...</td>\n",
       "      <td>2</td>\n",
       "      <td>10</td>\n",
       "      <td>104</td>\n",
       "      <td>2022-12-31</td>\n",
       "      <td>...</td>\n",
       "      <td>0.609216</td>\n",
       "      <td>62703</td>\n",
       "      <td>ООО Стройресурс (ИНН: 2634053119)</td>\n",
       "      <td>1</td>\n",
       "      <td>[]</td>\n",
       "      <td>False</td>\n",
       "      <td>sz.stroyresurs@yandex.ru</td>\n",
       "      <td>0</td>\n",
       "      <td>B</td>\n",
       "      <td>8</td>\n",
       "    </tr>\n",
       "    <tr>\n",
       "      <th>...</th>\n",
       "      <td>...</td>\n",
       "      <td>...</td>\n",
       "      <td>...</td>\n",
       "      <td>...</td>\n",
       "      <td>...</td>\n",
       "      <td>...</td>\n",
       "      <td>...</td>\n",
       "      <td>...</td>\n",
       "      <td>...</td>\n",
       "      <td>...</td>\n",
       "      <td>...</td>\n",
       "      <td>...</td>\n",
       "      <td>...</td>\n",
       "      <td>...</td>\n",
       "      <td>...</td>\n",
       "      <td>...</td>\n",
       "      <td>...</td>\n",
       "      <td>...</td>\n",
       "      <td>...</td>\n",
       "      <td>...</td>\n",
       "      <td>...</td>\n",
       "    </tr>\n",
       "    <tr>\n",
       "      <th>995</th>\n",
       "      <td>40346</td>\n",
       "      <td>120842</td>\n",
       "      <td>437042</td>\n",
       "      <td>{'devId': 11541, 'devShortCleanNm': 'КОМОССТРО...</td>\n",
       "      <td>18</td>\n",
       "      <td>г Ижевск, район Первомайский, ул Камбарская</td>\n",
       "      <td>15</td>\n",
       "      <td>15</td>\n",
       "      <td>152</td>\n",
       "      <td>2024-09-30</td>\n",
       "      <td>...</td>\n",
       "      <td>0.432001</td>\n",
       "      <td>71755</td>\n",
       "      <td>ООО \"ГЛАВСПЕЦСТРОЙ\" (ИНН: 1831128756)</td>\n",
       "      <td>0</td>\n",
       "      <td>[]</td>\n",
       "      <td>True</td>\n",
       "      <td>office@immopg.com</td>\n",
       "      <td>1</td>\n",
       "      <td>A+</td>\n",
       "      <td>8</td>\n",
       "    </tr>\n",
       "    <tr>\n",
       "      <th>996</th>\n",
       "      <td>40344</td>\n",
       "      <td>120844</td>\n",
       "      <td>437042</td>\n",
       "      <td>{'devId': 11541, 'devShortCleanNm': 'КОМОССТРО...</td>\n",
       "      <td>18</td>\n",
       "      <td>г Ижевск, район Первомайский, ул Камбарская</td>\n",
       "      <td>18</td>\n",
       "      <td>18</td>\n",
       "      <td>160</td>\n",
       "      <td>2024-09-30</td>\n",
       "      <td>...</td>\n",
       "      <td>0.137782</td>\n",
       "      <td>81819</td>\n",
       "      <td>ООО \"ГЛАВСПЕЦСТРОЙ\" (ИНН: 1831128756)</td>\n",
       "      <td>1</td>\n",
       "      <td>[]</td>\n",
       "      <td>True</td>\n",
       "      <td>office@immopg.com</td>\n",
       "      <td>0</td>\n",
       "      <td>A+</td>\n",
       "      <td>8</td>\n",
       "    </tr>\n",
       "    <tr>\n",
       "      <th>997</th>\n",
       "      <td>40345</td>\n",
       "      <td>120843</td>\n",
       "      <td>437042</td>\n",
       "      <td>{'devId': 11541, 'devShortCleanNm': 'КОМОССТРО...</td>\n",
       "      <td>18</td>\n",
       "      <td>г Ижевск, район Первомайский, ул Камбарская</td>\n",
       "      <td>11</td>\n",
       "      <td>11</td>\n",
       "      <td>96</td>\n",
       "      <td>2024-09-30</td>\n",
       "      <td>...</td>\n",
       "      <td>0.25498</td>\n",
       "      <td>69621</td>\n",
       "      <td>ООО \"ГЛАВСПЕЦСТРОЙ\" (ИНН: 1831128756)</td>\n",
       "      <td>0</td>\n",
       "      <td>[]</td>\n",
       "      <td>True</td>\n",
       "      <td>office@immopg.com</td>\n",
       "      <td>0</td>\n",
       "      <td>D</td>\n",
       "      <td>8</td>\n",
       "    </tr>\n",
       "    <tr>\n",
       "      <th>998</th>\n",
       "      <td>40343</td>\n",
       "      <td>120845</td>\n",
       "      <td>437042</td>\n",
       "      <td>{'devId': 11541, 'devShortCleanNm': 'КОМОССТРО...</td>\n",
       "      <td>18</td>\n",
       "      <td>г Ижевск, район Первомайский, ул Камбарская</td>\n",
       "      <td>18</td>\n",
       "      <td>18</td>\n",
       "      <td>182</td>\n",
       "      <td>2024-09-30</td>\n",
       "      <td>...</td>\n",
       "      <td>0.337771</td>\n",
       "      <td>74134</td>\n",
       "      <td>ООО \"ГЛАВСПЕЦСТРОЙ\" (ИНН: 1831128756)</td>\n",
       "      <td>0</td>\n",
       "      <td>[]</td>\n",
       "      <td>True</td>\n",
       "      <td>office@immopg.com</td>\n",
       "      <td>0</td>\n",
       "      <td>A+</td>\n",
       "      <td>8</td>\n",
       "    </tr>\n",
       "    <tr>\n",
       "      <th>999</th>\n",
       "      <td>47491</td>\n",
       "      <td>128119</td>\n",
       "      <td>615608</td>\n",
       "      <td>{'devId': 8115, 'devShortCleanNm': 'КОМОССТРОЙ...</td>\n",
       "      <td>18</td>\n",
       "      <td>г Ижевск, улица Ворошилова</td>\n",
       "      <td>18</td>\n",
       "      <td>18</td>\n",
       "      <td>160</td>\n",
       "      <td>2025-03-31</td>\n",
       "      <td>...</td>\n",
       "      <td>0.081049</td>\n",
       "      <td>90722</td>\n",
       "      <td>ООО ГЛАВСПЕЦСТРОЙ (ИНН: 1831128756)</td>\n",
       "      <td>1</td>\n",
       "      <td>[]</td>\n",
       "      <td>True</td>\n",
       "      <td>----</td>\n",
       "      <td>0</td>\n",
       "      <td>B</td>\n",
       "      <td>9</td>\n",
       "    </tr>\n",
       "  </tbody>\n",
       "</table>\n",
       "<p>1000 rows × 60 columns</p>\n",
       "</div>"
      ],
      "text/plain": [
       "        id  hobjId    pdId                                          developer  \\\n",
       "0    13383   39024   28105  {'devId': 306, 'devShortCleanNm': '2МЕН ГРУПП'...   \n",
       "1    13398   37165   28141  {'devId': 306, 'devShortCleanNm': '2МЕН ГРУПП'...   \n",
       "2    13397   37201   28141  {'devId': 306, 'devShortCleanNm': '2МЕН ГРУПП'...   \n",
       "3    13399   34754   28141  {'devId': 306, 'devShortCleanNm': '2МЕН ГРУПП'...   \n",
       "4    36912  117248  337586  {'devId': 10296, 'devShortCleanNm': 'CЗ СТРОЙР...   \n",
       "..     ...     ...     ...                                                ...   \n",
       "995  40346  120842  437042  {'devId': 11541, 'devShortCleanNm': 'КОМОССТРО...   \n",
       "996  40344  120844  437042  {'devId': 11541, 'devShortCleanNm': 'КОМОССТРО...   \n",
       "997  40345  120843  437042  {'devId': 11541, 'devShortCleanNm': 'КОМОССТРО...   \n",
       "998  40343  120845  437042  {'devId': 11541, 'devShortCleanNm': 'КОМОССТРО...   \n",
       "999  47491  128119  615608  {'devId': 8115, 'devShortCleanNm': 'КОМОССТРОЙ...   \n",
       "\n",
       "     region                                            address  floorMin  \\\n",
       "0        72                                           г Тюмень         4   \n",
       "1        72                    г Тюмень, ул Профсоюзная, д. 56         7   \n",
       "2        72                    г Тюмень, ул Профсоюзная, д. 56         6   \n",
       "3        72                    г Тюмень, ул Профсоюзная, д. 56         1   \n",
       "4        26  г Ставрополь, ул Шпаковская, Доваторцев, д. 10...         2   \n",
       "..      ...                                                ...       ...   \n",
       "995      18        г Ижевск, район Первомайский, ул Камбарская        15   \n",
       "996      18        г Ижевск, район Первомайский, ул Камбарская        18   \n",
       "997      18        г Ижевск, район Первомайский, ул Камбарская        11   \n",
       "998      18        г Ижевск, район Первомайский, ул Камбарская        18   \n",
       "999      18                         г Ижевск, улица Ворошилова        18   \n",
       "\n",
       "     floorMax  objElemLivingCnt objReady100PercDt  ... soldOutPerc  \\\n",
       "0          20                68        2022-12-31  ...    0.406985   \n",
       "1          10                43        2024-12-31  ...         1.0   \n",
       "2          12                65        2024-12-31  ...    0.999984   \n",
       "3           1                 0        2024-12-31  ...    0.917243   \n",
       "4          10               104        2022-12-31  ...    0.609216   \n",
       "..        ...               ...               ...  ...         ...   \n",
       "995        15               152        2024-09-30  ...    0.432001   \n",
       "996        18               160        2024-09-30  ...    0.137782   \n",
       "997        11                96        2024-09-30  ...     0.25498   \n",
       "998        18               182        2024-09-30  ...    0.337771   \n",
       "999        18               160        2025-03-31  ...    0.081049   \n",
       "\n",
       "    objPriceAvg                           generalContractorNm  \\\n",
       "0         53109  ООО Транспромжилстрой-2005 (ИНН: 7204097730)   \n",
       "1         47886  ООО Транспромжилстрой-2005 (ИНН: 7204097730)   \n",
       "2         45523  ООО Транспромжилстрой-2005 (ИНН: 7204097730)   \n",
       "3         50768  ООО Транспромжилстрой-2005 (ИНН: 7204097730)   \n",
       "4         62703             ООО Стройресурс (ИНН: 2634053119)   \n",
       "..          ...                                           ...   \n",
       "995       71755         ООО \"ГЛАВСПЕЦСТРОЙ\" (ИНН: 1831128756)   \n",
       "996       81819         ООО \"ГЛАВСПЕЦСТРОЙ\" (ИНН: 1831128756)   \n",
       "997       69621         ООО \"ГЛАВСПЕЦСТРОЙ\" (ИНН: 1831128756)   \n",
       "998       74134         ООО \"ГЛАВСПЕЦСТРОЙ\" (ИНН: 1831128756)   \n",
       "999       90722           ООО ГЛАВСПЕЦСТРОЙ (ИНН: 1831128756)   \n",
       "\n",
       "     nonlivFirstFloor  objectTransportInfo conclusion  \\\n",
       "0                   1                   []      False   \n",
       "1                   0                   []      False   \n",
       "2                   0                   []      False   \n",
       "3                   1                   []      False   \n",
       "4                   1                   []      False   \n",
       "..                ...                  ...        ...   \n",
       "995                 0                   []       True   \n",
       "996                 1                   []       True   \n",
       "997                 0                   []       True   \n",
       "998                 0                   []       True   \n",
       "999                 1                   []       True   \n",
       "\n",
       "            objLkSaleDepEmail objGreenHouseFlg objEnergyEffShortDesc  \\\n",
       "0           info@2mengroup.ru                0                     B   \n",
       "1           info@2mengroup.ru                0                     B   \n",
       "2           info@2mengroup.ru                0                     B   \n",
       "3           info@2mengroup.ru                0                     B   \n",
       "4    sz.stroyresurs@yandex.ru                0                     B   \n",
       "..                        ...              ...                   ...   \n",
       "995         office@immopg.com                1                    A+   \n",
       "996         office@immopg.com                0                    A+   \n",
       "997         office@immopg.com                0                     D   \n",
       "998         office@immopg.com                0                    A+   \n",
       "999                      ----                0                     B   \n",
       "\n",
       "    infrastructureIndexValue  \n",
       "0                         10  \n",
       "1                         10  \n",
       "2                         10  \n",
       "3                         10  \n",
       "4                          8  \n",
       "..                       ...  \n",
       "995                        8  \n",
       "996                        8  \n",
       "997                        8  \n",
       "998                        8  \n",
       "999                        9  \n",
       "\n",
       "[1000 rows x 60 columns]"
      ]
     },
     "execution_count": 21,
     "metadata": {},
     "output_type": "execute_result"
    }
   ],
   "source": [
    "homes.head(10000)"
   ]
  },
  {
   "cell_type": "code",
   "execution_count": 22,
   "id": "95268eeb",
   "metadata": {},
   "outputs": [
    {
     "name": "stdout",
     "output_type": "stream",
     "text": [
      "<class 'pandas.core.frame.DataFrame'>\n",
      "RangeIndex: 1000 entries, 0 to 999\n",
      "Data columns (total 60 columns):\n",
      " #   Column                        Non-Null Count  Dtype  \n",
      "---  ------                        --------------  -----  \n",
      " 0   id                            1000 non-null   int64  \n",
      " 1   hobjId                        1000 non-null   int64  \n",
      " 2   pdId                          1000 non-null   int64  \n",
      " 3   developer                     1000 non-null   object \n",
      " 4   region                        1000 non-null   int64  \n",
      " 5   address                       1000 non-null   object \n",
      " 6   floorMin                      1000 non-null   int64  \n",
      " 7   floorMax                      1000 non-null   int64  \n",
      " 8   objElemLivingCnt              1000 non-null   int64  \n",
      " 9   objReady100PercDt             1000 non-null   object \n",
      " 10  wallMaterialShortDesc         1000 non-null   object \n",
      " 11  objLkFinishTypeDesc           1000 non-null   object \n",
      " 12  objLkFreePlanDesc             1000 non-null   object \n",
      " 13  objElemParkingCnt             1000 non-null   int64  \n",
      " 14  objSquareLiving               1000 non-null   float64\n",
      " 15  rpdNum                        1000 non-null   object \n",
      " 16  rpdPdfLink                    1000 non-null   object \n",
      " 17  rpdIssueDttm                  1000 non-null   object \n",
      " 18  objLkLatitude                 1000 non-null   object \n",
      " 19  objLkLongitude                1000 non-null   object \n",
      " 20  objCompensFundFlg             1000 non-null   int64  \n",
      " 21  objProblemFlg                 1000 non-null   int64  \n",
      " 22  objLkClassDesc                1000 non-null   object \n",
      " 23  loadDttm                      1000 non-null   object \n",
      " 24  photoRenderDTO                1000 non-null   object \n",
      " 25  objGuarantyEscrowFlg          1000 non-null   int64  \n",
      " 26  objectType                    1000 non-null   object \n",
      " 27  miniUrl                       1000 non-null   object \n",
      " 28  residentialBuildings          1000 non-null   int64  \n",
      " 29  newBuildingId                 1000 non-null   int64  \n",
      " 30  objFloorCnt                   1000 non-null   int64  \n",
      " 31  objFlatCnt                    1000 non-null   int64  \n",
      " 32  objFlatSq                     1000 non-null   object \n",
      " 33  objNonlivElemCnt              1000 non-null   int64  \n",
      " 34  objStatus                     1000 non-null   int64  \n",
      " 35  isAvailableWantLiveHere       1000 non-null   bool   \n",
      " 36  objTransferPlanDt             1000 non-null   object \n",
      " 37  objLivCeilingHeight           1000 non-null   object \n",
      " 38  objInfrstrBicycleLaneFlg      1000 non-null   int64  \n",
      " 39  objInfrstrPlaygrndCnt         1000 non-null   object \n",
      " 40  objInfrstrSportGroundCnt      1000 non-null   object \n",
      " 41  objInfrstrTrashAreaCnt        1000 non-null   object \n",
      " 42  objInfrstrObjPrkngCnt         1000 non-null   object \n",
      " 43  objInfrstrNotObjPrkngCnt      1000 non-null   object \n",
      " 44  objInfrstrRampFlg             1000 non-null   int64  \n",
      " 45  objInfrstrCurbLoweringFlg     1000 non-null   int64  \n",
      " 46  objElevatorWheelchairCnt      1000 non-null   object \n",
      " 47  objElevatorPassengerCnt       1000 non-null   object \n",
      " 48  objElevatorCargoCnt           1000 non-null   object \n",
      " 49  objElevatorCargoPassengerCnt  1000 non-null   int64  \n",
      " 50  soldOutPerc                   1000 non-null   object \n",
      " 51  objPriceAvg                   1000 non-null   object \n",
      " 52  generalContractorNm           1000 non-null   object \n",
      " 53  nonlivFirstFloor              1000 non-null   int64  \n",
      " 54  objectTransportInfo           1000 non-null   object \n",
      " 55  conclusion                    1000 non-null   bool   \n",
      " 56  objLkSaleDepEmail             1000 non-null   object \n",
      " 57  objGreenHouseFlg              1000 non-null   int64  \n",
      " 58  objEnergyEffShortDesc         1000 non-null   object \n",
      " 59  infrastructureIndexValue      1000 non-null   int64  \n",
      "dtypes: bool(2), float64(1), int64(24), object(33)\n",
      "memory usage: 455.2+ KB\n"
     ]
    }
   ],
   "source": [
    "homes.info()"
   ]
  },
  {
   "cell_type": "code",
   "execution_count": 23,
   "id": "a16e3c17",
   "metadata": {},
   "outputs": [
    {
     "data": {
      "text/html": [
       "<div>\n",
       "<style scoped>\n",
       "    .dataframe tbody tr th:only-of-type {\n",
       "        vertical-align: middle;\n",
       "    }\n",
       "\n",
       "    .dataframe tbody tr th {\n",
       "        vertical-align: top;\n",
       "    }\n",
       "\n",
       "    .dataframe thead th {\n",
       "        text-align: right;\n",
       "    }\n",
       "</style>\n",
       "<table border=\"1\" class=\"dataframe\">\n",
       "  <thead>\n",
       "    <tr style=\"text-align: right;\">\n",
       "      <th></th>\n",
       "      <th>id</th>\n",
       "      <th>hobjId</th>\n",
       "      <th>pdId</th>\n",
       "      <th>region</th>\n",
       "      <th>floorMin</th>\n",
       "      <th>floorMax</th>\n",
       "      <th>objElemLivingCnt</th>\n",
       "      <th>objElemParkingCnt</th>\n",
       "      <th>objSquareLiving</th>\n",
       "      <th>objCompensFundFlg</th>\n",
       "      <th>...</th>\n",
       "      <th>objFlatCnt</th>\n",
       "      <th>objNonlivElemCnt</th>\n",
       "      <th>objStatus</th>\n",
       "      <th>objInfrstrBicycleLaneFlg</th>\n",
       "      <th>objInfrstrRampFlg</th>\n",
       "      <th>objInfrstrCurbLoweringFlg</th>\n",
       "      <th>objElevatorCargoPassengerCnt</th>\n",
       "      <th>nonlivFirstFloor</th>\n",
       "      <th>objGreenHouseFlg</th>\n",
       "      <th>infrastructureIndexValue</th>\n",
       "    </tr>\n",
       "  </thead>\n",
       "  <tbody>\n",
       "    <tr>\n",
       "      <th>count</th>\n",
       "      <td>1000.000000</td>\n",
       "      <td>1000.000000</td>\n",
       "      <td>1000.00000</td>\n",
       "      <td>1000.000000</td>\n",
       "      <td>1000.000000</td>\n",
       "      <td>1000.000000</td>\n",
       "      <td>1000.000000</td>\n",
       "      <td>1000.000000</td>\n",
       "      <td>1000.000000</td>\n",
       "      <td>1000.000000</td>\n",
       "      <td>...</td>\n",
       "      <td>1000.000000</td>\n",
       "      <td>1000.000000</td>\n",
       "      <td>1000.0</td>\n",
       "      <td>1000.000000</td>\n",
       "      <td>1000.000000</td>\n",
       "      <td>1000.00000</td>\n",
       "      <td>1000.000000</td>\n",
       "      <td>1000.000000</td>\n",
       "      <td>1000.000000</td>\n",
       "      <td>1000.000000</td>\n",
       "    </tr>\n",
       "    <tr>\n",
       "      <th>mean</th>\n",
       "      <td>32962.128000</td>\n",
       "      <td>74397.920000</td>\n",
       "      <td>261748.28800</td>\n",
       "      <td>50.794000</td>\n",
       "      <td>9.642000</td>\n",
       "      <td>10.983000</td>\n",
       "      <td>146.297000</td>\n",
       "      <td>33.906000</td>\n",
       "      <td>7774.640930</td>\n",
       "      <td>0.215000</td>\n",
       "      <td>...</td>\n",
       "      <td>146.297000</td>\n",
       "      <td>38.727000</td>\n",
       "      <td>0.0</td>\n",
       "      <td>0.179000</td>\n",
       "      <td>0.621000</td>\n",
       "      <td>0.86100</td>\n",
       "      <td>2.652000</td>\n",
       "      <td>0.337000</td>\n",
       "      <td>0.084000</td>\n",
       "      <td>5.545000</td>\n",
       "    </tr>\n",
       "    <tr>\n",
       "      <th>std</th>\n",
       "      <td>11701.612004</td>\n",
       "      <td>47249.097593</td>\n",
       "      <td>224023.21885</td>\n",
       "      <td>22.601159</td>\n",
       "      <td>7.846745</td>\n",
       "      <td>8.368198</td>\n",
       "      <td>183.796583</td>\n",
       "      <td>146.755342</td>\n",
       "      <td>10167.024487</td>\n",
       "      <td>0.411028</td>\n",
       "      <td>...</td>\n",
       "      <td>183.796583</td>\n",
       "      <td>160.219727</td>\n",
       "      <td>0.0</td>\n",
       "      <td>0.383544</td>\n",
       "      <td>0.485381</td>\n",
       "      <td>0.34612</td>\n",
       "      <td>5.617335</td>\n",
       "      <td>0.472921</td>\n",
       "      <td>0.277527</td>\n",
       "      <td>3.013811</td>\n",
       "    </tr>\n",
       "    <tr>\n",
       "      <th>min</th>\n",
       "      <td>1527.000000</td>\n",
       "      <td>592.000000</td>\n",
       "      <td>172.00000</td>\n",
       "      <td>1.000000</td>\n",
       "      <td>1.000000</td>\n",
       "      <td>1.000000</td>\n",
       "      <td>0.000000</td>\n",
       "      <td>0.000000</td>\n",
       "      <td>0.000000</td>\n",
       "      <td>0.000000</td>\n",
       "      <td>...</td>\n",
       "      <td>0.000000</td>\n",
       "      <td>0.000000</td>\n",
       "      <td>0.0</td>\n",
       "      <td>0.000000</td>\n",
       "      <td>0.000000</td>\n",
       "      <td>0.00000</td>\n",
       "      <td>0.000000</td>\n",
       "      <td>0.000000</td>\n",
       "      <td>0.000000</td>\n",
       "      <td>1.000000</td>\n",
       "    </tr>\n",
       "    <tr>\n",
       "      <th>25%</th>\n",
       "      <td>24731.750000</td>\n",
       "      <td>25822.250000</td>\n",
       "      <td>63258.00000</td>\n",
       "      <td>33.000000</td>\n",
       "      <td>3.000000</td>\n",
       "      <td>3.000000</td>\n",
       "      <td>20.000000</td>\n",
       "      <td>0.000000</td>\n",
       "      <td>1026.640000</td>\n",
       "      <td>0.000000</td>\n",
       "      <td>...</td>\n",
       "      <td>20.000000</td>\n",
       "      <td>0.000000</td>\n",
       "      <td>0.0</td>\n",
       "      <td>0.000000</td>\n",
       "      <td>0.000000</td>\n",
       "      <td>1.00000</td>\n",
       "      <td>0.000000</td>\n",
       "      <td>0.000000</td>\n",
       "      <td>0.000000</td>\n",
       "      <td>2.000000</td>\n",
       "    </tr>\n",
       "    <tr>\n",
       "      <th>50%</th>\n",
       "      <td>33225.500000</td>\n",
       "      <td>44062.500000</td>\n",
       "      <td>158030.00000</td>\n",
       "      <td>50.000000</td>\n",
       "      <td>8.000000</td>\n",
       "      <td>10.000000</td>\n",
       "      <td>80.000000</td>\n",
       "      <td>0.000000</td>\n",
       "      <td>4082.050000</td>\n",
       "      <td>0.000000</td>\n",
       "      <td>...</td>\n",
       "      <td>80.000000</td>\n",
       "      <td>2.000000</td>\n",
       "      <td>0.0</td>\n",
       "      <td>0.000000</td>\n",
       "      <td>1.000000</td>\n",
       "      <td>1.00000</td>\n",
       "      <td>0.000000</td>\n",
       "      <td>0.000000</td>\n",
       "      <td>0.000000</td>\n",
       "      <td>6.000000</td>\n",
       "    </tr>\n",
       "    <tr>\n",
       "      <th>75%</th>\n",
       "      <td>42205.500000</td>\n",
       "      <td>122763.750000</td>\n",
       "      <td>473855.00000</td>\n",
       "      <td>77.000000</td>\n",
       "      <td>16.000000</td>\n",
       "      <td>17.000000</td>\n",
       "      <td>210.000000</td>\n",
       "      <td>0.000000</td>\n",
       "      <td>11206.400000</td>\n",
       "      <td>0.000000</td>\n",
       "      <td>...</td>\n",
       "      <td>210.000000</td>\n",
       "      <td>20.000000</td>\n",
       "      <td>0.0</td>\n",
       "      <td>0.000000</td>\n",
       "      <td>1.000000</td>\n",
       "      <td>1.00000</td>\n",
       "      <td>3.000000</td>\n",
       "      <td>1.000000</td>\n",
       "      <td>0.000000</td>\n",
       "      <td>8.000000</td>\n",
       "    </tr>\n",
       "    <tr>\n",
       "      <th>max</th>\n",
       "      <td>49577.000000</td>\n",
       "      <td>130221.000000</td>\n",
       "      <td>669063.00000</td>\n",
       "      <td>91.000000</td>\n",
       "      <td>55.000000</td>\n",
       "      <td>55.000000</td>\n",
       "      <td>1392.000000</td>\n",
       "      <td>3580.000000</td>\n",
       "      <td>107306.400000</td>\n",
       "      <td>1.000000</td>\n",
       "      <td>...</td>\n",
       "      <td>1392.000000</td>\n",
       "      <td>3774.000000</td>\n",
       "      <td>0.0</td>\n",
       "      <td>1.000000</td>\n",
       "      <td>1.000000</td>\n",
       "      <td>1.00000</td>\n",
       "      <td>61.000000</td>\n",
       "      <td>1.000000</td>\n",
       "      <td>1.000000</td>\n",
       "      <td>10.000000</td>\n",
       "    </tr>\n",
       "  </tbody>\n",
       "</table>\n",
       "<p>8 rows × 25 columns</p>\n",
       "</div>"
      ],
      "text/plain": [
       "                 id         hobjId          pdId       region     floorMin  \\\n",
       "count   1000.000000    1000.000000    1000.00000  1000.000000  1000.000000   \n",
       "mean   32962.128000   74397.920000  261748.28800    50.794000     9.642000   \n",
       "std    11701.612004   47249.097593  224023.21885    22.601159     7.846745   \n",
       "min     1527.000000     592.000000     172.00000     1.000000     1.000000   \n",
       "25%    24731.750000   25822.250000   63258.00000    33.000000     3.000000   \n",
       "50%    33225.500000   44062.500000  158030.00000    50.000000     8.000000   \n",
       "75%    42205.500000  122763.750000  473855.00000    77.000000    16.000000   \n",
       "max    49577.000000  130221.000000  669063.00000    91.000000    55.000000   \n",
       "\n",
       "          floorMax  objElemLivingCnt  objElemParkingCnt  objSquareLiving  \\\n",
       "count  1000.000000       1000.000000        1000.000000      1000.000000   \n",
       "mean     10.983000        146.297000          33.906000      7774.640930   \n",
       "std       8.368198        183.796583         146.755342     10167.024487   \n",
       "min       1.000000          0.000000           0.000000         0.000000   \n",
       "25%       3.000000         20.000000           0.000000      1026.640000   \n",
       "50%      10.000000         80.000000           0.000000      4082.050000   \n",
       "75%      17.000000        210.000000           0.000000     11206.400000   \n",
       "max      55.000000       1392.000000        3580.000000    107306.400000   \n",
       "\n",
       "       objCompensFundFlg  ...   objFlatCnt  objNonlivElemCnt  objStatus  \\\n",
       "count        1000.000000  ...  1000.000000       1000.000000     1000.0   \n",
       "mean            0.215000  ...   146.297000         38.727000        0.0   \n",
       "std             0.411028  ...   183.796583        160.219727        0.0   \n",
       "min             0.000000  ...     0.000000          0.000000        0.0   \n",
       "25%             0.000000  ...    20.000000          0.000000        0.0   \n",
       "50%             0.000000  ...    80.000000          2.000000        0.0   \n",
       "75%             0.000000  ...   210.000000         20.000000        0.0   \n",
       "max             1.000000  ...  1392.000000       3774.000000        0.0   \n",
       "\n",
       "       objInfrstrBicycleLaneFlg  objInfrstrRampFlg  objInfrstrCurbLoweringFlg  \\\n",
       "count               1000.000000        1000.000000                 1000.00000   \n",
       "mean                   0.179000           0.621000                    0.86100   \n",
       "std                    0.383544           0.485381                    0.34612   \n",
       "min                    0.000000           0.000000                    0.00000   \n",
       "25%                    0.000000           0.000000                    1.00000   \n",
       "50%                    0.000000           1.000000                    1.00000   \n",
       "75%                    0.000000           1.000000                    1.00000   \n",
       "max                    1.000000           1.000000                    1.00000   \n",
       "\n",
       "       objElevatorCargoPassengerCnt  nonlivFirstFloor  objGreenHouseFlg  \\\n",
       "count                   1000.000000       1000.000000       1000.000000   \n",
       "mean                       2.652000          0.337000          0.084000   \n",
       "std                        5.617335          0.472921          0.277527   \n",
       "min                        0.000000          0.000000          0.000000   \n",
       "25%                        0.000000          0.000000          0.000000   \n",
       "50%                        0.000000          0.000000          0.000000   \n",
       "75%                        3.000000          1.000000          0.000000   \n",
       "max                       61.000000          1.000000          1.000000   \n",
       "\n",
       "       infrastructureIndexValue  \n",
       "count               1000.000000  \n",
       "mean                   5.545000  \n",
       "std                    3.013811  \n",
       "min                    1.000000  \n",
       "25%                    2.000000  \n",
       "50%                    6.000000  \n",
       "75%                    8.000000  \n",
       "max                   10.000000  \n",
       "\n",
       "[8 rows x 25 columns]"
      ]
     },
     "execution_count": 23,
     "metadata": {},
     "output_type": "execute_result"
    }
   ],
   "source": [
    "homes.describe()"
   ]
  },
  {
   "cell_type": "code",
   "execution_count": 24,
   "id": "90328f20",
   "metadata": {},
   "outputs": [
    {
     "data": {
      "text/html": [
       "<div>\n",
       "<style scoped>\n",
       "    .dataframe tbody tr th:only-of-type {\n",
       "        vertical-align: middle;\n",
       "    }\n",
       "\n",
       "    .dataframe tbody tr th {\n",
       "        vertical-align: top;\n",
       "    }\n",
       "\n",
       "    .dataframe thead th {\n",
       "        text-align: right;\n",
       "    }\n",
       "</style>\n",
       "<table border=\"1\" class=\"dataframe\">\n",
       "  <thead>\n",
       "    <tr style=\"text-align: right;\">\n",
       "      <th></th>\n",
       "      <th>floorMin</th>\n",
       "      <th>floorMax</th>\n",
       "    </tr>\n",
       "  </thead>\n",
       "  <tbody>\n",
       "    <tr>\n",
       "      <th>0</th>\n",
       "      <td>4</td>\n",
       "      <td>20</td>\n",
       "    </tr>\n",
       "    <tr>\n",
       "      <th>1</th>\n",
       "      <td>7</td>\n",
       "      <td>10</td>\n",
       "    </tr>\n",
       "    <tr>\n",
       "      <th>2</th>\n",
       "      <td>6</td>\n",
       "      <td>12</td>\n",
       "    </tr>\n",
       "    <tr>\n",
       "      <th>3</th>\n",
       "      <td>1</td>\n",
       "      <td>1</td>\n",
       "    </tr>\n",
       "    <tr>\n",
       "      <th>4</th>\n",
       "      <td>2</td>\n",
       "      <td>10</td>\n",
       "    </tr>\n",
       "    <tr>\n",
       "      <th>...</th>\n",
       "      <td>...</td>\n",
       "      <td>...</td>\n",
       "    </tr>\n",
       "    <tr>\n",
       "      <th>995</th>\n",
       "      <td>15</td>\n",
       "      <td>15</td>\n",
       "    </tr>\n",
       "    <tr>\n",
       "      <th>996</th>\n",
       "      <td>18</td>\n",
       "      <td>18</td>\n",
       "    </tr>\n",
       "    <tr>\n",
       "      <th>997</th>\n",
       "      <td>11</td>\n",
       "      <td>11</td>\n",
       "    </tr>\n",
       "    <tr>\n",
       "      <th>998</th>\n",
       "      <td>18</td>\n",
       "      <td>18</td>\n",
       "    </tr>\n",
       "    <tr>\n",
       "      <th>999</th>\n",
       "      <td>18</td>\n",
       "      <td>18</td>\n",
       "    </tr>\n",
       "  </tbody>\n",
       "</table>\n",
       "<p>1000 rows × 2 columns</p>\n",
       "</div>"
      ],
      "text/plain": [
       "     floorMin  floorMax\n",
       "0           4        20\n",
       "1           7        10\n",
       "2           6        12\n",
       "3           1         1\n",
       "4           2        10\n",
       "..        ...       ...\n",
       "995        15        15\n",
       "996        18        18\n",
       "997        11        11\n",
       "998        18        18\n",
       "999        18        18\n",
       "\n",
       "[1000 rows x 2 columns]"
      ]
     },
     "execution_count": 24,
     "metadata": {},
     "output_type": "execute_result"
    }
   ],
   "source": [
    "homes[['floorMin', 'floorMax']]"
   ]
  },
  {
   "cell_type": "code",
   "execution_count": 25,
   "id": "6e008445",
   "metadata": {},
   "outputs": [],
   "source": [
    "## Рассчитать средние цены за квадратный метр по регионам. Важно чтобы пропуски не учитывались при расчете средней цены."
   ]
  },
  {
   "cell_type": "code",
   "execution_count": 26,
   "id": "768c2bf7",
   "metadata": {},
   "outputs": [
    {
     "data": {
      "text/html": [
       "<div>\n",
       "<style scoped>\n",
       "    .dataframe tbody tr th:only-of-type {\n",
       "        vertical-align: middle;\n",
       "    }\n",
       "\n",
       "    .dataframe tbody tr th {\n",
       "        vertical-align: top;\n",
       "    }\n",
       "\n",
       "    .dataframe thead th {\n",
       "        text-align: right;\n",
       "    }\n",
       "</style>\n",
       "<table border=\"1\" class=\"dataframe\">\n",
       "  <thead>\n",
       "    <tr style=\"text-align: right;\">\n",
       "      <th></th>\n",
       "      <th>id</th>\n",
       "      <th>region</th>\n",
       "      <th>objPriceAvg</th>\n",
       "    </tr>\n",
       "  </thead>\n",
       "  <tbody>\n",
       "    <tr>\n",
       "      <th>0</th>\n",
       "      <td>13383</td>\n",
       "      <td>72</td>\n",
       "      <td>53109</td>\n",
       "    </tr>\n",
       "    <tr>\n",
       "      <th>1</th>\n",
       "      <td>13398</td>\n",
       "      <td>72</td>\n",
       "      <td>47886</td>\n",
       "    </tr>\n",
       "    <tr>\n",
       "      <th>2</th>\n",
       "      <td>13397</td>\n",
       "      <td>72</td>\n",
       "      <td>45523</td>\n",
       "    </tr>\n",
       "    <tr>\n",
       "      <th>3</th>\n",
       "      <td>13399</td>\n",
       "      <td>72</td>\n",
       "      <td>50768</td>\n",
       "    </tr>\n",
       "    <tr>\n",
       "      <th>4</th>\n",
       "      <td>36912</td>\n",
       "      <td>26</td>\n",
       "      <td>62703</td>\n",
       "    </tr>\n",
       "    <tr>\n",
       "      <th>...</th>\n",
       "      <td>...</td>\n",
       "      <td>...</td>\n",
       "      <td>...</td>\n",
       "    </tr>\n",
       "    <tr>\n",
       "      <th>995</th>\n",
       "      <td>40346</td>\n",
       "      <td>18</td>\n",
       "      <td>71755</td>\n",
       "    </tr>\n",
       "    <tr>\n",
       "      <th>996</th>\n",
       "      <td>40344</td>\n",
       "      <td>18</td>\n",
       "      <td>81819</td>\n",
       "    </tr>\n",
       "    <tr>\n",
       "      <th>997</th>\n",
       "      <td>40345</td>\n",
       "      <td>18</td>\n",
       "      <td>69621</td>\n",
       "    </tr>\n",
       "    <tr>\n",
       "      <th>998</th>\n",
       "      <td>40343</td>\n",
       "      <td>18</td>\n",
       "      <td>74134</td>\n",
       "    </tr>\n",
       "    <tr>\n",
       "      <th>999</th>\n",
       "      <td>47491</td>\n",
       "      <td>18</td>\n",
       "      <td>90722</td>\n",
       "    </tr>\n",
       "  </tbody>\n",
       "</table>\n",
       "<p>1000 rows × 3 columns</p>\n",
       "</div>"
      ],
      "text/plain": [
       "        id  region objPriceAvg\n",
       "0    13383      72       53109\n",
       "1    13398      72       47886\n",
       "2    13397      72       45523\n",
       "3    13399      72       50768\n",
       "4    36912      26       62703\n",
       "..     ...     ...         ...\n",
       "995  40346      18       71755\n",
       "996  40344      18       81819\n",
       "997  40345      18       69621\n",
       "998  40343      18       74134\n",
       "999  47491      18       90722\n",
       "\n",
       "[1000 rows x 3 columns]"
      ]
     },
     "execution_count": 26,
     "metadata": {},
     "output_type": "execute_result"
    }
   ],
   "source": [
    "homes[['id', 'region', 'objPriceAvg']]"
   ]
  },
  {
   "cell_type": "code",
   "execution_count": 27,
   "id": "2c9ec7f5",
   "metadata": {},
   "outputs": [],
   "source": [
    "## Delete rows where price is not set"
   ]
  },
  {
   "cell_type": "code",
   "execution_count": 28,
   "id": "8529ba9e",
   "metadata": {},
   "outputs": [],
   "source": [
    "homes_prices = homes[['id', 'region', 'objPriceAvg']]"
   ]
  },
  {
   "cell_type": "code",
   "execution_count": 29,
   "id": "65b517de",
   "metadata": {},
   "outputs": [
    {
     "data": {
      "text/html": [
       "<div>\n",
       "<style scoped>\n",
       "    .dataframe tbody tr th:only-of-type {\n",
       "        vertical-align: middle;\n",
       "    }\n",
       "\n",
       "    .dataframe tbody tr th {\n",
       "        vertical-align: top;\n",
       "    }\n",
       "\n",
       "    .dataframe thead th {\n",
       "        text-align: right;\n",
       "    }\n",
       "</style>\n",
       "<table border=\"1\" class=\"dataframe\">\n",
       "  <thead>\n",
       "    <tr style=\"text-align: right;\">\n",
       "      <th></th>\n",
       "      <th>id</th>\n",
       "      <th>region</th>\n",
       "      <th>objPriceAvg</th>\n",
       "    </tr>\n",
       "  </thead>\n",
       "  <tbody>\n",
       "    <tr>\n",
       "      <th>0</th>\n",
       "      <td>13383</td>\n",
       "      <td>72</td>\n",
       "      <td>53109</td>\n",
       "    </tr>\n",
       "    <tr>\n",
       "      <th>1</th>\n",
       "      <td>13398</td>\n",
       "      <td>72</td>\n",
       "      <td>47886</td>\n",
       "    </tr>\n",
       "    <tr>\n",
       "      <th>2</th>\n",
       "      <td>13397</td>\n",
       "      <td>72</td>\n",
       "      <td>45523</td>\n",
       "    </tr>\n",
       "    <tr>\n",
       "      <th>3</th>\n",
       "      <td>13399</td>\n",
       "      <td>72</td>\n",
       "      <td>50768</td>\n",
       "    </tr>\n",
       "    <tr>\n",
       "      <th>4</th>\n",
       "      <td>36912</td>\n",
       "      <td>26</td>\n",
       "      <td>62703</td>\n",
       "    </tr>\n",
       "    <tr>\n",
       "      <th>...</th>\n",
       "      <td>...</td>\n",
       "      <td>...</td>\n",
       "      <td>...</td>\n",
       "    </tr>\n",
       "    <tr>\n",
       "      <th>995</th>\n",
       "      <td>40346</td>\n",
       "      <td>18</td>\n",
       "      <td>71755</td>\n",
       "    </tr>\n",
       "    <tr>\n",
       "      <th>996</th>\n",
       "      <td>40344</td>\n",
       "      <td>18</td>\n",
       "      <td>81819</td>\n",
       "    </tr>\n",
       "    <tr>\n",
       "      <th>997</th>\n",
       "      <td>40345</td>\n",
       "      <td>18</td>\n",
       "      <td>69621</td>\n",
       "    </tr>\n",
       "    <tr>\n",
       "      <th>998</th>\n",
       "      <td>40343</td>\n",
       "      <td>18</td>\n",
       "      <td>74134</td>\n",
       "    </tr>\n",
       "    <tr>\n",
       "      <th>999</th>\n",
       "      <td>47491</td>\n",
       "      <td>18</td>\n",
       "      <td>90722</td>\n",
       "    </tr>\n",
       "  </tbody>\n",
       "</table>\n",
       "<p>1000 rows × 3 columns</p>\n",
       "</div>"
      ],
      "text/plain": [
       "        id  region objPriceAvg\n",
       "0    13383      72       53109\n",
       "1    13398      72       47886\n",
       "2    13397      72       45523\n",
       "3    13399      72       50768\n",
       "4    36912      26       62703\n",
       "..     ...     ...         ...\n",
       "995  40346      18       71755\n",
       "996  40344      18       81819\n",
       "997  40345      18       69621\n",
       "998  40343      18       74134\n",
       "999  47491      18       90722\n",
       "\n",
       "[1000 rows x 3 columns]"
      ]
     },
     "execution_count": 29,
     "metadata": {},
     "output_type": "execute_result"
    }
   ],
   "source": [
    "homes_prices"
   ]
  },
  {
   "cell_type": "code",
   "execution_count": 30,
   "id": "a3320487",
   "metadata": {},
   "outputs": [],
   "source": [
    "homes_prices = homes_prices[ homes_prices['objPriceAvg']!='----']"
   ]
  },
  {
   "cell_type": "code",
   "execution_count": 31,
   "id": "3291b1c3",
   "metadata": {},
   "outputs": [
    {
     "data": {
      "text/html": [
       "<div>\n",
       "<style scoped>\n",
       "    .dataframe tbody tr th:only-of-type {\n",
       "        vertical-align: middle;\n",
       "    }\n",
       "\n",
       "    .dataframe tbody tr th {\n",
       "        vertical-align: top;\n",
       "    }\n",
       "\n",
       "    .dataframe thead th {\n",
       "        text-align: right;\n",
       "    }\n",
       "</style>\n",
       "<table border=\"1\" class=\"dataframe\">\n",
       "  <thead>\n",
       "    <tr style=\"text-align: right;\">\n",
       "      <th></th>\n",
       "      <th>id</th>\n",
       "      <th>region</th>\n",
       "      <th>objPriceAvg</th>\n",
       "    </tr>\n",
       "  </thead>\n",
       "  <tbody>\n",
       "    <tr>\n",
       "      <th>0</th>\n",
       "      <td>13383</td>\n",
       "      <td>72</td>\n",
       "      <td>53109</td>\n",
       "    </tr>\n",
       "    <tr>\n",
       "      <th>1</th>\n",
       "      <td>13398</td>\n",
       "      <td>72</td>\n",
       "      <td>47886</td>\n",
       "    </tr>\n",
       "    <tr>\n",
       "      <th>2</th>\n",
       "      <td>13397</td>\n",
       "      <td>72</td>\n",
       "      <td>45523</td>\n",
       "    </tr>\n",
       "    <tr>\n",
       "      <th>3</th>\n",
       "      <td>13399</td>\n",
       "      <td>72</td>\n",
       "      <td>50768</td>\n",
       "    </tr>\n",
       "    <tr>\n",
       "      <th>4</th>\n",
       "      <td>36912</td>\n",
       "      <td>26</td>\n",
       "      <td>62703</td>\n",
       "    </tr>\n",
       "    <tr>\n",
       "      <th>...</th>\n",
       "      <td>...</td>\n",
       "      <td>...</td>\n",
       "      <td>...</td>\n",
       "    </tr>\n",
       "    <tr>\n",
       "      <th>995</th>\n",
       "      <td>40346</td>\n",
       "      <td>18</td>\n",
       "      <td>71755</td>\n",
       "    </tr>\n",
       "    <tr>\n",
       "      <th>996</th>\n",
       "      <td>40344</td>\n",
       "      <td>18</td>\n",
       "      <td>81819</td>\n",
       "    </tr>\n",
       "    <tr>\n",
       "      <th>997</th>\n",
       "      <td>40345</td>\n",
       "      <td>18</td>\n",
       "      <td>69621</td>\n",
       "    </tr>\n",
       "    <tr>\n",
       "      <th>998</th>\n",
       "      <td>40343</td>\n",
       "      <td>18</td>\n",
       "      <td>74134</td>\n",
       "    </tr>\n",
       "    <tr>\n",
       "      <th>999</th>\n",
       "      <td>47491</td>\n",
       "      <td>18</td>\n",
       "      <td>90722</td>\n",
       "    </tr>\n",
       "  </tbody>\n",
       "</table>\n",
       "<p>633 rows × 3 columns</p>\n",
       "</div>"
      ],
      "text/plain": [
       "        id  region objPriceAvg\n",
       "0    13383      72       53109\n",
       "1    13398      72       47886\n",
       "2    13397      72       45523\n",
       "3    13399      72       50768\n",
       "4    36912      26       62703\n",
       "..     ...     ...         ...\n",
       "995  40346      18       71755\n",
       "996  40344      18       81819\n",
       "997  40345      18       69621\n",
       "998  40343      18       74134\n",
       "999  47491      18       90722\n",
       "\n",
       "[633 rows x 3 columns]"
      ]
     },
     "execution_count": 31,
     "metadata": {},
     "output_type": "execute_result"
    }
   ],
   "source": [
    "homes_prices"
   ]
  },
  {
   "cell_type": "code",
   "execution_count": 32,
   "id": "e6a84ff6",
   "metadata": {},
   "outputs": [],
   "source": [
    "## Group by region"
   ]
  },
  {
   "cell_type": "code",
   "execution_count": 33,
   "id": "e9238404",
   "metadata": {},
   "outputs": [],
   "source": [
    "byregion = homes_prices.groupby('region')"
   ]
  },
  {
   "cell_type": "code",
   "execution_count": 34,
   "id": "2384e896",
   "metadata": {},
   "outputs": [
    {
     "data": {
      "text/plain": [
       "<pandas.core.groupby.generic.DataFrameGroupBy object at 0x0000023C307FBC70>"
      ]
     },
     "execution_count": 34,
     "metadata": {},
     "output_type": "execute_result"
    }
   ],
   "source": [
    "byregion"
   ]
  },
  {
   "cell_type": "code",
   "execution_count": 35,
   "id": "a18a4669",
   "metadata": {},
   "outputs": [
    {
     "data": {
      "text/plain": [
       "dict_keys([1, 2, 5, 14, 15, 16, 18, 20, 21, 22, 23, 24, 25, 26, 27, 29, 30, 31, 33, 34, 35, 36, 37, 39, 40, 42, 43, 45, 46, 47, 48, 50, 52, 53, 54, 55, 57, 58, 59, 60, 61, 62, 63, 64, 65, 66, 69, 71, 72, 73, 74, 76, 77, 78, 86, 89, 91])"
      ]
     },
     "execution_count": 35,
     "metadata": {},
     "output_type": "execute_result"
    }
   ],
   "source": [
    "byregion.groups.keys()"
   ]
  },
  {
   "cell_type": "code",
   "execution_count": 36,
   "id": "d9448791",
   "metadata": {},
   "outputs": [
    {
     "data": {
      "text/html": [
       "<div>\n",
       "<style scoped>\n",
       "    .dataframe tbody tr th:only-of-type {\n",
       "        vertical-align: middle;\n",
       "    }\n",
       "\n",
       "    .dataframe tbody tr th {\n",
       "        vertical-align: top;\n",
       "    }\n",
       "\n",
       "    .dataframe thead th {\n",
       "        text-align: right;\n",
       "    }\n",
       "</style>\n",
       "<table border=\"1\" class=\"dataframe\">\n",
       "  <thead>\n",
       "    <tr style=\"text-align: right;\">\n",
       "      <th></th>\n",
       "      <th>id</th>\n",
       "      <th>region</th>\n",
       "      <th>objPriceAvg</th>\n",
       "    </tr>\n",
       "  </thead>\n",
       "  <tbody>\n",
       "    <tr>\n",
       "      <th>8</th>\n",
       "      <td>39176</td>\n",
       "      <td>23</td>\n",
       "      <td>103761</td>\n",
       "    </tr>\n",
       "    <tr>\n",
       "      <th>9</th>\n",
       "      <td>39175</td>\n",
       "      <td>23</td>\n",
       "      <td>102841</td>\n",
       "    </tr>\n",
       "    <tr>\n",
       "      <th>10</th>\n",
       "      <td>27049</td>\n",
       "      <td>23</td>\n",
       "      <td>143402</td>\n",
       "    </tr>\n",
       "    <tr>\n",
       "      <th>46</th>\n",
       "      <td>15888</td>\n",
       "      <td>23</td>\n",
       "      <td>102830</td>\n",
       "    </tr>\n",
       "    <tr>\n",
       "      <th>47</th>\n",
       "      <td>15886</td>\n",
       "      <td>23</td>\n",
       "      <td>120198</td>\n",
       "    </tr>\n",
       "    <tr>\n",
       "      <th>...</th>\n",
       "      <td>...</td>\n",
       "      <td>...</td>\n",
       "      <td>...</td>\n",
       "    </tr>\n",
       "    <tr>\n",
       "      <th>890</th>\n",
       "      <td>46237</td>\n",
       "      <td>23</td>\n",
       "      <td>114063</td>\n",
       "    </tr>\n",
       "    <tr>\n",
       "      <th>942</th>\n",
       "      <td>17374</td>\n",
       "      <td>23</td>\n",
       "      <td>42093</td>\n",
       "    </tr>\n",
       "    <tr>\n",
       "      <th>943</th>\n",
       "      <td>17366</td>\n",
       "      <td>23</td>\n",
       "      <td>84587</td>\n",
       "    </tr>\n",
       "    <tr>\n",
       "      <th>945</th>\n",
       "      <td>17373</td>\n",
       "      <td>23</td>\n",
       "      <td>214291</td>\n",
       "    </tr>\n",
       "    <tr>\n",
       "      <th>948</th>\n",
       "      <td>17372</td>\n",
       "      <td>23</td>\n",
       "      <td>96931</td>\n",
       "    </tr>\n",
       "  </tbody>\n",
       "</table>\n",
       "<p>78 rows × 3 columns</p>\n",
       "</div>"
      ],
      "text/plain": [
       "        id  region objPriceAvg\n",
       "8    39176      23      103761\n",
       "9    39175      23      102841\n",
       "10   27049      23      143402\n",
       "46   15888      23      102830\n",
       "47   15886      23      120198\n",
       "..     ...     ...         ...\n",
       "890  46237      23      114063\n",
       "942  17374      23       42093\n",
       "943  17366      23       84587\n",
       "945  17373      23      214291\n",
       "948  17372      23       96931\n",
       "\n",
       "[78 rows x 3 columns]"
      ]
     },
     "execution_count": 36,
     "metadata": {},
     "output_type": "execute_result"
    }
   ],
   "source": [
    "byregion.get_group(23)"
   ]
  },
  {
   "cell_type": "code",
   "execution_count": 37,
   "id": "728b978c",
   "metadata": {},
   "outputs": [
    {
     "data": {
      "text/plain": [
       "99081.88461538461"
      ]
     },
     "execution_count": 37,
     "metadata": {},
     "output_type": "execute_result"
    }
   ],
   "source": [
    "byregion.get_group(23)['objPriceAvg'].mean()"
   ]
  },
  {
   "cell_type": "code",
   "execution_count": 38,
   "id": "ea317fb3",
   "metadata": {},
   "outputs": [],
   "source": [
    "# Average prices by region"
   ]
  },
  {
   "cell_type": "code",
   "execution_count": 39,
   "id": "0b85433a",
   "metadata": {},
   "outputs": [],
   "source": [
    "byregion = homes_prices.groupby('region')"
   ]
  },
  {
   "cell_type": "code",
   "execution_count": 40,
   "id": "ac0185aa",
   "metadata": {},
   "outputs": [
    {
     "name": "stdout",
     "output_type": "stream",
     "text": [
      "1 58853.2\n",
      "2 65691.66666666667\n",
      "5 22781.4\n",
      "14 112223.66666666667\n",
      "15 45460.61538461538\n",
      "16 86376.0\n",
      "18 77556.06666666667\n",
      "20 37452.0\n",
      "21 68981.0\n",
      "22 50745.857142857145\n",
      "23 99081.88461538461\n",
      "24 31809.714285714286\n",
      "25 105183.66666666667\n",
      "26 53455.0\n",
      "27 77761.88888888889\n",
      "29 46745.5\n",
      "30 70166.0\n",
      "31 84281.83333333333\n",
      "33 40100.5\n",
      "34 76685.14285714286\n",
      "35 46662.80434782609\n",
      "36 44642.5\n",
      "37 39367.333333333336\n",
      "39 67424.33333333333\n",
      "40 67424.5\n",
      "42 33550.0\n",
      "43 35760.0\n",
      "45 73488.0\n",
      "46 69104.5\n",
      "47 98727.55882352941\n",
      "48 58552.0\n",
      "50 92881.51020408163\n",
      "52 75366.88888888889\n",
      "53 74759.0\n",
      "54 91014.06382978724\n",
      "55 33586.8\n",
      "57 31439.0\n",
      "58 66418.0\n",
      "59 62509.0\n",
      "60 73655.5\n",
      "61 36967.0\n",
      "62 57337.75\n",
      "63 63340.625\n",
      "64 54718.857142857145\n",
      "65 174070.0\n",
      "66 90775.72727272728\n",
      "69 69015.375\n",
      "71 55578.28571428572\n",
      "72 93557.9\n",
      "73 41772.0\n",
      "74 46644.166666666664\n",
      "76 63595.8\n",
      "77 353394.68888888886\n",
      "78 144344.1724137931\n",
      "86 99571.6\n",
      "89 69172.4\n",
      "91 213510.5\n"
     ]
    }
   ],
   "source": [
    "for reg in byregion.groups.keys():\n",
    "    print(reg, byregion.get_group(reg)['objPriceAvg'].mean())"
   ]
  },
  {
   "cell_type": "code",
   "execution_count": 41,
   "id": "20e8ddf6",
   "metadata": {},
   "outputs": [
    {
     "data": {
      "text/plain": [
       "(633, 3)"
      ]
     },
     "execution_count": 41,
     "metadata": {},
     "output_type": "execute_result"
    }
   ],
   "source": [
    "homes_prices.shape"
   ]
  },
  {
   "cell_type": "code",
   "execution_count": 43,
   "id": "01f3a7b0",
   "metadata": {},
   "outputs": [
    {
     "data": {
      "text/html": [
       "<div>\n",
       "<style scoped>\n",
       "    .dataframe tbody tr th:only-of-type {\n",
       "        vertical-align: middle;\n",
       "    }\n",
       "\n",
       "    .dataframe tbody tr th {\n",
       "        vertical-align: top;\n",
       "    }\n",
       "\n",
       "    .dataframe thead th {\n",
       "        text-align: right;\n",
       "    }\n",
       "</style>\n",
       "<table border=\"1\" class=\"dataframe\">\n",
       "  <thead>\n",
       "    <tr style=\"text-align: right;\">\n",
       "      <th></th>\n",
       "      <th>id</th>\n",
       "      <th>region</th>\n",
       "      <th>objPriceAvg</th>\n",
       "    </tr>\n",
       "  </thead>\n",
       "  <tbody>\n",
       "    <tr>\n",
       "      <th>0</th>\n",
       "      <td>13383</td>\n",
       "      <td>72</td>\n",
       "      <td>53109</td>\n",
       "    </tr>\n",
       "    <tr>\n",
       "      <th>1</th>\n",
       "      <td>13398</td>\n",
       "      <td>72</td>\n",
       "      <td>47886</td>\n",
       "    </tr>\n",
       "    <tr>\n",
       "      <th>2</th>\n",
       "      <td>13397</td>\n",
       "      <td>72</td>\n",
       "      <td>45523</td>\n",
       "    </tr>\n",
       "    <tr>\n",
       "      <th>3</th>\n",
       "      <td>13399</td>\n",
       "      <td>72</td>\n",
       "      <td>50768</td>\n",
       "    </tr>\n",
       "    <tr>\n",
       "      <th>4</th>\n",
       "      <td>36912</td>\n",
       "      <td>26</td>\n",
       "      <td>62703</td>\n",
       "    </tr>\n",
       "    <tr>\n",
       "      <th>...</th>\n",
       "      <td>...</td>\n",
       "      <td>...</td>\n",
       "      <td>...</td>\n",
       "    </tr>\n",
       "    <tr>\n",
       "      <th>995</th>\n",
       "      <td>40346</td>\n",
       "      <td>18</td>\n",
       "      <td>71755</td>\n",
       "    </tr>\n",
       "    <tr>\n",
       "      <th>996</th>\n",
       "      <td>40344</td>\n",
       "      <td>18</td>\n",
       "      <td>81819</td>\n",
       "    </tr>\n",
       "    <tr>\n",
       "      <th>997</th>\n",
       "      <td>40345</td>\n",
       "      <td>18</td>\n",
       "      <td>69621</td>\n",
       "    </tr>\n",
       "    <tr>\n",
       "      <th>998</th>\n",
       "      <td>40343</td>\n",
       "      <td>18</td>\n",
       "      <td>74134</td>\n",
       "    </tr>\n",
       "    <tr>\n",
       "      <th>999</th>\n",
       "      <td>47491</td>\n",
       "      <td>18</td>\n",
       "      <td>90722</td>\n",
       "    </tr>\n",
       "  </tbody>\n",
       "</table>\n",
       "<p>633 rows × 3 columns</p>\n",
       "</div>"
      ],
      "text/plain": [
       "        id  region objPriceAvg\n",
       "0    13383      72       53109\n",
       "1    13398      72       47886\n",
       "2    13397      72       45523\n",
       "3    13399      72       50768\n",
       "4    36912      26       62703\n",
       "..     ...     ...         ...\n",
       "995  40346      18       71755\n",
       "996  40344      18       81819\n",
       "997  40345      18       69621\n",
       "998  40343      18       74134\n",
       "999  47491      18       90722\n",
       "\n",
       "[633 rows x 3 columns]"
      ]
     },
     "execution_count": 43,
     "metadata": {},
     "output_type": "execute_result"
    }
   ],
   "source": [
    "homes_prices.head(10000)"
   ]
  },
  {
   "cell_type": "code",
   "execution_count": 44,
   "id": "6d8e634a",
   "metadata": {},
   "outputs": [],
   "source": [
    "# Import seaborn\n",
    "import seaborn as sns\n",
    "\n",
    "# Apply the default theme\n",
    "sns.set_theme()"
   ]
  },
  {
   "cell_type": "code",
   "execution_count": 45,
   "id": "a9762715",
   "metadata": {},
   "outputs": [
    {
     "data": {
      "text/plain": [
       "<AxesSubplot:xlabel='region', ylabel='count'>"
      ]
     },
     "execution_count": 45,
     "metadata": {},
     "output_type": "execute_result"
    },
    {
     "data": {
      "image/png": "[encoded data removed]",
      "text/plain": [
       "<Figure size 640x480 with 1 Axes>"
      ]
     },
     "metadata": {},
     "output_type": "display_data"
    }
   ],
   "source": [
    "sns.countplot(data=homes_prices, x='region')"
   ]
  },
  {
   "cell_type": "code",
   "execution_count": 46,
   "id": "dac0dc6e",
   "metadata": {},
   "outputs": [
    {
     "data": {
      "text/plain": [
       "<AxesSubplot:xlabel='region', ylabel='objPriceAvg'>"
      ]
     },
     "execution_count": 46,
     "metadata": {},
     "output_type": "execute_result"
    },
    {
     "data": {
      "image/png": "[encoded data removed]",
      "text/plain": [
       "<Figure size 640x480 with 1 Axes>"
      ]
     },
     "metadata": {},
     "output_type": "display_data"
    }
   ],
   "source": [
    "sns.barplot(data=homes_prices, x='region', y='objPriceAvg')"
   ]
  },
  {
   "cell_type": "code",
   "execution_count": 47,
   "id": "efc872af",
   "metadata": {},
   "outputs": [],
   "source": [
    "### Full table"
   ]
  },
  {
   "cell_type": "code",
   "execution_count": 48,
   "id": "639f89a3",
   "metadata": {},
   "outputs": [
    {
     "data": {
      "text/plain": [
       "(1000, 60)"
      ]
     },
     "execution_count": 48,
     "metadata": {},
     "output_type": "execute_result"
    }
   ],
   "source": [
    "homes.shape"
   ]
  },
  {
   "cell_type": "code",
   "execution_count": 49,
   "id": "b14ce01e",
   "metadata": {},
   "outputs": [
    {
     "name": "stdout",
     "output_type": "stream",
     "text": [
      "<class 'pandas.core.frame.DataFrame'>\n",
      "RangeIndex: 1000 entries, 0 to 999\n",
      "Data columns (total 60 columns):\n",
      " #   Column                        Non-Null Count  Dtype  \n",
      "---  ------                        --------------  -----  \n",
      " 0   id                            1000 non-null   int64  \n",
      " 1   hobjId                        1000 non-null   int64  \n",
      " 2   pdId                          1000 non-null   int64  \n",
      " 3   developer                     1000 non-null   object \n",
      " 4   region                        1000 non-null   int64  \n",
      " 5   address                       1000 non-null   object \n",
      " 6   floorMin                      1000 non-null   int64  \n",
      " 7   floorMax                      1000 non-null   int64  \n",
      " 8   objElemLivingCnt              1000 non-null   int64  \n",
      " 9   objReady100PercDt             1000 non-null   object \n",
      " 10  wallMaterialShortDesc         1000 non-null   object \n",
      " 11  objLkFinishTypeDesc           1000 non-null   object \n",
      " 12  objLkFreePlanDesc             1000 non-null   object \n",
      " 13  objElemParkingCnt             1000 non-null   int64  \n",
      " 14  objSquareLiving               1000 non-null   float64\n",
      " 15  rpdNum                        1000 non-null   object \n",
      " 16  rpdPdfLink                    1000 non-null   object \n",
      " 17  rpdIssueDttm                  1000 non-null   object \n",
      " 18  objLkLatitude                 1000 non-null   object \n",
      " 19  objLkLongitude                1000 non-null   object \n",
      " 20  objCompensFundFlg             1000 non-null   int64  \n",
      " 21  objProblemFlg                 1000 non-null   int64  \n",
      " 22  objLkClassDesc                1000 non-null   object \n",
      " 23  loadDttm                      1000 non-null   object \n",
      " 24  photoRenderDTO                1000 non-null   object \n",
      " 25  objGuarantyEscrowFlg          1000 non-null   int64  \n",
      " 26  objectType                    1000 non-null   object \n",
      " 27  miniUrl                       1000 non-null   object \n",
      " 28  residentialBuildings          1000 non-null   int64  \n",
      " 29  newBuildingId                 1000 non-null   int64  \n",
      " 30  objFloorCnt                   1000 non-null   int64  \n",
      " 31  objFlatCnt                    1000 non-null   int64  \n",
      " 32  objFlatSq                     1000 non-null   object \n",
      " 33  objNonlivElemCnt              1000 non-null   int64  \n",
      " 34  objStatus                     1000 non-null   int64  \n",
      " 35  isAvailableWantLiveHere       1000 non-null   bool   \n",
      " 36  objTransferPlanDt             1000 non-null   object \n",
      " 37  objLivCeilingHeight           1000 non-null   object \n",
      " 38  objInfrstrBicycleLaneFlg      1000 non-null   int64  \n",
      " 39  objInfrstrPlaygrndCnt         1000 non-null   object \n",
      " 40  objInfrstrSportGroundCnt      1000 non-null   object \n",
      " 41  objInfrstrTrashAreaCnt        1000 non-null   object \n",
      " 42  objInfrstrObjPrkngCnt         1000 non-null   object \n",
      " 43  objInfrstrNotObjPrkngCnt      1000 non-null   object \n",
      " 44  objInfrstrRampFlg             1000 non-null   int64  \n",
      " 45  objInfrstrCurbLoweringFlg     1000 non-null   int64  \n",
      " 46  objElevatorWheelchairCnt      1000 non-null   object \n",
      " 47  objElevatorPassengerCnt       1000 non-null   object \n",
      " 48  objElevatorCargoCnt           1000 non-null   object \n",
      " 49  objElevatorCargoPassengerCnt  1000 non-null   int64  \n",
      " 50  soldOutPerc                   1000 non-null   object \n",
      " 51  objPriceAvg                   1000 non-null   object \n",
      " 52  generalContractorNm           1000 non-null   object \n",
      " 53  nonlivFirstFloor              1000 non-null   int64  \n",
      " 54  objectTransportInfo           1000 non-null   object \n",
      " 55  conclusion                    1000 non-null   bool   \n",
      " 56  objLkSaleDepEmail             1000 non-null   object \n",
      " 57  objGreenHouseFlg              1000 non-null   int64  \n",
      " 58  objEnergyEffShortDesc         1000 non-null   object \n",
      " 59  infrastructureIndexValue      1000 non-null   int64  \n",
      "dtypes: bool(2), float64(1), int64(24), object(33)\n",
      "memory usage: 455.2+ KB\n"
     ]
    }
   ],
   "source": [
    "homes.info()"
   ]
  },
  {
   "cell_type": "code",
   "execution_count": 50,
   "id": "968d1f7c",
   "metadata": {},
   "outputs": [],
   "source": [
    "# Floors by region"
   ]
  },
  {
   "cell_type": "code",
   "execution_count": 51,
   "id": "96a13b51",
   "metadata": {},
   "outputs": [],
   "source": [
    "floors = homes[['region', 'floorMin', 'floorMax']]"
   ]
  },
  {
   "cell_type": "code",
   "execution_count": 52,
   "id": "dc499199",
   "metadata": {},
   "outputs": [
    {
     "data": {
      "text/plain": [
       "(1000, 3)"
      ]
     },
     "execution_count": 52,
     "metadata": {},
     "output_type": "execute_result"
    }
   ],
   "source": [
    "floors.shape"
   ]
  },
  {
   "cell_type": "code",
   "execution_count": 53,
   "id": "ea848164",
   "metadata": {},
   "outputs": [
    {
     "data": {
      "text/plain": [
       "<AxesSubplot:xlabel='region', ylabel='count'>"
      ]
     },
     "execution_count": 53,
     "metadata": {},
     "output_type": "execute_result"
    },
    {
     "data": {
      "image/png": "[encoded data removed]",
      "text/plain": [
       "<Figure size 640x480 with 1 Axes>"
      ]
     },
     "metadata": {},
     "output_type": "display_data"
    }
   ],
   "source": [
    "sns.countplot(data=floors, x='region', hue='floorMin')"
   ]
  },
  {
   "cell_type": "code",
   "execution_count": 54,
   "id": "81b035ff",
   "metadata": {},
   "outputs": [
    {
     "data": {
      "text/plain": [
       "<AxesSubplot:xlabel='region', ylabel='floorMin'>"
      ]
     },
     "execution_count": 54,
     "metadata": {},
     "output_type": "execute_result"
    },
    {
     "data": {
      "image/png": "[encoded data removed]",
      "text/plain": [
       "<Figure size 640x480 with 1 Axes>"
      ]
     },
     "metadata": {},
     "output_type": "display_data"
    }
   ],
   "source": [
    "sns.barplot(data=floors, x='region', y='floorMin')"
   ]
  },
  {
   "cell_type": "code",
   "execution_count": 55,
   "id": "b68c6b87",
   "metadata": {},
   "outputs": [
    {
     "data": {
      "text/plain": [
       "<AxesSubplot:xlabel='region', ylabel='floorMax'>"
      ]
     },
     "execution_count": 55,
     "metadata": {},
     "output_type": "execute_result"
    },
    {
     "data": {
      "image/png": "[encoded data removed]",
      "text/plain": [
       "<Figure size 640x480 with 1 Axes>"
      ]
     },
     "metadata": {},
     "output_type": "display_data"
    }
   ],
   "source": [
    "sns.barplot(data=floors, x='region', y='floorMax')"
   ]
  },
  {
   "cell_type": "code",
   "execution_count": 56,
   "id": "bd5fafbd",
   "metadata": {},
   "outputs": [],
   "source": [
    "## Average floors??"
   ]
  },
  {
   "cell_type": "code",
   "execution_count": 58,
   "id": "144ee2e8",
   "metadata": {},
   "outputs": [
    {
     "data": {
      "text/html": [
       "<div>\n",
       "<style scoped>\n",
       "    .dataframe tbody tr th:only-of-type {\n",
       "        vertical-align: middle;\n",
       "    }\n",
       "\n",
       "    .dataframe tbody tr th {\n",
       "        vertical-align: top;\n",
       "    }\n",
       "\n",
       "    .dataframe thead th {\n",
       "        text-align: right;\n",
       "    }\n",
       "</style>\n",
       "<table border=\"1\" class=\"dataframe\">\n",
       "  <thead>\n",
       "    <tr style=\"text-align: right;\">\n",
       "      <th></th>\n",
       "      <th>region</th>\n",
       "      <th>floorMin</th>\n",
       "      <th>floorMax</th>\n",
       "    </tr>\n",
       "  </thead>\n",
       "  <tbody>\n",
       "    <tr>\n",
       "      <th>0</th>\n",
       "      <td>72</td>\n",
       "      <td>4</td>\n",
       "      <td>20</td>\n",
       "    </tr>\n",
       "    <tr>\n",
       "      <th>1</th>\n",
       "      <td>72</td>\n",
       "      <td>7</td>\n",
       "      <td>10</td>\n",
       "    </tr>\n",
       "    <tr>\n",
       "      <th>2</th>\n",
       "      <td>72</td>\n",
       "      <td>6</td>\n",
       "      <td>12</td>\n",
       "    </tr>\n",
       "    <tr>\n",
       "      <th>3</th>\n",
       "      <td>72</td>\n",
       "      <td>1</td>\n",
       "      <td>1</td>\n",
       "    </tr>\n",
       "    <tr>\n",
       "      <th>4</th>\n",
       "      <td>26</td>\n",
       "      <td>2</td>\n",
       "      <td>10</td>\n",
       "    </tr>\n",
       "    <tr>\n",
       "      <th>...</th>\n",
       "      <td>...</td>\n",
       "      <td>...</td>\n",
       "      <td>...</td>\n",
       "    </tr>\n",
       "    <tr>\n",
       "      <th>995</th>\n",
       "      <td>18</td>\n",
       "      <td>15</td>\n",
       "      <td>15</td>\n",
       "    </tr>\n",
       "    <tr>\n",
       "      <th>996</th>\n",
       "      <td>18</td>\n",
       "      <td>18</td>\n",
       "      <td>18</td>\n",
       "    </tr>\n",
       "    <tr>\n",
       "      <th>997</th>\n",
       "      <td>18</td>\n",
       "      <td>11</td>\n",
       "      <td>11</td>\n",
       "    </tr>\n",
       "    <tr>\n",
       "      <th>998</th>\n",
       "      <td>18</td>\n",
       "      <td>18</td>\n",
       "      <td>18</td>\n",
       "    </tr>\n",
       "    <tr>\n",
       "      <th>999</th>\n",
       "      <td>18</td>\n",
       "      <td>18</td>\n",
       "      <td>18</td>\n",
       "    </tr>\n",
       "  </tbody>\n",
       "</table>\n",
       "<p>1000 rows × 3 columns</p>\n",
       "</div>"
      ],
      "text/plain": [
       "     region  floorMin  floorMax\n",
       "0        72         4        20\n",
       "1        72         7        10\n",
       "2        72         6        12\n",
       "3        72         1         1\n",
       "4        26         2        10\n",
       "..      ...       ...       ...\n",
       "995      18        15        15\n",
       "996      18        18        18\n",
       "997      18        11        11\n",
       "998      18        18        18\n",
       "999      18        18        18\n",
       "\n",
       "[1000 rows x 3 columns]"
      ]
     },
     "execution_count": 58,
     "metadata": {},
     "output_type": "execute_result"
    }
   ],
   "source": [
    "floors.head(10000)"
   ]
  },
  {
   "cell_type": "code",
   "execution_count": 59,
   "id": "dd5f70c9",
   "metadata": {},
   "outputs": [
    {
     "name": "stderr",
     "output_type": "stream",
     "text": [
      "C:\\Users\\drk0g\\AppData\\Local\\Temp\\ipykernel_17404\\1033145543.py:1: SettingWithCopyWarning: \n",
      "A value is trying to be set on a copy of a slice from a DataFrame.\n",
      "Try using .loc[row_indexer,col_indexer] = value instead\n",
      "\n",
      "See the caveats in the documentation: https://pandas.pydata.org/pandas-docs/stable/user_guide/indexing.html#returning-a-view-versus-a-copy\n",
      "  floors['AvgFloors'] = [0]*len(floors)\n"
     ]
    }
   ],
   "source": [
    "floors['AvgFloors'] = [0]*len(floors)"
   ]
  },
  {
   "cell_type": "code",
   "execution_count": 60,
   "id": "fb972950",
   "metadata": {},
   "outputs": [
    {
     "data": {
      "text/html": [
       "<div>\n",
       "<style scoped>\n",
       "    .dataframe tbody tr th:only-of-type {\n",
       "        vertical-align: middle;\n",
       "    }\n",
       "\n",
       "    .dataframe tbody tr th {\n",
       "        vertical-align: top;\n",
       "    }\n",
       "\n",
       "    .dataframe thead th {\n",
       "        text-align: right;\n",
       "    }\n",
       "</style>\n",
       "<table border=\"1\" class=\"dataframe\">\n",
       "  <thead>\n",
       "    <tr style=\"text-align: right;\">\n",
       "      <th></th>\n",
       "      <th>region</th>\n",
       "      <th>floorMin</th>\n",
       "      <th>floorMax</th>\n",
       "      <th>AvgFloors</th>\n",
       "    </tr>\n",
       "  </thead>\n",
       "  <tbody>\n",
       "    <tr>\n",
       "      <th>0</th>\n",
       "      <td>72</td>\n",
       "      <td>4</td>\n",
       "      <td>20</td>\n",
       "      <td>0</td>\n",
       "    </tr>\n",
       "    <tr>\n",
       "      <th>1</th>\n",
       "      <td>72</td>\n",
       "      <td>7</td>\n",
       "      <td>10</td>\n",
       "      <td>0</td>\n",
       "    </tr>\n",
       "    <tr>\n",
       "      <th>2</th>\n",
       "      <td>72</td>\n",
       "      <td>6</td>\n",
       "      <td>12</td>\n",
       "      <td>0</td>\n",
       "    </tr>\n",
       "    <tr>\n",
       "      <th>3</th>\n",
       "      <td>72</td>\n",
       "      <td>1</td>\n",
       "      <td>1</td>\n",
       "      <td>0</td>\n",
       "    </tr>\n",
       "    <tr>\n",
       "      <th>4</th>\n",
       "      <td>26</td>\n",
       "      <td>2</td>\n",
       "      <td>10</td>\n",
       "      <td>0</td>\n",
       "    </tr>\n",
       "  </tbody>\n",
       "</table>\n",
       "</div>"
      ],
      "text/plain": [
       "   region  floorMin  floorMax  AvgFloors\n",
       "0      72         4        20          0\n",
       "1      72         7        10          0\n",
       "2      72         6        12          0\n",
       "3      72         1         1          0\n",
       "4      26         2        10          0"
      ]
     },
     "execution_count": 60,
     "metadata": {},
     "output_type": "execute_result"
    }
   ],
   "source": [
    "floors.head()"
   ]
  },
  {
   "cell_type": "code",
   "execution_count": 61,
   "id": "b419f704",
   "metadata": {},
   "outputs": [
    {
     "name": "stderr",
     "output_type": "stream",
     "text": [
      "C:\\Users\\drk0g\\AppData\\Local\\Temp\\ipykernel_17404\\2317002040.py:3: SettingWithCopyWarning: \n",
      "A value is trying to be set on a copy of a slice from a DataFrame\n",
      "\n",
      "See the caveats in the documentation: https://pandas.pydata.org/pandas-docs/stable/user_guide/indexing.html#returning-a-view-versus-a-copy\n",
      "  floors['AvgFloors'].iloc[i] = avg\n"
     ]
    }
   ],
   "source": [
    "for i in range(len(floors)):\n",
    "    avg = (floors['floorMin'].iloc[i] + floors['floorMax'].iloc[i])//2\n",
    "    floors['AvgFloors'].iloc[i] = avg\n",
    "    "
   ]
  },
  {
   "cell_type": "code",
   "execution_count": 62,
   "id": "31a1d4cb",
   "metadata": {},
   "outputs": [
    {
     "data": {
      "text/html": [
       "<div>\n",
       "<style scoped>\n",
       "    .dataframe tbody tr th:only-of-type {\n",
       "        vertical-align: middle;\n",
       "    }\n",
       "\n",
       "    .dataframe tbody tr th {\n",
       "        vertical-align: top;\n",
       "    }\n",
       "\n",
       "    .dataframe thead th {\n",
       "        text-align: right;\n",
       "    }\n",
       "</style>\n",
       "<table border=\"1\" class=\"dataframe\">\n",
       "  <thead>\n",
       "    <tr style=\"text-align: right;\">\n",
       "      <th></th>\n",
       "      <th>region</th>\n",
       "      <th>floorMin</th>\n",
       "      <th>floorMax</th>\n",
       "      <th>AvgFloors</th>\n",
       "    </tr>\n",
       "  </thead>\n",
       "  <tbody>\n",
       "    <tr>\n",
       "      <th>0</th>\n",
       "      <td>72</td>\n",
       "      <td>4</td>\n",
       "      <td>20</td>\n",
       "      <td>12</td>\n",
       "    </tr>\n",
       "    <tr>\n",
       "      <th>1</th>\n",
       "      <td>72</td>\n",
       "      <td>7</td>\n",
       "      <td>10</td>\n",
       "      <td>8</td>\n",
       "    </tr>\n",
       "    <tr>\n",
       "      <th>2</th>\n",
       "      <td>72</td>\n",
       "      <td>6</td>\n",
       "      <td>12</td>\n",
       "      <td>9</td>\n",
       "    </tr>\n",
       "    <tr>\n",
       "      <th>3</th>\n",
       "      <td>72</td>\n",
       "      <td>1</td>\n",
       "      <td>1</td>\n",
       "      <td>1</td>\n",
       "    </tr>\n",
       "    <tr>\n",
       "      <th>4</th>\n",
       "      <td>26</td>\n",
       "      <td>2</td>\n",
       "      <td>10</td>\n",
       "      <td>6</td>\n",
       "    </tr>\n",
       "  </tbody>\n",
       "</table>\n",
       "</div>"
      ],
      "text/plain": [
       "   region  floorMin  floorMax  AvgFloors\n",
       "0      72         4        20         12\n",
       "1      72         7        10          8\n",
       "2      72         6        12          9\n",
       "3      72         1         1          1\n",
       "4      26         2        10          6"
      ]
     },
     "execution_count": 62,
     "metadata": {},
     "output_type": "execute_result"
    }
   ],
   "source": [
    "floors.head()"
   ]
  },
  {
   "cell_type": "code",
   "execution_count": 63,
   "id": "e99f4272",
   "metadata": {},
   "outputs": [],
   "source": [
    "# Avg floors by region"
   ]
  },
  {
   "cell_type": "code",
   "execution_count": 64,
   "id": "fba89f11",
   "metadata": {},
   "outputs": [
    {
     "data": {
      "text/plain": [
       "<AxesSubplot:xlabel='region', ylabel='AvgFloors'>"
      ]
     },
     "execution_count": 64,
     "metadata": {},
     "output_type": "execute_result"
    },
    {
     "data": {
      "image/png": "[encoded data removed]",
      "text/plain": [
       "<Figure size 640x480 with 1 Axes>"
      ]
     },
     "metadata": {},
     "output_type": "display_data"
    }
   ],
   "source": [
    "sns.barplot(data=floors, x='region', y='AvgFloors')"
   ]
  },
  {
   "cell_type": "code",
   "execution_count": 65,
   "id": "ee64320f",
   "metadata": {},
   "outputs": [],
   "source": [
    "## Count homes by region"
   ]
  },
  {
   "cell_type": "code",
   "execution_count": 66,
   "id": "5f5a1ea9",
   "metadata": {},
   "outputs": [
    {
     "data": {
      "text/plain": [
       "<AxesSubplot:xlabel='region', ylabel='count'>"
      ]
     },
     "execution_count": 66,
     "metadata": {},
     "output_type": "execute_result"
    },
    {
     "data": {
      "image/png": "[encoded data removed]",
      "text/plain": [
       "<Figure size 640x480 with 1 Axes>"
      ]
     },
     "metadata": {},
     "output_type": "display_data"
    }
   ],
   "source": [
    "sns.countplot(data=homes, x='region')"
   ]
  },
  {
   "cell_type": "code",
   "execution_count": 67,
   "id": "728ce1e5",
   "metadata": {},
   "outputs": [],
   "source": [
    "#objReady100PercDt"
   ]
  },
  {
   "cell_type": "code",
   "execution_count": 68,
   "id": "8ae32703",
   "metadata": {},
   "outputs": [],
   "source": [
    "homes_date = homes[['id', 'region', 'objReady100PercDt']]"
   ]
  },
  {
   "cell_type": "code",
   "execution_count": 69,
   "id": "303562d9",
   "metadata": {},
   "outputs": [
    {
     "data": {
      "text/html": [
       "<div>\n",
       "<style scoped>\n",
       "    .dataframe tbody tr th:only-of-type {\n",
       "        vertical-align: middle;\n",
       "    }\n",
       "\n",
       "    .dataframe tbody tr th {\n",
       "        vertical-align: top;\n",
       "    }\n",
       "\n",
       "    .dataframe thead th {\n",
       "        text-align: right;\n",
       "    }\n",
       "</style>\n",
       "<table border=\"1\" class=\"dataframe\">\n",
       "  <thead>\n",
       "    <tr style=\"text-align: right;\">\n",
       "      <th></th>\n",
       "      <th>id</th>\n",
       "      <th>region</th>\n",
       "      <th>objReady100PercDt</th>\n",
       "    </tr>\n",
       "  </thead>\n",
       "  <tbody>\n",
       "    <tr>\n",
       "      <th>0</th>\n",
       "      <td>13383</td>\n",
       "      <td>72</td>\n",
       "      <td>2022-12-31</td>\n",
       "    </tr>\n",
       "    <tr>\n",
       "      <th>1</th>\n",
       "      <td>13398</td>\n",
       "      <td>72</td>\n",
       "      <td>2024-12-31</td>\n",
       "    </tr>\n",
       "    <tr>\n",
       "      <th>2</th>\n",
       "      <td>13397</td>\n",
       "      <td>72</td>\n",
       "      <td>2024-12-31</td>\n",
       "    </tr>\n",
       "    <tr>\n",
       "      <th>3</th>\n",
       "      <td>13399</td>\n",
       "      <td>72</td>\n",
       "      <td>2024-12-31</td>\n",
       "    </tr>\n",
       "    <tr>\n",
       "      <th>4</th>\n",
       "      <td>36912</td>\n",
       "      <td>26</td>\n",
       "      <td>2022-12-31</td>\n",
       "    </tr>\n",
       "    <tr>\n",
       "      <th>5</th>\n",
       "      <td>10891</td>\n",
       "      <td>35</td>\n",
       "      <td>2023-03-31</td>\n",
       "    </tr>\n",
       "    <tr>\n",
       "      <th>6</th>\n",
       "      <td>8809</td>\n",
       "      <td>74</td>\n",
       "      <td>2019-03-31</td>\n",
       "    </tr>\n",
       "    <tr>\n",
       "      <th>7</th>\n",
       "      <td>8810</td>\n",
       "      <td>74</td>\n",
       "      <td>2019-03-31</td>\n",
       "    </tr>\n",
       "    <tr>\n",
       "      <th>8</th>\n",
       "      <td>39176</td>\n",
       "      <td>23</td>\n",
       "      <td>2024-09-30</td>\n",
       "    </tr>\n",
       "    <tr>\n",
       "      <th>9</th>\n",
       "      <td>39175</td>\n",
       "      <td>23</td>\n",
       "      <td>2023-06-30</td>\n",
       "    </tr>\n",
       "  </tbody>\n",
       "</table>\n",
       "</div>"
      ],
      "text/plain": [
       "      id  region objReady100PercDt\n",
       "0  13383      72        2022-12-31\n",
       "1  13398      72        2024-12-31\n",
       "2  13397      72        2024-12-31\n",
       "3  13399      72        2024-12-31\n",
       "4  36912      26        2022-12-31\n",
       "5  10891      35        2023-03-31\n",
       "6   8809      74        2019-03-31\n",
       "7   8810      74        2019-03-31\n",
       "8  39176      23        2024-09-30\n",
       "9  39175      23        2023-06-30"
      ]
     },
     "execution_count": 69,
     "metadata": {},
     "output_type": "execute_result"
    }
   ],
   "source": [
    "homes_date.head(10)"
   ]
  },
  {
   "cell_type": "code",
   "execution_count": 70,
   "id": "6e67e8f0",
   "metadata": {},
   "outputs": [
    {
     "data": {
      "text/plain": [
       "'2022-12-31'"
      ]
     },
     "execution_count": 70,
     "metadata": {},
     "output_type": "execute_result"
    }
   ],
   "source": [
    "homes_date['objReady100PercDt'].iloc[0]"
   ]
  },
  {
   "cell_type": "code",
   "execution_count": 71,
   "id": "027b70c5",
   "metadata": {},
   "outputs": [],
   "source": [
    "## Add Year to homes_date"
   ]
  },
  {
   "cell_type": "code",
   "execution_count": 72,
   "id": "704c8f4d",
   "metadata": {},
   "outputs": [
    {
     "name": "stderr",
     "output_type": "stream",
     "text": [
      "C:\\Users\\drk0g\\AppData\\Local\\Temp\\ipykernel_17404\\2017191194.py:1: SettingWithCopyWarning: \n",
      "A value is trying to be set on a copy of a slice from a DataFrame.\n",
      "Try using .loc[row_indexer,col_indexer] = value instead\n",
      "\n",
      "See the caveats in the documentation: https://pandas.pydata.org/pandas-docs/stable/user_guide/indexing.html#returning-a-view-versus-a-copy\n",
      "  homes_date['Year'] = ['']*len(homes_date)\n"
     ]
    }
   ],
   "source": [
    "homes_date['Year'] = ['']*len(homes_date) "
   ]
  },
  {
   "cell_type": "code",
   "execution_count": 73,
   "id": "96419343",
   "metadata": {},
   "outputs": [
    {
     "name": "stderr",
     "output_type": "stream",
     "text": [
      "C:\\Users\\drk0g\\AppData\\Local\\Temp\\ipykernel_17404\\3833312574.py:2: SettingWithCopyWarning: \n",
      "A value is trying to be set on a copy of a slice from a DataFrame\n",
      "\n",
      "See the caveats in the documentation: https://pandas.pydata.org/pandas-docs/stable/user_guide/indexing.html#returning-a-view-versus-a-copy\n",
      "  homes_date['Year'].iloc[i] = homes_date['objReady100PercDt'].iloc[i][:4]\n"
     ]
    }
   ],
   "source": [
    "for i in range(len(homes_date)):\n",
    "    homes_date['Year'].iloc[i] = homes_date['objReady100PercDt'].iloc[i][:4]"
   ]
  },
  {
   "cell_type": "code",
   "execution_count": 74,
   "id": "287e47c0",
   "metadata": {},
   "outputs": [
    {
     "data": {
      "text/html": [
       "<div>\n",
       "<style scoped>\n",
       "    .dataframe tbody tr th:only-of-type {\n",
       "        vertical-align: middle;\n",
       "    }\n",
       "\n",
       "    .dataframe tbody tr th {\n",
       "        vertical-align: top;\n",
       "    }\n",
       "\n",
       "    .dataframe thead th {\n",
       "        text-align: right;\n",
       "    }\n",
       "</style>\n",
       "<table border=\"1\" class=\"dataframe\">\n",
       "  <thead>\n",
       "    <tr style=\"text-align: right;\">\n",
       "      <th></th>\n",
       "      <th>id</th>\n",
       "      <th>region</th>\n",
       "      <th>objReady100PercDt</th>\n",
       "      <th>Year</th>\n",
       "    </tr>\n",
       "  </thead>\n",
       "  <tbody>\n",
       "    <tr>\n",
       "      <th>0</th>\n",
       "      <td>13383</td>\n",
       "      <td>72</td>\n",
       "      <td>2022-12-31</td>\n",
       "      <td>2022</td>\n",
       "    </tr>\n",
       "    <tr>\n",
       "      <th>1</th>\n",
       "      <td>13398</td>\n",
       "      <td>72</td>\n",
       "      <td>2024-12-31</td>\n",
       "      <td>2024</td>\n",
       "    </tr>\n",
       "    <tr>\n",
       "      <th>2</th>\n",
       "      <td>13397</td>\n",
       "      <td>72</td>\n",
       "      <td>2024-12-31</td>\n",
       "      <td>2024</td>\n",
       "    </tr>\n",
       "    <tr>\n",
       "      <th>3</th>\n",
       "      <td>13399</td>\n",
       "      <td>72</td>\n",
       "      <td>2024-12-31</td>\n",
       "      <td>2024</td>\n",
       "    </tr>\n",
       "    <tr>\n",
       "      <th>4</th>\n",
       "      <td>36912</td>\n",
       "      <td>26</td>\n",
       "      <td>2022-12-31</td>\n",
       "      <td>2022</td>\n",
       "    </tr>\n",
       "    <tr>\n",
       "      <th>5</th>\n",
       "      <td>10891</td>\n",
       "      <td>35</td>\n",
       "      <td>2023-03-31</td>\n",
       "      <td>2023</td>\n",
       "    </tr>\n",
       "    <tr>\n",
       "      <th>6</th>\n",
       "      <td>8809</td>\n",
       "      <td>74</td>\n",
       "      <td>2019-03-31</td>\n",
       "      <td>2019</td>\n",
       "    </tr>\n",
       "    <tr>\n",
       "      <th>7</th>\n",
       "      <td>8810</td>\n",
       "      <td>74</td>\n",
       "      <td>2019-03-31</td>\n",
       "      <td>2019</td>\n",
       "    </tr>\n",
       "    <tr>\n",
       "      <th>8</th>\n",
       "      <td>39176</td>\n",
       "      <td>23</td>\n",
       "      <td>2024-09-30</td>\n",
       "      <td>2024</td>\n",
       "    </tr>\n",
       "    <tr>\n",
       "      <th>9</th>\n",
       "      <td>39175</td>\n",
       "      <td>23</td>\n",
       "      <td>2023-06-30</td>\n",
       "      <td>2023</td>\n",
       "    </tr>\n",
       "  </tbody>\n",
       "</table>\n",
       "</div>"
      ],
      "text/plain": [
       "      id  region objReady100PercDt  Year\n",
       "0  13383      72        2022-12-31  2022\n",
       "1  13398      72        2024-12-31  2024\n",
       "2  13397      72        2024-12-31  2024\n",
       "3  13399      72        2024-12-31  2024\n",
       "4  36912      26        2022-12-31  2022\n",
       "5  10891      35        2023-03-31  2023\n",
       "6   8809      74        2019-03-31  2019\n",
       "7   8810      74        2019-03-31  2019\n",
       "8  39176      23        2024-09-30  2024\n",
       "9  39175      23        2023-06-30  2023"
      ]
     },
     "execution_count": 74,
     "metadata": {},
     "output_type": "execute_result"
    }
   ],
   "source": [
    "homes_date.head(10)"
   ]
  },
  {
   "cell_type": "code",
   "execution_count": 75,
   "id": "c81ac0e7",
   "metadata": {},
   "outputs": [],
   "source": [
    "# By region and by year"
   ]
  },
  {
   "cell_type": "code",
   "execution_count": 76,
   "id": "a71ff32f",
   "metadata": {},
   "outputs": [
    {
     "data": {
      "text/plain": [
       "<AxesSubplot:xlabel='region', ylabel='count'>"
      ]
     },
     "execution_count": 76,
     "metadata": {},
     "output_type": "execute_result"
    },
    {
     "data": {
      "image/png": "[encoded data removed]",
      "text/plain": [
       "<Figure size 640x480 with 1 Axes>"
      ]
     },
     "metadata": {},
     "output_type": "display_data"
    }
   ],
   "source": [
    "sns.countplot(data=homes_date, x='region', hue='Year')"
   ]
  },
  {
   "cell_type": "code",
   "execution_count": 77,
   "id": "a296e29b",
   "metadata": {},
   "outputs": [
    {
     "data": {
      "text/plain": [
       "<AxesSubplot:xlabel='Year', ylabel='count'>"
      ]
     },
     "execution_count": 77,
     "metadata": {},
     "output_type": "execute_result"
    },
    {
     "data": {
      "image/png": "[encoded data removed]",
      "text/plain": [
       "<Figure size 640x480 with 1 Axes>"
      ]
     },
     "metadata": {},
     "output_type": "display_data"
    }
   ],
   "source": [
    "sns.countplot(data=homes_date, x='Year')"
   ]
  },
  {
   "cell_type": "code",
   "execution_count": null,
   "id": "9f9e5e04",
   "metadata": {},
   "outputs": [],
   "source": []
  }
 ],
 "metadata": {
  "kernelspec": {
   "display_name": "Python 3 (ipykernel)",
   "language": "python",
   "name": "python3"
  },
  "language_info": {
   "codemirror_mode": {
    "name": "ipython",
    "version": 3
   },
   "file_extension": ".py",
   "mimetype": "text/x-python",
   "name": "python",
   "nbconvert_exporter": "python",
   "pygments_lexer": "ipython3",
   "version": "3.9.13"
  }
 },
 "nbformat": 4,
 "nbformat_minor": 5
}
