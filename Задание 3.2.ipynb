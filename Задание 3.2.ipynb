{
 "cells": [
  {
   "cell_type": "code",
   "execution_count": null,
   "id": "bd910b48",
   "metadata": {},
   "outputs": [],
   "source": []
  },
  {
   "cell_type": "code",
   "execution_count": 1,
   "id": "496827ff",
   "metadata": {},
   "outputs": [],
   "source": [
    "class DomIdLoader:\n",
    "    def __init__(self):\n",
    "        self.offset_ = 1\n",
    "        self.limit_ = 10\n",
    "        self.url = 'https://xn--80az8a.xn--d1aqf.xn--p1ai/%D1%81%D0%B5%D1%80%D0%B2%D0%B8%D1%81%D1%8B/api/kn/object'\n",
    "        self.objects_data = None\n",
    "\n",
    "    def get_ids(self):\n",
    "        import requests\n",
    "        paramz = {\n",
    "            'offset': self.offset_,\n",
    "            'limit': self.limit_,\n",
    "            'sortField':'devId.devShortCleanNm',\n",
    "            'sortType':'asc',\n",
    "            'objStatus':'0',\n",
    "        }\n",
    "        res = requests.get(self.url, params=paramz)\n",
    "\n",
    "        self.objects_data = res.json()\n",
    "\n",
    "    def show_ids(self):\n",
    "        # print()\n",
    "        if not self.objects_data:\n",
    "            print(\"No data loaded yet...\")\n",
    "            return\n",
    "        objects_list = self.objects_data.get('data').get('list')\n",
    "        ids = [x.get('objId') for x in objects_list]\n",
    "        for one_id in ids:\n",
    "            print(one_id)"
   ]
  },
  {
   "cell_type": "code",
   "execution_count": null,
   "id": "c7901e6e",
   "metadata": {},
   "outputs": [],
   "source": []
  },
  {
   "cell_type": "code",
   "execution_count": 2,
   "id": "1d05e577",
   "metadata": {},
   "outputs": [],
   "source": [
    "home1 = DomIdLoader()"
   ]
  },
  {
   "cell_type": "code",
   "execution_count": 3,
   "id": "5fefb65a",
   "metadata": {},
   "outputs": [
    {
     "name": "stdout",
     "output_type": "stream",
     "text": [
      "No data loaded yet...\n"
     ]
    }
   ],
   "source": [
    "home1.show_ids()"
   ]
  },
  {
   "cell_type": "code",
   "execution_count": 4,
   "id": "981fbb8a",
   "metadata": {},
   "outputs": [],
   "source": [
    "home1.get_ids()"
   ]
  },
  {
   "cell_type": "code",
   "execution_count": 5,
   "id": "4c4892db",
   "metadata": {},
   "outputs": [
    {
     "name": "stdout",
     "output_type": "stream",
     "text": [
      "13383\n",
      "13398\n",
      "13397\n",
      "13399\n",
      "36912\n",
      "10891\n",
      "8809\n",
      "8810\n",
      "39176\n",
      "39175\n"
     ]
    }
   ],
   "source": [
    "home1.show_ids()"
   ]
  },
  {
   "cell_type": "code",
   "execution_count": null,
   "id": "a3617f66",
   "metadata": {},
   "outputs": [],
   "source": []
  },
  {
   "cell_type": "markdown",
   "id": "16be8cb3",
   "metadata": {},
   "source": [
    "## Create a module\n"
   ]
  },
  {
   "cell_type": "code",
   "execution_count": 6,
   "id": "9dc47ce3",
   "metadata": {},
   "outputs": [],
   "source": [
    "## a plain text file with classes or functions"
   ]
  },
  {
   "cell_type": "code",
   "execution_count": 7,
   "id": "b4107431",
   "metadata": {},
   "outputs": [],
   "source": [
    "# after restart"
   ]
  },
  {
   "cell_type": "code",
   "execution_count": 8,
   "id": "b613a32e",
   "metadata": {},
   "outputs": [],
   "source": [
    "home1 = DomIdLoader()"
   ]
  },
  {
   "cell_type": "code",
   "execution_count": 9,
   "id": "f3fb41cc",
   "metadata": {},
   "outputs": [],
   "source": [
    "import dmrf_classes"
   ]
  },
  {
   "cell_type": "code",
   "execution_count": 10,
   "id": "a24f9744",
   "metadata": {},
   "outputs": [],
   "source": [
    "home1 = dmrf_classes.DomIdLoader()"
   ]
  },
  {
   "cell_type": "code",
   "execution_count": null,
   "id": "72a3c426",
   "metadata": {},
   "outputs": [],
   "source": []
  },
  {
   "cell_type": "code",
   "execution_count": 11,
   "id": "e563b987",
   "metadata": {},
   "outputs": [],
   "source": [
    "from dmrf_classes import *"
   ]
  },
  {
   "cell_type": "code",
   "execution_count": 12,
   "id": "829344bd",
   "metadata": {},
   "outputs": [],
   "source": [
    "home1 = DomIdLoader()"
   ]
  },
  {
   "cell_type": "code",
   "execution_count": null,
   "id": "d25bc930",
   "metadata": {},
   "outputs": [],
   "source": []
  },
  {
   "cell_type": "code",
   "execution_count": null,
   "id": "8584001c",
   "metadata": {},
   "outputs": [],
   "source": []
  },
  {
   "cell_type": "markdown",
   "id": "a8201594",
   "metadata": {},
   "source": [
    "## Class Extractor"
   ]
  },
  {
   "cell_type": "code",
   "execution_count": 13,
   "id": "febf33ec",
   "metadata": {},
   "outputs": [],
   "source": [
    "class ObjectInfoExtractor:\n",
    "    def __init__(self, ids):\n",
    "        ...\n",
    "\n",
    "    def load_data(self):\n",
    "        ...\n",
    "\n",
    "    def df_converter(self):\n",
    "        ..."
   ]
  },
  {
   "cell_type": "code",
   "execution_count": null,
   "id": "072ed9a9",
   "metadata": {},
   "outputs": [],
   "source": []
  },
  {
   "cell_type": "code",
   "execution_count": 14,
   "id": "dddfe22d",
   "metadata": {},
   "outputs": [],
   "source": [
    "class DomIdLoader:\n",
    "    def __init__(self):\n",
    "        self.offset_ = 1\n",
    "        self.limit_ = 10\n",
    "        self.url = 'https://xn--80az8a.xn--d1aqf.xn--p1ai/%D1%81%D0%B5%D1%80%D0%B2%D0%B8%D1%81%D1%8B/api/kn/object'\n",
    "        self.objects_data = None\n",
    "\n",
    "    def get_ids(self):\n",
    "        import requests\n",
    "        paramz = {\n",
    "            'offset': self.offset_,\n",
    "            'limit': self.limit_,\n",
    "            'sortField':'devId.devShortCleanNm',\n",
    "            'sortType':'asc',\n",
    "            'objStatus':'0',\n",
    "        }\n",
    "        res = requests.get(self.url, params=paramz)\n",
    "\n",
    "        self.objects_data = res.json()\n",
    "\n",
    "    def show_ids(self):\n",
    "        # print()\n",
    "        if not self.objects_data:\n",
    "            print(\"No data loaded yet...\")\n",
    "            return\n",
    "        objects_list = self.objects_data.get('data').get('list')\n",
    "        ids = [x.get('objId') for x in objects_list]\n",
    "        for one_id in ids:\n",
    "            print(one_id)\n",
    "    def return_ids(self):\n",
    "        if not self.objects_data:\n",
    "            print(\"No data loaded yet...\")\n",
    "            return\n",
    "        objects_list = self.objects_data.get('data').get('list')\n",
    "        return [x.get('objId') for x in objects_list]"
   ]
  },
  {
   "cell_type": "code",
   "execution_count": null,
   "id": "5d491ff5",
   "metadata": {},
   "outputs": [],
   "source": []
  },
  {
   "cell_type": "code",
   "execution_count": 15,
   "id": "6e8854f3",
   "metadata": {},
   "outputs": [],
   "source": [
    "home1 = DomIdLoader()"
   ]
  },
  {
   "cell_type": "code",
   "execution_count": 16,
   "id": "dde07fae",
   "metadata": {},
   "outputs": [],
   "source": [
    "home1.get_ids()"
   ]
  },
  {
   "cell_type": "code",
   "execution_count": 17,
   "id": "55f6f269",
   "metadata": {},
   "outputs": [
    {
     "data": {
      "text/plain": [
       "[13383, 13398, 13397, 13399, 36912, 10891, 8809, 8810, 39176, 39175]"
      ]
     },
     "execution_count": 17,
     "metadata": {},
     "output_type": "execute_result"
    }
   ],
   "source": [
    "home1.return_ids()"
   ]
  },
  {
   "cell_type": "code",
   "execution_count": 18,
   "id": "1f731583",
   "metadata": {},
   "outputs": [],
   "source": [
    "###"
   ]
  },
  {
   "cell_type": "code",
   "execution_count": 19,
   "id": "4515e192",
   "metadata": {},
   "outputs": [],
   "source": [
    "from dmrf_classes import *"
   ]
  },
  {
   "cell_type": "code",
   "execution_count": 20,
   "id": "c4013499",
   "metadata": {},
   "outputs": [],
   "source": [
    "class ObjectInfoExtractor:\n",
    "    def __init__(self, ids):\n",
    "        self.idlist = ids\n",
    "        self.baseurl = \"https://xn--80az8a.xn--d1aqf.xn--p1ai/%D1%81%D0%B5%D1%80%D0%B2%D0%B8%D1%81%D1%8B/api/object/\"\n",
    "\n",
    "    def load_data(self):\n",
    "        pass\n",
    "\n",
    "    def df_converter(self):\n",
    "        pass"
   ]
  },
  {
   "cell_type": "code",
   "execution_count": 21,
   "id": "e1ec0fdc",
   "metadata": {},
   "outputs": [],
   "source": [
    "home1 = DomIdLoader()\n",
    "home1.get_ids()\n",
    "ids = home1.return_ids()"
   ]
  },
  {
   "cell_type": "code",
   "execution_count": 22,
   "id": "64806e35",
   "metadata": {},
   "outputs": [
    {
     "data": {
      "text/plain": [
       "[13383, 13398, 13397, 13399, 36912, 10891, 8809, 8810, 39176, 39175]"
      ]
     },
     "execution_count": 22,
     "metadata": {},
     "output_type": "execute_result"
    }
   ],
   "source": [
    "ids"
   ]
  },
  {
   "cell_type": "code",
   "execution_count": null,
   "id": "1331d063",
   "metadata": {},
   "outputs": [],
   "source": []
  },
  {
   "cell_type": "code",
   "execution_count": 23,
   "id": "5e651f33",
   "metadata": {},
   "outputs": [],
   "source": [
    "## Load all data for all ids"
   ]
  },
  {
   "cell_type": "code",
   "execution_count": 24,
   "id": "9addeb74",
   "metadata": {},
   "outputs": [],
   "source": [
    "class ObjectInfoExtractor:\n",
    "    def __init__(self, ids):\n",
    "        self.idlist = ids\n",
    "        self.baseurl = \"https://xn--80az8a.xn--d1aqf.xn--p1ai/%D1%81%D0%B5%D1%80%D0%B2%D0%B8%D1%81%D1%8B/api/object/\"\n",
    "        self.KeysDict = {'id': [], 'hobjId': [], 'pdId': [], 'developer': [], 'region': [],\n",
    "                       'address': [], 'floorMin': [], 'floorMax': [], 'objElemLivingCnt': [], \n",
    "                       'objReady100PercDt': [], 'wallMaterialShortDesc': [], 'objLkFinishTypeDesc': [],\n",
    "                       'objLkFreePlanDesc': [], 'objElemParkingCnt': [], 'objSquareLiving': [],\n",
    "                       'rpdNum': [], 'rpdPdfLink': [], 'rpdIssueDttm': [], 'objLkLatitude': [],\n",
    "                       'objLkLongitude': [], 'objCompensFundFlg': [], 'objProblemFlg': [],\n",
    "                       'objLkClassDesc': [], 'loadDttm': [], 'photoRenderDTO': [],\n",
    "                       'objGuarantyEscrowFlg': [], 'objectType': [], 'miniUrl': [],\n",
    "                       'residentialBuildings': [], 'newBuildingId': [], 'objFloorCnt': [],\n",
    "                       'objFlatCnt': [], 'objFlatSq': [], 'objNonlivElemCnt': [],  'objStatus': [],\n",
    "                       'isAvailableWantLiveHere': [], 'objTransferPlanDt': [], 'objLivCeilingHeight': [],\n",
    "                       'objInfrstrBicycleLaneFlg': [], 'objInfrstrPlaygrndCnt': [], 'objInfrstrSportGroundCnt': [],\n",
    "                       'objInfrstrTrashAreaCnt': [], 'objInfrstrObjPrkngCnt': [], 'objInfrstrNotObjPrkngCnt': [],\n",
    "                       'objInfrstrRampFlg': [], 'objInfrstrCurbLoweringFlg': [], 'objElevatorWheelchairCnt': [],\n",
    "                       'objElevatorPassengerCnt': [], 'objElevatorCargoCnt': [], 'objElevatorCargoPassengerCnt': [],\n",
    "                       'soldOutPerc': [], 'objPriceAvg': [], 'generalContractorNm': [], 'nonlivFirstFloor': [],\n",
    "                       'objectTransportInfo': [], 'conclusion': [], 'objLkSaleDepEmail': [], 'objGreenHouseFlg': [],\n",
    "                       'objEnergyEffShortDesc': [], 'infrastructureIndexValue': []}\n",
    "\n",
    "    def load_data(self):\n",
    "        import requests\n",
    "        for idvalue in self.idlist:\n",
    "            url = \"{}{}\".format(self.baseurl, idvalue)\n",
    "            res = requests.get(url)\n",
    "            object_data = res.json()\n",
    "            for key in self.KeysDict:\n",
    "                try:\n",
    "                    self.KeysDict[key].append(object_data['data'][key])\n",
    "                except:\n",
    "                    self.KeysDict[key].append('-') \n",
    "\n",
    "\n",
    "    def df_converter(self):\n",
    "        pass"
   ]
  },
  {
   "cell_type": "code",
   "execution_count": 25,
   "id": "70116f8b",
   "metadata": {},
   "outputs": [
    {
     "data": {
      "text/plain": [
       "[13383, 13398, 13397, 13399, 36912, 10891, 8809, 8810, 39176, 39175]"
      ]
     },
     "execution_count": 25,
     "metadata": {},
     "output_type": "execute_result"
    }
   ],
   "source": [
    "ids"
   ]
  },
  {
   "cell_type": "code",
   "execution_count": 26,
   "id": "f48afd29",
   "metadata": {},
   "outputs": [],
   "source": [
    "extractor1 = ObjectInfoExtractor(ids)"
   ]
  },
  {
   "cell_type": "code",
   "execution_count": 27,
   "id": "f0fde82d",
   "metadata": {},
   "outputs": [
    {
     "name": "stdout",
     "output_type": "stream",
     "text": [
      "{'id': [], 'hobjId': [], 'pdId': [], 'developer': [], 'region': [], 'address': [], 'floorMin': [], 'floorMax': [], 'objElemLivingCnt': [], 'objReady100PercDt': [], 'wallMaterialShortDesc': [], 'objLkFinishTypeDesc': [], 'objLkFreePlanDesc': [], 'objElemParkingCnt': [], 'objSquareLiving': [], 'rpdNum': [], 'rpdPdfLink': [], 'rpdIssueDttm': [], 'objLkLatitude': [], 'objLkLongitude': [], 'objCompensFundFlg': [], 'objProblemFlg': [], 'objLkClassDesc': [], 'loadDttm': [], 'photoRenderDTO': [], 'objGuarantyEscrowFlg': [], 'objectType': [], 'miniUrl': [], 'residentialBuildings': [], 'newBuildingId': [], 'objFloorCnt': [], 'objFlatCnt': [], 'objFlatSq': [], 'objNonlivElemCnt': [], 'objStatus': [], 'isAvailableWantLiveHere': [], 'objTransferPlanDt': [], 'objLivCeilingHeight': [], 'objInfrstrBicycleLaneFlg': [], 'objInfrstrPlaygrndCnt': [], 'objInfrstrSportGroundCnt': [], 'objInfrstrTrashAreaCnt': [], 'objInfrstrObjPrkngCnt': [], 'objInfrstrNotObjPrkngCnt': [], 'objInfrstrRampFlg': [], 'objInfrstrCurbLoweringFlg': [], 'objElevatorWheelchairCnt': [], 'objElevatorPassengerCnt': [], 'objElevatorCargoCnt': [], 'objElevatorCargoPassengerCnt': [], 'soldOutPerc': [], 'objPriceAvg': [], 'generalContractorNm': [], 'nonlivFirstFloor': [], 'objectTransportInfo': [], 'conclusion': [], 'objLkSaleDepEmail': [], 'objGreenHouseFlg': [], 'objEnergyEffShortDesc': [], 'infrastructureIndexValue': []}\n"
     ]
    }
   ],
   "source": [
    "print(extractor1.KeysDict)"
   ]
  },
  {
   "cell_type": "code",
   "execution_count": 28,
   "id": "8b63e0e9",
   "metadata": {},
   "outputs": [],
   "source": [
    "extractor1.load_data()"
   ]
  },
  {
   "cell_type": "code",
   "execution_count": 29,
   "id": "0641a613",
   "metadata": {},
   "outputs": [],
   "source": [
    "#print(extractor1.KeysDict)"
   ]
  },
  {
   "cell_type": "code",
   "execution_count": 30,
   "id": "4b6dc5f2",
   "metadata": {},
   "outputs": [],
   "source": [
    "class ObjectInfoExtractor:\n",
    "    def __init__(self, ids):\n",
    "        self.idlist = ids\n",
    "        self.dframe = None\n",
    "        self.baseurl = \"https://xn--80az8a.xn--d1aqf.xn--p1ai/%D1%81%D0%B5%D1%80%D0%B2%D0%B8%D1%81%D1%8B/api/object/\"\n",
    "        self.KeysDict = {'id': [], 'hobjId': [], 'pdId': [], 'developer': [], 'region': [],\n",
    "                       'address': [], 'floorMin': [], 'floorMax': [], 'objElemLivingCnt': [], \n",
    "                       'objReady100PercDt': [], 'wallMaterialShortDesc': [], 'objLkFinishTypeDesc': [],\n",
    "                       'objLkFreePlanDesc': [], 'objElemParkingCnt': [], 'objSquareLiving': [],\n",
    "                       'rpdNum': [], 'rpdPdfLink': [], 'rpdIssueDttm': [], 'objLkLatitude': [],\n",
    "                       'objLkLongitude': [], 'objCompensFundFlg': [], 'objProblemFlg': [],\n",
    "                       'objLkClassDesc': [], 'loadDttm': [], 'photoRenderDTO': [],\n",
    "                       'objGuarantyEscrowFlg': [], 'objectType': [], 'miniUrl': [],\n",
    "                       'residentialBuildings': [], 'newBuildingId': [], 'objFloorCnt': [],\n",
    "                       'objFlatCnt': [], 'objFlatSq': [], 'objNonlivElemCnt': [],  'objStatus': [],\n",
    "                       'isAvailableWantLiveHere': [], 'objTransferPlanDt': [], 'objLivCeilingHeight': [],\n",
    "                       'objInfrstrBicycleLaneFlg': [], 'objInfrstrPlaygrndCnt': [], 'objInfrstrSportGroundCnt': [],\n",
    "                       'objInfrstrTrashAreaCnt': [], 'objInfrstrObjPrkngCnt': [], 'objInfrstrNotObjPrkngCnt': [],\n",
    "                       'objInfrstrRampFlg': [], 'objInfrstrCurbLoweringFlg': [], 'objElevatorWheelchairCnt': [],\n",
    "                       'objElevatorPassengerCnt': [], 'objElevatorCargoCnt': [], 'objElevatorCargoPassengerCnt': [],\n",
    "                       'soldOutPerc': [], 'objPriceAvg': [], 'generalContractorNm': [], 'nonlivFirstFloor': [],\n",
    "                       'objectTransportInfo': [], 'conclusion': [], 'objLkSaleDepEmail': [], 'objGreenHouseFlg': [],\n",
    "                       'objEnergyEffShortDesc': [], 'infrastructureIndexValue': []}\n",
    "\n",
    "    def load_data(self):\n",
    "        import requests\n",
    "        for idvalue in self.idlist:\n",
    "            url = \"{}{}\".format(self.baseurl, idvalue)\n",
    "            res = requests.get(url)\n",
    "            object_data = res.json()\n",
    "            for key in self.KeysDict:\n",
    "                try:\n",
    "                    self.KeysDict[key].append(object_data['data'][key])\n",
    "                except:\n",
    "                    self.KeysDict[key].append('-') \n",
    "\n",
    "\n",
    "    def df_converter(self):\n",
    "        import pandas as pd\n",
    "        self.dframe = pd.DataFrame.from_dict(self.KeysDict)\n",
    "        "
   ]
  },
  {
   "cell_type": "code",
   "execution_count": 31,
   "id": "a0c1e472",
   "metadata": {},
   "outputs": [],
   "source": [
    "ext2 = ObjectInfoExtractor(ids)"
   ]
  },
  {
   "cell_type": "code",
   "execution_count": 32,
   "id": "3f4d1d3b",
   "metadata": {},
   "outputs": [],
   "source": [
    "ext2.load_data()"
   ]
  },
  {
   "cell_type": "code",
   "execution_count": 35,
   "id": "336f1fd5",
   "metadata": {},
   "outputs": [],
   "source": [
    "ext2.df_converter()"
   ]
  },
  {
   "cell_type": "code",
   "execution_count": 36,
   "id": "bac0b917",
   "metadata": {},
   "outputs": [
    {
     "data": {
      "text/html": [
       "<div>\n",
       "<style scoped>\n",
       "    .dataframe tbody tr th:only-of-type {\n",
       "        vertical-align: middle;\n",
       "    }\n",
       "\n",
       "    .dataframe tbody tr th {\n",
       "        vertical-align: top;\n",
       "    }\n",
       "\n",
       "    .dataframe thead th {\n",
       "        text-align: right;\n",
       "    }\n",
       "</style>\n",
       "<table border=\"1\" class=\"dataframe\">\n",
       "  <thead>\n",
       "    <tr style=\"text-align: right;\">\n",
       "      <th></th>\n",
       "      <th>id</th>\n",
       "      <th>hobjId</th>\n",
       "      <th>pdId</th>\n",
       "      <th>developer</th>\n",
       "      <th>region</th>\n",
       "      <th>address</th>\n",
       "      <th>floorMin</th>\n",
       "      <th>floorMax</th>\n",
       "      <th>objElemLivingCnt</th>\n",
       "      <th>objReady100PercDt</th>\n",
       "      <th>...</th>\n",
       "      <th>soldOutPerc</th>\n",
       "      <th>objPriceAvg</th>\n",
       "      <th>generalContractorNm</th>\n",
       "      <th>nonlivFirstFloor</th>\n",
       "      <th>objectTransportInfo</th>\n",
       "      <th>conclusion</th>\n",
       "      <th>objLkSaleDepEmail</th>\n",
       "      <th>objGreenHouseFlg</th>\n",
       "      <th>objEnergyEffShortDesc</th>\n",
       "      <th>infrastructureIndexValue</th>\n",
       "    </tr>\n",
       "  </thead>\n",
       "  <tbody>\n",
       "    <tr>\n",
       "      <th>0</th>\n",
       "      <td>13383</td>\n",
       "      <td>39024</td>\n",
       "      <td>28105</td>\n",
       "      <td>{'devId': 306, 'devShortCleanNm': '2МЕН ГРУПП'...</td>\n",
       "      <td>72</td>\n",
       "      <td>г Тюмень</td>\n",
       "      <td>4</td>\n",
       "      <td>20</td>\n",
       "      <td>68</td>\n",
       "      <td>2023-03-31</td>\n",
       "      <td>...</td>\n",
       "      <td>0.406985</td>\n",
       "      <td>53109</td>\n",
       "      <td>ООО Транспромжилстрой-2005 (ИНН: 7204097730)</td>\n",
       "      <td>1</td>\n",
       "      <td>[]</td>\n",
       "      <td>False</td>\n",
       "      <td>info@2mengroup.ru</td>\n",
       "      <td>0</td>\n",
       "      <td>B</td>\n",
       "      <td>10</td>\n",
       "    </tr>\n",
       "    <tr>\n",
       "      <th>1</th>\n",
       "      <td>13398</td>\n",
       "      <td>37165</td>\n",
       "      <td>28141</td>\n",
       "      <td>{'devId': 306, 'devShortCleanNm': '2МЕН ГРУПП'...</td>\n",
       "      <td>72</td>\n",
       "      <td>г Тюмень, ул Профсоюзная, д. 56</td>\n",
       "      <td>7</td>\n",
       "      <td>10</td>\n",
       "      <td>43</td>\n",
       "      <td>2024-12-31</td>\n",
       "      <td>...</td>\n",
       "      <td>1.0</td>\n",
       "      <td>47886</td>\n",
       "      <td>ООО Транспромжилстрой-2005 (ИНН: 7204097730)</td>\n",
       "      <td>0</td>\n",
       "      <td>[]</td>\n",
       "      <td>False</td>\n",
       "      <td>info@2mengroup.ru</td>\n",
       "      <td>0</td>\n",
       "      <td>B</td>\n",
       "      <td>10</td>\n",
       "    </tr>\n",
       "    <tr>\n",
       "      <th>2</th>\n",
       "      <td>13397</td>\n",
       "      <td>37201</td>\n",
       "      <td>28141</td>\n",
       "      <td>{'devId': 306, 'devShortCleanNm': '2МЕН ГРУПП'...</td>\n",
       "      <td>72</td>\n",
       "      <td>г Тюмень, ул Профсоюзная, д. 56</td>\n",
       "      <td>6</td>\n",
       "      <td>12</td>\n",
       "      <td>65</td>\n",
       "      <td>2024-12-31</td>\n",
       "      <td>...</td>\n",
       "      <td>0.999984</td>\n",
       "      <td>45523</td>\n",
       "      <td>ООО Транспромжилстрой-2005 (ИНН: 7204097730)</td>\n",
       "      <td>0</td>\n",
       "      <td>[]</td>\n",
       "      <td>False</td>\n",
       "      <td>info@2mengroup.ru</td>\n",
       "      <td>0</td>\n",
       "      <td>B</td>\n",
       "      <td>10</td>\n",
       "    </tr>\n",
       "    <tr>\n",
       "      <th>3</th>\n",
       "      <td>13399</td>\n",
       "      <td>34754</td>\n",
       "      <td>28141</td>\n",
       "      <td>{'devId': 306, 'devShortCleanNm': '2МЕН ГРУПП'...</td>\n",
       "      <td>72</td>\n",
       "      <td>г Тюмень, ул Профсоюзная, д. 56</td>\n",
       "      <td>1</td>\n",
       "      <td>1</td>\n",
       "      <td>0</td>\n",
       "      <td>2024-12-31</td>\n",
       "      <td>...</td>\n",
       "      <td>0.917243</td>\n",
       "      <td>50768</td>\n",
       "      <td>ООО Транспромжилстрой-2005 (ИНН: 7204097730)</td>\n",
       "      <td>1</td>\n",
       "      <td>[]</td>\n",
       "      <td>False</td>\n",
       "      <td>info@2mengroup.ru</td>\n",
       "      <td>0</td>\n",
       "      <td>B</td>\n",
       "      <td>10</td>\n",
       "    </tr>\n",
       "    <tr>\n",
       "      <th>4</th>\n",
       "      <td>36912</td>\n",
       "      <td>117248</td>\n",
       "      <td>337586</td>\n",
       "      <td>{'devId': 10296, 'devShortCleanNm': 'CЗ СТРОЙР...</td>\n",
       "      <td>26</td>\n",
       "      <td>г Ставрополь, ул Шпаковская, Доваторцев, д. 10...</td>\n",
       "      <td>2</td>\n",
       "      <td>10</td>\n",
       "      <td>104</td>\n",
       "      <td>2022-12-31</td>\n",
       "      <td>...</td>\n",
       "      <td>0.609216</td>\n",
       "      <td>62703</td>\n",
       "      <td>ООО Стройресурс (ИНН: 2634053119)</td>\n",
       "      <td>1</td>\n",
       "      <td>[]</td>\n",
       "      <td>False</td>\n",
       "      <td>sz.stroyresurs@yandex.ru</td>\n",
       "      <td>0</td>\n",
       "      <td>B</td>\n",
       "      <td>8</td>\n",
       "    </tr>\n",
       "    <tr>\n",
       "      <th>5</th>\n",
       "      <td>10891</td>\n",
       "      <td>6541</td>\n",
       "      <td>23054</td>\n",
       "      <td>{'devId': 3006, 'devShortCleanNm': 'ААК ВОЛОГД...</td>\n",
       "      <td>35</td>\n",
       "      <td>г Вологда, ул Медуницинская, д. 7</td>\n",
       "      <td>16</td>\n",
       "      <td>16</td>\n",
       "      <td>225</td>\n",
       "      <td>2023-03-31</td>\n",
       "      <td>...</td>\n",
       "      <td>0.916518</td>\n",
       "      <td>44771</td>\n",
       "      <td>-</td>\n",
       "      <td>0</td>\n",
       "      <td>[]</td>\n",
       "      <td>False</td>\n",
       "      <td>vologdaagrostroy@yandex.ru</td>\n",
       "      <td>0</td>\n",
       "      <td>D</td>\n",
       "      <td>9</td>\n",
       "    </tr>\n",
       "    <tr>\n",
       "      <th>6</th>\n",
       "      <td>8809</td>\n",
       "      <td>4071</td>\n",
       "      <td>18074</td>\n",
       "      <td>{'devId': 1955, 'devShortCleanNm': 'АБСОЛЮТ', ...</td>\n",
       "      <td>74</td>\n",
       "      <td>город Южноуральск, улица Сергея Буландо, д. 8</td>\n",
       "      <td>10</td>\n",
       "      <td>10</td>\n",
       "      <td>129</td>\n",
       "      <td>2019-03-31</td>\n",
       "      <td>...</td>\n",
       "      <td>-</td>\n",
       "      <td>-</td>\n",
       "      <td>-</td>\n",
       "      <td>0</td>\n",
       "      <td>[]</td>\n",
       "      <td>False</td>\n",
       "      <td>-</td>\n",
       "      <td>0</td>\n",
       "      <td>B</td>\n",
       "      <td>7</td>\n",
       "    </tr>\n",
       "    <tr>\n",
       "      <th>7</th>\n",
       "      <td>8810</td>\n",
       "      <td>39960</td>\n",
       "      <td>18074</td>\n",
       "      <td>{'devId': 1955, 'devShortCleanNm': 'АБСОЛЮТ', ...</td>\n",
       "      <td>74</td>\n",
       "      <td>город Южноуральск, улица Сергея Буландо, д. 8</td>\n",
       "      <td>10</td>\n",
       "      <td>10</td>\n",
       "      <td>119</td>\n",
       "      <td>2019-03-31</td>\n",
       "      <td>...</td>\n",
       "      <td>-</td>\n",
       "      <td>-</td>\n",
       "      <td>-</td>\n",
       "      <td>0</td>\n",
       "      <td>[]</td>\n",
       "      <td>False</td>\n",
       "      <td>-</td>\n",
       "      <td>0</td>\n",
       "      <td>B</td>\n",
       "      <td>7</td>\n",
       "    </tr>\n",
       "    <tr>\n",
       "      <th>8</th>\n",
       "      <td>39176</td>\n",
       "      <td>119604</td>\n",
       "      <td>435352</td>\n",
       "      <td>{'devId': 1146, 'devShortCleanNm': 'АВА ДЕВЕЛО...</td>\n",
       "      <td>23</td>\n",
       "      <td>г Краснодар, улица Валерия Гассия, д. 4/7, лит...</td>\n",
       "      <td>25</td>\n",
       "      <td>25</td>\n",
       "      <td>198</td>\n",
       "      <td>2024-09-30</td>\n",
       "      <td>...</td>\n",
       "      <td>0.544263</td>\n",
       "      <td>103761</td>\n",
       "      <td>ООО ГРАНТ СТРОЙ (ИНН: 2312246941)</td>\n",
       "      <td>1</td>\n",
       "      <td>[]</td>\n",
       "      <td>True</td>\n",
       "      <td>info@ask-yug.com</td>\n",
       "      <td>0</td>\n",
       "      <td>B</td>\n",
       "      <td>5</td>\n",
       "    </tr>\n",
       "    <tr>\n",
       "      <th>9</th>\n",
       "      <td>39175</td>\n",
       "      <td>119603</td>\n",
       "      <td>435351</td>\n",
       "      <td>{'devId': 1146, 'devShortCleanNm': 'АВА ДЕВЕЛО...</td>\n",
       "      <td>23</td>\n",
       "      <td>г Краснодар, улица Валерия Гассия, д. 4/7, лит...</td>\n",
       "      <td>25</td>\n",
       "      <td>25</td>\n",
       "      <td>396</td>\n",
       "      <td>2023-06-30</td>\n",
       "      <td>...</td>\n",
       "      <td>0.545813</td>\n",
       "      <td>102841</td>\n",
       "      <td>ООО ГРАНТ СТРОЙ (ИНН: 2312246941)</td>\n",
       "      <td>1</td>\n",
       "      <td>[]</td>\n",
       "      <td>True</td>\n",
       "      <td>info@ask-yug.com</td>\n",
       "      <td>0</td>\n",
       "      <td>B</td>\n",
       "      <td>5</td>\n",
       "    </tr>\n",
       "  </tbody>\n",
       "</table>\n",
       "<p>10 rows × 60 columns</p>\n",
       "</div>"
      ],
      "text/plain": [
       "      id  hobjId    pdId                                          developer  \\\n",
       "0  13383   39024   28105  {'devId': 306, 'devShortCleanNm': '2МЕН ГРУПП'...   \n",
       "1  13398   37165   28141  {'devId': 306, 'devShortCleanNm': '2МЕН ГРУПП'...   \n",
       "2  13397   37201   28141  {'devId': 306, 'devShortCleanNm': '2МЕН ГРУПП'...   \n",
       "3  13399   34754   28141  {'devId': 306, 'devShortCleanNm': '2МЕН ГРУПП'...   \n",
       "4  36912  117248  337586  {'devId': 10296, 'devShortCleanNm': 'CЗ СТРОЙР...   \n",
       "5  10891    6541   23054  {'devId': 3006, 'devShortCleanNm': 'ААК ВОЛОГД...   \n",
       "6   8809    4071   18074  {'devId': 1955, 'devShortCleanNm': 'АБСОЛЮТ', ...   \n",
       "7   8810   39960   18074  {'devId': 1955, 'devShortCleanNm': 'АБСОЛЮТ', ...   \n",
       "8  39176  119604  435352  {'devId': 1146, 'devShortCleanNm': 'АВА ДЕВЕЛО...   \n",
       "9  39175  119603  435351  {'devId': 1146, 'devShortCleanNm': 'АВА ДЕВЕЛО...   \n",
       "\n",
       "   region                                            address  floorMin  \\\n",
       "0      72                                           г Тюмень         4   \n",
       "1      72                    г Тюмень, ул Профсоюзная, д. 56         7   \n",
       "2      72                    г Тюмень, ул Профсоюзная, д. 56         6   \n",
       "3      72                    г Тюмень, ул Профсоюзная, д. 56         1   \n",
       "4      26  г Ставрополь, ул Шпаковская, Доваторцев, д. 10...         2   \n",
       "5      35                  г Вологда, ул Медуницинская, д. 7        16   \n",
       "6      74      город Южноуральск, улица Сергея Буландо, д. 8        10   \n",
       "7      74      город Южноуральск, улица Сергея Буландо, д. 8        10   \n",
       "8      23  г Краснодар, улица Валерия Гассия, д. 4/7, лит...        25   \n",
       "9      23  г Краснодар, улица Валерия Гассия, д. 4/7, лит...        25   \n",
       "\n",
       "   floorMax  objElemLivingCnt objReady100PercDt  ... soldOutPerc objPriceAvg  \\\n",
       "0        20                68        2023-03-31  ...    0.406985       53109   \n",
       "1        10                43        2024-12-31  ...         1.0       47886   \n",
       "2        12                65        2024-12-31  ...    0.999984       45523   \n",
       "3         1                 0        2024-12-31  ...    0.917243       50768   \n",
       "4        10               104        2022-12-31  ...    0.609216       62703   \n",
       "5        16               225        2023-03-31  ...    0.916518       44771   \n",
       "6        10               129        2019-03-31  ...           -           -   \n",
       "7        10               119        2019-03-31  ...           -           -   \n",
       "8        25               198        2024-09-30  ...    0.544263      103761   \n",
       "9        25               396        2023-06-30  ...    0.545813      102841   \n",
       "\n",
       "                            generalContractorNm  nonlivFirstFloor  \\\n",
       "0  ООО Транспромжилстрой-2005 (ИНН: 7204097730)                 1   \n",
       "1  ООО Транспромжилстрой-2005 (ИНН: 7204097730)                 0   \n",
       "2  ООО Транспромжилстрой-2005 (ИНН: 7204097730)                 0   \n",
       "3  ООО Транспромжилстрой-2005 (ИНН: 7204097730)                 1   \n",
       "4             ООО Стройресурс (ИНН: 2634053119)                 1   \n",
       "5                                             -                 0   \n",
       "6                                             -                 0   \n",
       "7                                             -                 0   \n",
       "8             ООО ГРАНТ СТРОЙ (ИНН: 2312246941)                 1   \n",
       "9             ООО ГРАНТ СТРОЙ (ИНН: 2312246941)                 1   \n",
       "\n",
       "   objectTransportInfo conclusion           objLkSaleDepEmail  \\\n",
       "0                   []      False           info@2mengroup.ru   \n",
       "1                   []      False           info@2mengroup.ru   \n",
       "2                   []      False           info@2mengroup.ru   \n",
       "3                   []      False           info@2mengroup.ru   \n",
       "4                   []      False    sz.stroyresurs@yandex.ru   \n",
       "5                   []      False  vologdaagrostroy@yandex.ru   \n",
       "6                   []      False                           -   \n",
       "7                   []      False                           -   \n",
       "8                   []       True            info@ask-yug.com   \n",
       "9                   []       True            info@ask-yug.com   \n",
       "\n",
       "  objGreenHouseFlg objEnergyEffShortDesc infrastructureIndexValue  \n",
       "0                0                     B                       10  \n",
       "1                0                     B                       10  \n",
       "2                0                     B                       10  \n",
       "3                0                     B                       10  \n",
       "4                0                     B                        8  \n",
       "5                0                     D                        9  \n",
       "6                0                     B                        7  \n",
       "7                0                     B                        7  \n",
       "8                0                     B                        5  \n",
       "9                0                     B                        5  \n",
       "\n",
       "[10 rows x 60 columns]"
      ]
     },
     "execution_count": 36,
     "metadata": {},
     "output_type": "execute_result"
    }
   ],
   "source": [
    "ext2.dframe"
   ]
  },
  {
   "cell_type": "code",
   "execution_count": null,
   "id": "8a55ced9",
   "metadata": {},
   "outputs": [],
   "source": []
  },
  {
   "cell_type": "code",
   "execution_count": null,
   "id": "22f0eda4",
   "metadata": {},
   "outputs": [],
   "source": []
  },
  {
   "cell_type": "code",
   "execution_count": 37,
   "id": "a6bc2ff5",
   "metadata": {},
   "outputs": [],
   "source": [
    "###"
   ]
  },
  {
   "cell_type": "code",
   "execution_count": 38,
   "id": "b420e99b",
   "metadata": {},
   "outputs": [],
   "source": [
    "class ObjectInfoExtractor:\n",
    "    def __init__(self, ids):\n",
    "        if not isinstance(ids, list):\n",
    "            print(\"No list of ids is set!\")\n",
    "        elif not isinstance(ids[0], int):\n",
    "            print(\"ids is not a list of integers!\")\n",
    "            return None\n",
    "        self.idlist = ids\n",
    "        self.dframe = None\n",
    "        self.baseurl = \"https://xn--80az8a.xn--d1aqf.xn--p1ai/%D1%81%D0%B5%D1%80%D0%B2%D0%B8%D1%81%D1%8B/api/object/\"\n",
    "        self.KeysDict = {'id': [], 'hobjId': [], 'pdId': [], 'developer': [], 'region': [],\n",
    "                       'address': [], 'floorMin': [], 'floorMax': [], 'objElemLivingCnt': [], \n",
    "                       'objReady100PercDt': [], 'wallMaterialShortDesc': [], 'objLkFinishTypeDesc': [],\n",
    "                       'objLkFreePlanDesc': [], 'objElemParkingCnt': [], 'objSquareLiving': [],\n",
    "                       'rpdNum': [], 'rpdPdfLink': [], 'rpdIssueDttm': [], 'objLkLatitude': [],\n",
    "                       'objLkLongitude': [], 'objCompensFundFlg': [], 'objProblemFlg': [],\n",
    "                       'objLkClassDesc': [], 'loadDttm': [], 'photoRenderDTO': [],\n",
    "                       'objGuarantyEscrowFlg': [], 'objectType': [], 'miniUrl': [],\n",
    "                       'residentialBuildings': [], 'newBuildingId': [], 'objFloorCnt': [],\n",
    "                       'objFlatCnt': [], 'objFlatSq': [], 'objNonlivElemCnt': [],  'objStatus': [],\n",
    "                       'isAvailableWantLiveHere': [], 'objTransferPlanDt': [], 'objLivCeilingHeight': [],\n",
    "                       'objInfrstrBicycleLaneFlg': [], 'objInfrstrPlaygrndCnt': [], 'objInfrstrSportGroundCnt': [],\n",
    "                       'objInfrstrTrashAreaCnt': [], 'objInfrstrObjPrkngCnt': [], 'objInfrstrNotObjPrkngCnt': [],\n",
    "                       'objInfrstrRampFlg': [], 'objInfrstrCurbLoweringFlg': [], 'objElevatorWheelchairCnt': [],\n",
    "                       'objElevatorPassengerCnt': [], 'objElevatorCargoCnt': [], 'objElevatorCargoPassengerCnt': [],\n",
    "                       'soldOutPerc': [], 'objPriceAvg': [], 'generalContractorNm': [], 'nonlivFirstFloor': [],\n",
    "                       'objectTransportInfo': [], 'conclusion': [], 'objLkSaleDepEmail': [], 'objGreenHouseFlg': [],\n",
    "                       'objEnergyEffShortDesc': [], 'infrastructureIndexValue': []}\n",
    "\n",
    "    def load_data(self):\n",
    "        import requests\n",
    "        for idvalue in self.idlist:\n",
    "            url = \"{}{}\".format(self.baseurl, idvalue)\n",
    "            res = requests.get(url)\n",
    "            object_data = res.json()\n",
    "            for key in self.KeysDict:\n",
    "                try:\n",
    "                    self.KeysDict[key].append(object_data['data'][key])\n",
    "                except:\n",
    "                    self.KeysDict[key].append('-') \n",
    "\n",
    "\n",
    "    def df_converter(self):\n",
    "        import pandas as pd\n",
    "        if not self.KeysDict['id']:\n",
    "            print(\"Load the date before converting!\")\n",
    "            return None\n",
    "        self.dframe = pd.DataFrame.from_dict(self.KeysDict)\n",
    "        "
   ]
  },
  {
   "cell_type": "code",
   "execution_count": 39,
   "id": "118e9ed6",
   "metadata": {},
   "outputs": [
    {
     "name": "stdout",
     "output_type": "stream",
     "text": [
      "No list of ids is set!\n"
     ]
    }
   ],
   "source": [
    "ext3 = ObjectInfoExtractor('abc')"
   ]
  },
  {
   "cell_type": "code",
   "execution_count": 40,
   "id": "25340cbe",
   "metadata": {},
   "outputs": [
    {
     "name": "stdout",
     "output_type": "stream",
     "text": [
      "ids is not a list of integers!\n"
     ]
    }
   ],
   "source": [
    "ext3 = ObjectInfoExtractor(['abc'])"
   ]
  },
  {
   "cell_type": "code",
   "execution_count": 41,
   "id": "c90eed75",
   "metadata": {},
   "outputs": [],
   "source": [
    "ext3 = ObjectInfoExtractor(ids)"
   ]
  },
  {
   "cell_type": "code",
   "execution_count": 42,
   "id": "935b18e6",
   "metadata": {},
   "outputs": [
    {
     "name": "stdout",
     "output_type": "stream",
     "text": [
      "Load the date before converting!\n"
     ]
    }
   ],
   "source": [
    "ext3.df_converter()"
   ]
  },
  {
   "cell_type": "code",
   "execution_count": 43,
   "id": "e0b83868",
   "metadata": {},
   "outputs": [],
   "source": [
    "ext3.load_data()"
   ]
  },
  {
   "cell_type": "code",
   "execution_count": 44,
   "id": "00c40070",
   "metadata": {},
   "outputs": [],
   "source": [
    "ext3.df_converter()"
   ]
  },
  {
   "cell_type": "code",
   "execution_count": null,
   "id": "50b383b1",
   "metadata": {},
   "outputs": [],
   "source": []
  },
  {
   "cell_type": "code",
   "execution_count": 45,
   "id": "265200d4",
   "metadata": {},
   "outputs": [
    {
     "data": {
      "text/html": [
       "<div>\n",
       "<style scoped>\n",
       "    .dataframe tbody tr th:only-of-type {\n",
       "        vertical-align: middle;\n",
       "    }\n",
       "\n",
       "    .dataframe tbody tr th {\n",
       "        vertical-align: top;\n",
       "    }\n",
       "\n",
       "    .dataframe thead th {\n",
       "        text-align: right;\n",
       "    }\n",
       "</style>\n",
       "<table border=\"1\" class=\"dataframe\">\n",
       "  <thead>\n",
       "    <tr style=\"text-align: right;\">\n",
       "      <th></th>\n",
       "      <th>id</th>\n",
       "      <th>hobjId</th>\n",
       "      <th>pdId</th>\n",
       "      <th>developer</th>\n",
       "      <th>region</th>\n",
       "      <th>address</th>\n",
       "      <th>floorMin</th>\n",
       "      <th>floorMax</th>\n",
       "      <th>objElemLivingCnt</th>\n",
       "      <th>objReady100PercDt</th>\n",
       "      <th>...</th>\n",
       "      <th>soldOutPerc</th>\n",
       "      <th>objPriceAvg</th>\n",
       "      <th>generalContractorNm</th>\n",
       "      <th>nonlivFirstFloor</th>\n",
       "      <th>objectTransportInfo</th>\n",
       "      <th>conclusion</th>\n",
       "      <th>objLkSaleDepEmail</th>\n",
       "      <th>objGreenHouseFlg</th>\n",
       "      <th>objEnergyEffShortDesc</th>\n",
       "      <th>infrastructureIndexValue</th>\n",
       "    </tr>\n",
       "  </thead>\n",
       "  <tbody>\n",
       "    <tr>\n",
       "      <th>0</th>\n",
       "      <td>13383</td>\n",
       "      <td>39024</td>\n",
       "      <td>28105</td>\n",
       "      <td>{'devId': 306, 'devShortCleanNm': '2МЕН ГРУПП'...</td>\n",
       "      <td>72</td>\n",
       "      <td>г Тюмень</td>\n",
       "      <td>4</td>\n",
       "      <td>20</td>\n",
       "      <td>68</td>\n",
       "      <td>2023-03-31</td>\n",
       "      <td>...</td>\n",
       "      <td>0.406985</td>\n",
       "      <td>53109</td>\n",
       "      <td>ООО Транспромжилстрой-2005 (ИНН: 7204097730)</td>\n",
       "      <td>1</td>\n",
       "      <td>[]</td>\n",
       "      <td>False</td>\n",
       "      <td>info@2mengroup.ru</td>\n",
       "      <td>0</td>\n",
       "      <td>B</td>\n",
       "      <td>10</td>\n",
       "    </tr>\n",
       "    <tr>\n",
       "      <th>1</th>\n",
       "      <td>13398</td>\n",
       "      <td>37165</td>\n",
       "      <td>28141</td>\n",
       "      <td>{'devId': 306, 'devShortCleanNm': '2МЕН ГРУПП'...</td>\n",
       "      <td>72</td>\n",
       "      <td>г Тюмень, ул Профсоюзная, д. 56</td>\n",
       "      <td>7</td>\n",
       "      <td>10</td>\n",
       "      <td>43</td>\n",
       "      <td>2024-12-31</td>\n",
       "      <td>...</td>\n",
       "      <td>1.0</td>\n",
       "      <td>47886</td>\n",
       "      <td>ООО Транспромжилстрой-2005 (ИНН: 7204097730)</td>\n",
       "      <td>0</td>\n",
       "      <td>[]</td>\n",
       "      <td>False</td>\n",
       "      <td>info@2mengroup.ru</td>\n",
       "      <td>0</td>\n",
       "      <td>B</td>\n",
       "      <td>10</td>\n",
       "    </tr>\n",
       "    <tr>\n",
       "      <th>2</th>\n",
       "      <td>13397</td>\n",
       "      <td>37201</td>\n",
       "      <td>28141</td>\n",
       "      <td>{'devId': 306, 'devShortCleanNm': '2МЕН ГРУПП'...</td>\n",
       "      <td>72</td>\n",
       "      <td>г Тюмень, ул Профсоюзная, д. 56</td>\n",
       "      <td>6</td>\n",
       "      <td>12</td>\n",
       "      <td>65</td>\n",
       "      <td>2024-12-31</td>\n",
       "      <td>...</td>\n",
       "      <td>0.999984</td>\n",
       "      <td>45523</td>\n",
       "      <td>ООО Транспромжилстрой-2005 (ИНН: 7204097730)</td>\n",
       "      <td>0</td>\n",
       "      <td>[]</td>\n",
       "      <td>False</td>\n",
       "      <td>info@2mengroup.ru</td>\n",
       "      <td>0</td>\n",
       "      <td>B</td>\n",
       "      <td>10</td>\n",
       "    </tr>\n",
       "    <tr>\n",
       "      <th>3</th>\n",
       "      <td>13399</td>\n",
       "      <td>34754</td>\n",
       "      <td>28141</td>\n",
       "      <td>{'devId': 306, 'devShortCleanNm': '2МЕН ГРУПП'...</td>\n",
       "      <td>72</td>\n",
       "      <td>г Тюмень, ул Профсоюзная, д. 56</td>\n",
       "      <td>1</td>\n",
       "      <td>1</td>\n",
       "      <td>0</td>\n",
       "      <td>2024-12-31</td>\n",
       "      <td>...</td>\n",
       "      <td>0.917243</td>\n",
       "      <td>50768</td>\n",
       "      <td>ООО Транспромжилстрой-2005 (ИНН: 7204097730)</td>\n",
       "      <td>1</td>\n",
       "      <td>[]</td>\n",
       "      <td>False</td>\n",
       "      <td>info@2mengroup.ru</td>\n",
       "      <td>0</td>\n",
       "      <td>B</td>\n",
       "      <td>10</td>\n",
       "    </tr>\n",
       "    <tr>\n",
       "      <th>4</th>\n",
       "      <td>36912</td>\n",
       "      <td>117248</td>\n",
       "      <td>337586</td>\n",
       "      <td>{'devId': 10296, 'devShortCleanNm': 'CЗ СТРОЙР...</td>\n",
       "      <td>26</td>\n",
       "      <td>г Ставрополь, ул Шпаковская, Доваторцев, д. 10...</td>\n",
       "      <td>2</td>\n",
       "      <td>10</td>\n",
       "      <td>104</td>\n",
       "      <td>2022-12-31</td>\n",
       "      <td>...</td>\n",
       "      <td>0.609216</td>\n",
       "      <td>62703</td>\n",
       "      <td>ООО Стройресурс (ИНН: 2634053119)</td>\n",
       "      <td>1</td>\n",
       "      <td>[]</td>\n",
       "      <td>False</td>\n",
       "      <td>sz.stroyresurs@yandex.ru</td>\n",
       "      <td>0</td>\n",
       "      <td>B</td>\n",
       "      <td>8</td>\n",
       "    </tr>\n",
       "    <tr>\n",
       "      <th>5</th>\n",
       "      <td>10891</td>\n",
       "      <td>6541</td>\n",
       "      <td>23054</td>\n",
       "      <td>{'devId': 3006, 'devShortCleanNm': 'ААК ВОЛОГД...</td>\n",
       "      <td>35</td>\n",
       "      <td>г Вологда, ул Медуницинская, д. 7</td>\n",
       "      <td>16</td>\n",
       "      <td>16</td>\n",
       "      <td>225</td>\n",
       "      <td>2023-03-31</td>\n",
       "      <td>...</td>\n",
       "      <td>0.916518</td>\n",
       "      <td>44771</td>\n",
       "      <td>-</td>\n",
       "      <td>0</td>\n",
       "      <td>[]</td>\n",
       "      <td>False</td>\n",
       "      <td>vologdaagrostroy@yandex.ru</td>\n",
       "      <td>0</td>\n",
       "      <td>D</td>\n",
       "      <td>9</td>\n",
       "    </tr>\n",
       "    <tr>\n",
       "      <th>6</th>\n",
       "      <td>8809</td>\n",
       "      <td>4071</td>\n",
       "      <td>18074</td>\n",
       "      <td>{'devId': 1955, 'devShortCleanNm': 'АБСОЛЮТ', ...</td>\n",
       "      <td>74</td>\n",
       "      <td>город Южноуральск, улица Сергея Буландо, д. 8</td>\n",
       "      <td>10</td>\n",
       "      <td>10</td>\n",
       "      <td>129</td>\n",
       "      <td>2019-03-31</td>\n",
       "      <td>...</td>\n",
       "      <td>-</td>\n",
       "      <td>-</td>\n",
       "      <td>-</td>\n",
       "      <td>0</td>\n",
       "      <td>[]</td>\n",
       "      <td>False</td>\n",
       "      <td>-</td>\n",
       "      <td>0</td>\n",
       "      <td>B</td>\n",
       "      <td>7</td>\n",
       "    </tr>\n",
       "    <tr>\n",
       "      <th>7</th>\n",
       "      <td>8810</td>\n",
       "      <td>39960</td>\n",
       "      <td>18074</td>\n",
       "      <td>{'devId': 1955, 'devShortCleanNm': 'АБСОЛЮТ', ...</td>\n",
       "      <td>74</td>\n",
       "      <td>город Южноуральск, улица Сергея Буландо, д. 8</td>\n",
       "      <td>10</td>\n",
       "      <td>10</td>\n",
       "      <td>119</td>\n",
       "      <td>2019-03-31</td>\n",
       "      <td>...</td>\n",
       "      <td>-</td>\n",
       "      <td>-</td>\n",
       "      <td>-</td>\n",
       "      <td>0</td>\n",
       "      <td>[]</td>\n",
       "      <td>False</td>\n",
       "      <td>-</td>\n",
       "      <td>0</td>\n",
       "      <td>B</td>\n",
       "      <td>7</td>\n",
       "    </tr>\n",
       "    <tr>\n",
       "      <th>8</th>\n",
       "      <td>39176</td>\n",
       "      <td>119604</td>\n",
       "      <td>435352</td>\n",
       "      <td>{'devId': 1146, 'devShortCleanNm': 'АВА ДЕВЕЛО...</td>\n",
       "      <td>23</td>\n",
       "      <td>г Краснодар, улица Валерия Гассия, д. 4/7, лит...</td>\n",
       "      <td>25</td>\n",
       "      <td>25</td>\n",
       "      <td>198</td>\n",
       "      <td>2024-09-30</td>\n",
       "      <td>...</td>\n",
       "      <td>0.544263</td>\n",
       "      <td>103761</td>\n",
       "      <td>ООО ГРАНТ СТРОЙ (ИНН: 2312246941)</td>\n",
       "      <td>1</td>\n",
       "      <td>[]</td>\n",
       "      <td>True</td>\n",
       "      <td>info@ask-yug.com</td>\n",
       "      <td>0</td>\n",
       "      <td>B</td>\n",
       "      <td>5</td>\n",
       "    </tr>\n",
       "    <tr>\n",
       "      <th>9</th>\n",
       "      <td>39175</td>\n",
       "      <td>119603</td>\n",
       "      <td>435351</td>\n",
       "      <td>{'devId': 1146, 'devShortCleanNm': 'АВА ДЕВЕЛО...</td>\n",
       "      <td>23</td>\n",
       "      <td>г Краснодар, улица Валерия Гассия, д. 4/7, лит...</td>\n",
       "      <td>25</td>\n",
       "      <td>25</td>\n",
       "      <td>396</td>\n",
       "      <td>2023-06-30</td>\n",
       "      <td>...</td>\n",
       "      <td>0.545813</td>\n",
       "      <td>102841</td>\n",
       "      <td>ООО ГРАНТ СТРОЙ (ИНН: 2312246941)</td>\n",
       "      <td>1</td>\n",
       "      <td>[]</td>\n",
       "      <td>True</td>\n",
       "      <td>info@ask-yug.com</td>\n",
       "      <td>0</td>\n",
       "      <td>B</td>\n",
       "      <td>5</td>\n",
       "    </tr>\n",
       "  </tbody>\n",
       "</table>\n",
       "<p>10 rows × 60 columns</p>\n",
       "</div>"
      ],
      "text/plain": [
       "      id  hobjId    pdId                                          developer  \\\n",
       "0  13383   39024   28105  {'devId': 306, 'devShortCleanNm': '2МЕН ГРУПП'...   \n",
       "1  13398   37165   28141  {'devId': 306, 'devShortCleanNm': '2МЕН ГРУПП'...   \n",
       "2  13397   37201   28141  {'devId': 306, 'devShortCleanNm': '2МЕН ГРУПП'...   \n",
       "3  13399   34754   28141  {'devId': 306, 'devShortCleanNm': '2МЕН ГРУПП'...   \n",
       "4  36912  117248  337586  {'devId': 10296, 'devShortCleanNm': 'CЗ СТРОЙР...   \n",
       "5  10891    6541   23054  {'devId': 3006, 'devShortCleanNm': 'ААК ВОЛОГД...   \n",
       "6   8809    4071   18074  {'devId': 1955, 'devShortCleanNm': 'АБСОЛЮТ', ...   \n",
       "7   8810   39960   18074  {'devId': 1955, 'devShortCleanNm': 'АБСОЛЮТ', ...   \n",
       "8  39176  119604  435352  {'devId': 1146, 'devShortCleanNm': 'АВА ДЕВЕЛО...   \n",
       "9  39175  119603  435351  {'devId': 1146, 'devShortCleanNm': 'АВА ДЕВЕЛО...   \n",
       "\n",
       "   region                                            address  floorMin  \\\n",
       "0      72                                           г Тюмень         4   \n",
       "1      72                    г Тюмень, ул Профсоюзная, д. 56         7   \n",
       "2      72                    г Тюмень, ул Профсоюзная, д. 56         6   \n",
       "3      72                    г Тюмень, ул Профсоюзная, д. 56         1   \n",
       "4      26  г Ставрополь, ул Шпаковская, Доваторцев, д. 10...         2   \n",
       "5      35                  г Вологда, ул Медуницинская, д. 7        16   \n",
       "6      74      город Южноуральск, улица Сергея Буландо, д. 8        10   \n",
       "7      74      город Южноуральск, улица Сергея Буландо, д. 8        10   \n",
       "8      23  г Краснодар, улица Валерия Гассия, д. 4/7, лит...        25   \n",
       "9      23  г Краснодар, улица Валерия Гассия, д. 4/7, лит...        25   \n",
       "\n",
       "   floorMax  objElemLivingCnt objReady100PercDt  ... soldOutPerc objPriceAvg  \\\n",
       "0        20                68        2023-03-31  ...    0.406985       53109   \n",
       "1        10                43        2024-12-31  ...         1.0       47886   \n",
       "2        12                65        2024-12-31  ...    0.999984       45523   \n",
       "3         1                 0        2024-12-31  ...    0.917243       50768   \n",
       "4        10               104        2022-12-31  ...    0.609216       62703   \n",
       "5        16               225        2023-03-31  ...    0.916518       44771   \n",
       "6        10               129        2019-03-31  ...           -           -   \n",
       "7        10               119        2019-03-31  ...           -           -   \n",
       "8        25               198        2024-09-30  ...    0.544263      103761   \n",
       "9        25               396        2023-06-30  ...    0.545813      102841   \n",
       "\n",
       "                            generalContractorNm  nonlivFirstFloor  \\\n",
       "0  ООО Транспромжилстрой-2005 (ИНН: 7204097730)                 1   \n",
       "1  ООО Транспромжилстрой-2005 (ИНН: 7204097730)                 0   \n",
       "2  ООО Транспромжилстрой-2005 (ИНН: 7204097730)                 0   \n",
       "3  ООО Транспромжилстрой-2005 (ИНН: 7204097730)                 1   \n",
       "4             ООО Стройресурс (ИНН: 2634053119)                 1   \n",
       "5                                             -                 0   \n",
       "6                                             -                 0   \n",
       "7                                             -                 0   \n",
       "8             ООО ГРАНТ СТРОЙ (ИНН: 2312246941)                 1   \n",
       "9             ООО ГРАНТ СТРОЙ (ИНН: 2312246941)                 1   \n",
       "\n",
       "   objectTransportInfo conclusion           objLkSaleDepEmail  \\\n",
       "0                   []      False           info@2mengroup.ru   \n",
       "1                   []      False           info@2mengroup.ru   \n",
       "2                   []      False           info@2mengroup.ru   \n",
       "3                   []      False           info@2mengroup.ru   \n",
       "4                   []      False    sz.stroyresurs@yandex.ru   \n",
       "5                   []      False  vologdaagrostroy@yandex.ru   \n",
       "6                   []      False                           -   \n",
       "7                   []      False                           -   \n",
       "8                   []       True            info@ask-yug.com   \n",
       "9                   []       True            info@ask-yug.com   \n",
       "\n",
       "  objGreenHouseFlg objEnergyEffShortDesc infrastructureIndexValue  \n",
       "0                0                     B                       10  \n",
       "1                0                     B                       10  \n",
       "2                0                     B                       10  \n",
       "3                0                     B                       10  \n",
       "4                0                     B                        8  \n",
       "5                0                     D                        9  \n",
       "6                0                     B                        7  \n",
       "7                0                     B                        7  \n",
       "8                0                     B                        5  \n",
       "9                0                     B                        5  \n",
       "\n",
       "[10 rows x 60 columns]"
      ]
     },
     "execution_count": 45,
     "metadata": {},
     "output_type": "execute_result"
    }
   ],
   "source": [
    "ext3.dframe"
   ]
  },
  {
   "cell_type": "code",
   "execution_count": null,
   "id": "8c3c850a",
   "metadata": {},
   "outputs": [],
   "source": []
  },
  {
   "cell_type": "code",
   "execution_count": 46,
   "id": "76f0bcbc",
   "metadata": {},
   "outputs": [
    {
     "data": {
      "text/plain": [
       "True"
      ]
     },
     "execution_count": 46,
     "metadata": {},
     "output_type": "execute_result"
    }
   ],
   "source": [
    "isinstance(1, int)"
   ]
  },
  {
   "cell_type": "code",
   "execution_count": 47,
   "id": "9036f70c",
   "metadata": {},
   "outputs": [
    {
     "data": {
      "text/plain": [
       "False"
      ]
     },
     "execution_count": 47,
     "metadata": {},
     "output_type": "execute_result"
    }
   ],
   "source": [
    "isinstance(3.14, int)"
   ]
  },
  {
   "cell_type": "code",
   "execution_count": 48,
   "id": "c2efcf56",
   "metadata": {},
   "outputs": [
    {
     "data": {
      "text/plain": [
       "True"
      ]
     },
     "execution_count": 48,
     "metadata": {},
     "output_type": "execute_result"
    }
   ],
   "source": [
    "isinstance('abc', str)"
   ]
  },
  {
   "cell_type": "code",
   "execution_count": 49,
   "id": "9610eb86",
   "metadata": {},
   "outputs": [
    {
     "data": {
      "text/plain": [
       "False"
      ]
     },
     "execution_count": 49,
     "metadata": {},
     "output_type": "execute_result"
    }
   ],
   "source": [
    "isinstance(99, str)"
   ]
  },
  {
   "cell_type": "code",
   "execution_count": null,
   "id": "b39e7d51",
   "metadata": {},
   "outputs": [],
   "source": []
  },
  {
   "cell_type": "markdown",
   "id": "b8e7a795",
   "metadata": {},
   "source": [
    "## Saving the data"
   ]
  },
  {
   "cell_type": "code",
   "execution_count": 50,
   "id": "b0c043fa",
   "metadata": {},
   "outputs": [],
   "source": [
    "class Saver:\n",
    "    def __init__(self, data):\n",
    "        #will accept data as Pandas DataFrame\n",
    "        pass\n",
    "\n",
    "    def save_csv(self):\n",
    "        pass\n",
    "\n",
    "    def save_xl(self):\n",
    "        pass\n",
    "\n",
    "    def save_sql(self):\n",
    "        pass"
   ]
  },
  {
   "cell_type": "code",
   "execution_count": 51,
   "id": "9abe674b",
   "metadata": {},
   "outputs": [],
   "source": [
    "import pandas as pd"
   ]
  },
  {
   "cell_type": "code",
   "execution_count": null,
   "id": "4eb74653",
   "metadata": {},
   "outputs": [],
   "source": []
  },
  {
   "cell_type": "code",
   "execution_count": null,
   "id": "f902fad5",
   "metadata": {},
   "outputs": [],
   "source": []
  },
  {
   "cell_type": "code",
   "execution_count": 52,
   "id": "a2217921",
   "metadata": {},
   "outputs": [
    {
     "data": {
      "text/plain": [
       "pandas.core.frame.DataFrame"
      ]
     },
     "execution_count": 52,
     "metadata": {},
     "output_type": "execute_result"
    }
   ],
   "source": [
    "type(ext3.dframe)"
   ]
  },
  {
   "cell_type": "code",
   "execution_count": 53,
   "id": "6afc946c",
   "metadata": {},
   "outputs": [
    {
     "data": {
      "text/plain": [
       "True"
      ]
     },
     "execution_count": 53,
     "metadata": {},
     "output_type": "execute_result"
    }
   ],
   "source": [
    "isinstance(ext3.dframe, pd.pandas.core.frame.DataFrame)"
   ]
  },
  {
   "cell_type": "code",
   "execution_count": 54,
   "id": "caeebb41",
   "metadata": {},
   "outputs": [
    {
     "data": {
      "text/plain": [
       "False"
      ]
     },
     "execution_count": 54,
     "metadata": {},
     "output_type": "execute_result"
    }
   ],
   "source": [
    "isinstance(123, pd.pandas.core.frame.DataFrame)"
   ]
  },
  {
   "cell_type": "code",
   "execution_count": null,
   "id": "1066a1c1",
   "metadata": {},
   "outputs": [],
   "source": []
  },
  {
   "cell_type": "code",
   "execution_count": 55,
   "id": "245de12b",
   "metadata": {},
   "outputs": [],
   "source": [
    "class Saver:\n",
    "    def __init__(self, data):\n",
    "        #will accept data as Pandas DataFrame\n",
    "        import pandas as pd\n",
    "        if not isinstance(data, pd.pandas.core.frame.DataFrame):\n",
    "            print('Set data as Pandas DataFrame!')\n",
    "            return None\n",
    "        self.dframe = data\n",
    "        \n",
    "    def save_csv(self):\n",
    "        # save pandas DF as CSV file\n",
    "        # Comma Separated Values file\n",
    "        self.dframe.to_csv('save_df.csv', index=False)\n",
    "\n",
    "    def save_xl(self):\n",
    "        pass\n",
    "\n",
    "    def save_sql(self):\n",
    "        pass"
   ]
  },
  {
   "cell_type": "code",
   "execution_count": null,
   "id": "8b529a2a",
   "metadata": {},
   "outputs": [],
   "source": []
  },
  {
   "cell_type": "code",
   "execution_count": 56,
   "id": "1cdec0d7",
   "metadata": {},
   "outputs": [
    {
     "name": "stdout",
     "output_type": "stream",
     "text": [
      "Set data as Pandas DataFrame!\n"
     ]
    }
   ],
   "source": [
    "svr1 = Saver(123)"
   ]
  },
  {
   "cell_type": "code",
   "execution_count": null,
   "id": "ad1c6d21",
   "metadata": {},
   "outputs": [],
   "source": []
  },
  {
   "cell_type": "code",
   "execution_count": 57,
   "id": "3bd8f19c",
   "metadata": {},
   "outputs": [],
   "source": [
    "#ext3.dframe"
   ]
  },
  {
   "cell_type": "code",
   "execution_count": 58,
   "id": "71fe4c55",
   "metadata": {},
   "outputs": [],
   "source": [
    "svr1 = Saver(ext3.dframe)"
   ]
  },
  {
   "cell_type": "code",
   "execution_count": 59,
   "id": "544f5ee2",
   "metadata": {},
   "outputs": [],
   "source": [
    "svr1.save_csv()"
   ]
  },
  {
   "cell_type": "code",
   "execution_count": null,
   "id": "31de97d4",
   "metadata": {},
   "outputs": [],
   "source": []
  },
  {
   "cell_type": "code",
   "execution_count": 60,
   "id": "b3efa98c",
   "metadata": {},
   "outputs": [],
   "source": [
    "class Saver:\n",
    "    def __init__(self, data):\n",
    "        #will accept data as Pandas DataFrame\n",
    "        import pandas as pd\n",
    "        if not isinstance(data, pd.pandas.core.frame.DataFrame):\n",
    "            print('Set data as Pandas DataFrame!')\n",
    "            return None\n",
    "        self.dframe = data\n",
    "        \n",
    "    def save_csv(self):\n",
    "        # save pandas DF as CSV file\n",
    "        # Comma Separated Values file\n",
    "        self.dframe.to_csv('save_df.csv', index=False)\n",
    "    \n",
    "    def save_pickle(self):\n",
    "        import pickle\n",
    "        self.dframe.to_pickle('save_df.pickle')\n",
    "\n",
    "    def save_xl(self):\n",
    "        pass\n",
    "\n",
    "    def save_sql(self):\n",
    "        pass"
   ]
  },
  {
   "cell_type": "code",
   "execution_count": null,
   "id": "dcca2d86",
   "metadata": {},
   "outputs": [],
   "source": []
  },
  {
   "cell_type": "code",
   "execution_count": 61,
   "id": "e23c62d7",
   "metadata": {},
   "outputs": [],
   "source": [
    "svr2 = Saver(ext3.dframe)"
   ]
  },
  {
   "cell_type": "code",
   "execution_count": 62,
   "id": "c6635cf9",
   "metadata": {},
   "outputs": [],
   "source": [
    "svr2.save_pickle()"
   ]
  },
  {
   "cell_type": "code",
   "execution_count": null,
   "id": "554c5e44",
   "metadata": {},
   "outputs": [],
   "source": []
  },
  {
   "cell_type": "code",
   "execution_count": 63,
   "id": "45b3b8ab",
   "metadata": {},
   "outputs": [],
   "source": [
    "class Saver:\n",
    "    def __init__(self, data):\n",
    "        #will accept data as Pandas DataFrame\n",
    "        import pandas as pd\n",
    "        if not isinstance(data, pd.pandas.core.frame.DataFrame):\n",
    "            print('Set data as Pandas DataFrame!')\n",
    "            return None\n",
    "        self.dframe = data\n",
    "        \n",
    "    def save_csv(self):\n",
    "        # save pandas DF as CSV file\n",
    "        # Comma Separated Values file\n",
    "        self.dframe.to_csv('save_df.csv', index=False)\n",
    "    \n",
    "    def save_pickle(self):\n",
    "        import pickle\n",
    "        self.dframe.to_pickle('save_df.pickle')\n",
    "\n",
    "    def save_xl(self):\n",
    "        self.dframe.to_excel(\"save_df.xlsx\")\n",
    "\n",
    "    def save_sql(self):\n",
    "        pass"
   ]
  },
  {
   "cell_type": "code",
   "execution_count": 64,
   "id": "388effd6",
   "metadata": {},
   "outputs": [],
   "source": [
    "svr2 = Saver(ext3.dframe)"
   ]
  },
  {
   "cell_type": "code",
   "execution_count": 65,
   "id": "468cbb38",
   "metadata": {},
   "outputs": [],
   "source": [
    "svr2.save_xl()"
   ]
  },
  {
   "cell_type": "code",
   "execution_count": null,
   "id": "409c4d8b",
   "metadata": {},
   "outputs": [],
   "source": []
  },
  {
   "cell_type": "code",
   "execution_count": null,
   "id": "8126bc06",
   "metadata": {},
   "outputs": [],
   "source": []
  },
  {
   "cell_type": "markdown",
   "id": "99314cdd",
   "metadata": {},
   "source": [
    "## Save to SQL DataBase"
   ]
  },
  {
   "cell_type": "code",
   "execution_count": 66,
   "id": "0dd2ac31",
   "metadata": {},
   "outputs": [
    {
     "data": {
      "text/plain": [
       "Index(['id', 'hobjId', 'pdId', 'developer', 'region', 'address', 'floorMin',\n",
       "       'floorMax', 'objElemLivingCnt', 'objReady100PercDt',\n",
       "       'wallMaterialShortDesc', 'objLkFinishTypeDesc', 'objLkFreePlanDesc',\n",
       "       'objElemParkingCnt', 'objSquareLiving', 'rpdNum', 'rpdPdfLink',\n",
       "       'rpdIssueDttm', 'objLkLatitude', 'objLkLongitude', 'objCompensFundFlg',\n",
       "       'objProblemFlg', 'objLkClassDesc', 'loadDttm', 'photoRenderDTO',\n",
       "       'objGuarantyEscrowFlg', 'objectType', 'miniUrl', 'residentialBuildings',\n",
       "       'newBuildingId', 'objFloorCnt', 'objFlatCnt', 'objFlatSq',\n",
       "       'objNonlivElemCnt', 'objStatus', 'isAvailableWantLiveHere',\n",
       "       'objTransferPlanDt', 'objLivCeilingHeight', 'objInfrstrBicycleLaneFlg',\n",
       "       'objInfrstrPlaygrndCnt', 'objInfrstrSportGroundCnt',\n",
       "       'objInfrstrTrashAreaCnt', 'objInfrstrObjPrkngCnt',\n",
       "       'objInfrstrNotObjPrkngCnt', 'objInfrstrRampFlg',\n",
       "       'objInfrstrCurbLoweringFlg', 'objElevatorWheelchairCnt',\n",
       "       'objElevatorPassengerCnt', 'objElevatorCargoCnt',\n",
       "       'objElevatorCargoPassengerCnt', 'soldOutPerc', 'objPriceAvg',\n",
       "       'generalContractorNm', 'nonlivFirstFloor', 'objectTransportInfo',\n",
       "       'conclusion', 'objLkSaleDepEmail', 'objGreenHouseFlg',\n",
       "       'objEnergyEffShortDesc', 'infrastructureIndexValue'],\n",
       "      dtype='object')"
      ]
     },
     "execution_count": 66,
     "metadata": {},
     "output_type": "execute_result"
    }
   ],
   "source": [
    "ext3.dframe.columns"
   ]
  },
  {
   "cell_type": "code",
   "execution_count": 112,
   "id": "1f5fed60",
   "metadata": {},
   "outputs": [],
   "source": [
    "## 'id', 'region', 'address', 'objReady100PercDt'"
   ]
  },
  {
   "cell_type": "code",
   "execution_count": 113,
   "id": "d8fd9f7d",
   "metadata": {},
   "outputs": [
    {
     "data": {
      "text/plain": [
       "'\\nCREATE IF EXISTS TABLE homes(\\nid integer,\\nregion integer,\\naddress varchar(128),\\nobjReady100PercDt date\\n)\\n\\nCREATE TABLE IF NOT EXISTS homes(\\nid integer,\\nregion integer,\\naddress varchar(128),\\nobjReady100PercDt date\\n)\\n\\n'"
      ]
     },
     "execution_count": 113,
     "metadata": {},
     "output_type": "execute_result"
    }
   ],
   "source": [
    "'''\n",
    "CREATE IF EXISTS TABLE homes(\n",
    "id integer,\n",
    "region integer,\n",
    "address varchar(128),\n",
    "objReady100PercDt date\n",
    ")\n",
    "\n",
    "CREATE TABLE IF NOT EXISTS homes(\n",
    "id integer,\n",
    "region integer,\n",
    "address varchar(128),\n",
    "objReady100PercDt date\n",
    ")\n",
    "\n",
    "'''"
   ]
  },
  {
   "cell_type": "code",
   "execution_count": 114,
   "id": "c30a8ce9",
   "metadata": {},
   "outputs": [],
   "source": [
    "import psycopg2\n",
    "connect_str = \"dbname='DataScience' user='postgres' host='localhost' password='BetaSat1819'\" \n",
    "conn = psycopg2.connect(connect_str)\n",
    "cursor = conn.cursor()\n",
    "stmt = '''\n",
    "CREATE TABLE IF NOT EXISTS homes(\n",
    "id integer,\n",
    "region integer,\n",
    "address varchar(128),\n",
    "objReady100PercDt date\n",
    ")\n",
    "'''\n",
    "cursor.execute(stmt)"
   ]
  },
  {
   "cell_type": "code",
   "execution_count": 115,
   "id": "77b1d468",
   "metadata": {},
   "outputs": [],
   "source": [
    "### Write to this table"
   ]
  },
  {
   "cell_type": "code",
   "execution_count": 116,
   "id": "b74fca46",
   "metadata": {},
   "outputs": [],
   "source": [
    "#13383\t39024\t28105\t{'devId': 306, 'devShortCleanNm': '2МЕН ГРУПП'...\t72\tг Тюмень\t4\t20\t68\t2023-03-31\t"
   ]
  },
  {
   "cell_type": "code",
   "execution_count": null,
   "id": "e9c20a0c",
   "metadata": {},
   "outputs": [],
   "source": []
  },
  {
   "cell_type": "code",
   "execution_count": 117,
   "id": "71427605",
   "metadata": {},
   "outputs": [],
   "source": [
    "idv = 13383\n",
    "region = 72\n",
    "address = \"г Тюмень\"\n",
    "objReady100PercDt = \"2023-03-31\"\n",
    "conn = psycopg2.connect(connect_str)\n",
    "cursor = conn.cursor()\n",
    "stmt = '''\n",
    "INSERT INTO homes\n",
    "VALUES\n",
    "(%s, %s, %s, %s);\n",
    "'''\n",
    "cursor.execute(stmt,(idv, region,address, objReady100PercDt))\n",
    "conn.commit()\n",
    "cursor.close()"
   ]
  },
  {
   "cell_type": "code",
   "execution_count": null,
   "id": "d15c32d9",
   "metadata": {},
   "outputs": [],
   "source": []
  },
  {
   "cell_type": "code",
   "execution_count": 121,
   "id": "b2f0a8d6",
   "metadata": {},
   "outputs": [],
   "source": [
    "class Saver:\n",
    "    def __init__(self, data):\n",
    "        #will accept data as Pandas DataFrame\n",
    "        import pandas as pd\n",
    "        if not isinstance(data, pd.pandas.core.frame.DataFrame):\n",
    "            print('Set data as Pandas DataFrame!')\n",
    "            return None\n",
    "        self.dframe = data\n",
    "        \n",
    "    def save_csv(self):\n",
    "        # save pandas DF as CSV file\n",
    "        # Comma Separated Values file\n",
    "        self.dframe.to_csv('save_df.csv', index=False)\n",
    "    \n",
    "    def save_pickle(self):\n",
    "        import pickle\n",
    "        self.dframe.to_pickle('save_df.pickle')\n",
    "\n",
    "    def save_xl(self):\n",
    "        self.dframe.to_excel(\"save_df.xlsx\")\n",
    "\n",
    "    def save_sql(self):\n",
    "        import pandas as pd\n",
    "        import psycopg2\n",
    "        connect_str = \"dbname='DataScience' user='postgres' host='localhost' password='BetaSat1819'\" \n",
    "        conn = psycopg2.connect(connect_str)\n",
    "        cursor = conn.cursor()\n",
    "        stmt = '''\n",
    "        CREATE TABLE IF NOT EXISTS homes(\n",
    "        id integer,\n",
    "        region integer,\n",
    "        address varchar(128),\n",
    "        objReady100PercDt date\n",
    "        )\n",
    "        '''\n",
    "        cursor.execute(stmt)\n",
    "        ###\n",
    "        stmt = '''\n",
    "        INSERT INTO homes\n",
    "        VALUES\n",
    "        (%s, %s, %s, %s);\n",
    "        '''\n",
    "        \n",
    "        # iterate DF to get the column we want\n",
    "        for i in range(len(self.dframe)):\n",
    "            cursor = conn.cursor()\n",
    "            cursor.execute(stmt, (int(self.dframe['id'].iloc[i]), self.dframe['region'].iloc[i],\n",
    "                                  self.dframe['address'].iloc[i], self.dframe['objReady100PercDt'].iloc[i]))\n",
    "            conn.commit()\n",
    "            cursor.close()\n",
    "            \n",
    "            \n",
    "        "
   ]
  },
  {
   "cell_type": "code",
   "execution_count": 122,
   "id": "8d81002f",
   "metadata": {},
   "outputs": [],
   "source": [
    "svr3 = Saver(ext3.dframe)"
   ]
  },
  {
   "cell_type": "code",
   "execution_count": 124,
   "id": "ddf3bbd7",
   "metadata": {},
   "outputs": [
    {
     "ename": "ProgrammingError",
     "evalue": "can't adapt type 'numpy.int64'",
     "output_type": "error",
     "traceback": [
      "\u001b[1;31m---------------------------------------------------------------------------\u001b[0m",
      "\u001b[1;31mProgrammingError\u001b[0m                          Traceback (most recent call last)",
      "\u001b[1;32m~\\AppData\\Local\\Temp\\ipykernel_11596\\2831856933.py\u001b[0m in \u001b[0;36m<module>\u001b[1;34m\u001b[0m\n\u001b[1;32m----> 1\u001b[1;33m \u001b[0msvr3\u001b[0m\u001b[1;33m.\u001b[0m\u001b[0msave_sql\u001b[0m\u001b[1;33m(\u001b[0m\u001b[1;33m)\u001b[0m\u001b[1;33m\u001b[0m\u001b[1;33m\u001b[0m\u001b[0m\n\u001b[0m",
      "\u001b[1;32m~\\AppData\\Local\\Temp\\ipykernel_11596\\3577871326.py\u001b[0m in \u001b[0;36msave_sql\u001b[1;34m(self)\u001b[0m\n\u001b[0;32m     45\u001b[0m         \u001b[1;32mfor\u001b[0m \u001b[0mi\u001b[0m \u001b[1;32min\u001b[0m \u001b[0mrange\u001b[0m\u001b[1;33m(\u001b[0m\u001b[0mlen\u001b[0m\u001b[1;33m(\u001b[0m\u001b[0mself\u001b[0m\u001b[1;33m.\u001b[0m\u001b[0mdframe\u001b[0m\u001b[1;33m)\u001b[0m\u001b[1;33m)\u001b[0m\u001b[1;33m:\u001b[0m\u001b[1;33m\u001b[0m\u001b[1;33m\u001b[0m\u001b[0m\n\u001b[0;32m     46\u001b[0m             \u001b[0mcursor\u001b[0m \u001b[1;33m=\u001b[0m \u001b[0mconn\u001b[0m\u001b[1;33m.\u001b[0m\u001b[0mcursor\u001b[0m\u001b[1;33m(\u001b[0m\u001b[1;33m)\u001b[0m\u001b[1;33m\u001b[0m\u001b[1;33m\u001b[0m\u001b[0m\n\u001b[1;32m---> 47\u001b[1;33m             cursor.execute(stmt, (int(self.dframe['id'].iloc[i]), self.dframe['region'].iloc[i],\n\u001b[0m\u001b[0;32m     48\u001b[0m                                   self.dframe['address'].iloc[i], self.dframe['objReady100PercDt'].iloc[i]))\n\u001b[0;32m     49\u001b[0m             \u001b[0mconn\u001b[0m\u001b[1;33m.\u001b[0m\u001b[0mcommit\u001b[0m\u001b[1;33m(\u001b[0m\u001b[1;33m)\u001b[0m\u001b[1;33m\u001b[0m\u001b[1;33m\u001b[0m\u001b[0m\n",
      "\u001b[1;31mProgrammingError\u001b[0m: can't adapt type 'numpy.int64'"
     ]
    }
   ],
   "source": [
    "svr3.save_sql()"
   ]
  },
  {
   "cell_type": "code",
   "execution_count": null,
   "id": "26cba12e",
   "metadata": {},
   "outputs": [],
   "source": []
  },
  {
   "cell_type": "code",
   "execution_count": null,
   "id": "5519fec0",
   "metadata": {},
   "outputs": [],
   "source": []
  }
 ],
 "metadata": {
  "kernelspec": {
   "display_name": "Python 3 (ipykernel)",
   "language": "python",
   "name": "python3"
  },
  "language_info": {
   "codemirror_mode": {
    "name": "ipython",
    "version": 3
   },
   "file_extension": ".py",
   "mimetype": "text/x-python",
   "name": "python",
   "nbconvert_exporter": "python",
   "pygments_lexer": "ipython3",
   "version": "3.9.13"
  }
 },
 "nbformat": 4,
 "nbformat_minor": 5
}
